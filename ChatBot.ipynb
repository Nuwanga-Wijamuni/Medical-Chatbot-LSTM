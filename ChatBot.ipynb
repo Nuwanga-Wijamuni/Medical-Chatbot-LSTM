{
 "cells": [
  {
   "cell_type": "code",
   "execution_count": 2,
   "metadata": {},
   "outputs": [
    {
     "name": "stdout",
     "output_type": "stream",
     "text": [
      "Requirement already satisfied: transformers in c:\\users\\nuwanga wijamuni\\appdata\\local\\programs\\python\\python310\\lib\\site-packages (4.31.0)\n",
      "Requirement already satisfied: torch in c:\\users\\nuwanga wijamuni\\appdata\\local\\programs\\python\\python310\\lib\\site-packages (1.13.1)\n",
      "Requirement already satisfied: regex!=2019.12.17 in c:\\users\\nuwanga wijamuni\\appdata\\local\\programs\\python\\python310\\lib\\site-packages (from transformers) (2022.10.31)\n",
      "Requirement already satisfied: filelock in c:\\users\\nuwanga wijamuni\\appdata\\local\\programs\\python\\python310\\lib\\site-packages (from transformers) (3.9.0)\n",
      "Requirement already satisfied: tokenizers!=0.11.3,<0.14,>=0.11.1 in c:\\users\\nuwanga wijamuni\\appdata\\local\\programs\\python\\python310\\lib\\site-packages (from transformers) (0.13.2)\n",
      "Requirement already satisfied: huggingface-hub<1.0,>=0.14.1 in c:\\users\\nuwanga wijamuni\\appdata\\local\\programs\\python\\python310\\lib\\site-packages (from transformers) (0.16.4)\n",
      "Requirement already satisfied: requests in c:\\users\\nuwanga wijamuni\\appdata\\local\\programs\\python\\python310\\lib\\site-packages (from transformers) (2.28.1)\n",
      "Requirement already satisfied: tqdm>=4.27 in c:\\users\\nuwanga wijamuni\\appdata\\local\\programs\\python\\python310\\lib\\site-packages (from transformers) (4.64.1)\n",
      "Requirement already satisfied: numpy>=1.17 in c:\\users\\nuwanga wijamuni\\appdata\\local\\programs\\python\\python310\\lib\\site-packages (from transformers) (1.23.4)\n",
      "Requirement already satisfied: packaging>=20.0 in c:\\users\\nuwanga wijamuni\\appdata\\local\\programs\\python\\python310\\lib\\site-packages (from transformers) (21.3)\n",
      "Requirement already satisfied: safetensors>=0.3.1 in c:\\users\\nuwanga wijamuni\\appdata\\local\\programs\\python\\python310\\lib\\site-packages (from transformers) (0.3.2)\n",
      "Requirement already satisfied: pyyaml>=5.1 in c:\\users\\nuwanga wijamuni\\appdata\\local\\programs\\python\\python310\\lib\\site-packages (from transformers) (6.0)\n",
      "Requirement already satisfied: typing-extensions in c:\\users\\nuwanga wijamuni\\appdata\\local\\programs\\python\\python310\\lib\\site-packages (from torch) (4.4.0)\n",
      "Requirement already satisfied: fsspec in c:\\users\\nuwanga wijamuni\\appdata\\local\\programs\\python\\python310\\lib\\site-packages (from huggingface-hub<1.0,>=0.14.1->transformers) (2023.6.0)\n",
      "Requirement already satisfied: pyparsing!=3.0.5,>=2.0.2 in c:\\users\\nuwanga wijamuni\\appdata\\local\\programs\\python\\python310\\lib\\site-packages (from packaging>=20.0->transformers) (3.0.9)\n",
      "Requirement already satisfied: colorama in c:\\users\\nuwanga wijamuni\\appdata\\local\\programs\\python\\python310\\lib\\site-packages (from tqdm>=4.27->transformers) (0.4.5)\n",
      "Requirement already satisfied: idna<4,>=2.5 in c:\\users\\nuwanga wijamuni\\appdata\\local\\programs\\python\\python310\\lib\\site-packages (from requests->transformers) (3.4)\n",
      "Requirement already satisfied: certifi>=2017.4.17 in c:\\users\\nuwanga wijamuni\\appdata\\local\\programs\\python\\python310\\lib\\site-packages (from requests->transformers) (2022.9.24)\n",
      "Requirement already satisfied: charset-normalizer<3,>=2 in c:\\users\\nuwanga wijamuni\\appdata\\local\\programs\\python\\python310\\lib\\site-packages (from requests->transformers) (2.1.1)\n",
      "Requirement already satisfied: urllib3<1.27,>=1.21.1 in c:\\users\\nuwanga wijamuni\\appdata\\local\\programs\\python\\python310\\lib\\site-packages (from requests->transformers) (1.26.12)\n",
      "Note: you may need to restart the kernel to use updated packages.\n"
     ]
    },
    {
     "name": "stderr",
     "output_type": "stream",
     "text": [
      "WARNING: You are using pip version 22.0.4; however, version 23.2.1 is available.\n",
      "You should consider upgrading via the 'c:\\Users\\Nuwanga Wijamuni\\AppData\\Local\\Programs\\Python\\Python310\\python.exe -m pip install --upgrade pip' command.\n"
     ]
    }
   ],
   "source": [
    "pip install transformers torch\n"
   ]
  },
  {
   "cell_type": "code",
   "execution_count": 12,
   "metadata": {},
   "outputs": [
    {
     "name": "stdout",
     "output_type": "stream",
     "text": [
      "^C\n",
      "Collecting accelerate==0.20.1\n",
      "  Downloading accelerate-0.20.1-py3-none-any.whl (227 kB)\n",
      "     -------------------------------------- 227.5/227.5 KB 7.2 kB/s eta 0:00:00\n",
      "Requirement already satisfied: packaging>=20.0 in c:\\users\\nuwanga wijamuni\\appdata\\local\\programs\\python\\python310\\lib\\site-packages (from accelerate==0.20.1) (21.3)\n",
      "Requirement already satisfied: torch>=1.6.0 in c:\\users\\nuwanga wijamuni\\appdata\\local\\programs\\python\\python310\\lib\\site-packages (from accelerate==0.20.1) (2.0.1)\n",
      "Requirement already satisfied: psutil in c:\\users\\nuwanga wijamuni\\appdata\\local\\programs\\python\\python310\\lib\\site-packages (from accelerate==0.20.1) (5.9.2)\n",
      "Requirement already satisfied: pyyaml in c:\\users\\nuwanga wijamuni\\appdata\\local\\programs\\python\\python310\\lib\\site-packages (from accelerate==0.20.1) (6.0)\n",
      "Requirement already satisfied: numpy>=1.17 in c:\\users\\nuwanga wijamuni\\appdata\\local\\programs\\python\\python310\\lib\\site-packages (from accelerate==0.20.1) (1.23.4)\n",
      "Requirement already satisfied: pyparsing!=3.0.5,>=2.0.2 in c:\\users\\nuwanga wijamuni\\appdata\\local\\programs\\python\\python310\\lib\\site-packages (from packaging>=20.0->accelerate==0.20.1) (3.0.9)\n",
      "Requirement already satisfied: networkx in c:\\users\\nuwanga wijamuni\\appdata\\local\\programs\\python\\python310\\lib\\site-packages (from torch>=1.6.0->accelerate==0.20.1) (3.0)\n",
      "Requirement already satisfied: sympy in c:\\users\\nuwanga wijamuni\\appdata\\local\\programs\\python\\python310\\lib\\site-packages (from torch>=1.6.0->accelerate==0.20.1) (1.12)\n",
      "Requirement already satisfied: typing-extensions in c:\\users\\nuwanga wijamuni\\appdata\\local\\programs\\python\\python310\\lib\\site-packages (from torch>=1.6.0->accelerate==0.20.1) (4.4.0)\n",
      "Requirement already satisfied: filelock in c:\\users\\nuwanga wijamuni\\appdata\\local\\programs\\python\\python310\\lib\\site-packages (from torch>=1.6.0->accelerate==0.20.1) (3.9.0)\n",
      "Requirement already satisfied: jinja2 in c:\\users\\nuwanga wijamuni\\appdata\\local\\programs\\python\\python310\\lib\\site-packages (from torch>=1.6.0->accelerate==0.20.1) (3.1.2)\n",
      "Requirement already satisfied: MarkupSafe>=2.0 in c:\\users\\nuwanga wijamuni\\appdata\\local\\programs\\python\\python310\\lib\\site-packages (from jinja2->torch>=1.6.0->accelerate==0.20.1) (2.1.1)\n",
      "Requirement already satisfied: mpmath>=0.19 in c:\\users\\nuwanga wijamuni\\appdata\\local\\programs\\python\\python310\\lib\\site-packages (from sympy->torch>=1.6.0->accelerate==0.20.1) (1.3.0)\n",
      "Installing collected packages: accelerate\n",
      "  Attempting uninstall: accelerate\n",
      "    Found existing installation: accelerate 0.21.0\n",
      "    Uninstalling accelerate-0.21.0:\n",
      "      Successfully uninstalled accelerate-0.21.0\n",
      "Successfully installed accelerate-0.20.1\n"
     ]
    },
    {
     "name": "stderr",
     "output_type": "stream",
     "text": [
      "WARNING: You are using pip version 22.0.4; however, version 23.2.1 is available.\n",
      "You should consider upgrading via the 'C:\\Users\\Nuwanga Wijamuni\\AppData\\Local\\Programs\\Python\\Python310\\python.exe -m pip install --upgrade pip' command.\n"
     ]
    }
   ],
   "source": [
    "!pip uninstall accelerate\n",
    "!pip install accelerate==0.20.1\n",
    "\n"
   ]
  },
  {
   "cell_type": "code",
   "execution_count": 10,
   "metadata": {},
   "outputs": [
    {
     "name": "stderr",
     "output_type": "stream",
     "text": [
      "c:\\Users\\Nuwanga Wijamuni\\AppData\\Local\\Programs\\Python\\Python310\\lib\\site-packages\\transformers\\data\\datasets\\language_modeling.py:53: FutureWarning: This dataset will be removed from the library soon, preprocessing should be handled with the 🤗 Datasets library. You can have a look at this example script for pointers: https://github.com/huggingface/transformers/blob/main/examples/pytorch/language-modeling/run_mlm.py\n",
      "  warnings.warn(\n"
     ]
    },
    {
     "ename": "ImportError",
     "evalue": "Using the `Trainer` with `PyTorch` requires `accelerate>=0.20.1`: Please run `pip install transformers[torch]` or `pip install accelerate -U`",
     "output_type": "error",
     "traceback": [
      "\u001b[1;31m---------------------------------------------------------------------------\u001b[0m",
      "\u001b[1;31mImportError\u001b[0m                               Traceback (most recent call last)",
      "\u001b[1;32md:\\3 rd Year\\Y4S1\\Reserch\\Chatbot\\ChatBot.ipynb Cell 3\u001b[0m in \u001b[0;36m8\n\u001b[0;32m     <a href='vscode-notebook-cell:/d%3A/3%20rd%20Year/Y4S1/Reserch/Chatbot/ChatBot.ipynb#W3sZmlsZQ%3D%3D?line=78'>79</a>\u001b[0m save_steps \u001b[39m=\u001b[39m \u001b[39m500\u001b[39m\n\u001b[0;32m     <a href='vscode-notebook-cell:/d%3A/3%20rd%20Year/Y4S1/Reserch/Chatbot/ChatBot.ipynb#W3sZmlsZQ%3D%3D?line=80'>81</a>\u001b[0m \u001b[39m# Start training\u001b[39;00m\n\u001b[1;32m---> <a href='vscode-notebook-cell:/d%3A/3%20rd%20Year/Y4S1/Reserch/Chatbot/ChatBot.ipynb#W3sZmlsZQ%3D%3D?line=81'>82</a>\u001b[0m train(\n\u001b[0;32m     <a href='vscode-notebook-cell:/d%3A/3%20rd%20Year/Y4S1/Reserch/Chatbot/ChatBot.ipynb#W3sZmlsZQ%3D%3D?line=82'>83</a>\u001b[0m     train_file_path\u001b[39m=\u001b[39mtrain_file_path,\n\u001b[0;32m     <a href='vscode-notebook-cell:/d%3A/3%20rd%20Year/Y4S1/Reserch/Chatbot/ChatBot.ipynb#W3sZmlsZQ%3D%3D?line=83'>84</a>\u001b[0m     model_name\u001b[39m=\u001b[39mmodel_name,\n\u001b[0;32m     <a href='vscode-notebook-cell:/d%3A/3%20rd%20Year/Y4S1/Reserch/Chatbot/ChatBot.ipynb#W3sZmlsZQ%3D%3D?line=84'>85</a>\u001b[0m     output_dir\u001b[39m=\u001b[39moutput_dir,\n\u001b[0;32m     <a href='vscode-notebook-cell:/d%3A/3%20rd%20Year/Y4S1/Reserch/Chatbot/ChatBot.ipynb#W3sZmlsZQ%3D%3D?line=85'>86</a>\u001b[0m     overwrite_output_dir\u001b[39m=\u001b[39moverwrite_output_dir,\n\u001b[0;32m     <a href='vscode-notebook-cell:/d%3A/3%20rd%20Year/Y4S1/Reserch/Chatbot/ChatBot.ipynb#W3sZmlsZQ%3D%3D?line=86'>87</a>\u001b[0m     per_device_train_batch_size\u001b[39m=\u001b[39mper_device_train_batch_size,\n\u001b[0;32m     <a href='vscode-notebook-cell:/d%3A/3%20rd%20Year/Y4S1/Reserch/Chatbot/ChatBot.ipynb#W3sZmlsZQ%3D%3D?line=87'>88</a>\u001b[0m     num_train_epochs\u001b[39m=\u001b[39mnum_train_epochs,\n\u001b[0;32m     <a href='vscode-notebook-cell:/d%3A/3%20rd%20Year/Y4S1/Reserch/Chatbot/ChatBot.ipynb#W3sZmlsZQ%3D%3D?line=88'>89</a>\u001b[0m     save_steps\u001b[39m=\u001b[39msave_steps\n\u001b[0;32m     <a href='vscode-notebook-cell:/d%3A/3%20rd%20Year/Y4S1/Reserch/Chatbot/ChatBot.ipynb#W3sZmlsZQ%3D%3D?line=89'>90</a>\u001b[0m )\n\u001b[0;32m     <a href='vscode-notebook-cell:/d%3A/3%20rd%20Year/Y4S1/Reserch/Chatbot/ChatBot.ipynb#W3sZmlsZQ%3D%3D?line=91'>92</a>\u001b[0m \u001b[39m# Text generation\u001b[39;00m\n\u001b[0;32m     <a href='vscode-notebook-cell:/d%3A/3%20rd%20Year/Y4S1/Reserch/Chatbot/ChatBot.ipynb#W3sZmlsZQ%3D%3D?line=92'>93</a>\u001b[0m \u001b[39mdef\u001b[39;00m \u001b[39mgenerate_text\u001b[39m(sequence, max_length):\n",
      "\u001b[1;32md:\\3 rd Year\\Y4S1\\Reserch\\Chatbot\\ChatBot.ipynb Cell 3\u001b[0m in \u001b[0;36m5\n\u001b[0;32m     <a href='vscode-notebook-cell:/d%3A/3%20rd%20Year/Y4S1/Reserch/Chatbot/ChatBot.ipynb#W3sZmlsZQ%3D%3D?line=51'>52</a>\u001b[0m model \u001b[39m=\u001b[39m GPT2LMHeadModel\u001b[39m.\u001b[39mfrom_pretrained(model_name)\n\u001b[0;32m     <a href='vscode-notebook-cell:/d%3A/3%20rd%20Year/Y4S1/Reserch/Chatbot/ChatBot.ipynb#W3sZmlsZQ%3D%3D?line=52'>53</a>\u001b[0m model\u001b[39m.\u001b[39msave_pretrained(output_dir)\n\u001b[1;32m---> <a href='vscode-notebook-cell:/d%3A/3%20rd%20Year/Y4S1/Reserch/Chatbot/ChatBot.ipynb#W3sZmlsZQ%3D%3D?line=54'>55</a>\u001b[0m training_args \u001b[39m=\u001b[39m TrainingArguments(\n\u001b[0;32m     <a href='vscode-notebook-cell:/d%3A/3%20rd%20Year/Y4S1/Reserch/Chatbot/ChatBot.ipynb#W3sZmlsZQ%3D%3D?line=55'>56</a>\u001b[0m         output_dir\u001b[39m=\u001b[39;49moutput_dir,\n\u001b[0;32m     <a href='vscode-notebook-cell:/d%3A/3%20rd%20Year/Y4S1/Reserch/Chatbot/ChatBot.ipynb#W3sZmlsZQ%3D%3D?line=56'>57</a>\u001b[0m         overwrite_output_dir\u001b[39m=\u001b[39;49moverwrite_output_dir,\n\u001b[0;32m     <a href='vscode-notebook-cell:/d%3A/3%20rd%20Year/Y4S1/Reserch/Chatbot/ChatBot.ipynb#W3sZmlsZQ%3D%3D?line=57'>58</a>\u001b[0m         per_device_train_batch_size\u001b[39m=\u001b[39;49mper_device_train_batch_size,\n\u001b[0;32m     <a href='vscode-notebook-cell:/d%3A/3%20rd%20Year/Y4S1/Reserch/Chatbot/ChatBot.ipynb#W3sZmlsZQ%3D%3D?line=58'>59</a>\u001b[0m         num_train_epochs\u001b[39m=\u001b[39;49mnum_train_epochs,\n\u001b[0;32m     <a href='vscode-notebook-cell:/d%3A/3%20rd%20Year/Y4S1/Reserch/Chatbot/ChatBot.ipynb#W3sZmlsZQ%3D%3D?line=59'>60</a>\u001b[0m     )\n\u001b[0;32m     <a href='vscode-notebook-cell:/d%3A/3%20rd%20Year/Y4S1/Reserch/Chatbot/ChatBot.ipynb#W3sZmlsZQ%3D%3D?line=61'>62</a>\u001b[0m trainer \u001b[39m=\u001b[39m Trainer(\n\u001b[0;32m     <a href='vscode-notebook-cell:/d%3A/3%20rd%20Year/Y4S1/Reserch/Chatbot/ChatBot.ipynb#W3sZmlsZQ%3D%3D?line=62'>63</a>\u001b[0m         model\u001b[39m=\u001b[39mmodel,\n\u001b[0;32m     <a href='vscode-notebook-cell:/d%3A/3%20rd%20Year/Y4S1/Reserch/Chatbot/ChatBot.ipynb#W3sZmlsZQ%3D%3D?line=63'>64</a>\u001b[0m         args\u001b[39m=\u001b[39mtraining_args,\n\u001b[0;32m     <a href='vscode-notebook-cell:/d%3A/3%20rd%20Year/Y4S1/Reserch/Chatbot/ChatBot.ipynb#W3sZmlsZQ%3D%3D?line=64'>65</a>\u001b[0m         data_collator\u001b[39m=\u001b[39mdata_collator,\n\u001b[0;32m     <a href='vscode-notebook-cell:/d%3A/3%20rd%20Year/Y4S1/Reserch/Chatbot/ChatBot.ipynb#W3sZmlsZQ%3D%3D?line=65'>66</a>\u001b[0m         train_dataset\u001b[39m=\u001b[39mtrain_dataset,\n\u001b[0;32m     <a href='vscode-notebook-cell:/d%3A/3%20rd%20Year/Y4S1/Reserch/Chatbot/ChatBot.ipynb#W3sZmlsZQ%3D%3D?line=66'>67</a>\u001b[0m )\n\u001b[0;32m     <a href='vscode-notebook-cell:/d%3A/3%20rd%20Year/Y4S1/Reserch/Chatbot/ChatBot.ipynb#W3sZmlsZQ%3D%3D?line=68'>69</a>\u001b[0m trainer\u001b[39m.\u001b[39mtrain()\n",
      "File \u001b[1;32m<string>:112\u001b[0m, in \u001b[0;36m__init__\u001b[1;34m(self, output_dir, overwrite_output_dir, do_train, do_eval, do_predict, evaluation_strategy, prediction_loss_only, per_device_train_batch_size, per_device_eval_batch_size, per_gpu_train_batch_size, per_gpu_eval_batch_size, gradient_accumulation_steps, eval_accumulation_steps, eval_delay, learning_rate, weight_decay, adam_beta1, adam_beta2, adam_epsilon, max_grad_norm, num_train_epochs, max_steps, lr_scheduler_type, warmup_ratio, warmup_steps, log_level, log_level_replica, log_on_each_node, logging_dir, logging_strategy, logging_first_step, logging_steps, logging_nan_inf_filter, save_strategy, save_steps, save_total_limit, save_safetensors, save_on_each_node, no_cuda, use_mps_device, seed, data_seed, jit_mode_eval, use_ipex, bf16, fp16, fp16_opt_level, half_precision_backend, bf16_full_eval, fp16_full_eval, tf32, local_rank, ddp_backend, tpu_num_cores, tpu_metrics_debug, debug, dataloader_drop_last, eval_steps, dataloader_num_workers, past_index, run_name, disable_tqdm, remove_unused_columns, label_names, load_best_model_at_end, metric_for_best_model, greater_is_better, ignore_data_skip, sharded_ddp, fsdp, fsdp_min_num_params, fsdp_config, fsdp_transformer_layer_cls_to_wrap, deepspeed, label_smoothing_factor, optim, optim_args, adafactor, group_by_length, length_column_name, report_to, ddp_find_unused_parameters, ddp_bucket_cap_mb, ddp_broadcast_buffers, dataloader_pin_memory, skip_memory_metrics, use_legacy_prediction_loop, push_to_hub, resume_from_checkpoint, hub_model_id, hub_strategy, hub_token, hub_private_repo, gradient_checkpointing, include_inputs_for_metrics, fp16_backend, push_to_hub_model_id, push_to_hub_organization, push_to_hub_token, mp_parameters, auto_find_batch_size, full_determinism, torchdynamo, ray_scope, ddp_timeout, torch_compile, torch_compile_backend, torch_compile_mode, xpu_backend)\u001b[0m\n",
      "File \u001b[1;32mc:\\Users\\Nuwanga Wijamuni\\AppData\\Local\\Programs\\Python\\Python310\\lib\\site-packages\\transformers\\training_args.py:1372\u001b[0m, in \u001b[0;36mTrainingArguments.__post_init__\u001b[1;34m(self)\u001b[0m\n\u001b[0;32m   1366\u001b[0m     \u001b[39mif\u001b[39;00m version\u001b[39m.\u001b[39mparse(version\u001b[39m.\u001b[39mparse(torch\u001b[39m.\u001b[39m__version__)\u001b[39m.\u001b[39mbase_version) \u001b[39m==\u001b[39m version\u001b[39m.\u001b[39mparse(\u001b[39m\"\u001b[39m\u001b[39m2.0.0\u001b[39m\u001b[39m\"\u001b[39m) \u001b[39mand\u001b[39;00m \u001b[39mself\u001b[39m\u001b[39m.\u001b[39mfp16:\n\u001b[0;32m   1367\u001b[0m         \u001b[39mraise\u001b[39;00m \u001b[39mValueError\u001b[39;00m(\u001b[39m\"\u001b[39m\u001b[39m--optim adamw_torch_fused with --fp16 requires PyTorch>2.0\u001b[39m\u001b[39m\"\u001b[39m)\n\u001b[0;32m   1369\u001b[0m \u001b[39mif\u001b[39;00m (\n\u001b[0;32m   1370\u001b[0m     \u001b[39mself\u001b[39m\u001b[39m.\u001b[39mframework \u001b[39m==\u001b[39m \u001b[39m\"\u001b[39m\u001b[39mpt\u001b[39m\u001b[39m\"\u001b[39m\n\u001b[0;32m   1371\u001b[0m     \u001b[39mand\u001b[39;00m is_torch_available()\n\u001b[1;32m-> 1372\u001b[0m     \u001b[39mand\u001b[39;00m (\u001b[39mself\u001b[39;49m\u001b[39m.\u001b[39;49mdevice\u001b[39m.\u001b[39mtype \u001b[39m!=\u001b[39m \u001b[39m\"\u001b[39m\u001b[39mcuda\u001b[39m\u001b[39m\"\u001b[39m)\n\u001b[0;32m   1373\u001b[0m     \u001b[39mand\u001b[39;00m (get_xla_device_type(\u001b[39mself\u001b[39m\u001b[39m.\u001b[39mdevice) \u001b[39m!=\u001b[39m \u001b[39m\"\u001b[39m\u001b[39mGPU\u001b[39m\u001b[39m\"\u001b[39m)\n\u001b[0;32m   1374\u001b[0m     \u001b[39mand\u001b[39;00m (\u001b[39mself\u001b[39m\u001b[39m.\u001b[39mfp16 \u001b[39mor\u001b[39;00m \u001b[39mself\u001b[39m\u001b[39m.\u001b[39mfp16_full_eval)\n\u001b[0;32m   1375\u001b[0m ):\n\u001b[0;32m   1376\u001b[0m     \u001b[39mraise\u001b[39;00m \u001b[39mValueError\u001b[39;00m(\n\u001b[0;32m   1377\u001b[0m         \u001b[39m\"\u001b[39m\u001b[39mFP16 Mixed precision training with AMP or APEX (`--fp16`) and FP16 half precision evaluation\u001b[39m\u001b[39m\"\u001b[39m\n\u001b[0;32m   1378\u001b[0m         \u001b[39m\"\u001b[39m\u001b[39m (`--fp16_full_eval`) can only be used on CUDA devices.\u001b[39m\u001b[39m\"\u001b[39m\n\u001b[0;32m   1379\u001b[0m     )\n\u001b[0;32m   1381\u001b[0m \u001b[39mif\u001b[39;00m (\n\u001b[0;32m   1382\u001b[0m     \u001b[39mself\u001b[39m\u001b[39m.\u001b[39mframework \u001b[39m==\u001b[39m \u001b[39m\"\u001b[39m\u001b[39mpt\u001b[39m\u001b[39m\"\u001b[39m\n\u001b[0;32m   1383\u001b[0m     \u001b[39mand\u001b[39;00m is_torch_available()\n\u001b[1;32m   (...)\u001b[0m\n\u001b[0;32m   1388\u001b[0m     \u001b[39mand\u001b[39;00m (\u001b[39mself\u001b[39m\u001b[39m.\u001b[39mbf16 \u001b[39mor\u001b[39;00m \u001b[39mself\u001b[39m\u001b[39m.\u001b[39mbf16_full_eval)\n\u001b[0;32m   1389\u001b[0m ):\n",
      "File \u001b[1;32mc:\\Users\\Nuwanga Wijamuni\\AppData\\Local\\Programs\\Python\\Python310\\lib\\site-packages\\transformers\\training_args.py:1795\u001b[0m, in \u001b[0;36mTrainingArguments.device\u001b[1;34m(self)\u001b[0m\n\u001b[0;32m   1791\u001b[0m \u001b[39m\"\"\"\u001b[39;00m\n\u001b[0;32m   1792\u001b[0m \u001b[39mThe device used by this process.\u001b[39;00m\n\u001b[0;32m   1793\u001b[0m \u001b[39m\"\"\"\u001b[39;00m\n\u001b[0;32m   1794\u001b[0m requires_backends(\u001b[39mself\u001b[39m, [\u001b[39m\"\u001b[39m\u001b[39mtorch\u001b[39m\u001b[39m\"\u001b[39m])\n\u001b[1;32m-> 1795\u001b[0m \u001b[39mreturn\u001b[39;00m \u001b[39mself\u001b[39;49m\u001b[39m.\u001b[39;49m_setup_devices\n",
      "File \u001b[1;32mc:\\Users\\Nuwanga Wijamuni\\AppData\\Local\\Programs\\Python\\Python310\\lib\\site-packages\\transformers\\utils\\generic.py:54\u001b[0m, in \u001b[0;36mcached_property.__get__\u001b[1;34m(self, obj, objtype)\u001b[0m\n\u001b[0;32m     52\u001b[0m cached \u001b[39m=\u001b[39m \u001b[39mgetattr\u001b[39m(obj, attr, \u001b[39mNone\u001b[39;00m)\n\u001b[0;32m     53\u001b[0m \u001b[39mif\u001b[39;00m cached \u001b[39mis\u001b[39;00m \u001b[39mNone\u001b[39;00m:\n\u001b[1;32m---> 54\u001b[0m     cached \u001b[39m=\u001b[39m \u001b[39mself\u001b[39;49m\u001b[39m.\u001b[39;49mfget(obj)\n\u001b[0;32m     55\u001b[0m     \u001b[39msetattr\u001b[39m(obj, attr, cached)\n\u001b[0;32m     56\u001b[0m \u001b[39mreturn\u001b[39;00m cached\n",
      "File \u001b[1;32mc:\\Users\\Nuwanga Wijamuni\\AppData\\Local\\Programs\\Python\\Python310\\lib\\site-packages\\transformers\\training_args.py:1716\u001b[0m, in \u001b[0;36mTrainingArguments._setup_devices\u001b[1;34m(self)\u001b[0m\n\u001b[0;32m   1714\u001b[0m \u001b[39mif\u001b[39;00m \u001b[39mnot\u001b[39;00m is_sagemaker_mp_enabled():\n\u001b[0;32m   1715\u001b[0m     \u001b[39mif\u001b[39;00m \u001b[39mnot\u001b[39;00m is_accelerate_available(min_version\u001b[39m=\u001b[39m\u001b[39m\"\u001b[39m\u001b[39m0.20.1\u001b[39m\u001b[39m\"\u001b[39m):\n\u001b[1;32m-> 1716\u001b[0m         \u001b[39mraise\u001b[39;00m \u001b[39mImportError\u001b[39;00m(\n\u001b[0;32m   1717\u001b[0m             \u001b[39m\"\u001b[39m\u001b[39mUsing the `Trainer` with `PyTorch` requires `accelerate>=0.20.1`: Please run `pip install transformers[torch]` or `pip install accelerate -U`\u001b[39m\u001b[39m\"\u001b[39m\n\u001b[0;32m   1718\u001b[0m         )\n\u001b[0;32m   1719\u001b[0m     AcceleratorState\u001b[39m.\u001b[39m_reset_state(reset_partial_state\u001b[39m=\u001b[39m\u001b[39mTrue\u001b[39;00m)\n\u001b[0;32m   1720\u001b[0m \u001b[39mself\u001b[39m\u001b[39m.\u001b[39mdistributed_state \u001b[39m=\u001b[39m \u001b[39mNone\u001b[39;00m\n",
      "\u001b[1;31mImportError\u001b[0m: Using the `Trainer` with `PyTorch` requires `accelerate>=0.20.1`: Please run `pip install transformers[torch]` or `pip install accelerate -U`"
     ]
    },
    {
     "name": "stderr",
     "output_type": "stream",
     "text": [
      "WARNING: Retrying (Retry(total=4, connect=None, read=None, redirect=None, status=None)) after connection broken by 'ReadTimeoutError(\"HTTPSConnectionPool(host='pypi.org', port=443): Read timed out. (read timeout=15)\")': /simple/sympy/\n",
      "ERROR: Could not install packages due to an OSError: [WinError 5] Access is denied: 'C:\\\\Users\\\\Nuwanga Wijamuni\\\\AppData\\\\Local\\\\Programs\\\\Python\\\\Python310\\\\Lib\\\\site-packages\\\\~orch\\\\lib\\\\asmjit.dll'\n",
      "Consider using the `--user` option or check the permissions.\n",
      "\n",
      "WARNING: You are using pip version 22.0.4; however, version 23.2.1 is available.\n",
      "You should consider upgrading via the 'c:\\Users\\Nuwanga Wijamuni\\AppData\\Local\\Programs\\Python\\Python310\\python.exe -m pip install --upgrade pip' command.\n"
     ]
    },
    {
     "name": "stdout",
     "output_type": "stream",
     "text": [
      "Requirement already satisfied: torch in c:\\users\\nuwanga wijamuni\\appdata\\local\\programs\\python\\python310\\lib\\site-packages (1.13.1)\n",
      "Collecting torchvision\n",
      "  Downloading torchvision-0.15.2-cp310-cp310-win_amd64.whl (1.2 MB)\n",
      "     ---------------------------------------- 1.2/1.2 MB 519.5 kB/s eta 0:00:00\n",
      "Requirement already satisfied: typing-extensions in c:\\users\\nuwanga wijamuni\\appdata\\local\\programs\\python\\python310\\lib\\site-packages (from torch) (4.4.0)\n",
      "Collecting torch\n",
      "  Downloading torch-2.0.1-cp310-cp310-win_amd64.whl (172.3 MB)\n",
      "     ------------------------------------ 172.3/172.3 MB 556.7 kB/s eta 0:00:00\n",
      "Requirement already satisfied: requests in c:\\users\\nuwanga wijamuni\\appdata\\local\\programs\\python\\python310\\lib\\site-packages (from torchvision) (2.28.1)\n",
      "Requirement already satisfied: numpy in c:\\users\\nuwanga wijamuni\\appdata\\local\\programs\\python\\python310\\lib\\site-packages (from torchvision) (1.23.4)\n",
      "Requirement already satisfied: pillow!=8.3.*,>=5.3.0 in c:\\users\\nuwanga wijamuni\\appdata\\local\\programs\\python\\python310\\lib\\site-packages (from torchvision) (9.3.0)\n",
      "Requirement already satisfied: networkx in c:\\users\\nuwanga wijamuni\\appdata\\local\\programs\\python\\python310\\lib\\site-packages (from torch) (3.0)\n",
      "Requirement already satisfied: jinja2 in c:\\users\\nuwanga wijamuni\\appdata\\local\\programs\\python\\python310\\lib\\site-packages (from torch) (3.1.2)\n",
      "Requirement already satisfied: filelock in c:\\users\\nuwanga wijamuni\\appdata\\local\\programs\\python\\python310\\lib\\site-packages (from torch) (3.9.0)\n",
      "Collecting sympy\n",
      "  Downloading sympy-1.12-py3-none-any.whl (5.7 MB)\n",
      "     ---------------------------------------- 5.7/5.7 MB 589.9 kB/s eta 0:00:00\n",
      "Requirement already satisfied: MarkupSafe>=2.0 in c:\\users\\nuwanga wijamuni\\appdata\\local\\programs\\python\\python310\\lib\\site-packages (from jinja2->torch) (2.1.1)\n",
      "Requirement already satisfied: idna<4,>=2.5 in c:\\users\\nuwanga wijamuni\\appdata\\local\\programs\\python\\python310\\lib\\site-packages (from requests->torchvision) (3.4)\n",
      "Requirement already satisfied: certifi>=2017.4.17 in c:\\users\\nuwanga wijamuni\\appdata\\local\\programs\\python\\python310\\lib\\site-packages (from requests->torchvision) (2022.9.24)\n",
      "Requirement already satisfied: urllib3<1.27,>=1.21.1 in c:\\users\\nuwanga wijamuni\\appdata\\local\\programs\\python\\python310\\lib\\site-packages (from requests->torchvision) (1.26.12)\n",
      "Requirement already satisfied: charset-normalizer<3,>=2 in c:\\users\\nuwanga wijamuni\\appdata\\local\\programs\\python\\python310\\lib\\site-packages (from requests->torchvision) (2.1.1)\n",
      "Collecting mpmath>=0.19\n",
      "  Downloading mpmath-1.3.0-py3-none-any.whl (536 kB)\n",
      "     ------------------------------------ 536.2/536.2 KB 623.2 kB/s eta 0:00:00\n",
      "Installing collected packages: mpmath, sympy, torch, torchvision\n",
      "  Attempting uninstall: torch\n",
      "    Found existing installation: torch 1.13.1\n",
      "    Uninstalling torch-1.13.1:\n",
      "      Successfully uninstalled torch-1.13.1\n"
     ]
    }
   ],
   "source": [
    "import pandas as pd\n",
    "import numpy as np\n",
    "import re\n",
    "from transformers import (TextDataset, DataCollatorForLanguageModeling, \n",
    "                          GPT2Tokenizer, GPT2LMHeadModel, \n",
    "                          Trainer, TrainingArguments)\n",
    "\n",
    "# Cleaning function\n",
    "def cleaning(s):\n",
    "    s = str(s)\n",
    "    s = re.sub('\\s\\W',' ',s)\n",
    "    s = re.sub('\\W,\\s',' ',s)\n",
    "    s = re.sub(\"\\d+\", \"\", s)\n",
    "    s = re.sub('\\s+',' ',s)\n",
    "    s = re.sub('[!@#$_]', '', s)\n",
    "    return s\n",
    "\n",
    "# Load the dataset\n",
    "df = pd.read_excel(\"Allergy.xlsx\",header=0) \n",
    "df = df.dropna()\n",
    "text_data = open('Allergy.txt', 'w')\n",
    "for idx, item in df.iterrows():\n",
    "  conversation = cleaning(item[\"Patient\"] + \" \" + item[\"Doctor\"])\n",
    "  text_data.write(conversation)\n",
    "text_data.close()\n",
    "\n",
    "# Helper functions for training\n",
    "def load_dataset(file_path, tokenizer, block_size = 128):\n",
    "    dataset = TextDataset(\n",
    "        tokenizer = tokenizer,\n",
    "        file_path = file_path,\n",
    "        block_size = block_size,\n",
    "    )\n",
    "    return dataset\n",
    "\n",
    "def load_data_collator(tokenizer):\n",
    "    data_collator = DataCollatorForLanguageModeling(\n",
    "        tokenizer=tokenizer, \n",
    "        mlm=False\n",
    "    )\n",
    "    return data_collator\n",
    "\n",
    "# Training function\n",
    "def train(train_file_path, model_name, output_dir, overwrite_output_dir,\n",
    "          per_device_train_batch_size, num_train_epochs, save_steps):\n",
    "\n",
    "  tokenizer = GPT2Tokenizer.from_pretrained(model_name)\n",
    "  train_dataset = load_dataset(train_file_path, tokenizer)\n",
    "  data_collator = load_data_collator(tokenizer)\n",
    "  tokenizer.save_pretrained(output_dir)\n",
    "\n",
    "  model = GPT2LMHeadModel.from_pretrained(model_name)\n",
    "  model.save_pretrained(output_dir)\n",
    "\n",
    "  training_args = TrainingArguments(\n",
    "          output_dir=output_dir,\n",
    "          overwrite_output_dir=overwrite_output_dir,\n",
    "          per_device_train_batch_size=per_device_train_batch_size,\n",
    "          num_train_epochs=num_train_epochs,\n",
    "      )\n",
    "\n",
    "  trainer = Trainer(\n",
    "          model=model,\n",
    "          args=training_args,\n",
    "          data_collator=data_collator,\n",
    "          train_dataset=train_dataset,\n",
    "  )\n",
    "      \n",
    "  trainer.train()\n",
    "  trainer.save_model()\n",
    "\n",
    "# Set parameters \n",
    "train_file_path = \"Allergy.txt\"\n",
    "model_name = 'gpt2'\n",
    "output_dir = 'result'\n",
    "overwrite_output_dir = False\n",
    "per_device_train_batch_size = 8\n",
    "num_train_epochs = 5.0\n",
    "save_steps = 500\n",
    "\n",
    "# Start training\n",
    "train(\n",
    "    train_file_path=train_file_path,\n",
    "    model_name=model_name,\n",
    "    output_dir=output_dir,\n",
    "    overwrite_output_dir=overwrite_output_dir,\n",
    "    per_device_train_batch_size=per_device_train_batch_size,\n",
    "    num_train_epochs=num_train_epochs,\n",
    "    save_steps=save_steps\n",
    ")\n",
    "\n",
    "# Text generation\n",
    "def generate_text(sequence, max_length):\n",
    "    model_path = \"result\"\n",
    "    model = GPT2LMHeadModel.from_pretrained(model_path)\n",
    "    tokenizer = GPT2Tokenizer.from_pretrained(model_path)\n",
    "    ids = tokenizer.encode(f'{sequence}', return_tensors='pt')\n",
    "    final_outputs = model.generate(\n",
    "        ids,\n",
    "        do_sample=True,\n",
    "        max_length=max_length,\n",
    "        pad_token_id=model.config.eos_token_id,\n",
    "        top_k=50,\n",
    "        top_p=0.95,\n",
    "    )\n",
    "    print(tokenizer.decode(final_outputs[0], skip_special_tokens=True))\n",
    "\n",
    "# Get user input\n",
    "sequence = input(\"Please provide a seed sequence: \") \n",
    "while True:\n",
    "    try:\n",
    "        max_len = int(input(\"Please provide the max length for the output (integer): \")) \n",
    "        break\n",
    "    except ValueError:\n",
    "        print(\"Please enter a valid integer for max length.\")\n",
    "\n",
    "generate_text(sequence, max_len)\n"
   ]
  }
 ],
 "metadata": {
  "kernelspec": {
   "display_name": "Python 3",
   "language": "python",
   "name": "python3"
  },
  "language_info": {
   "codemirror_mode": {
    "name": "ipython",
    "version": 3
   },
   "file_extension": ".py",
   "mimetype": "text/x-python",
   "name": "python",
   "nbconvert_exporter": "python",
   "pygments_lexer": "ipython3",
   "version": "3.10.5"
  },
  "orig_nbformat": 4
 },
 "nbformat": 4,
 "nbformat_minor": 2
}
