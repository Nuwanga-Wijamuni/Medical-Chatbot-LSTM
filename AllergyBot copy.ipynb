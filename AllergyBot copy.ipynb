{
 "cells": [
  {
   "cell_type": "code",
   "execution_count": 1,
   "metadata": {},
   "outputs": [],
   "source": [
    "import tensorflow as tf\n",
    "import numpy as np\n",
    "import pandas as pd\n",
    "import matplotlib.pyplot as plt\n",
    "import seaborn as sns\n",
    "from tensorflow.keras.layers import TextVectorization\n",
    "import re,string\n",
    "from tensorflow.keras.layers import LSTM,Dense,Embedding,Dropout,LayerNormalization"
   ]
  },
  {
   "cell_type": "code",
   "execution_count": 2,
   "metadata": {},
   "outputs": [],
   "source": [
    "# Load the dataset\n",
    "df = pd.read_excel(\"Allergy.xlsx\",header=0)"
   ]
  },
  {
   "cell_type": "code",
   "execution_count": 3,
   "metadata": {},
   "outputs": [],
   "source": [
    "# Set display options to show full content without truncation\n",
    "pd.set_option('display.max_colwidth', None)\n",
    "NewData = df[['Patient','Doctor']]"
   ]
  },
  {
   "cell_type": "code",
   "execution_count": 4,
   "metadata": {},
   "outputs": [
    {
     "name": "stdout",
     "output_type": "stream",
     "text": [
      "Dataframe size: 310\n"
     ]
    },
    {
     "data": {
      "text/html": [
       "<div>\n",
       "<style scoped>\n",
       "    .dataframe tbody tr th:only-of-type {\n",
       "        vertical-align: middle;\n",
       "    }\n",
       "\n",
       "    .dataframe tbody tr th {\n",
       "        vertical-align: top;\n",
       "    }\n",
       "\n",
       "    .dataframe thead th {\n",
       "        text-align: right;\n",
       "    }\n",
       "</style>\n",
       "<table border=\"1\" class=\"dataframe\">\n",
       "  <thead>\n",
       "    <tr style=\"text-align: right;\">\n",
       "      <th></th>\n",
       "      <th>Patient</th>\n",
       "      <th>Doctor</th>\n",
       "    </tr>\n",
       "  </thead>\n",
       "  <tbody>\n",
       "    <tr>\n",
       "      <th>0</th>\n",
       "      <td>Doctor, I've been feeling really strange lately. I had a reaction after eating something, and my throat felt like it was closing up. I'm really worried. Can you help me?</td>\n",
       "      <td>Of course, I'll do my best to help you. It sounds like you may have experienced an allergic reaction. Can you tell me more about what happened?</td>\n",
       "    </tr>\n",
       "    <tr>\n",
       "      <th>1</th>\n",
       "      <td>Well, I was at a restaurant and I had this dish with shrimp. Shortly after I finished eating, my lips started to swell, and I had difficulty breathing. I've never had this happen before, and it scared me.</td>\n",
       "      <td>I understand your concern. Based on your symptoms, it's possible that you had a severe allergic reaction called anaphylaxis. This is a serious condition that requires immediate medical attention. Have you experienced any other symptoms, such as hives, itching, or lightheadedness?</td>\n",
       "    </tr>\n",
       "    <tr>\n",
       "      <th>2</th>\n",
       "      <td>Yes, actually, I did notice some hives on my arms and chest, and I felt lightheaded and dizzy. I had no idea this could happen from eating shrimp. What exactly is anaphylaxis?</td>\n",
       "      <td>That's probably what's causing your reaction. Pork is a common allergen, and it can cause a variety of symptoms, including hives, difficulty breathing, and even anaphylaxis.</td>\n",
       "    </tr>\n",
       "    <tr>\n",
       "      <th>3</th>\n",
       "      <td>Anaphylaxis is a severe allergic reaction that can occur within minutes or even seconds after exposure to an allergen, such as shrimp in your case. It can affect multiple systems in your body and can be life-threatening if not treated promptly. Common symptoms include swelling of the lips, face, or throat, difficulty breathing, hives or rash, and a drop in blood pressure leading to dizziness or fainting.</td>\n",
       "      <td>That sounds really serious! I had no idea an allergic reaction could be so dangerous. What should I do if it happens again?</td>\n",
       "    </tr>\n",
       "    <tr>\n",
       "      <th>4</th>\n",
       "      <td>Good morning, Doctor. I've been experiencing some unusual symptoms, and I'm not sure what's going on. I noticed some skin issues and recently had a blood test done. Can you please take a look at the reports and help me understand what's happening?</td>\n",
       "      <td>Good morning. Of course, I'll be happy to assist you. Please hand me your reports, and let's discuss your symptoms in detail. What specific skin issues have you been experiencing?</td>\n",
       "    </tr>\n",
       "    <tr>\n",
       "      <th>5</th>\n",
       "      <td>Well, I've been having frequent rashes and hives on different parts of my body. They appear as red, itchy patches, and they come and go randomly. It's quite uncomfortable, and I'm not sure what triggers them.</td>\n",
       "      <td>I see. Skin rashes and hives can be indicative of an allergic reaction. It's important to identify the underlying cause. Now, let's take a look at your blood test results. Could you please pass them to me?</td>\n",
       "    </tr>\n",
       "    <tr>\n",
       "      <th>6</th>\n",
       "      <td>Here are the reports, Doctor. I hope they can provide some insight into my condition.</td>\n",
       "      <td>Thank you. Let me review these reports.</td>\n",
       "    </tr>\n",
       "    <tr>\n",
       "      <th>7</th>\n",
       "      <td>Doctor, I had a really scary experience after eating pork yesterday. My face swelled up, and I had difficulty breathing. I think it might have been an allergic reaction. Can you help me understand what happened?</td>\n",
       "      <td>I'm sorry to hear about your distressing experience. Allergic reactions can indeed occur after consuming certain foods. Let's discuss your symptoms in more detail. Did you notice any other reactions apart from the facial swelling and difficulty breathing?</td>\n",
       "    </tr>\n",
       "    <tr>\n",
       "      <th>8</th>\n",
       "      <td>Yes, I also had hives on my body, and I felt quite dizzy. It was really frightening, and I had no idea that this could happen from eating pork. Is it possible that I have an allergy to pork?</td>\n",
       "      <td>It's possible that you have developed an allergy to pork. Allergic reactions can vary from person to person, and some individuals can be allergic to specific types of meat. To better understand your condition, it would be helpful to review your skin and blood test reports. Can you please provide me with those?</td>\n",
       "    </tr>\n",
       "    <tr>\n",
       "      <th>9</th>\n",
       "      <td>Certainly, Doctor. Here are the reports. I hope they can shed some light on what's happening.</td>\n",
       "      <td>Thank you. Let me take a look at the report .Based on your blood test results, your IgE levels are elevated, indicating a possible allergic reaction. Additionally, your skin prick test shows a positive reaction to pork allergens, further suggesting an allergy to pork.</td>\n",
       "    </tr>\n",
       "    <tr>\n",
       "      <th>10</th>\n",
       "      <td>What should I do?</td>\n",
       "      <td>I recommend that you avoid beef in the future. If you have any more symptoms, please come back and see me.</td>\n",
       "    </tr>\n",
       "    <tr>\n",
       "      <th>11</th>\n",
       "      <td>Doctor, I had a scary experience after drinking a glass of milk yesterday. My throat started to swell, and I had trouble breathing. I suspect it might have been an allergic reaction. Can you please help me understand what happened?</td>\n",
       "      <td>I'm sorry to hear that you had such a distressing experience. Allergic reactions can occur after consuming certain foods, including milk. Let's discuss your symptoms in more detail. Did you notice any other reactions apart from the throat swelling and difficulty breathing?</td>\n",
       "    </tr>\n",
       "    <tr>\n",
       "      <th>12</th>\n",
       "      <td>Yes, I also had hives on my skin, and I felt quite nauseous and lightheaded. It was really frightening, and I had no idea that drinking milk could cause such a reaction. Is it possible that I have an allergy to milk?</td>\n",
       "      <td>It's possible that you have developed an allergy to milk. Allergic reactions to milk are quite common. To better understand your condition, it would be helpful to review your skin and blood test reports. Could you please provide me with those?</td>\n",
       "    </tr>\n",
       "    <tr>\n",
       "      <th>13</th>\n",
       "      <td>Certainly, Doctor. Here are the reports. I hope they can provide some insight into what's happening.</td>\n",
       "      <td>Thank you. Let me examine the reports and skin.</td>\n",
       "    </tr>\n",
       "    <tr>\n",
       "      <th>14</th>\n",
       "      <td>Doctor, something really alarming happened after I ate some chocolate. My whole body started itching, and I had trouble breathing. I suspect it might have been an allergic reaction. Can you please help me understand what's going on?</td>\n",
       "      <td>I'm sorry to hear that you had such a distressing experience. Allergic reactions can occur after consuming certain foods, including chocolate. Let's discuss your symptoms in more detail. Did you notice any other reactions apart from the itching and difficulty breathing?</td>\n",
       "    </tr>\n",
       "    <tr>\n",
       "      <th>15</th>\n",
       "      <td>Yes, I also had hives all over my body, and my face started to swell. I felt really anxious and had a rapid heartbeat. It was really scary, and I had no idea that chocolate could cause such a reaction. Could it be an allergy?</td>\n",
       "      <td>It's possible that you have developed an allergy to chocolate. Allergic reactions to chocolate can happen, although they are relatively rare. To better understand your condition, I would like to examine your skin and review your blood test reports. Could you please show me any visible skin reactions and provide me with the reports?</td>\n",
       "    </tr>\n",
       "    <tr>\n",
       "      <th>16</th>\n",
       "      <td>Certainly, Doctor. Here are the reports, and you can see some red rashes on my arms and chest.</td>\n",
       "      <td>Thank you. Let me examine your skin and review the reports</td>\n",
       "    </tr>\n",
       "    <tr>\n",
       "      <th>17</th>\n",
       "      <td>Doctor, I had a frightening experience after eating beef. I developed a rash all over my body, and I had difficulty breathing. I suspect it might have been an allergic reaction. Can you please help me understand what's happening?</td>\n",
       "      <td>I'm sorry to hear about your distressing experience. Allergic reactions can indeed occur after consuming certain foods, including beef. Let's discuss your symptoms in more detail. Did you notice any other reactions apart from the rash and difficulty breathing?</td>\n",
       "    </tr>\n",
       "    <tr>\n",
       "      <th>18</th>\n",
       "      <td>Yes, I also experienced severe itching and my face started to swell. I felt really anxious and had a tightness in my chest. It was really scary, and I had no idea that beef could cause such a reaction. Could it be an allergy?</td>\n",
       "      <td>It's possible that you have developed an allergy to beef. Allergic reactions to beef can occur, although they are relatively rare. To better understand your condition, I would like to examine your skin and review your blood test reports. Could you please show me any visible skin reactions and provide me with the reports?</td>\n",
       "    </tr>\n",
       "    <tr>\n",
       "      <th>19</th>\n",
       "      <td>Certainly, Doctor. Here are the reports, and you can see the red rashes on my legs and arms.</td>\n",
       "      <td>Thank you. Let me examine your skin and review the reports.</td>\n",
       "    </tr>\n",
       "  </tbody>\n",
       "</table>\n",
       "</div>"
      ],
      "text/plain": [
       "                                                                                                                                                                                                                                                                                                                                                                                                                    Patient  \\\n",
       "0                                                                                                                                                                                                                                                 Doctor, I've been feeling really strange lately. I had a reaction after eating something, and my throat felt like it was closing up. I'm really worried. Can you help me?   \n",
       "1                                                                                                                                                                                                              Well, I was at a restaurant and I had this dish with shrimp. Shortly after I finished eating, my lips started to swell, and I had difficulty breathing. I've never had this happen before, and it scared me.   \n",
       "2                                                                                                                                                                                                                                           Yes, actually, I did notice some hives on my arms and chest, and I felt lightheaded and dizzy. I had no idea this could happen from eating shrimp. What exactly is anaphylaxis?   \n",
       "3   Anaphylaxis is a severe allergic reaction that can occur within minutes or even seconds after exposure to an allergen, such as shrimp in your case. It can affect multiple systems in your body and can be life-threatening if not treated promptly. Common symptoms include swelling of the lips, face, or throat, difficulty breathing, hives or rash, and a drop in blood pressure leading to dizziness or fainting.   \n",
       "4                                                                                                                                                                   Good morning, Doctor. I've been experiencing some unusual symptoms, and I'm not sure what's going on. I noticed some skin issues and recently had a blood test done. Can you please take a look at the reports and help me understand what's happening?   \n",
       "5                                                                                                                                                                                                          Well, I've been having frequent rashes and hives on different parts of my body. They appear as red, itchy patches, and they come and go randomly. It's quite uncomfortable, and I'm not sure what triggers them.   \n",
       "6                                                                                                                                                                                                                                                                                                                                     Here are the reports, Doctor. I hope they can provide some insight into my condition.   \n",
       "7                                                                                                                                                                                                       Doctor, I had a really scary experience after eating pork yesterday. My face swelled up, and I had difficulty breathing. I think it might have been an allergic reaction. Can you help me understand what happened?   \n",
       "8                                                                                                                                                                                                                            Yes, I also had hives on my body, and I felt quite dizzy. It was really frightening, and I had no idea that this could happen from eating pork. Is it possible that I have an allergy to pork?   \n",
       "9                                                                                                                                                                                                                                                                                                                             Certainly, Doctor. Here are the reports. I hope they can shed some light on what's happening.   \n",
       "10                                                                                                                                                                                                                                                                                                                                                                                                        What should I do?   \n",
       "11                                                                                                                                                                                  Doctor, I had a scary experience after drinking a glass of milk yesterday. My throat started to swell, and I had trouble breathing. I suspect it might have been an allergic reaction. Can you please help me understand what happened?   \n",
       "12                                                                                                                                                                                                 Yes, I also had hives on my skin, and I felt quite nauseous and lightheaded. It was really frightening, and I had no idea that drinking milk could cause such a reaction. Is it possible that I have an allergy to milk?   \n",
       "13                                                                                                                                                                                                                                                                                                                     Certainly, Doctor. Here are the reports. I hope they can provide some insight into what's happening.   \n",
       "14                                                                                                                                                                                 Doctor, something really alarming happened after I ate some chocolate. My whole body started itching, and I had trouble breathing. I suspect it might have been an allergic reaction. Can you please help me understand what's going on?   \n",
       "15                                                                                                                                                                                        Yes, I also had hives all over my body, and my face started to swell. I felt really anxious and had a rapid heartbeat. It was really scary, and I had no idea that chocolate could cause such a reaction. Could it be an allergy?   \n",
       "16                                                                                                                                                                                                                                                                                                                           Certainly, Doctor. Here are the reports, and you can see some red rashes on my arms and chest.   \n",
       "17                                                                                                                                                                                    Doctor, I had a frightening experience after eating beef. I developed a rash all over my body, and I had difficulty breathing. I suspect it might have been an allergic reaction. Can you please help me understand what's happening?   \n",
       "18                                                                                                                                                                                        Yes, I also experienced severe itching and my face started to swell. I felt really anxious and had a tightness in my chest. It was really scary, and I had no idea that beef could cause such a reaction. Could it be an allergy?   \n",
       "19                                                                                                                                                                                                                                                                                                                             Certainly, Doctor. Here are the reports, and you can see the red rashes on my legs and arms.   \n",
       "\n",
       "                                                                                                                                                                                                                                                                                                                                           Doctor  \n",
       "0                                                                                                                                                                                                 Of course, I'll do my best to help you. It sounds like you may have experienced an allergic reaction. Can you tell me more about what happened?  \n",
       "1                                                        I understand your concern. Based on your symptoms, it's possible that you had a severe allergic reaction called anaphylaxis. This is a serious condition that requires immediate medical attention. Have you experienced any other symptoms, such as hives, itching, or lightheadedness?  \n",
       "2                                                                                                                                                                   That's probably what's causing your reaction. Pork is a common allergen, and it can cause a variety of symptoms, including hives, difficulty breathing, and even anaphylaxis.  \n",
       "3                                                                                                                                                                                                                     That sounds really serious! I had no idea an allergic reaction could be so dangerous. What should I do if it happens again?  \n",
       "4                                                                                                                                                             Good morning. Of course, I'll be happy to assist you. Please hand me your reports, and let's discuss your symptoms in detail. What specific skin issues have you been experiencing?  \n",
       "5                                                                                                                                   I see. Skin rashes and hives can be indicative of an allergic reaction. It's important to identify the underlying cause. Now, let's take a look at your blood test results. Could you please pass them to me?  \n",
       "6                                                                                                                                                                                                                                                                                                        Thank you. Let me review these reports.   \n",
       "7                                                                                 I'm sorry to hear about your distressing experience. Allergic reactions can indeed occur after consuming certain foods. Let's discuss your symptoms in more detail. Did you notice any other reactions apart from the facial swelling and difficulty breathing?  \n",
       "8                         It's possible that you have developed an allergy to pork. Allergic reactions can vary from person to person, and some individuals can be allergic to specific types of meat. To better understand your condition, it would be helpful to review your skin and blood test reports. Can you please provide me with those?  \n",
       "9                                                                    Thank you. Let me take a look at the report .Based on your blood test results, your IgE levels are elevated, indicating a possible allergic reaction. Additionally, your skin prick test shows a positive reaction to pork allergens, further suggesting an allergy to pork.  \n",
       "10                                                                                                                                                                                                                                     I recommend that you avoid beef in the future. If you have any more symptoms, please come back and see me.  \n",
       "11                                                              I'm sorry to hear that you had such a distressing experience. Allergic reactions can occur after consuming certain foods, including milk. Let's discuss your symptoms in more detail. Did you notice any other reactions apart from the throat swelling and difficulty breathing?  \n",
       "12                                                                                            It's possible that you have developed an allergy to milk. Allergic reactions to milk are quite common. To better understand your condition, it would be helpful to review your skin and blood test reports. Could you please provide me with those?  \n",
       "13                                                                                                                                                                                                                                                                                                Thank you. Let me examine the reports and skin.  \n",
       "14                                                                 I'm sorry to hear that you had such a distressing experience. Allergic reactions can occur after consuming certain foods, including chocolate. Let's discuss your symptoms in more detail. Did you notice any other reactions apart from the itching and difficulty breathing?  \n",
       "15  It's possible that you have developed an allergy to chocolate. Allergic reactions to chocolate can happen, although they are relatively rare. To better understand your condition, I would like to examine your skin and review your blood test reports. Could you please show me any visible skin reactions and provide me with the reports?  \n",
       "16                                                                                                                                                                                                                                                                                     Thank you. Let me examine your skin and review the reports  \n",
       "17                                                                           I'm sorry to hear about your distressing experience. Allergic reactions can indeed occur after consuming certain foods, including beef. Let's discuss your symptoms in more detail. Did you notice any other reactions apart from the rash and difficulty breathing?  \n",
       "18             It's possible that you have developed an allergy to beef. Allergic reactions to beef can occur, although they are relatively rare. To better understand your condition, I would like to examine your skin and review your blood test reports. Could you please show me any visible skin reactions and provide me with the reports?  \n",
       "19                                                                                                                                                                                                                                                                                    Thank you. Let me examine your skin and review the reports.  "
      ]
     },
     "execution_count": 4,
     "metadata": {},
     "output_type": "execute_result"
    }
   ],
   "source": [
    "print(f'Dataframe size: {len(NewData)}')\n",
    "NewData.head(20)"
   ]
  },
  {
   "cell_type": "code",
   "execution_count": 5,
   "metadata": {},
   "outputs": [
    {
     "name": "stdout",
     "output_type": "stream",
     "text": [
      "<class 'pandas.core.frame.DataFrame'>\n",
      "RangeIndex: 310 entries, 0 to 309\n",
      "Data columns (total 2 columns):\n",
      " #   Column   Non-Null Count  Dtype \n",
      "---  ------   --------------  ----- \n",
      " 0   Patient  287 non-null    object\n",
      " 1   Doctor   300 non-null    object\n",
      "dtypes: object(2)\n",
      "memory usage: 5.0+ KB\n"
     ]
    }
   ],
   "source": [
    "NewData.info()"
   ]
  },
  {
   "cell_type": "code",
   "execution_count": 6,
   "metadata": {},
   "outputs": [
    {
     "name": "stderr",
     "output_type": "stream",
     "text": [
      "C:\\Users\\Nuwanga Wijamuni\\AppData\\Local\\Temp\\ipykernel_10048\\1690811942.py:1: SettingWithCopyWarning: \n",
      "A value is trying to be set on a copy of a slice from a DataFrame.\n",
      "Try using .loc[row_indexer,col_indexer] = value instead\n",
      "\n",
      "See the caveats in the documentation: https://pandas.pydata.org/pandas-docs/stable/user_guide/indexing.html#returning-a-view-versus-a-copy\n",
      "  NewData['question Tokens'] = NewData['Patient'].apply(lambda x: len(str(x).split()))\n"
     ]
    },
    {
     "data": {
      "image/png": "[encoded data removed]",
      "text/plain": [
       "<Figure size 2000x500 with 2 Axes>"
      ]
     },
     "metadata": {},
     "output_type": "display_data"
    },
    {
     "data": {
      "image/png": "[encoded data removed]",
      "text/plain": [
       "<Figure size 600x600 with 3 Axes>"
      ]
     },
     "metadata": {},
     "output_type": "display_data"
    }
   ],
   "source": [
    "NewData['question Tokens'] = NewData['Patient'].apply(lambda x: len(str(x).split()))\n",
    "NewData['answer tokens'] = NewData['Doctor'].apply(lambda x: len(str(x).split()))\n",
    "plt.style.use('fivethirtyeight')\n",
    "fig, ax = plt.subplots(nrows=1, ncols=2, figsize=(20, 5))\n",
    "sns.set_palette('Set2')\n",
    "\n",
    "sns.histplot(x=NewData['question Tokens'], data=NewData, kde=True, ax=ax[0])\n",
    "sns.histplot(x=NewData['answer tokens'], data=NewData, kde=True, ax=ax[1])\n",
    "sns.jointplot(x='question Tokens', y='answer tokens', data=NewData, kind='kde', fill=True, cmap='YlGnBu')\n",
    "\n",
    "plt.show()\n",
    "plt.show()"
   ]
  },
  {
   "cell_type": "code",
   "execution_count": 7,
   "metadata": {},
   "outputs": [],
   "source": [
    "\n",
    "def clean_text(text):\n",
    "    text=re.sub('-',' ',text.lower())\n",
    "    text=re.sub('[.]',' . ',text)\n",
    "    text=re.sub('[1]',' 1 ',text)\n",
    "    text=re.sub('[2]',' 2 ',text)\n",
    "    text=re.sub('[3]',' 3 ',text)\n",
    "    text=re.sub('[4]',' 4 ',text)\n",
    "    text=re.sub('[5]',' 5 ',text)\n",
    "    text=re.sub('[6]',' 6 ',text)\n",
    "    text=re.sub('[7]',' 7 ',text)\n",
    "    text=re.sub('[8]',' 8 ',text)\n",
    "    text=re.sub('[9]',' 9 ',text)\n",
    "    text=re.sub('[0]',' 0 ',text)\n",
    "    text=re.sub('[,]',' , ',text)\n",
    "    text=re.sub('[?]',' ? ',text)\n",
    "    text=re.sub('[!]',' ! ',text)\n",
    "    text=re.sub('[$]',' $ ',text)\n",
    "    text=re.sub('[&]',' & ',text)\n",
    "    text=re.sub('[/]',' / ',text)\n",
    "    text=re.sub('[:]',' : ',text)\n",
    "    text=re.sub('[;]',' ; ',text)\n",
    "    text=re.sub('[*]',' * ',text)\n",
    "    text=re.sub('[\\']',' \\' ',text)\n",
    "    text=re.sub('[\\\"]',' \\\" ',text)\n",
    "    text=re.sub('\\t',' ',text)\n",
    "    return text"
   ]
  },
  {
   "cell_type": "code",
   "execution_count": 8,
   "metadata": {},
   "outputs": [
    {
     "name": "stdout",
     "output_type": "stream",
     "text": [
      "<class 'pandas.core.frame.DataFrame'>\n",
      "RangeIndex: 310 entries, 0 to 309\n",
      "Data columns (total 4 columns):\n",
      " #   Column           Non-Null Count  Dtype \n",
      "---  ------           --------------  ----- \n",
      " 0   Patient          287 non-null    object\n",
      " 1   Doctor           300 non-null    object\n",
      " 2   question Tokens  310 non-null    int64 \n",
      " 3   answer tokens    310 non-null    int64 \n",
      "dtypes: int64(2), object(2)\n",
      "memory usage: 9.8+ KB\n"
     ]
    }
   ],
   "source": [
    "NewData.info()"
   ]
  },
  {
   "cell_type": "code",
   "execution_count": 9,
   "metadata": {},
   "outputs": [
    {
     "data": {
      "text/html": [
       "<div>\n",
       "<style scoped>\n",
       "    .dataframe tbody tr th:only-of-type {\n",
       "        vertical-align: middle;\n",
       "    }\n",
       "\n",
       "    .dataframe tbody tr th {\n",
       "        vertical-align: top;\n",
       "    }\n",
       "\n",
       "    .dataframe thead th {\n",
       "        text-align: right;\n",
       "    }\n",
       "</style>\n",
       "<table border=\"1\" class=\"dataframe\">\n",
       "  <thead>\n",
       "    <tr style=\"text-align: right;\">\n",
       "      <th></th>\n",
       "      <th>Patient</th>\n",
       "      <th>Doctor</th>\n",
       "      <th>encoder_inputs</th>\n",
       "      <th>decoder_targets</th>\n",
       "      <th>decoder_inputs</th>\n",
       "    </tr>\n",
       "  </thead>\n",
       "  <tbody>\n",
       "    <tr>\n",
       "      <th>0</th>\n",
       "      <td>Doctor, I've been feeling really strange lately. I had a reaction after eating something, and my throat felt like it was closing up. I'm really worried. Can you help me?</td>\n",
       "      <td>Of course, I'll do my best to help you. It sounds like you may have experienced an allergic reaction. Can you tell me more about what happened?</td>\n",
       "      <td>doctor ,  i ' ve been feeling really strange lately .  i had a reaction after eating something ,  and my throat felt like it was closing up .  i ' m really worried .  can you help me ?</td>\n",
       "      <td>of course ,  i ' ll do my best to help you .  it sounds like you may have experienced an allergic reaction .  can you tell me more about what happened ?  &lt;end&gt;</td>\n",
       "      <td>&lt;start&gt; of course ,  i ' ll do my best to help you .  it sounds like you may have experienced an allergic reaction .  can you tell me more about what happened ?  &lt;end&gt;</td>\n",
       "    </tr>\n",
       "    <tr>\n",
       "      <th>1</th>\n",
       "      <td>Well, I was at a restaurant and I had this dish with shrimp. Shortly after I finished eating, my lips started to swell, and I had difficulty breathing. I've never had this happen before, and it scared me.</td>\n",
       "      <td>I understand your concern. Based on your symptoms, it's possible that you had a severe allergic reaction called anaphylaxis. This is a serious condition that requires immediate medical attention. Have you experienced any other symptoms, such as hives, itching, or lightheadedness?</td>\n",
       "      <td>well ,  i was at a restaurant and i had this dish with shrimp .  shortly after i finished eating ,  my lips started to swell ,  and i had difficulty breathing .  i ' ve never had this happen before ,  and it scared me .</td>\n",
       "      <td>i understand your concern .  based on your symptoms ,  it ' s possible that you had a severe allergic reaction called anaphylaxis .  this is a serious condition that requires immediate medical attention .  have you experienced any other symptoms ,  such as hives ,  itching ,  or lightheadedness ?  &lt;end&gt;</td>\n",
       "      <td>&lt;start&gt; i understand your concern .  based on your symptoms ,  it ' s possible that you had a severe allergic reaction called anaphylaxis .  this is a serious condition that requires immediate medical attention .  have you experienced any other symptoms ,  such as hives ,  itching ,  or lightheadedness ?  &lt;end&gt;</td>\n",
       "    </tr>\n",
       "    <tr>\n",
       "      <th>2</th>\n",
       "      <td>Yes, actually, I did notice some hives on my arms and chest, and I felt lightheaded and dizzy. I had no idea this could happen from eating shrimp. What exactly is anaphylaxis?</td>\n",
       "      <td>That's probably what's causing your reaction. Pork is a common allergen, and it can cause a variety of symptoms, including hives, difficulty breathing, and even anaphylaxis.</td>\n",
       "      <td>yes ,  actually ,  i did notice some hives on my arms and chest ,  and i felt lightheaded and dizzy .  i had no idea this could happen from eating shrimp .  what exactly is anaphylaxis ?</td>\n",
       "      <td>that ' s probably what ' s causing your reaction .  pork is a common allergen ,  and it can cause a variety of symptoms ,  including hives ,  difficulty breathing ,  and even anaphylaxis .  &lt;end&gt;</td>\n",
       "      <td>&lt;start&gt; that ' s probably what ' s causing your reaction .  pork is a common allergen ,  and it can cause a variety of symptoms ,  including hives ,  difficulty breathing ,  and even anaphylaxis .  &lt;end&gt;</td>\n",
       "    </tr>\n",
       "    <tr>\n",
       "      <th>3</th>\n",
       "      <td>Anaphylaxis is a severe allergic reaction that can occur within minutes or even seconds after exposure to an allergen, such as shrimp in your case. It can affect multiple systems in your body and can be life-threatening if not treated promptly. Common symptoms include swelling of the lips, face, or throat, difficulty breathing, hives or rash, and a drop in blood pressure leading to dizziness or fainting.</td>\n",
       "      <td>That sounds really serious! I had no idea an allergic reaction could be so dangerous. What should I do if it happens again?</td>\n",
       "      <td>anaphylaxis is a severe allergic reaction that can occur within minutes or even seconds after exposure to an allergen ,  such as shrimp in your case .  it can affect multiple systems in your body and can be life threatening if not treated promptly .  common symptoms include swelling of the lips ,  face ,  or throat ,  difficulty breathing ,  hives or rash ,  and a drop in blood pressure leading to dizziness or fainting .</td>\n",
       "      <td>that sounds really serious !  i had no idea an allergic reaction could be so dangerous .  what should i do if it happens again ?  &lt;end&gt;</td>\n",
       "      <td>&lt;start&gt; that sounds really serious !  i had no idea an allergic reaction could be so dangerous .  what should i do if it happens again ?  &lt;end&gt;</td>\n",
       "    </tr>\n",
       "    <tr>\n",
       "      <th>4</th>\n",
       "      <td>Good morning, Doctor. I've been experiencing some unusual symptoms, and I'm not sure what's going on. I noticed some skin issues and recently had a blood test done. Can you please take a look at the reports and help me understand what's happening?</td>\n",
       "      <td>Good morning. Of course, I'll be happy to assist you. Please hand me your reports, and let's discuss your symptoms in detail. What specific skin issues have you been experiencing?</td>\n",
       "      <td>good morning ,  doctor .  i ' ve been experiencing some unusual symptoms ,  and i ' m not sure what ' s going on .  i noticed some skin issues and recently had a blood test done .  can you please take a look at the reports and help me understand what ' s happening ?</td>\n",
       "      <td>good morning .  of course ,  i ' ll be happy to assist you .  please hand me your reports ,  and let ' s discuss your symptoms in detail .  what specific skin issues have you been experiencing ?  &lt;end&gt;</td>\n",
       "      <td>&lt;start&gt; good morning .  of course ,  i ' ll be happy to assist you .  please hand me your reports ,  and let ' s discuss your symptoms in detail .  what specific skin issues have you been experiencing ?  &lt;end&gt;</td>\n",
       "    </tr>\n",
       "    <tr>\n",
       "      <th>5</th>\n",
       "      <td>Well, I've been having frequent rashes and hives on different parts of my body. They appear as red, itchy patches, and they come and go randomly. It's quite uncomfortable, and I'm not sure what triggers them.</td>\n",
       "      <td>I see. Skin rashes and hives can be indicative of an allergic reaction. It's important to identify the underlying cause. Now, let's take a look at your blood test results. Could you please pass them to me?</td>\n",
       "      <td>well ,  i ' ve been having frequent rashes and hives on different parts of my body .  they appear as red ,  itchy patches ,  and they come and go randomly .  it ' s quite uncomfortable ,  and i ' m not sure what triggers them .</td>\n",
       "      <td>i see .  skin rashes and hives can be indicative of an allergic reaction .  it ' s important to identify the underlying cause .  now ,  let ' s take a look at your blood test results .  could you please pass them to me ?  &lt;end&gt;</td>\n",
       "      <td>&lt;start&gt;  i see .  skin rashes and hives can be indicative of an allergic reaction .  it ' s important to identify the underlying cause .  now ,  let ' s take a look at your blood test results .  could you please pass them to me ?  &lt;end&gt;</td>\n",
       "    </tr>\n",
       "    <tr>\n",
       "      <th>6</th>\n",
       "      <td>Here are the reports, Doctor. I hope they can provide some insight into my condition.</td>\n",
       "      <td>Thank you. Let me review these reports.</td>\n",
       "      <td>here are the reports ,  doctor .  i hope they can provide some insight into my condition .</td>\n",
       "      <td>thank you .  let me review these reports .   &lt;end&gt;</td>\n",
       "      <td>&lt;start&gt; thank you .  let me review these reports .   &lt;end&gt;</td>\n",
       "    </tr>\n",
       "    <tr>\n",
       "      <th>7</th>\n",
       "      <td>Doctor, I had a really scary experience after eating pork yesterday. My face swelled up, and I had difficulty breathing. I think it might have been an allergic reaction. Can you help me understand what happened?</td>\n",
       "      <td>I'm sorry to hear about your distressing experience. Allergic reactions can indeed occur after consuming certain foods. Let's discuss your symptoms in more detail. Did you notice any other reactions apart from the facial swelling and difficulty breathing?</td>\n",
       "      <td>doctor ,  i had a really scary experience after eating pork yesterday .  my face swelled up ,  and i had difficulty breathing .  i think it might have been an allergic reaction .  can you help me understand what happened ?</td>\n",
       "      <td>i ' m sorry to hear about your distressing experience .  allergic reactions can indeed occur after consuming certain foods .  let ' s discuss your symptoms in more detail .  did you notice any other reactions apart from the facial swelling and difficulty breathing ?  &lt;end&gt;</td>\n",
       "      <td>&lt;start&gt;  i ' m sorry to hear about your distressing experience .  allergic reactions can indeed occur after consuming certain foods .  let ' s discuss your symptoms in more detail .  did you notice any other reactions apart from the facial swelling and difficulty breathing ?  &lt;end&gt;</td>\n",
       "    </tr>\n",
       "    <tr>\n",
       "      <th>8</th>\n",
       "      <td>Yes, I also had hives on my body, and I felt quite dizzy. It was really frightening, and I had no idea that this could happen from eating pork. Is it possible that I have an allergy to pork?</td>\n",
       "      <td>It's possible that you have developed an allergy to pork. Allergic reactions can vary from person to person, and some individuals can be allergic to specific types of meat. To better understand your condition, it would be helpful to review your skin and blood test reports. Can you please provide me with those?</td>\n",
       "      <td>yes ,  i also had hives on my body ,  and i felt quite dizzy .  it was really frightening ,  and i had no idea that this could happen from eating pork .  is it possible that i have an allergy to pork ?</td>\n",
       "      <td>it ' s possible that you have developed an allergy to pork .  allergic reactions can vary from person to person ,  and some individuals can be allergic to specific types of meat .  to better understand your condition ,  it would be helpful to review your skin and blood test reports .  can you please provide me with those ?  &lt;end&gt;</td>\n",
       "      <td>&lt;start&gt;  it ' s possible that you have developed an allergy to pork .  allergic reactions can vary from person to person ,  and some individuals can be allergic to specific types of meat .  to better understand your condition ,  it would be helpful to review your skin and blood test reports .  can you please provide me with those ?  &lt;end&gt;</td>\n",
       "    </tr>\n",
       "    <tr>\n",
       "      <th>9</th>\n",
       "      <td>Certainly, Doctor. Here are the reports. I hope they can shed some light on what's happening.</td>\n",
       "      <td>Thank you. Let me take a look at the report .Based on your blood test results, your IgE levels are elevated, indicating a possible allergic reaction. Additionally, your skin prick test shows a positive reaction to pork allergens, further suggesting an allergy to pork.</td>\n",
       "      <td>certainly ,  doctor .  here are the reports .  i hope they can shed some light on what ' s happening .</td>\n",
       "      <td>thank you .  let me take a look at the report  . based on your blood test results ,  your ige levels are elevated ,  indicating a possible allergic reaction .  additionally ,  your skin prick test shows a positive reaction to pork allergens ,  further suggesting an allergy to pork .  &lt;end&gt;</td>\n",
       "      <td>&lt;start&gt; thank you .  let me take a look at the report  . based on your blood test results ,  your ige levels are elevated ,  indicating a possible allergic reaction .  additionally ,  your skin prick test shows a positive reaction to pork allergens ,  further suggesting an allergy to pork .  &lt;end&gt;</td>\n",
       "    </tr>\n",
       "  </tbody>\n",
       "</table>\n",
       "</div>"
      ],
      "text/plain": [
       "                                                                                                                                                                                                                                                                                                                                                                                                                   Patient  \\\n",
       "0                                                                                                                                                                                                                                                Doctor, I've been feeling really strange lately. I had a reaction after eating something, and my throat felt like it was closing up. I'm really worried. Can you help me?   \n",
       "1                                                                                                                                                                                                             Well, I was at a restaurant and I had this dish with shrimp. Shortly after I finished eating, my lips started to swell, and I had difficulty breathing. I've never had this happen before, and it scared me.   \n",
       "2                                                                                                                                                                                                                                          Yes, actually, I did notice some hives on my arms and chest, and I felt lightheaded and dizzy. I had no idea this could happen from eating shrimp. What exactly is anaphylaxis?   \n",
       "3  Anaphylaxis is a severe allergic reaction that can occur within minutes or even seconds after exposure to an allergen, such as shrimp in your case. It can affect multiple systems in your body and can be life-threatening if not treated promptly. Common symptoms include swelling of the lips, face, or throat, difficulty breathing, hives or rash, and a drop in blood pressure leading to dizziness or fainting.   \n",
       "4                                                                                                                                                                  Good morning, Doctor. I've been experiencing some unusual symptoms, and I'm not sure what's going on. I noticed some skin issues and recently had a blood test done. Can you please take a look at the reports and help me understand what's happening?   \n",
       "5                                                                                                                                                                                                         Well, I've been having frequent rashes and hives on different parts of my body. They appear as red, itchy patches, and they come and go randomly. It's quite uncomfortable, and I'm not sure what triggers them.   \n",
       "6                                                                                                                                                                                                                                                                                                                                    Here are the reports, Doctor. I hope they can provide some insight into my condition.   \n",
       "7                                                                                                                                                                                                      Doctor, I had a really scary experience after eating pork yesterday. My face swelled up, and I had difficulty breathing. I think it might have been an allergic reaction. Can you help me understand what happened?   \n",
       "8                                                                                                                                                                                                                           Yes, I also had hives on my body, and I felt quite dizzy. It was really frightening, and I had no idea that this could happen from eating pork. Is it possible that I have an allergy to pork?   \n",
       "9                                                                                                                                                                                                                                                                                                                            Certainly, Doctor. Here are the reports. I hope they can shed some light on what's happening.   \n",
       "\n",
       "                                                                                                                                                                                                                                                                                                                     Doctor  \\\n",
       "0                                                                                                                                                                           Of course, I'll do my best to help you. It sounds like you may have experienced an allergic reaction. Can you tell me more about what happened?   \n",
       "1                                  I understand your concern. Based on your symptoms, it's possible that you had a severe allergic reaction called anaphylaxis. This is a serious condition that requires immediate medical attention. Have you experienced any other symptoms, such as hives, itching, or lightheadedness?   \n",
       "2                                                                                                                                             That's probably what's causing your reaction. Pork is a common allergen, and it can cause a variety of symptoms, including hives, difficulty breathing, and even anaphylaxis.   \n",
       "3                                                                                                                                                                                               That sounds really serious! I had no idea an allergic reaction could be so dangerous. What should I do if it happens again?   \n",
       "4                                                                                                                                       Good morning. Of course, I'll be happy to assist you. Please hand me your reports, and let's discuss your symptoms in detail. What specific skin issues have you been experiencing?   \n",
       "5                                                                                                             I see. Skin rashes and hives can be indicative of an allergic reaction. It's important to identify the underlying cause. Now, let's take a look at your blood test results. Could you please pass them to me?   \n",
       "6                                                                                                                                                                                                                                                                                  Thank you. Let me review these reports.    \n",
       "7                                                           I'm sorry to hear about your distressing experience. Allergic reactions can indeed occur after consuming certain foods. Let's discuss your symptoms in more detail. Did you notice any other reactions apart from the facial swelling and difficulty breathing?   \n",
       "8   It's possible that you have developed an allergy to pork. Allergic reactions can vary from person to person, and some individuals can be allergic to specific types of meat. To better understand your condition, it would be helpful to review your skin and blood test reports. Can you please provide me with those?   \n",
       "9                                              Thank you. Let me take a look at the report .Based on your blood test results, your IgE levels are elevated, indicating a possible allergic reaction. Additionally, your skin prick test shows a positive reaction to pork allergens, further suggesting an allergy to pork.   \n",
       "\n",
       "                                                                                                                                                                                                                                                                                                                                                                                                                              encoder_inputs  \\\n",
       "0                                                                                                                                                                                                                                                  doctor ,  i ' ve been feeling really strange lately .  i had a reaction after eating something ,  and my throat felt like it was closing up .  i ' m really worried .  can you help me ?    \n",
       "1                                                                                                                                                                                                               well ,  i was at a restaurant and i had this dish with shrimp .  shortly after i finished eating ,  my lips started to swell ,  and i had difficulty breathing .  i ' ve never had this happen before ,  and it scared me .    \n",
       "2                                                                                                                                                                                                                                                yes ,  actually ,  i did notice some hives on my arms and chest ,  and i felt lightheaded and dizzy .  i had no idea this could happen from eating shrimp .  what exactly is anaphylaxis ?    \n",
       "3  anaphylaxis is a severe allergic reaction that can occur within minutes or even seconds after exposure to an allergen ,  such as shrimp in your case .  it can affect multiple systems in your body and can be life threatening if not treated promptly .  common symptoms include swelling of the lips ,  face ,  or throat ,  difficulty breathing ,  hives or rash ,  and a drop in blood pressure leading to dizziness or fainting .    \n",
       "4                                                                                                                                                                good morning ,  doctor .  i ' ve been experiencing some unusual symptoms ,  and i ' m not sure what ' s going on .  i noticed some skin issues and recently had a blood test done .  can you please take a look at the reports and help me understand what ' s happening ?    \n",
       "5                                                                                                                                                                                                       well ,  i ' ve been having frequent rashes and hives on different parts of my body .  they appear as red ,  itchy patches ,  and they come and go randomly .  it ' s quite uncomfortable ,  and i ' m not sure what triggers them .    \n",
       "6                                                                                                                                                                                                                                                                                                                                                here are the reports ,  doctor .  i hope they can provide some insight into my condition .    \n",
       "7                                                                                                                                                                                                            doctor ,  i had a really scary experience after eating pork yesterday .  my face swelled up ,  and i had difficulty breathing .  i think it might have been an allergic reaction .  can you help me understand what happened ?    \n",
       "8                                                                                                                                                                                                                                 yes ,  i also had hives on my body ,  and i felt quite dizzy .  it was really frightening ,  and i had no idea that this could happen from eating pork .  is it possible that i have an allergy to pork ?    \n",
       "9                                                                                                                                                                                                                                                                                                                                    certainly ,  doctor .  here are the reports .  i hope they can shed some light on what ' s happening .    \n",
       "\n",
       "                                                                                                                                                                                                                                                                                                                                decoder_targets  \\\n",
       "0                                                                                                                                                                               of course ,  i ' ll do my best to help you .  it sounds like you may have experienced an allergic reaction .  can you tell me more about what happened ?  <end>   \n",
       "1                              i understand your concern .  based on your symptoms ,  it ' s possible that you had a severe allergic reaction called anaphylaxis .  this is a serious condition that requires immediate medical attention .  have you experienced any other symptoms ,  such as hives ,  itching ,  or lightheadedness ?  <end>   \n",
       "2                                                                                                                                           that ' s probably what ' s causing your reaction .  pork is a common allergen ,  and it can cause a variety of symptoms ,  including hives ,  difficulty breathing ,  and even anaphylaxis .  <end>   \n",
       "3                                                                                                                                                                                                       that sounds really serious !  i had no idea an allergic reaction could be so dangerous .  what should i do if it happens again ?  <end>   \n",
       "4                                                                                                                                     good morning .  of course ,  i ' ll be happy to assist you .  please hand me your reports ,  and let ' s discuss your symptoms in detail .  what specific skin issues have you been experiencing ?  <end>   \n",
       "5                                                                                                           i see .  skin rashes and hives can be indicative of an allergic reaction .  it ' s important to identify the underlying cause .  now ,  let ' s take a look at your blood test results .  could you please pass them to me ?  <end>   \n",
       "6                                                                                                                                                                                                                                                                                            thank you .  let me review these reports .   <end>   \n",
       "7                                                             i ' m sorry to hear about your distressing experience .  allergic reactions can indeed occur after consuming certain foods .  let ' s discuss your symptoms in more detail .  did you notice any other reactions apart from the facial swelling and difficulty breathing ?  <end>   \n",
       "8   it ' s possible that you have developed an allergy to pork .  allergic reactions can vary from person to person ,  and some individuals can be allergic to specific types of meat .  to better understand your condition ,  it would be helpful to review your skin and blood test reports .  can you please provide me with those ?  <end>   \n",
       "9                                            thank you .  let me take a look at the report  . based on your blood test results ,  your ige levels are elevated ,  indicating a possible allergic reaction .  additionally ,  your skin prick test shows a positive reaction to pork allergens ,  further suggesting an allergy to pork .  <end>   \n",
       "\n",
       "                                                                                                                                                                                                                                                                                                                                         decoder_inputs  \n",
       "0                                                                                                                                                                               <start> of course ,  i ' ll do my best to help you .  it sounds like you may have experienced an allergic reaction .  can you tell me more about what happened ?  <end>  \n",
       "1                              <start> i understand your concern .  based on your symptoms ,  it ' s possible that you had a severe allergic reaction called anaphylaxis .  this is a serious condition that requires immediate medical attention .  have you experienced any other symptoms ,  such as hives ,  itching ,  or lightheadedness ?  <end>  \n",
       "2                                                                                                                                           <start> that ' s probably what ' s causing your reaction .  pork is a common allergen ,  and it can cause a variety of symptoms ,  including hives ,  difficulty breathing ,  and even anaphylaxis .  <end>  \n",
       "3                                                                                                                                                                                                       <start> that sounds really serious !  i had no idea an allergic reaction could be so dangerous .  what should i do if it happens again ?  <end>  \n",
       "4                                                                                                                                     <start> good morning .  of course ,  i ' ll be happy to assist you .  please hand me your reports ,  and let ' s discuss your symptoms in detail .  what specific skin issues have you been experiencing ?  <end>  \n",
       "5                                                                                                          <start>  i see .  skin rashes and hives can be indicative of an allergic reaction .  it ' s important to identify the underlying cause .  now ,  let ' s take a look at your blood test results .  could you please pass them to me ?  <end>  \n",
       "6                                                                                                                                                                                                                                                                                            <start> thank you .  let me review these reports .   <end>  \n",
       "7                                                            <start>  i ' m sorry to hear about your distressing experience .  allergic reactions can indeed occur after consuming certain foods .  let ' s discuss your symptoms in more detail .  did you notice any other reactions apart from the facial swelling and difficulty breathing ?  <end>  \n",
       "8  <start>  it ' s possible that you have developed an allergy to pork .  allergic reactions can vary from person to person ,  and some individuals can be allergic to specific types of meat .  to better understand your condition ,  it would be helpful to review your skin and blood test reports .  can you please provide me with those ?  <end>  \n",
       "9                                            <start> thank you .  let me take a look at the report  . based on your blood test results ,  your ige levels are elevated ,  indicating a possible allergic reaction .  additionally ,  your skin prick test shows a positive reaction to pork allergens ,  further suggesting an allergy to pork .  <end>  "
      ]
     },
     "execution_count": 9,
     "metadata": {},
     "output_type": "execute_result"
    }
   ],
   "source": [
    "NewData.drop(columns=['answer tokens', 'question Tokens'], inplace=True)\n",
    "NewData['encoder_inputs'] = NewData['Patient'].astype(str).apply(clean_text)\n",
    "NewData['decoder_targets'] = NewData['Doctor'].apply(lambda x: clean_text(x) if pd.notnull(x) else '')\n",
    "NewData['decoder_targets'] += ' <end>'\n",
    "NewData['decoder_inputs'] = '<start> ' + NewData['Doctor'].apply(lambda x: clean_text(x) if pd.notnull(x) else '')\n",
    "NewData['decoder_inputs'] += ' <end>'\n",
    "NewData.head(10)"
   ]
  },
  {
   "cell_type": "code",
   "execution_count": 10,
   "metadata": {},
   "outputs": [
    {
     "data": {
      "image/png": "[encoded data removed]",
      "text/plain": [
       "<Figure size 2000x500 with 3 Axes>"
      ]
     },
     "metadata": {},
     "output_type": "display_data"
    },
    {
     "data": {
      "image/png": "[encoded data removed]",
      "text/plain": [
       "<Figure size 600x600 with 3 Axes>"
      ]
     },
     "metadata": {},
     "output_type": "display_data"
    }
   ],
   "source": [
    "NewData['encoder input tokens']=NewData['encoder_inputs'].apply(lambda x:len(x.split()))\n",
    "NewData['decoder input tokens']=NewData['decoder_inputs'].apply(lambda x:len(x.split()))\n",
    "NewData['decoder target tokens']=NewData['decoder_targets'].apply(lambda x:len(x.split()))\n",
    "plt.style.use('fivethirtyeight')\n",
    "fig,ax=plt.subplots(nrows=1,ncols=3,figsize=(20,5))\n",
    "sns.set_palette('Set2')\n",
    "sns.histplot(x=NewData['encoder input tokens'],data=NewData,kde=True,ax=ax[0])\n",
    "sns.histplot(x=NewData['decoder input tokens'],data=NewData,kde=True,ax=ax[1])\n",
    "sns.histplot(x=NewData['decoder target tokens'],data=NewData,kde=True,ax=ax[2])\n",
    "sns.jointplot(x='encoder input tokens',y='decoder target tokens',data=NewData,kind='kde',fill=True,cmap='YlGnBu')\n",
    "plt.show()"
   ]
  },
  {
   "cell_type": "code",
   "execution_count": 11,
   "metadata": {},
   "outputs": [
    {
     "name": "stdout",
     "output_type": "stream",
     "text": [
      "After preprocessing: anaphylaxis is a severe allergic reaction that can occur within minutes or even seconds after exposure to an allergen , such as shrimp in your case . it can affect multiple systems in your body and can be life threatening if not treated promptly . common symptoms include swelling of the lips , face , or throat , difficulty breathing , hives or rash , and a drop in blood pressure leading to dizziness or fainting .\n",
      "Max encoder input length: 77\n",
      "Max decoder input length: 133\n",
      "Max decoder target length: 132\n"
     ]
    }
   ],
   "source": [
    "max_encoder_input_row = NewData['encoder_inputs'].str.split().str.len().argmax()\n",
    "max_encoder_input = NewData.loc[max_encoder_input_row, 'encoder_inputs']\n",
    "\n",
    "print(f\"After preprocessing: {' '.join(max_encoder_input.split())}\")\n",
    "print(f\"Max encoder input length: {NewData['encoder_inputs'].str.split().str.len().max()}\")\n",
    "print(f\"Max decoder input length: {NewData['decoder_inputs'].str.split().str.len().max()}\")\n",
    "print(f\"Max decoder target length: {NewData['decoder_targets'].str.split().str.len().max()}\")"
   ]
  },
  {
   "cell_type": "code",
   "execution_count": 12,
   "metadata": {},
   "outputs": [
    {
     "data": {
      "text/html": [
       "<div>\n",
       "<style scoped>\n",
       "    .dataframe tbody tr th:only-of-type {\n",
       "        vertical-align: middle;\n",
       "    }\n",
       "\n",
       "    .dataframe tbody tr th {\n",
       "        vertical-align: top;\n",
       "    }\n",
       "\n",
       "    .dataframe thead th {\n",
       "        text-align: right;\n",
       "    }\n",
       "</style>\n",
       "<table border=\"1\" class=\"dataframe\">\n",
       "  <thead>\n",
       "    <tr style=\"text-align: right;\">\n",
       "      <th></th>\n",
       "      <th>Patient</th>\n",
       "      <th>Doctor</th>\n",
       "      <th>encoder_inputs</th>\n",
       "      <th>decoder_targets</th>\n",
       "      <th>decoder_inputs</th>\n",
       "      <th>encoder input tokens</th>\n",
       "      <th>decoder input tokens</th>\n",
       "      <th>decoder target tokens</th>\n",
       "    </tr>\n",
       "  </thead>\n",
       "  <tbody>\n",
       "    <tr>\n",
       "      <th>0</th>\n",
       "      <td>Doctor, I've been feeling really strange lately. I had a reaction after eating something, and my throat felt like it was closing up. I'm really worried. Can you help me?</td>\n",
       "      <td>Of course, I'll do my best to help you. It sounds like you may have experienced an allergic reaction. Can you tell me more about what happened?</td>\n",
       "      <td>doctor ,  i ' ve been feeling really strange lately .  i had a reaction after eating something ,  and my throat felt like it was closing up .  i ' m really worried .  can you help me ?</td>\n",
       "      <td>of course ,  i ' ll do my best to help you .  it sounds like you may have experienced an allergic reaction .  can you tell me more about what happened ?  &lt;end&gt;</td>\n",
       "      <td>&lt;start&gt; of course ,  i ' ll do my best to help you .  it sounds like you may have experienced an allergic reaction .  can you tell me more about what happened ?  &lt;end&gt;</td>\n",
       "      <td>40</td>\n",
       "      <td>35</td>\n",
       "      <td>34</td>\n",
       "    </tr>\n",
       "    <tr>\n",
       "      <th>1</th>\n",
       "      <td>Well, I was at a restaurant and I had this dish with shrimp. Shortly after I finished eating, my lips started to swell, and I had difficulty breathing. I've never had this happen before, and it scared me.</td>\n",
       "      <td>I understand your concern. Based on your symptoms, it's possible that you had a severe allergic reaction called anaphylaxis. This is a serious condition that requires immediate medical attention. Have you experienced any other symptoms, such as hives, itching, or lightheadedness?</td>\n",
       "      <td>well ,  i was at a restaurant and i had this dish with shrimp .  shortly after i finished eating ,  my lips started to swell ,  and i had difficulty breathing .  i ' ve never had this happen before ,  and it scared me .</td>\n",
       "      <td>i understand your concern .  based on your symptoms ,  it ' s possible that you had a severe allergic reaction called anaphylaxis .  this is a serious condition that requires immediate medical attention .  have you experienced any other symptoms ,  such as hives ,  itching ,  or lightheadedness ?  &lt;end&gt;</td>\n",
       "      <td>&lt;start&gt; i understand your concern .  based on your symptoms ,  it ' s possible that you had a severe allergic reaction called anaphylaxis .  this is a serious condition that requires immediate medical attention .  have you experienced any other symptoms ,  such as hives ,  itching ,  or lightheadedness ?  &lt;end&gt;</td>\n",
       "      <td>47</td>\n",
       "      <td>53</td>\n",
       "      <td>52</td>\n",
       "    </tr>\n",
       "    <tr>\n",
       "      <th>2</th>\n",
       "      <td>Yes, actually, I did notice some hives on my arms and chest, and I felt lightheaded and dizzy. I had no idea this could happen from eating shrimp. What exactly is anaphylaxis?</td>\n",
       "      <td>That's probably what's causing your reaction. Pork is a common allergen, and it can cause a variety of symptoms, including hives, difficulty breathing, and even anaphylaxis.</td>\n",
       "      <td>yes ,  actually ,  i did notice some hives on my arms and chest ,  and i felt lightheaded and dizzy .  i had no idea this could happen from eating shrimp .  what exactly is anaphylaxis ?</td>\n",
       "      <td>that ' s probably what ' s causing your reaction .  pork is a common allergen ,  and it can cause a variety of symptoms ,  including hives ,  difficulty breathing ,  and even anaphylaxis .  &lt;end&gt;</td>\n",
       "      <td>&lt;start&gt; that ' s probably what ' s causing your reaction .  pork is a common allergen ,  and it can cause a variety of symptoms ,  including hives ,  difficulty breathing ,  and even anaphylaxis .  &lt;end&gt;</td>\n",
       "      <td>38</td>\n",
       "      <td>38</td>\n",
       "      <td>37</td>\n",
       "    </tr>\n",
       "    <tr>\n",
       "      <th>3</th>\n",
       "      <td>Anaphylaxis is a severe allergic reaction that can occur within minutes or even seconds after exposure to an allergen, such as shrimp in your case. It can affect multiple systems in your body and can be life-threatening if not treated promptly. Common symptoms include swelling of the lips, face, or throat, difficulty breathing, hives or rash, and a drop in blood pressure leading to dizziness or fainting.</td>\n",
       "      <td>That sounds really serious! I had no idea an allergic reaction could be so dangerous. What should I do if it happens again?</td>\n",
       "      <td>anaphylaxis is a severe allergic reaction that can occur within minutes or even seconds after exposure to an allergen ,  such as shrimp in your case .  it can affect multiple systems in your body and can be life threatening if not treated promptly .  common symptoms include swelling of the lips ,  face ,  or throat ,  difficulty breathing ,  hives or rash ,  and a drop in blood pressure leading to dizziness or fainting .</td>\n",
       "      <td>that sounds really serious !  i had no idea an allergic reaction could be so dangerous .  what should i do if it happens again ?  &lt;end&gt;</td>\n",
       "      <td>&lt;start&gt; that sounds really serious !  i had no idea an allergic reaction could be so dangerous .  what should i do if it happens again ?  &lt;end&gt;</td>\n",
       "      <td>77</td>\n",
       "      <td>28</td>\n",
       "      <td>27</td>\n",
       "    </tr>\n",
       "    <tr>\n",
       "      <th>4</th>\n",
       "      <td>Good morning, Doctor. I've been experiencing some unusual symptoms, and I'm not sure what's going on. I noticed some skin issues and recently had a blood test done. Can you please take a look at the reports and help me understand what's happening?</td>\n",
       "      <td>Good morning. Of course, I'll be happy to assist you. Please hand me your reports, and let's discuss your symptoms in detail. What specific skin issues have you been experiencing?</td>\n",
       "      <td>good morning ,  doctor .  i ' ve been experiencing some unusual symptoms ,  and i ' m not sure what ' s going on .  i noticed some skin issues and recently had a blood test done .  can you please take a look at the reports and help me understand what ' s happening ?</td>\n",
       "      <td>good morning .  of course ,  i ' ll be happy to assist you .  please hand me your reports ,  and let ' s discuss your symptoms in detail .  what specific skin issues have you been experiencing ?  &lt;end&gt;</td>\n",
       "      <td>&lt;start&gt; good morning .  of course ,  i ' ll be happy to assist you .  please hand me your reports ,  and let ' s discuss your symptoms in detail .  what specific skin issues have you been experiencing ?  &lt;end&gt;</td>\n",
       "      <td>57</td>\n",
       "      <td>42</td>\n",
       "      <td>41</td>\n",
       "    </tr>\n",
       "  </tbody>\n",
       "</table>\n",
       "</div>"
      ],
      "text/plain": [
       "                                                                                                                                                                                                                                                                                                                                                                                                                   Patient  \\\n",
       "0                                                                                                                                                                                                                                                Doctor, I've been feeling really strange lately. I had a reaction after eating something, and my throat felt like it was closing up. I'm really worried. Can you help me?   \n",
       "1                                                                                                                                                                                                             Well, I was at a restaurant and I had this dish with shrimp. Shortly after I finished eating, my lips started to swell, and I had difficulty breathing. I've never had this happen before, and it scared me.   \n",
       "2                                                                                                                                                                                                                                          Yes, actually, I did notice some hives on my arms and chest, and I felt lightheaded and dizzy. I had no idea this could happen from eating shrimp. What exactly is anaphylaxis?   \n",
       "3  Anaphylaxis is a severe allergic reaction that can occur within minutes or even seconds after exposure to an allergen, such as shrimp in your case. It can affect multiple systems in your body and can be life-threatening if not treated promptly. Common symptoms include swelling of the lips, face, or throat, difficulty breathing, hives or rash, and a drop in blood pressure leading to dizziness or fainting.   \n",
       "4                                                                                                                                                                  Good morning, Doctor. I've been experiencing some unusual symptoms, and I'm not sure what's going on. I noticed some skin issues and recently had a blood test done. Can you please take a look at the reports and help me understand what's happening?   \n",
       "\n",
       "                                                                                                                                                                                                                                                                                     Doctor  \\\n",
       "0                                                                                                                                           Of course, I'll do my best to help you. It sounds like you may have experienced an allergic reaction. Can you tell me more about what happened?   \n",
       "1  I understand your concern. Based on your symptoms, it's possible that you had a severe allergic reaction called anaphylaxis. This is a serious condition that requires immediate medical attention. Have you experienced any other symptoms, such as hives, itching, or lightheadedness?   \n",
       "2                                                                                                             That's probably what's causing your reaction. Pork is a common allergen, and it can cause a variety of symptoms, including hives, difficulty breathing, and even anaphylaxis.   \n",
       "3                                                                                                                                                               That sounds really serious! I had no idea an allergic reaction could be so dangerous. What should I do if it happens again?   \n",
       "4                                                                                                       Good morning. Of course, I'll be happy to assist you. Please hand me your reports, and let's discuss your symptoms in detail. What specific skin issues have you been experiencing?   \n",
       "\n",
       "                                                                                                                                                                                                                                                                                                                                                                                                                              encoder_inputs  \\\n",
       "0                                                                                                                                                                                                                                                  doctor ,  i ' ve been feeling really strange lately .  i had a reaction after eating something ,  and my throat felt like it was closing up .  i ' m really worried .  can you help me ?    \n",
       "1                                                                                                                                                                                                               well ,  i was at a restaurant and i had this dish with shrimp .  shortly after i finished eating ,  my lips started to swell ,  and i had difficulty breathing .  i ' ve never had this happen before ,  and it scared me .    \n",
       "2                                                                                                                                                                                                                                                yes ,  actually ,  i did notice some hives on my arms and chest ,  and i felt lightheaded and dizzy .  i had no idea this could happen from eating shrimp .  what exactly is anaphylaxis ?    \n",
       "3  anaphylaxis is a severe allergic reaction that can occur within minutes or even seconds after exposure to an allergen ,  such as shrimp in your case .  it can affect multiple systems in your body and can be life threatening if not treated promptly .  common symptoms include swelling of the lips ,  face ,  or throat ,  difficulty breathing ,  hives or rash ,  and a drop in blood pressure leading to dizziness or fainting .    \n",
       "4                                                                                                                                                                good morning ,  doctor .  i ' ve been experiencing some unusual symptoms ,  and i ' m not sure what ' s going on .  i noticed some skin issues and recently had a blood test done .  can you please take a look at the reports and help me understand what ' s happening ?    \n",
       "\n",
       "                                                                                                                                                                                                                                                                                                    decoder_targets  \\\n",
       "0                                                                                                                                                   of course ,  i ' ll do my best to help you .  it sounds like you may have experienced an allergic reaction .  can you tell me more about what happened ?  <end>   \n",
       "1  i understand your concern .  based on your symptoms ,  it ' s possible that you had a severe allergic reaction called anaphylaxis .  this is a serious condition that requires immediate medical attention .  have you experienced any other symptoms ,  such as hives ,  itching ,  or lightheadedness ?  <end>   \n",
       "2                                                                                                               that ' s probably what ' s causing your reaction .  pork is a common allergen ,  and it can cause a variety of symptoms ,  including hives ,  difficulty breathing ,  and even anaphylaxis .  <end>   \n",
       "3                                                                                                                                                                           that sounds really serious !  i had no idea an allergic reaction could be so dangerous .  what should i do if it happens again ?  <end>   \n",
       "4                                                                                                         good morning .  of course ,  i ' ll be happy to assist you .  please hand me your reports ,  and let ' s discuss your symptoms in detail .  what specific skin issues have you been experiencing ?  <end>   \n",
       "\n",
       "                                                                                                                                                                                                                                                                                                             decoder_inputs  \\\n",
       "0                                                                                                                                                   <start> of course ,  i ' ll do my best to help you .  it sounds like you may have experienced an allergic reaction .  can you tell me more about what happened ?  <end>   \n",
       "1  <start> i understand your concern .  based on your symptoms ,  it ' s possible that you had a severe allergic reaction called anaphylaxis .  this is a serious condition that requires immediate medical attention .  have you experienced any other symptoms ,  such as hives ,  itching ,  or lightheadedness ?  <end>   \n",
       "2                                                                                                               <start> that ' s probably what ' s causing your reaction .  pork is a common allergen ,  and it can cause a variety of symptoms ,  including hives ,  difficulty breathing ,  and even anaphylaxis .  <end>   \n",
       "3                                                                                                                                                                           <start> that sounds really serious !  i had no idea an allergic reaction could be so dangerous .  what should i do if it happens again ?  <end>   \n",
       "4                                                                                                         <start> good morning .  of course ,  i ' ll be happy to assist you .  please hand me your reports ,  and let ' s discuss your symptoms in detail .  what specific skin issues have you been experiencing ?  <end>   \n",
       "\n",
       "   encoder input tokens  decoder input tokens  decoder target tokens  \n",
       "0                    40                    35                     34  \n",
       "1                    47                    53                     52  \n",
       "2                    38                    38                     37  \n",
       "3                    77                    28                     27  \n",
       "4                    57                    42                     41  "
      ]
     },
     "execution_count": 12,
     "metadata": {},
     "output_type": "execute_result"
    }
   ],
   "source": [
    "NewData.head()"
   ]
  },
  {
   "cell_type": "code",
   "execution_count": 13,
   "metadata": {},
   "outputs": [],
   "source": [
    "NewData.drop(columns=['Patient','Doctor','encoder input tokens','decoder input tokens','decoder target tokens'],axis=1,inplace=True)\n",
    "params={\n",
    "    \"vocab_size\":2500,\n",
    "    \"max_sequence_length\":40,\n",
    "    \"learning_rate\":0.008,\n",
    "    \"batch_size\":149,\n",
    "    \"lstm_cells\":256,\n",
    "    \"embedding_dim\":256,\n",
    "    \"buffer_size\":10000\n",
    "}"
   ]
  },
  {
   "cell_type": "code",
   "execution_count": 14,
   "metadata": {},
   "outputs": [
    {
     "data": {
      "text/html": [
       "<div>\n",
       "<style scoped>\n",
       "    .dataframe tbody tr th:only-of-type {\n",
       "        vertical-align: middle;\n",
       "    }\n",
       "\n",
       "    .dataframe tbody tr th {\n",
       "        vertical-align: top;\n",
       "    }\n",
       "\n",
       "    .dataframe thead th {\n",
       "        text-align: right;\n",
       "    }\n",
       "</style>\n",
       "<table border=\"1\" class=\"dataframe\">\n",
       "  <thead>\n",
       "    <tr style=\"text-align: right;\">\n",
       "      <th></th>\n",
       "      <th>encoder_inputs</th>\n",
       "      <th>decoder_targets</th>\n",
       "      <th>decoder_inputs</th>\n",
       "    </tr>\n",
       "  </thead>\n",
       "  <tbody>\n",
       "    <tr>\n",
       "      <th>0</th>\n",
       "      <td>doctor ,  i ' ve been feeling really strange lately .  i had a reaction after eating something ,  and my throat felt like it was closing up .  i ' m really worried .  can you help me ?</td>\n",
       "      <td>of course ,  i ' ll do my best to help you .  it sounds like you may have experienced an allergic reaction .  can you tell me more about what happened ?  &lt;end&gt;</td>\n",
       "      <td>&lt;start&gt; of course ,  i ' ll do my best to help you .  it sounds like you may have experienced an allergic reaction .  can you tell me more about what happened ?  &lt;end&gt;</td>\n",
       "    </tr>\n",
       "    <tr>\n",
       "      <th>1</th>\n",
       "      <td>well ,  i was at a restaurant and i had this dish with shrimp .  shortly after i finished eating ,  my lips started to swell ,  and i had difficulty breathing .  i ' ve never had this happen before ,  and it scared me .</td>\n",
       "      <td>i understand your concern .  based on your symptoms ,  it ' s possible that you had a severe allergic reaction called anaphylaxis .  this is a serious condition that requires immediate medical attention .  have you experienced any other symptoms ,  such as hives ,  itching ,  or lightheadedness ?  &lt;end&gt;</td>\n",
       "      <td>&lt;start&gt; i understand your concern .  based on your symptoms ,  it ' s possible that you had a severe allergic reaction called anaphylaxis .  this is a serious condition that requires immediate medical attention .  have you experienced any other symptoms ,  such as hives ,  itching ,  or lightheadedness ?  &lt;end&gt;</td>\n",
       "    </tr>\n",
       "    <tr>\n",
       "      <th>2</th>\n",
       "      <td>yes ,  actually ,  i did notice some hives on my arms and chest ,  and i felt lightheaded and dizzy .  i had no idea this could happen from eating shrimp .  what exactly is anaphylaxis ?</td>\n",
       "      <td>that ' s probably what ' s causing your reaction .  pork is a common allergen ,  and it can cause a variety of symptoms ,  including hives ,  difficulty breathing ,  and even anaphylaxis .  &lt;end&gt;</td>\n",
       "      <td>&lt;start&gt; that ' s probably what ' s causing your reaction .  pork is a common allergen ,  and it can cause a variety of symptoms ,  including hives ,  difficulty breathing ,  and even anaphylaxis .  &lt;end&gt;</td>\n",
       "    </tr>\n",
       "    <tr>\n",
       "      <th>3</th>\n",
       "      <td>anaphylaxis is a severe allergic reaction that can occur within minutes or even seconds after exposure to an allergen ,  such as shrimp in your case .  it can affect multiple systems in your body and can be life threatening if not treated promptly .  common symptoms include swelling of the lips ,  face ,  or throat ,  difficulty breathing ,  hives or rash ,  and a drop in blood pressure leading to dizziness or fainting .</td>\n",
       "      <td>that sounds really serious !  i had no idea an allergic reaction could be so dangerous .  what should i do if it happens again ?  &lt;end&gt;</td>\n",
       "      <td>&lt;start&gt; that sounds really serious !  i had no idea an allergic reaction could be so dangerous .  what should i do if it happens again ?  &lt;end&gt;</td>\n",
       "    </tr>\n",
       "    <tr>\n",
       "      <th>4</th>\n",
       "      <td>good morning ,  doctor .  i ' ve been experiencing some unusual symptoms ,  and i ' m not sure what ' s going on .  i noticed some skin issues and recently had a blood test done .  can you please take a look at the reports and help me understand what ' s happening ?</td>\n",
       "      <td>good morning .  of course ,  i ' ll be happy to assist you .  please hand me your reports ,  and let ' s discuss your symptoms in detail .  what specific skin issues have you been experiencing ?  &lt;end&gt;</td>\n",
       "      <td>&lt;start&gt; good morning .  of course ,  i ' ll be happy to assist you .  please hand me your reports ,  and let ' s discuss your symptoms in detail .  what specific skin issues have you been experiencing ?  &lt;end&gt;</td>\n",
       "    </tr>\n",
       "    <tr>\n",
       "      <th>5</th>\n",
       "      <td>well ,  i ' ve been having frequent rashes and hives on different parts of my body .  they appear as red ,  itchy patches ,  and they come and go randomly .  it ' s quite uncomfortable ,  and i ' m not sure what triggers them .</td>\n",
       "      <td>i see .  skin rashes and hives can be indicative of an allergic reaction .  it ' s important to identify the underlying cause .  now ,  let ' s take a look at your blood test results .  could you please pass them to me ?  &lt;end&gt;</td>\n",
       "      <td>&lt;start&gt;  i see .  skin rashes and hives can be indicative of an allergic reaction .  it ' s important to identify the underlying cause .  now ,  let ' s take a look at your blood test results .  could you please pass them to me ?  &lt;end&gt;</td>\n",
       "    </tr>\n",
       "    <tr>\n",
       "      <th>6</th>\n",
       "      <td>here are the reports ,  doctor .  i hope they can provide some insight into my condition .</td>\n",
       "      <td>thank you .  let me review these reports .   &lt;end&gt;</td>\n",
       "      <td>&lt;start&gt; thank you .  let me review these reports .   &lt;end&gt;</td>\n",
       "    </tr>\n",
       "    <tr>\n",
       "      <th>7</th>\n",
       "      <td>doctor ,  i had a really scary experience after eating pork yesterday .  my face swelled up ,  and i had difficulty breathing .  i think it might have been an allergic reaction .  can you help me understand what happened ?</td>\n",
       "      <td>i ' m sorry to hear about your distressing experience .  allergic reactions can indeed occur after consuming certain foods .  let ' s discuss your symptoms in more detail .  did you notice any other reactions apart from the facial swelling and difficulty breathing ?  &lt;end&gt;</td>\n",
       "      <td>&lt;start&gt;  i ' m sorry to hear about your distressing experience .  allergic reactions can indeed occur after consuming certain foods .  let ' s discuss your symptoms in more detail .  did you notice any other reactions apart from the facial swelling and difficulty breathing ?  &lt;end&gt;</td>\n",
       "    </tr>\n",
       "    <tr>\n",
       "      <th>8</th>\n",
       "      <td>yes ,  i also had hives on my body ,  and i felt quite dizzy .  it was really frightening ,  and i had no idea that this could happen from eating pork .  is it possible that i have an allergy to pork ?</td>\n",
       "      <td>it ' s possible that you have developed an allergy to pork .  allergic reactions can vary from person to person ,  and some individuals can be allergic to specific types of meat .  to better understand your condition ,  it would be helpful to review your skin and blood test reports .  can you please provide me with those ?  &lt;end&gt;</td>\n",
       "      <td>&lt;start&gt;  it ' s possible that you have developed an allergy to pork .  allergic reactions can vary from person to person ,  and some individuals can be allergic to specific types of meat .  to better understand your condition ,  it would be helpful to review your skin and blood test reports .  can you please provide me with those ?  &lt;end&gt;</td>\n",
       "    </tr>\n",
       "    <tr>\n",
       "      <th>9</th>\n",
       "      <td>certainly ,  doctor .  here are the reports .  i hope they can shed some light on what ' s happening .</td>\n",
       "      <td>thank you .  let me take a look at the report  . based on your blood test results ,  your ige levels are elevated ,  indicating a possible allergic reaction .  additionally ,  your skin prick test shows a positive reaction to pork allergens ,  further suggesting an allergy to pork .  &lt;end&gt;</td>\n",
       "      <td>&lt;start&gt; thank you .  let me take a look at the report  . based on your blood test results ,  your ige levels are elevated ,  indicating a possible allergic reaction .  additionally ,  your skin prick test shows a positive reaction to pork allergens ,  further suggesting an allergy to pork .  &lt;end&gt;</td>\n",
       "    </tr>\n",
       "  </tbody>\n",
       "</table>\n",
       "</div>"
      ],
      "text/plain": [
       "                                                                                                                                                                                                                                                                                                                                                                                                                              encoder_inputs  \\\n",
       "0                                                                                                                                                                                                                                                  doctor ,  i ' ve been feeling really strange lately .  i had a reaction after eating something ,  and my throat felt like it was closing up .  i ' m really worried .  can you help me ?    \n",
       "1                                                                                                                                                                                                               well ,  i was at a restaurant and i had this dish with shrimp .  shortly after i finished eating ,  my lips started to swell ,  and i had difficulty breathing .  i ' ve never had this happen before ,  and it scared me .    \n",
       "2                                                                                                                                                                                                                                                yes ,  actually ,  i did notice some hives on my arms and chest ,  and i felt lightheaded and dizzy .  i had no idea this could happen from eating shrimp .  what exactly is anaphylaxis ?    \n",
       "3  anaphylaxis is a severe allergic reaction that can occur within minutes or even seconds after exposure to an allergen ,  such as shrimp in your case .  it can affect multiple systems in your body and can be life threatening if not treated promptly .  common symptoms include swelling of the lips ,  face ,  or throat ,  difficulty breathing ,  hives or rash ,  and a drop in blood pressure leading to dizziness or fainting .    \n",
       "4                                                                                                                                                                good morning ,  doctor .  i ' ve been experiencing some unusual symptoms ,  and i ' m not sure what ' s going on .  i noticed some skin issues and recently had a blood test done .  can you please take a look at the reports and help me understand what ' s happening ?    \n",
       "5                                                                                                                                                                                                       well ,  i ' ve been having frequent rashes and hives on different parts of my body .  they appear as red ,  itchy patches ,  and they come and go randomly .  it ' s quite uncomfortable ,  and i ' m not sure what triggers them .    \n",
       "6                                                                                                                                                                                                                                                                                                                                                here are the reports ,  doctor .  i hope they can provide some insight into my condition .    \n",
       "7                                                                                                                                                                                                            doctor ,  i had a really scary experience after eating pork yesterday .  my face swelled up ,  and i had difficulty breathing .  i think it might have been an allergic reaction .  can you help me understand what happened ?    \n",
       "8                                                                                                                                                                                                                                 yes ,  i also had hives on my body ,  and i felt quite dizzy .  it was really frightening ,  and i had no idea that this could happen from eating pork .  is it possible that i have an allergy to pork ?    \n",
       "9                                                                                                                                                                                                                                                                                                                                    certainly ,  doctor .  here are the reports .  i hope they can shed some light on what ' s happening .    \n",
       "\n",
       "                                                                                                                                                                                                                                                                                                                                decoder_targets  \\\n",
       "0                                                                                                                                                                               of course ,  i ' ll do my best to help you .  it sounds like you may have experienced an allergic reaction .  can you tell me more about what happened ?  <end>   \n",
       "1                              i understand your concern .  based on your symptoms ,  it ' s possible that you had a severe allergic reaction called anaphylaxis .  this is a serious condition that requires immediate medical attention .  have you experienced any other symptoms ,  such as hives ,  itching ,  or lightheadedness ?  <end>   \n",
       "2                                                                                                                                           that ' s probably what ' s causing your reaction .  pork is a common allergen ,  and it can cause a variety of symptoms ,  including hives ,  difficulty breathing ,  and even anaphylaxis .  <end>   \n",
       "3                                                                                                                                                                                                       that sounds really serious !  i had no idea an allergic reaction could be so dangerous .  what should i do if it happens again ?  <end>   \n",
       "4                                                                                                                                     good morning .  of course ,  i ' ll be happy to assist you .  please hand me your reports ,  and let ' s discuss your symptoms in detail .  what specific skin issues have you been experiencing ?  <end>   \n",
       "5                                                                                                           i see .  skin rashes and hives can be indicative of an allergic reaction .  it ' s important to identify the underlying cause .  now ,  let ' s take a look at your blood test results .  could you please pass them to me ?  <end>   \n",
       "6                                                                                                                                                                                                                                                                                            thank you .  let me review these reports .   <end>   \n",
       "7                                                             i ' m sorry to hear about your distressing experience .  allergic reactions can indeed occur after consuming certain foods .  let ' s discuss your symptoms in more detail .  did you notice any other reactions apart from the facial swelling and difficulty breathing ?  <end>   \n",
       "8   it ' s possible that you have developed an allergy to pork .  allergic reactions can vary from person to person ,  and some individuals can be allergic to specific types of meat .  to better understand your condition ,  it would be helpful to review your skin and blood test reports .  can you please provide me with those ?  <end>   \n",
       "9                                            thank you .  let me take a look at the report  . based on your blood test results ,  your ige levels are elevated ,  indicating a possible allergic reaction .  additionally ,  your skin prick test shows a positive reaction to pork allergens ,  further suggesting an allergy to pork .  <end>   \n",
       "\n",
       "                                                                                                                                                                                                                                                                                                                                         decoder_inputs  \n",
       "0                                                                                                                                                                               <start> of course ,  i ' ll do my best to help you .  it sounds like you may have experienced an allergic reaction .  can you tell me more about what happened ?  <end>  \n",
       "1                              <start> i understand your concern .  based on your symptoms ,  it ' s possible that you had a severe allergic reaction called anaphylaxis .  this is a serious condition that requires immediate medical attention .  have you experienced any other symptoms ,  such as hives ,  itching ,  or lightheadedness ?  <end>  \n",
       "2                                                                                                                                           <start> that ' s probably what ' s causing your reaction .  pork is a common allergen ,  and it can cause a variety of symptoms ,  including hives ,  difficulty breathing ,  and even anaphylaxis .  <end>  \n",
       "3                                                                                                                                                                                                       <start> that sounds really serious !  i had no idea an allergic reaction could be so dangerous .  what should i do if it happens again ?  <end>  \n",
       "4                                                                                                                                     <start> good morning .  of course ,  i ' ll be happy to assist you .  please hand me your reports ,  and let ' s discuss your symptoms in detail .  what specific skin issues have you been experiencing ?  <end>  \n",
       "5                                                                                                          <start>  i see .  skin rashes and hives can be indicative of an allergic reaction .  it ' s important to identify the underlying cause .  now ,  let ' s take a look at your blood test results .  could you please pass them to me ?  <end>  \n",
       "6                                                                                                                                                                                                                                                                                            <start> thank you .  let me review these reports .   <end>  \n",
       "7                                                            <start>  i ' m sorry to hear about your distressing experience .  allergic reactions can indeed occur after consuming certain foods .  let ' s discuss your symptoms in more detail .  did you notice any other reactions apart from the facial swelling and difficulty breathing ?  <end>  \n",
       "8  <start>  it ' s possible that you have developed an allergy to pork .  allergic reactions can vary from person to person ,  and some individuals can be allergic to specific types of meat .  to better understand your condition ,  it would be helpful to review your skin and blood test reports .  can you please provide me with those ?  <end>  \n",
       "9                                            <start> thank you .  let me take a look at the report  . based on your blood test results ,  your ige levels are elevated ,  indicating a possible allergic reaction .  additionally ,  your skin prick test shows a positive reaction to pork allergens ,  further suggesting an allergy to pork .  <end>  "
      ]
     },
     "execution_count": 14,
     "metadata": {},
     "output_type": "execute_result"
    }
   ],
   "source": [
    "learning_rate=params['learning_rate']\n",
    "batch_size=params['batch_size']\n",
    "embedding_dim=params['embedding_dim']\n",
    "lstm_cells=params['lstm_cells']\n",
    "vocab_size=params['vocab_size']\n",
    "buffer_size=params['buffer_size']\n",
    "max_sequence_length=params['max_sequence_length']\n",
    "NewData.head(10)"
   ]
  },
  {
   "cell_type": "code",
   "execution_count": 15,
   "metadata": {},
   "outputs": [
    {
     "name": "stdout",
     "output_type": "stream",
     "text": [
      "Vocab size: 1132\n",
      "['', '[UNK]', '.', ',', 'i', \"'\", '<end>', 'to', 'you', 'and', 'the', 'it']\n"
     ]
    }
   ],
   "source": [
    "vectorize_layer = TextVectorization(\n",
    "    max_tokens=vocab_size,\n",
    "    standardize=None,\n",
    "    output_mode='int',\n",
    "    output_sequence_length=max_sequence_length\n",
    ")\n",
    "vectorize_layer.adapt(NewData['encoder_inputs'] + ' ' + NewData['decoder_targets'] + ' <start> <end>')\n",
    "vocab_size = len(vectorize_layer.get_vocabulary())\n",
    "print(f'Vocab size: {vocab_size}')\n",
    "print(f'{vectorize_layer.get_vocabulary()[:12]}')"
   ]
  },
  {
   "cell_type": "code",
   "execution_count": 16,
   "metadata": {},
   "outputs": [
    {
     "name": "stdout",
     "output_type": "stream",
     "text": [
      "Thank you. Let me examine your skin and review the reports.\n",
      "Question to tokens: [  1   1   1  39 106  16  37   9 216  10]\n",
      "Encoder input shape: (310, 40)\n",
      "Decoder input shape: (310, 40)\n",
      "Decoder target shape: (310, 40)\n"
     ]
    }
   ],
   "source": [
    "def sequences2ids(sequence):\n",
    "    return vectorize_layer(sequence)\n",
    "\n",
    "def ids2sequences(ids):\n",
    "    decode=''\n",
    "    if type(ids)==int:\n",
    "        ids=[ids]\n",
    "    for id in ids:\n",
    "        decode+=vectorize_layer.get_vocabulary()[id]+' '\n",
    "    return decode\n",
    "\n",
    "x = sequences2ids(NewData['encoder_inputs'])\n",
    "yd = sequences2ids(NewData['decoder_inputs'])\n",
    "y = sequences2ids(NewData['decoder_targets'])\n",
    "\n",
    "print(f'Thank you. Let me examine your skin and review the reports.')\n",
    "print(f'Question to tokens: {sequences2ids(\"Thank you. Let me examine your skin and review the reports.\")[:10]}')\n",
    "print(f'Encoder input shape: {x.shape}')\n",
    "print(f'Decoder input shape: {yd.shape}')\n",
    "print(f'Decoder target shape: {y.shape}')"
   ]
  },
  {
   "cell_type": "code",
   "execution_count": 17,
   "metadata": {},
   "outputs": [
    {
     "name": "stdout",
     "output_type": "stream",
     "text": [
      "Encoder input: [ 35   3   4   5  36  42  81  61 469 295   2   4] ...\n",
      "Decoder input: [ 13  23 281   3   4   5  51  91  25 191   7  53] ...\n",
      "Decoder target: [ 23 281   3   4   5  51  91  25 191   7  53   8] ...\n"
     ]
    }
   ],
   "source": [
    "print(f'Encoder input: {x[0][:12]} ...')\n",
    "print(f'Decoder input: {yd[0][:12]} ...')    # shifted by one time step of the target as input to decoder is the output of the previous timestep\n",
    "print(f'Decoder target: {y[0][:12]} ...')"
   ]
  },
  {
   "cell_type": "code",
   "execution_count": 18,
   "metadata": {},
   "outputs": [
    {
     "name": "stdout",
     "output_type": "stream",
     "text": [
      "Number of train batches: 2\n",
      "Number of training data: 298\n",
      "Number of validation batches: 1\n",
      "Number of validation data: 149\n",
      "Encoder Input shape (with batches): (149, 40)\n",
      "Decoder Input shape (with batches): (149, 40)\n",
      "Target Output shape (with batches): (149, 40)\n"
     ]
    }
   ],
   "source": [
    "data=tf.data.Dataset.from_tensor_slices((x,yd,y))\n",
    "data=data.shuffle(buffer_size)\n",
    "\n",
    "train_data=data.take(int(.9*len(data)))\n",
    "train_data=train_data.cache()\n",
    "train_data=train_data.shuffle(buffer_size)\n",
    "train_data=train_data.batch(batch_size)\n",
    "train_data=train_data.prefetch(tf.data.AUTOTUNE)\n",
    "train_data_iterator=train_data.as_numpy_iterator()\n",
    "\n",
    "val_data=data.skip(int(.9*len(data))).take(int(.1*len(data)))\n",
    "val_data=val_data.batch(batch_size)\n",
    "val_data=val_data.prefetch(tf.data.AUTOTUNE)\n",
    "\n",
    "_=train_data_iterator.next()\n",
    "print(f'Number of train batches: {len(train_data)}')\n",
    "print(f'Number of training data: {len(train_data)*batch_size}')\n",
    "print(f'Number of validation batches: {len(val_data)}')\n",
    "print(f'Number of validation data: {len(val_data)*batch_size}')\n",
    "print(f'Encoder Input shape (with batches): {_[0].shape}')\n",
    "print(f'Decoder Input shape (with batches): {_[1].shape}')\n",
    "print(f'Target Output shape (with batches): {_[2].shape}')"
   ]
  },
  {
   "cell_type": "code",
   "execution_count": 19,
   "metadata": {},
   "outputs": [
    {
     "data": {
      "text/plain": [
       "(<tf.Tensor: shape=(149, 256), dtype=float32, numpy=\n",
       " array([[ 0.09442231, -0.02217044, -0.30070052, ...,  0.08972871,\n",
       "          0.20931426,  0.33389926],\n",
       "        [ 0.18250096,  0.07586335,  0.08973975, ...,  0.10661501,\n",
       "          0.28978422,  0.15846552],\n",
       "        [ 0.28168592,  0.22136545, -0.27148333, ..., -0.20880528,\n",
       "          0.26757687,  0.31532067],\n",
       "        ...,\n",
       "        [ 0.43503   , -0.00385909,  0.00164291, ...,  0.19200146,\n",
       "          0.16070691,  0.12512164],\n",
       "        [ 0.00777544,  0.0999307 ,  0.16031314, ...,  0.25118613,\n",
       "         -0.12304737,  0.18986331],\n",
       "        [ 0.3425655 ,  0.02944519, -0.22667925, ..., -0.08777676,\n",
       "          0.13396773,  0.10245723]], dtype=float32)>,\n",
       " <tf.Tensor: shape=(149, 256), dtype=float32, numpy=\n",
       " array([[ 0.17816351, -0.04254161, -0.6470039 , ...,  0.23789006,\n",
       "          0.51240945,  0.53359765],\n",
       "        [ 0.6323639 ,  0.18024322,  0.17823821, ...,  0.30762213,\n",
       "          0.5479562 ,  0.25215706],\n",
       "        [ 0.5539509 ,  0.42215776, -0.5589434 , ..., -0.53941584,\n",
       "          0.7276278 ,  0.5438405 ],\n",
       "        ...,\n",
       "        [ 0.8916614 , -0.00506997,  0.00540942, ...,  0.48370278,\n",
       "          0.2903045 ,  0.2140455 ],\n",
       "        [ 0.01432168,  0.24739799,  0.28934494, ...,  0.55797887,\n",
       "         -0.25269458,  0.41507876],\n",
       "        [ 0.72189033,  0.05294022, -0.45474535, ..., -0.23679075,\n",
       "          0.32637414,  0.1597031 ]], dtype=float32)>)"
      ]
     },
     "execution_count": 19,
     "metadata": {},
     "output_type": "execute_result"
    }
   ],
   "source": [
    "class Encoder(tf.keras.models.Model):\n",
    "    def __init__(self,units,embedding_dim,vocab_size,*args,**kwargs) -> None:\n",
    "        super().__init__(*args,**kwargs)\n",
    "        self.units=units\n",
    "        self.vocab_size=vocab_size\n",
    "        self.embedding_dim=embedding_dim\n",
    "        self.embedding=Embedding(\n",
    "            vocab_size,\n",
    "            embedding_dim,\n",
    "            name='encoder_embedding',\n",
    "            mask_zero=True,\n",
    "            embeddings_initializer=tf.keras.initializers.GlorotNormal()\n",
    "        )\n",
    "        self.normalize=LayerNormalization()\n",
    "        self.lstm=LSTM(\n",
    "            units,\n",
    "            dropout=.4,\n",
    "            return_state=True,\n",
    "            return_sequences=True,\n",
    "            name='encoder_lstm',\n",
    "            kernel_initializer=tf.keras.initializers.GlorotNormal()\n",
    "        )\n",
    "    \n",
    "    def call(self,encoder_inputs):\n",
    "        self.inputs=encoder_inputs\n",
    "        x=self.embedding(encoder_inputs)\n",
    "        x=self.normalize(x)\n",
    "        x=Dropout(.4)(x)\n",
    "        encoder_outputs,encoder_state_h,encoder_state_c=self.lstm(x)\n",
    "        self.outputs=[encoder_state_h,encoder_state_c]\n",
    "        return encoder_state_h,encoder_state_c\n",
    "\n",
    "encoder=Encoder(lstm_cells,embedding_dim,vocab_size,name='encoder')\n",
    "encoder.call(_[0])"
   ]
  },
  {
   "cell_type": "code",
   "execution_count": 20,
   "metadata": {},
   "outputs": [
    {
     "data": {
      "text/plain": [
       "<tf.Tensor: shape=(1, 40, 1132), dtype=float32, numpy=\n",
       "array([[[5.59142034e-04, 8.35279177e-04, 6.08886476e-04, ...,\n",
       "         1.73398017e-04, 1.19197663e-04, 3.05630499e-04],\n",
       "        [2.35177227e-04, 8.64156536e-05, 5.59611071e-04, ...,\n",
       "         1.57842366e-03, 2.57304928e-04, 6.58929301e-03],\n",
       "        [1.07002843e-05, 5.34037303e-04, 4.82921896e-04, ...,\n",
       "         3.97436612e-04, 9.65425861e-04, 1.87831139e-03],\n",
       "        ...,\n",
       "        [7.81639483e-06, 7.66848025e-05, 1.04424784e-04, ...,\n",
       "         8.73416313e-04, 1.09400926e-03, 8.30309640e-04],\n",
       "        [7.81639483e-06, 7.66848025e-05, 1.04424784e-04, ...,\n",
       "         8.73416313e-04, 1.09400926e-03, 8.30309640e-04],\n",
       "        [7.81639483e-06, 7.66848025e-05, 1.04424784e-04, ...,\n",
       "         8.73416313e-04, 1.09400926e-03, 8.30309640e-04]]], dtype=float32)>"
      ]
     },
     "execution_count": 20,
     "metadata": {},
     "output_type": "execute_result"
    }
   ],
   "source": [
    "class Decoder(tf.keras.models.Model):\n",
    "    def __init__(self,units,embedding_dim,vocab_size,*args,**kwargs) -> None:\n",
    "        super().__init__(*args,**kwargs)\n",
    "        self.units=units\n",
    "        self.embedding_dim=embedding_dim\n",
    "        self.vocab_size=vocab_size\n",
    "        self.embedding=Embedding(\n",
    "            vocab_size,\n",
    "            embedding_dim,\n",
    "            name='decoder_embedding',\n",
    "            mask_zero=True,\n",
    "            embeddings_initializer=tf.keras.initializers.HeNormal()\n",
    "        )\n",
    "        self.normalize1=LayerNormalization()  # Added new normalization layer here\n",
    "        self.lstm=LSTM(\n",
    "            units,\n",
    "            dropout=.4,\n",
    "            return_state=True,\n",
    "            return_sequences=True,\n",
    "            name='decoder_lstm',\n",
    "            kernel_initializer=tf.keras.initializers.HeNormal()\n",
    "        )\n",
    "        self.normalize2=LayerNormalization()  # Renamed old normalization layer\n",
    "        self.fc=Dense(\n",
    "            vocab_size,\n",
    "            activation='softmax',\n",
    "            name='decoder_dense',\n",
    "            kernel_initializer=tf.keras.initializers.HeNormal()\n",
    "        )\n",
    "    \n",
    "    def call(self,decoder_inputs,encoder_states):\n",
    "        x=self.embedding(decoder_inputs)\n",
    "        x=self.normalize1(x)  # Applied new normalization layer here\n",
    "        x=Dropout(.4)(x)\n",
    "        x,decoder_state_h,decoder_state_c=self.lstm(x,initial_state=encoder_states)\n",
    "        x=self.normalize2(x)  # Applied renamed normalization layer here\n",
    "        x=Dropout(.4)(x)\n",
    "        return self.fc(x)\n",
    "\n",
    "decoder=Decoder(lstm_cells,embedding_dim,vocab_size,name='decoder')\n",
    "decoder(_[1][:1],encoder(_[0][:1]))  # corrected parenthesis\n",
    "\n"
   ]
  },
  {
   "cell_type": "code",
   "execution_count": 21,
   "metadata": {},
   "outputs": [],
   "source": [
    "class ChatBotTrainer(tf.keras.models.Model):\n",
    "    def __init__(self,encoder,decoder,*args,**kwargs):\n",
    "        super().__init__(*args,**kwargs)\n",
    "        self.encoder=encoder\n",
    "        self.decoder=decoder\n",
    "\n",
    "    def loss_fn(self,y_true,y_pred):\n",
    "        loss=self.loss(y_true,y_pred)\n",
    "        mask=tf.math.logical_not(tf.math.equal(y_true,0))\n",
    "        mask=tf.cast(mask,dtype=loss.dtype)\n",
    "        loss*=mask\n",
    "        return tf.reduce_mean(loss)\n",
    "    \n",
    "    def accuracy_fn(self,y_true,y_pred):\n",
    "        pred_values = tf.cast(tf.argmax(y_pred, axis=-1), dtype='int64')\n",
    "        correct = tf.cast(tf.equal(y_true, pred_values), dtype='float64')\n",
    "        mask = tf.cast(tf.greater(y_true, 0), dtype='float64')\n",
    "        n_correct = tf.keras.backend.sum(mask * correct)\n",
    "        n_total = tf.keras.backend.sum(mask)\n",
    "        return n_correct / n_total\n",
    "\n",
    "    def call(self,inputs):\n",
    "        encoder_inputs,decoder_inputs=inputs\n",
    "        encoder_states=self.encoder(encoder_inputs)\n",
    "        return self.decoder(decoder_inputs,encoder_states)\n",
    "\n",
    "    def train_step(self,batch):\n",
    "        encoder_inputs,decoder_inputs,y=batch\n",
    "        with tf.GradientTape() as tape:\n",
    "            encoder_states=self.encoder(encoder_inputs,training=True)\n",
    "            y_pred=self.decoder(decoder_inputs,encoder_states,training=True)\n",
    "            loss=self.loss_fn(y,y_pred)\n",
    "            acc=self.accuracy_fn(y,y_pred)\n",
    "\n",
    "        variables=self.encoder.trainable_variables+self.decoder.trainable_variables\n",
    "        grads=tape.gradient(loss,variables)\n",
    "        self.optimizer.apply_gradients(zip(grads,variables))\n",
    "        metrics={'loss':loss,'accuracy':acc}\n",
    "        return metrics\n",
    "    \n",
    "    def test_step(self,batch):\n",
    "        encoder_inputs,decoder_inputs,y=batch\n",
    "        encoder_states=self.encoder(encoder_inputs,training=True)\n",
    "        y_pred=self.decoder(decoder_inputs,encoder_states,training=True)\n",
    "        loss=self.loss_fn(y,y_pred)\n",
    "        acc=self.accuracy_fn(y,y_pred)\n",
    "        metrics={'loss':loss,'accuracy':acc}\n",
    "        return metrics"
   ]
  },
  {
   "cell_type": "code",
   "execution_count": 22,
   "metadata": {},
   "outputs": [
    {
     "data": {
      "text/plain": [
       "<tf.Tensor: shape=(149, 40, 1132), dtype=float32, numpy=\n",
       "array([[[5.59142209e-04, 8.35279934e-04, 6.08886010e-04, ...,\n",
       "         1.73397755e-04, 1.19197714e-04, 3.05630616e-04],\n",
       "        [2.35177431e-04, 8.64156318e-05, 5.59611013e-04, ...,\n",
       "         1.57842331e-03, 2.57305132e-04, 6.58928836e-03],\n",
       "        [1.07002897e-05, 5.34037710e-04, 4.82921692e-04, ...,\n",
       "         3.97437019e-04, 9.65426618e-04, 1.87831139e-03],\n",
       "        ...,\n",
       "        [7.81639483e-06, 7.66847661e-05, 1.04424791e-04, ...,\n",
       "         8.73415498e-04, 1.09400915e-03, 8.30309582e-04],\n",
       "        [7.81639483e-06, 7.66847661e-05, 1.04424791e-04, ...,\n",
       "         8.73415498e-04, 1.09400915e-03, 8.30309582e-04],\n",
       "        [7.81639483e-06, 7.66847661e-05, 1.04424791e-04, ...,\n",
       "         8.73415498e-04, 1.09400915e-03, 8.30309582e-04]],\n",
       "\n",
       "       [[7.51337677e-04, 3.01079941e-04, 5.05483360e-04, ...,\n",
       "         1.72550965e-04, 2.94580641e-05, 6.02033222e-04],\n",
       "        [4.70182742e-04, 2.58312118e-03, 3.55379780e-05, ...,\n",
       "         4.70270636e-04, 2.48361728e-04, 5.83880057e-04],\n",
       "        [2.29164012e-04, 2.57240422e-03, 7.10926470e-05, ...,\n",
       "         1.20895391e-03, 6.42147861e-05, 4.85242432e-04],\n",
       "        ...,\n",
       "        [1.35567051e-03, 1.67019563e-04, 5.09654928e-04, ...,\n",
       "         5.30874939e-04, 3.57032230e-04, 1.16154901e-03],\n",
       "        [1.72158377e-03, 1.79994648e-04, 2.08283338e-04, ...,\n",
       "         4.26404324e-04, 4.16531722e-04, 3.61878308e-04],\n",
       "        [2.11569970e-03, 9.02506508e-05, 9.18094738e-05, ...,\n",
       "         9.64634746e-05, 9.20193677e-04, 1.95016997e-04]],\n",
       "\n",
       "       [[3.62386648e-03, 3.30420211e-04, 2.55276129e-04, ...,\n",
       "         9.50454341e-05, 8.76934137e-05, 9.65047162e-04],\n",
       "        [7.60077382e-04, 4.11023175e-05, 3.22484761e-04, ...,\n",
       "         1.01845944e-03, 1.95973407e-04, 1.19978189e-02],\n",
       "        [2.72203208e-04, 1.79779745e-04, 7.64819211e-04, ...,\n",
       "         1.03274523e-03, 9.84625221e-05, 5.23367338e-03],\n",
       "        ...,\n",
       "        [1.03579732e-05, 1.39394208e-04, 1.83292781e-04, ...,\n",
       "         3.52194562e-04, 2.16872184e-04, 2.18819972e-04],\n",
       "        [1.03579732e-05, 1.39394208e-04, 1.83292781e-04, ...,\n",
       "         3.52194562e-04, 2.16872184e-04, 2.18819972e-04],\n",
       "        [1.03579732e-05, 1.39394208e-04, 1.83292781e-04, ...,\n",
       "         3.52194562e-04, 2.16872184e-04, 2.18819972e-04]],\n",
       "\n",
       "       ...,\n",
       "\n",
       "       [[2.62732967e-03, 1.14478299e-03, 4.64328186e-04, ...,\n",
       "         1.22319197e-03, 1.06940919e-04, 1.40518043e-03],\n",
       "        [4.89892205e-04, 2.90061405e-04, 4.00885852e-04, ...,\n",
       "         3.36503214e-03, 1.62187222e-04, 1.16263954e-02],\n",
       "        [2.94140278e-04, 5.23996074e-04, 7.55384099e-04, ...,\n",
       "         2.11013341e-03, 9.28111840e-05, 5.84096089e-03],\n",
       "        ...,\n",
       "        [1.10218270e-05, 1.88338396e-04, 3.54414187e-05, ...,\n",
       "         5.50806348e-04, 7.97546061e-04, 1.03953520e-04],\n",
       "        [1.10218270e-05, 1.88338396e-04, 3.54414187e-05, ...,\n",
       "         5.50806348e-04, 7.97546061e-04, 1.03953520e-04],\n",
       "        [1.10218270e-05, 1.88338396e-04, 3.54414187e-05, ...,\n",
       "         5.50806348e-04, 7.97546061e-04, 1.03953520e-04]],\n",
       "\n",
       "       [[2.26767632e-04, 2.53686885e-04, 8.36906780e-04, ...,\n",
       "         1.29045080e-03, 8.17635795e-04, 7.06227438e-05],\n",
       "        [3.92186339e-04, 1.01277046e-03, 8.43715854e-04, ...,\n",
       "         5.05607692e-04, 6.98886870e-04, 4.10001776e-05],\n",
       "        [2.84823735e-04, 1.61164848e-04, 1.14303264e-04, ...,\n",
       "         6.42026076e-04, 1.38219926e-04, 4.96137727e-05],\n",
       "        ...,\n",
       "        [2.86060435e-06, 4.91470018e-05, 2.64422939e-04, ...,\n",
       "         4.42983670e-04, 8.76648410e-04, 1.54309731e-03],\n",
       "        [2.86060435e-06, 4.91470018e-05, 2.64422939e-04, ...,\n",
       "         4.42983670e-04, 8.76648410e-04, 1.54309731e-03],\n",
       "        [2.86060435e-06, 4.91470018e-05, 2.64422939e-04, ...,\n",
       "         4.42983670e-04, 8.76648410e-04, 1.54309731e-03]],\n",
       "\n",
       "       [[6.73852977e-04, 1.25639478e-03, 3.15410463e-04, ...,\n",
       "         1.31555818e-04, 1.02174759e-04, 2.29155121e-04],\n",
       "        [1.14666065e-04, 2.30260333e-03, 1.88947932e-04, ...,\n",
       "         1.30564498e-04, 1.29501743e-04, 1.16657501e-03],\n",
       "        [2.12709676e-03, 5.29982557e-04, 2.56975851e-04, ...,\n",
       "         4.71635831e-05, 2.72241363e-04, 8.84652953e-04],\n",
       "        ...,\n",
       "        [6.68719213e-06, 1.57490285e-04, 3.99748860e-05, ...,\n",
       "         3.94919334e-04, 5.71382348e-04, 4.74855246e-04],\n",
       "        [6.68719213e-06, 1.57490285e-04, 3.99748860e-05, ...,\n",
       "         3.94919334e-04, 5.71382348e-04, 4.74855246e-04],\n",
       "        [6.68719213e-06, 1.57490285e-04, 3.99748860e-05, ...,\n",
       "         3.94919334e-04, 5.71382348e-04, 4.74855246e-04]]], dtype=float32)>"
      ]
     },
     "execution_count": 22,
     "metadata": {},
     "output_type": "execute_result"
    }
   ],
   "source": [
    "model=ChatBotTrainer(encoder,decoder,name='chatbot_trainer')\n",
    "model.compile(\n",
    "    loss=tf.keras.losses.SparseCategoricalCrossentropy(),\n",
    "    optimizer=tf.keras.optimizers.Adam(learning_rate=learning_rate),\n",
    "    weighted_metrics=['loss','accuracy']\n",
    ")\n",
    "model(_[:2])"
   ]
  },
  {
   "cell_type": "code",
   "execution_count": 23,
   "metadata": {},
   "outputs": [
    {
     "name": "stdout",
     "output_type": "stream",
     "text": [
      "Epoch 1/100\n",
      "2/2 [==============================] - ETA: 0s - loss: 5.7250 - accuracy: 0.0082    \n",
      "Epoch 1: val_loss improved from inf to 4.69519, saving model to ckpt1\n"
     ]
    },
    {
     "name": "stderr",
     "output_type": "stream",
     "text": [
      "WARNING:absl:Found untraced functions such as _update_step_xla, lstm_cell_layer_call_fn, lstm_cell_layer_call_and_return_conditional_losses, lstm_cell_1_layer_call_fn, lstm_cell_1_layer_call_and_return_conditional_losses while saving (showing 5 of 5). These functions will not be directly callable after loading.\n"
     ]
    },
    {
     "name": "stdout",
     "output_type": "stream",
     "text": [
      "INFO:tensorflow:Assets written to: ckpt1\\assets\n"
     ]
    },
    {
     "name": "stderr",
     "output_type": "stream",
     "text": [
      "INFO:tensorflow:Assets written to: ckpt1\\assets\n"
     ]
    },
    {
     "name": "stdout",
     "output_type": "stream",
     "text": [
      "2/2 [==============================] - 32s 23s/step - loss: 5.5491 - accuracy: 0.0108 - val_loss: 4.6952 - val_accuracy: 0.0952\n",
      "Epoch 2/100\n",
      "2/2 [==============================] - ETA: 0s - loss: 4.0188 - accuracy: 0.1260\n",
      "Epoch 2: val_loss improved from 4.69519 to 3.93851, saving model to ckpt1\n"
     ]
    },
    {
     "name": "stderr",
     "output_type": "stream",
     "text": [
      "WARNING:absl:Found untraced functions such as _update_step_xla, lstm_cell_layer_call_fn, lstm_cell_layer_call_and_return_conditional_losses, lstm_cell_1_layer_call_fn, lstm_cell_1_layer_call_and_return_conditional_losses while saving (showing 5 of 5). These functions will not be directly callable after loading.\n"
     ]
    },
    {
     "name": "stdout",
     "output_type": "stream",
     "text": [
      "INFO:tensorflow:Assets written to: ckpt1\\assets\n"
     ]
    },
    {
     "name": "stderr",
     "output_type": "stream",
     "text": [
      "INFO:tensorflow:Assets written to: ckpt1\\assets\n"
     ]
    },
    {
     "name": "stdout",
     "output_type": "stream",
     "text": [
      "2/2 [==============================] - 22s 21s/step - loss: 3.8908 - accuracy: 0.1348 - val_loss: 3.9385 - val_accuracy: 0.1934\n",
      "Epoch 3/100\n",
      "2/2 [==============================] - ETA: 0s - loss: 3.2500 - accuracy: 0.2215\n",
      "Epoch 3: val_loss improved from 3.93851 to 2.90097, saving model to ckpt1\n"
     ]
    },
    {
     "name": "stderr",
     "output_type": "stream",
     "text": [
      "WARNING:absl:Found untraced functions such as _update_step_xla, lstm_cell_layer_call_fn, lstm_cell_layer_call_and_return_conditional_losses, lstm_cell_1_layer_call_fn, lstm_cell_1_layer_call_and_return_conditional_losses while saving (showing 5 of 5). These functions will not be directly callable after loading.\n"
     ]
    },
    {
     "name": "stdout",
     "output_type": "stream",
     "text": [
      "INFO:tensorflow:Assets written to: ckpt1\\assets\n"
     ]
    },
    {
     "name": "stderr",
     "output_type": "stream",
     "text": [
      "INFO:tensorflow:Assets written to: ckpt1\\assets\n"
     ]
    },
    {
     "name": "stdout",
     "output_type": "stream",
     "text": [
      "2/2 [==============================] - 26s 25s/step - loss: 3.2065 - accuracy: 0.2279 - val_loss: 2.9010 - val_accuracy: 0.2907\n",
      "Epoch 4/100\n",
      "2/2 [==============================] - ETA: 0s - loss: 2.8058 - accuracy: 0.2854\n",
      "Epoch 4: val_loss improved from 2.90097 to 2.31159, saving model to ckpt1\n"
     ]
    },
    {
     "name": "stderr",
     "output_type": "stream",
     "text": [
      "WARNING:absl:Found untraced functions such as _update_step_xla, lstm_cell_layer_call_fn, lstm_cell_layer_call_and_return_conditional_losses, lstm_cell_1_layer_call_fn, lstm_cell_1_layer_call_and_return_conditional_losses while saving (showing 5 of 5). These functions will not be directly callable after loading.\n"
     ]
    },
    {
     "name": "stdout",
     "output_type": "stream",
     "text": [
      "INFO:tensorflow:Assets written to: ckpt1\\assets\n"
     ]
    },
    {
     "name": "stderr",
     "output_type": "stream",
     "text": [
      "INFO:tensorflow:Assets written to: ckpt1\\assets\n"
     ]
    },
    {
     "name": "stdout",
     "output_type": "stream",
     "text": [
      "2/2 [==============================] - 23s 21s/step - loss: 2.7552 - accuracy: 0.2907 - val_loss: 2.3116 - val_accuracy: 0.3007\n",
      "Epoch 5/100\n",
      "2/2 [==============================] - ETA: 0s - loss: 2.5098 - accuracy: 0.3439\n",
      "Epoch 5: val_loss improved from 2.31159 to 2.05289, saving model to ckpt1\n"
     ]
    },
    {
     "name": "stderr",
     "output_type": "stream",
     "text": [
      "WARNING:absl:Found untraced functions such as _update_step_xla, lstm_cell_layer_call_fn, lstm_cell_layer_call_and_return_conditional_losses, lstm_cell_1_layer_call_fn, lstm_cell_1_layer_call_and_return_conditional_losses while saving (showing 5 of 5). These functions will not be directly callable after loading.\n"
     ]
    },
    {
     "name": "stdout",
     "output_type": "stream",
     "text": [
      "INFO:tensorflow:Assets written to: ckpt1\\assets\n"
     ]
    },
    {
     "name": "stderr",
     "output_type": "stream",
     "text": [
      "INFO:tensorflow:Assets written to: ckpt1\\assets\n"
     ]
    },
    {
     "name": "stdout",
     "output_type": "stream",
     "text": [
      "2/2 [==============================] - 23s 21s/step - loss: 2.5065 - accuracy: 0.3498 - val_loss: 2.0529 - val_accuracy: 0.3768\n",
      "Epoch 6/100\n",
      "2/2 [==============================] - ETA: 0s - loss: 2.2655 - accuracy: 0.3836\n",
      "Epoch 6: val_loss did not improve from 2.05289\n",
      "2/2 [==============================] - 4s 2s/step - loss: 2.2536 - accuracy: 0.3854 - val_loss: 2.3012 - val_accuracy: 0.3782\n",
      "Epoch 7/100\n",
      "2/2 [==============================] - ETA: 0s - loss: 2.0748 - accuracy: 0.4119\n",
      "Epoch 7: val_loss improved from 2.05289 to 1.92599, saving model to ckpt1\n"
     ]
    },
    {
     "name": "stderr",
     "output_type": "stream",
     "text": [
      "WARNING:absl:Found untraced functions such as _update_step_xla, lstm_cell_layer_call_fn, lstm_cell_layer_call_and_return_conditional_losses, lstm_cell_1_layer_call_fn, lstm_cell_1_layer_call_and_return_conditional_losses while saving (showing 5 of 5). These functions will not be directly callable after loading.\n"
     ]
    },
    {
     "name": "stdout",
     "output_type": "stream",
     "text": [
      "INFO:tensorflow:Assets written to: ckpt1\\assets\n"
     ]
    },
    {
     "name": "stderr",
     "output_type": "stream",
     "text": [
      "INFO:tensorflow:Assets written to: ckpt1\\assets\n"
     ]
    },
    {
     "name": "stdout",
     "output_type": "stream",
     "text": [
      "2/2 [==============================] - 24s 22s/step - loss: 2.0778 - accuracy: 0.4109 - val_loss: 1.9260 - val_accuracy: 0.4266\n",
      "Epoch 8/100\n",
      "2/2 [==============================] - ETA: 0s - loss: 1.9164 - accuracy: 0.4412\n",
      "Epoch 8: val_loss improved from 1.92599 to 1.46490, saving model to ckpt1\n"
     ]
    },
    {
     "name": "stderr",
     "output_type": "stream",
     "text": [
      "WARNING:absl:Found untraced functions such as _update_step_xla, lstm_cell_layer_call_fn, lstm_cell_layer_call_and_return_conditional_losses, lstm_cell_1_layer_call_fn, lstm_cell_1_layer_call_and_return_conditional_losses while saving (showing 5 of 5). These functions will not be directly callable after loading.\n"
     ]
    },
    {
     "name": "stdout",
     "output_type": "stream",
     "text": [
      "INFO:tensorflow:Assets written to: ckpt1\\assets\n"
     ]
    },
    {
     "name": "stderr",
     "output_type": "stream",
     "text": [
      "INFO:tensorflow:Assets written to: ckpt1\\assets\n"
     ]
    },
    {
     "name": "stdout",
     "output_type": "stream",
     "text": [
      "2/2 [==============================] - 23s 21s/step - loss: 1.9159 - accuracy: 0.4412 - val_loss: 1.4649 - val_accuracy: 0.5052\n",
      "Epoch 9/100\n",
      "2/2 [==============================] - ETA: 0s - loss: 1.7517 - accuracy: 0.4761\n",
      "Epoch 9: val_loss did not improve from 1.46490\n",
      "2/2 [==============================] - 4s 2s/step - loss: 1.6985 - accuracy: 0.4784 - val_loss: 1.7271 - val_accuracy: 0.4699\n",
      "Epoch 10/100\n",
      "2/2 [==============================] - ETA: 0s - loss: 1.6524 - accuracy: 0.4933\n",
      "Epoch 10: val_loss did not improve from 1.46490\n",
      "2/2 [==============================] - 6s 3s/step - loss: 1.6376 - accuracy: 0.4943 - val_loss: 1.7953 - val_accuracy: 0.4597\n",
      "Epoch 11/100\n",
      "2/2 [==============================] - ETA: 0s - loss: 1.5581 - accuracy: 0.5170\n",
      "Epoch 11: val_loss did not improve from 1.46490\n",
      "2/2 [==============================] - 4s 2s/step - loss: 1.5948 - accuracy: 0.5130 - val_loss: 1.5864 - val_accuracy: 0.5434\n",
      "Epoch 12/100\n",
      "2/2 [==============================] - ETA: 0s - loss: 1.4595 - accuracy: 0.5313\n",
      "Epoch 12: val_loss improved from 1.46490 to 1.41028, saving model to ckpt1\n"
     ]
    },
    {
     "name": "stderr",
     "output_type": "stream",
     "text": [
      "WARNING:absl:Found untraced functions such as _update_step_xla, lstm_cell_layer_call_fn, lstm_cell_layer_call_and_return_conditional_losses, lstm_cell_1_layer_call_fn, lstm_cell_1_layer_call_and_return_conditional_losses while saving (showing 5 of 5). These functions will not be directly callable after loading.\n"
     ]
    },
    {
     "name": "stdout",
     "output_type": "stream",
     "text": [
      "INFO:tensorflow:Assets written to: ckpt1\\assets\n"
     ]
    },
    {
     "name": "stderr",
     "output_type": "stream",
     "text": [
      "INFO:tensorflow:Assets written to: ckpt1\\assets\n"
     ]
    },
    {
     "name": "stdout",
     "output_type": "stream",
     "text": [
      "2/2 [==============================] - 25s 23s/step - loss: 1.4355 - accuracy: 0.5334 - val_loss: 1.4103 - val_accuracy: 0.5527\n",
      "Epoch 13/100\n",
      "2/2 [==============================] - ETA: 0s - loss: 1.3749 - accuracy: 0.5489\n",
      "Epoch 13: val_loss did not improve from 1.41028\n",
      "2/2 [==============================] - 4s 2s/step - loss: 1.3662 - accuracy: 0.5505 - val_loss: 1.6862 - val_accuracy: 0.5381\n",
      "Epoch 14/100\n",
      "2/2 [==============================] - ETA: 0s - loss: 1.2830 - accuracy: 0.5675\n",
      "Epoch 14: val_loss did not improve from 1.41028\n",
      "2/2 [==============================] - 4s 2s/step - loss: 1.2787 - accuracy: 0.5674 - val_loss: 1.5175 - val_accuracy: 0.5683\n",
      "Epoch 15/100\n",
      "2/2 [==============================] - ETA: 0s - loss: 1.2328 - accuracy: 0.5824\n",
      "Epoch 15: val_loss improved from 1.41028 to 1.39130, saving model to ckpt1\n"
     ]
    },
    {
     "name": "stderr",
     "output_type": "stream",
     "text": [
      "WARNING:absl:Found untraced functions such as _update_step_xla, lstm_cell_layer_call_fn, lstm_cell_layer_call_and_return_conditional_losses, lstm_cell_1_layer_call_fn, lstm_cell_1_layer_call_and_return_conditional_losses while saving (showing 5 of 5). These functions will not be directly callable after loading.\n"
     ]
    },
    {
     "name": "stdout",
     "output_type": "stream",
     "text": [
      "INFO:tensorflow:Assets written to: ckpt1\\assets\n"
     ]
    },
    {
     "name": "stderr",
     "output_type": "stream",
     "text": [
      "INFO:tensorflow:Assets written to: ckpt1\\assets\n"
     ]
    },
    {
     "name": "stdout",
     "output_type": "stream",
     "text": [
      "2/2 [==============================] - 25s 23s/step - loss: 1.2367 - accuracy: 0.5788 - val_loss: 1.3913 - val_accuracy: 0.5668\n",
      "Epoch 16/100\n",
      "2/2 [==============================] - ETA: 0s - loss: 1.1519 - accuracy: 0.5996\n",
      "Epoch 16: val_loss improved from 1.39130 to 1.11852, saving model to ckpt1\n"
     ]
    },
    {
     "name": "stderr",
     "output_type": "stream",
     "text": [
      "WARNING:absl:Found untraced functions such as _update_step_xla, lstm_cell_layer_call_fn, lstm_cell_layer_call_and_return_conditional_losses, lstm_cell_1_layer_call_fn, lstm_cell_1_layer_call_and_return_conditional_losses while saving (showing 5 of 5). These functions will not be directly callable after loading.\n"
     ]
    },
    {
     "name": "stdout",
     "output_type": "stream",
     "text": [
      "INFO:tensorflow:Assets written to: ckpt1\\assets\n"
     ]
    },
    {
     "name": "stderr",
     "output_type": "stream",
     "text": [
      "INFO:tensorflow:Assets written to: ckpt1\\assets\n"
     ]
    },
    {
     "name": "stdout",
     "output_type": "stream",
     "text": [
      "2/2 [==============================] - 25s 23s/step - loss: 1.1202 - accuracy: 0.6074 - val_loss: 1.1185 - val_accuracy: 0.6176\n",
      "Epoch 17/100\n",
      "2/2 [==============================] - ETA: 0s - loss: 1.0974 - accuracy: 0.6191\n",
      "Epoch 17: val_loss did not improve from 1.11852\n",
      "2/2 [==============================] - 4s 2s/step - loss: 1.0995 - accuracy: 0.6200 - val_loss: 1.5480 - val_accuracy: 0.5710\n",
      "Epoch 18/100\n",
      "2/2 [==============================] - ETA: 0s - loss: 1.0516 - accuracy: 0.6220\n",
      "Epoch 18: val_loss did not improve from 1.11852\n",
      "2/2 [==============================] - 4s 2s/step - loss: 1.0238 - accuracy: 0.6258 - val_loss: 1.1854 - val_accuracy: 0.6250\n",
      "Epoch 19/100\n",
      "2/2 [==============================] - ETA: 0s - loss: 0.9875 - accuracy: 0.6353\n",
      "Epoch 19: val_loss improved from 1.11852 to 0.99139, saving model to ckpt1\n"
     ]
    },
    {
     "name": "stderr",
     "output_type": "stream",
     "text": [
      "WARNING:absl:Found untraced functions such as _update_step_xla, lstm_cell_layer_call_fn, lstm_cell_layer_call_and_return_conditional_losses, lstm_cell_1_layer_call_fn, lstm_cell_1_layer_call_and_return_conditional_losses while saving (showing 5 of 5). These functions will not be directly callable after loading.\n"
     ]
    },
    {
     "name": "stdout",
     "output_type": "stream",
     "text": [
      "INFO:tensorflow:Assets written to: ckpt1\\assets\n"
     ]
    },
    {
     "name": "stderr",
     "output_type": "stream",
     "text": [
      "INFO:tensorflow:Assets written to: ckpt1\\assets\n"
     ]
    },
    {
     "name": "stdout",
     "output_type": "stream",
     "text": [
      "2/2 [==============================] - 26s 24s/step - loss: 0.9596 - accuracy: 0.6433 - val_loss: 0.9914 - val_accuracy: 0.6066\n",
      "Epoch 20/100\n",
      "2/2 [==============================] - ETA: 0s - loss: 0.9598 - accuracy: 0.6513\n",
      "Epoch 20: val_loss did not improve from 0.99139\n",
      "2/2 [==============================] - 6s 3s/step - loss: 0.9706 - accuracy: 0.6516 - val_loss: 1.1949 - val_accuracy: 0.6485\n",
      "Epoch 21/100\n",
      "2/2 [==============================] - ETA: 0s - loss: 0.9128 - accuracy: 0.6666\n",
      "Epoch 21: val_loss did not improve from 0.99139\n",
      "2/2 [==============================] - 6s 3s/step - loss: 0.9078 - accuracy: 0.6685 - val_loss: 1.1685 - val_accuracy: 0.6029\n",
      "Epoch 22/100\n",
      "2/2 [==============================] - ETA: 0s - loss: 0.8678 - accuracy: 0.6748\n",
      "Epoch 22: val_loss improved from 0.99139 to 0.96045, saving model to ckpt1\n"
     ]
    },
    {
     "name": "stderr",
     "output_type": "stream",
     "text": [
      "WARNING:absl:Found untraced functions such as _update_step_xla, lstm_cell_layer_call_fn, lstm_cell_layer_call_and_return_conditional_losses, lstm_cell_1_layer_call_fn, lstm_cell_1_layer_call_and_return_conditional_losses while saving (showing 5 of 5). These functions will not be directly callable after loading.\n"
     ]
    },
    {
     "name": "stdout",
     "output_type": "stream",
     "text": [
      "INFO:tensorflow:Assets written to: ckpt1\\assets\n"
     ]
    },
    {
     "name": "stderr",
     "output_type": "stream",
     "text": [
      "INFO:tensorflow:Assets written to: ckpt1\\assets\n"
     ]
    },
    {
     "name": "stdout",
     "output_type": "stream",
     "text": [
      "2/2 [==============================] - 37s 34s/step - loss: 0.8701 - accuracy: 0.6726 - val_loss: 0.9605 - val_accuracy: 0.6597\n",
      "Epoch 23/100\n",
      "2/2 [==============================] - ETA: 0s - loss: 0.8392 - accuracy: 0.6806\n",
      "Epoch 23: val_loss did not improve from 0.96045\n",
      "2/2 [==============================] - 8s 4s/step - loss: 0.8327 - accuracy: 0.6804 - val_loss: 1.2125 - val_accuracy: 0.6319\n",
      "Epoch 24/100\n",
      "2/2 [==============================] - ETA: 0s - loss: 0.8035 - accuracy: 0.6932\n",
      "Epoch 24: val_loss improved from 0.96045 to 0.94427, saving model to ckpt1\n"
     ]
    },
    {
     "name": "stderr",
     "output_type": "stream",
     "text": [
      "WARNING:absl:Found untraced functions such as _update_step_xla, lstm_cell_layer_call_fn, lstm_cell_layer_call_and_return_conditional_losses, lstm_cell_1_layer_call_fn, lstm_cell_1_layer_call_and_return_conditional_losses while saving (showing 5 of 5). These functions will not be directly callable after loading.\n"
     ]
    },
    {
     "name": "stdout",
     "output_type": "stream",
     "text": [
      "INFO:tensorflow:Assets written to: ckpt1\\assets\n"
     ]
    },
    {
     "name": "stderr",
     "output_type": "stream",
     "text": [
      "INFO:tensorflow:Assets written to: ckpt1\\assets\n"
     ]
    },
    {
     "name": "stdout",
     "output_type": "stream",
     "text": [
      "2/2 [==============================] - 39s 35s/step - loss: 0.8045 - accuracy: 0.6888 - val_loss: 0.9443 - val_accuracy: 0.6964\n",
      "Epoch 25/100\n",
      "2/2 [==============================] - ETA: 0s - loss: 0.7679 - accuracy: 0.7108\n",
      "Epoch 25: val_loss did not improve from 0.94427\n",
      "2/2 [==============================] - 10s 5s/step - loss: 0.7642 - accuracy: 0.7147 - val_loss: 1.1975 - val_accuracy: 0.6637\n",
      "Epoch 26/100\n",
      "2/2 [==============================] - ETA: 0s - loss: 0.7443 - accuracy: 0.7082\n",
      "Epoch 26: val_loss improved from 0.94427 to 0.89487, saving model to ckpt1\n"
     ]
    },
    {
     "name": "stderr",
     "output_type": "stream",
     "text": [
      "WARNING:absl:Found untraced functions such as _update_step_xla, lstm_cell_layer_call_fn, lstm_cell_layer_call_and_return_conditional_losses, lstm_cell_1_layer_call_fn, lstm_cell_1_layer_call_and_return_conditional_losses while saving (showing 5 of 5). These functions will not be directly callable after loading.\n"
     ]
    },
    {
     "name": "stdout",
     "output_type": "stream",
     "text": [
      "INFO:tensorflow:Assets written to: ckpt1\\assets\n"
     ]
    },
    {
     "name": "stderr",
     "output_type": "stream",
     "text": [
      "INFO:tensorflow:Assets written to: ckpt1\\assets\n"
     ]
    },
    {
     "name": "stdout",
     "output_type": "stream",
     "text": [
      "2/2 [==============================] - 42s 36s/step - loss: 0.7463 - accuracy: 0.7077 - val_loss: 0.8949 - val_accuracy: 0.6974\n",
      "Epoch 27/100\n",
      "2/2 [==============================] - ETA: 0s - loss: 0.7028 - accuracy: 0.7204\n",
      "Epoch 27: val_loss improved from 0.89487 to 0.58424, saving model to ckpt1\n"
     ]
    },
    {
     "name": "stderr",
     "output_type": "stream",
     "text": [
      "WARNING:absl:Found untraced functions such as _update_step_xla, lstm_cell_layer_call_fn, lstm_cell_layer_call_and_return_conditional_losses, lstm_cell_1_layer_call_fn, lstm_cell_1_layer_call_and_return_conditional_losses while saving (showing 5 of 5). These functions will not be directly callable after loading.\n"
     ]
    },
    {
     "name": "stdout",
     "output_type": "stream",
     "text": [
      "INFO:tensorflow:Assets written to: ckpt1\\assets\n"
     ]
    },
    {
     "name": "stderr",
     "output_type": "stream",
     "text": [
      "INFO:tensorflow:Assets written to: ckpt1\\assets\n"
     ]
    },
    {
     "name": "stdout",
     "output_type": "stream",
     "text": [
      "2/2 [==============================] - 43s 38s/step - loss: 0.7014 - accuracy: 0.7195 - val_loss: 0.5842 - val_accuracy: 0.7388\n",
      "Epoch 28/100\n",
      "2/2 [==============================] - ETA: 0s - loss: 0.6853 - accuracy: 0.7289\n",
      "Epoch 28: val_loss did not improve from 0.58424\n",
      "2/2 [==============================] - 6s 3s/step - loss: 0.6897 - accuracy: 0.7287 - val_loss: 0.9222 - val_accuracy: 0.7204\n",
      "Epoch 29/100\n",
      "2/2 [==============================] - ETA: 0s - loss: 0.6614 - accuracy: 0.7315\n",
      "Epoch 29: val_loss did not improve from 0.58424\n",
      "2/2 [==============================] - 6s 3s/step - loss: 0.6568 - accuracy: 0.7374 - val_loss: 0.8052 - val_accuracy: 0.7342\n",
      "Epoch 30/100\n",
      "2/2 [==============================] - ETA: 0s - loss: 0.6432 - accuracy: 0.7409\n",
      "Epoch 30: val_loss did not improve from 0.58424\n",
      "2/2 [==============================] - 5s 3s/step - loss: 0.6391 - accuracy: 0.7395 - val_loss: 0.8835 - val_accuracy: 0.7267\n",
      "Epoch 31/100\n",
      "2/2 [==============================] - ETA: 0s - loss: 0.6036 - accuracy: 0.7573\n",
      "Epoch 31: val_loss improved from 0.58424 to 0.57202, saving model to ckpt1\n"
     ]
    },
    {
     "name": "stderr",
     "output_type": "stream",
     "text": [
      "WARNING:absl:Found untraced functions such as _update_step_xla, lstm_cell_layer_call_fn, lstm_cell_layer_call_and_return_conditional_losses, lstm_cell_1_layer_call_fn, lstm_cell_1_layer_call_and_return_conditional_losses while saving (showing 5 of 5). These functions will not be directly callable after loading.\n"
     ]
    },
    {
     "name": "stdout",
     "output_type": "stream",
     "text": [
      "INFO:tensorflow:Assets written to: ckpt1\\assets\n"
     ]
    },
    {
     "name": "stderr",
     "output_type": "stream",
     "text": [
      "INFO:tensorflow:Assets written to: ckpt1\\assets\n"
     ]
    },
    {
     "name": "stdout",
     "output_type": "stream",
     "text": [
      "2/2 [==============================] - 27s 24s/step - loss: 0.6035 - accuracy: 0.7566 - val_loss: 0.5720 - val_accuracy: 0.7459\n",
      "Epoch 32/100\n",
      "2/2 [==============================] - ETA: 0s - loss: 0.5882 - accuracy: 0.7599\n",
      "Epoch 32: val_loss did not improve from 0.57202\n",
      "2/2 [==============================] - 8s 4s/step - loss: 0.5934 - accuracy: 0.7581 - val_loss: 1.1504 - val_accuracy: 0.7005\n",
      "Epoch 33/100\n",
      "2/2 [==============================] - ETA: 0s - loss: 0.5697 - accuracy: 0.7669\n",
      "Epoch 33: val_loss did not improve from 0.57202\n",
      "2/2 [==============================] - 6s 3s/step - loss: 0.5517 - accuracy: 0.7697 - val_loss: 0.8746 - val_accuracy: 0.7448\n",
      "Epoch 34/100\n",
      "2/2 [==============================] - ETA: 0s - loss: 0.5518 - accuracy: 0.7704\n",
      "Epoch 34: val_loss did not improve from 0.57202\n",
      "2/2 [==============================] - 6s 3s/step - loss: 0.5523 - accuracy: 0.7708 - val_loss: 0.7052 - val_accuracy: 0.7471\n",
      "Epoch 35/100\n",
      "2/2 [==============================] - ETA: 0s - loss: 0.5507 - accuracy: 0.7749\n",
      "Epoch 35: val_loss did not improve from 0.57202\n",
      "2/2 [==============================] - 6s 3s/step - loss: 0.5577 - accuracy: 0.7744 - val_loss: 0.8731 - val_accuracy: 0.7378\n",
      "Epoch 36/100\n",
      "2/2 [==============================] - ETA: 0s - loss: 0.5116 - accuracy: 0.7823\n",
      "Epoch 36: val_loss improved from 0.57202 to 0.52612, saving model to ckpt1\n"
     ]
    },
    {
     "name": "stderr",
     "output_type": "stream",
     "text": [
      "WARNING:absl:Found untraced functions such as _update_step_xla, lstm_cell_layer_call_fn, lstm_cell_layer_call_and_return_conditional_losses, lstm_cell_1_layer_call_fn, lstm_cell_1_layer_call_and_return_conditional_losses while saving (showing 5 of 5). These functions will not be directly callable after loading.\n"
     ]
    },
    {
     "name": "stdout",
     "output_type": "stream",
     "text": [
      "INFO:tensorflow:Assets written to: ckpt1\\assets\n"
     ]
    },
    {
     "name": "stderr",
     "output_type": "stream",
     "text": [
      "INFO:tensorflow:Assets written to: ckpt1\\assets\n"
     ]
    },
    {
     "name": "stdout",
     "output_type": "stream",
     "text": [
      "2/2 [==============================] - 27s 24s/step - loss: 0.5077 - accuracy: 0.7803 - val_loss: 0.5261 - val_accuracy: 0.7966\n",
      "Epoch 37/100\n",
      "2/2 [==============================] - ETA: 0s - loss: 0.5001 - accuracy: 0.7833\n",
      "Epoch 37: val_loss did not improve from 0.52612\n",
      "2/2 [==============================] - 7s 4s/step - loss: 0.4982 - accuracy: 0.7856 - val_loss: 0.6225 - val_accuracy: 0.7823\n",
      "Epoch 38/100\n",
      "2/2 [==============================] - ETA: 0s - loss: 0.4979 - accuracy: 0.7874\n",
      "Epoch 38: val_loss did not improve from 0.52612\n",
      "2/2 [==============================] - 8s 4s/step - loss: 0.4993 - accuracy: 0.7904 - val_loss: 0.5359 - val_accuracy: 0.7500\n",
      "Epoch 39/100\n",
      "2/2 [==============================] - ETA: 0s - loss: 0.4714 - accuracy: 0.8021\n",
      "Epoch 39: val_loss did not improve from 0.52612\n",
      "2/2 [==============================] - 7s 4s/step - loss: 0.4751 - accuracy: 0.8004 - val_loss: 0.6403 - val_accuracy: 0.7914\n",
      "Epoch 40/100\n",
      "2/2 [==============================] - ETA: 0s - loss: 0.4685 - accuracy: 0.8004\n",
      "Epoch 40: val_loss did not improve from 0.52612\n",
      "2/2 [==============================] - 8s 4s/step - loss: 0.4645 - accuracy: 0.8012 - val_loss: 1.1411 - val_accuracy: 0.7195\n",
      "Epoch 41/100\n",
      "2/2 [==============================] - ETA: 0s - loss: 0.4377 - accuracy: 0.8111\n",
      "Epoch 41: val_loss did not improve from 0.52612\n",
      "2/2 [==============================] - 7s 4s/step - loss: 0.4480 - accuracy: 0.8101 - val_loss: 0.8308 - val_accuracy: 0.7475\n",
      "Epoch 42/100\n",
      "2/2 [==============================] - ETA: 0s - loss: 0.4252 - accuracy: 0.8143\n",
      "Epoch 42: val_loss improved from 0.52612 to 0.50260, saving model to ckpt1\n"
     ]
    },
    {
     "name": "stderr",
     "output_type": "stream",
     "text": [
      "WARNING:absl:Found untraced functions such as _update_step_xla, lstm_cell_layer_call_fn, lstm_cell_layer_call_and_return_conditional_losses, lstm_cell_1_layer_call_fn, lstm_cell_1_layer_call_and_return_conditional_losses while saving (showing 5 of 5). These functions will not be directly callable after loading.\n"
     ]
    },
    {
     "name": "stdout",
     "output_type": "stream",
     "text": [
      "INFO:tensorflow:Assets written to: ckpt1\\assets\n"
     ]
    },
    {
     "name": "stderr",
     "output_type": "stream",
     "text": [
      "INFO:tensorflow:Assets written to: ckpt1\\assets\n"
     ]
    },
    {
     "name": "stdout",
     "output_type": "stream",
     "text": [
      "2/2 [==============================] - 27s 24s/step - loss: 0.4277 - accuracy: 0.8136 - val_loss: 0.5026 - val_accuracy: 0.8134\n",
      "Epoch 43/100\n",
      "2/2 [==============================] - ETA: 0s - loss: 0.4216 - accuracy: 0.8272\n",
      "Epoch 43: val_loss did not improve from 0.50260\n",
      "2/2 [==============================] - 9s 5s/step - loss: 0.4228 - accuracy: 0.8283 - val_loss: 0.5970 - val_accuracy: 0.8093\n",
      "Epoch 44/100\n",
      "2/2 [==============================] - ETA: 0s - loss: 0.4091 - accuracy: 0.8223\n",
      "Epoch 44: val_loss did not improve from 0.50260\n",
      "2/2 [==============================] - 9s 5s/step - loss: 0.4069 - accuracy: 0.8228 - val_loss: 0.6719 - val_accuracy: 0.7907\n",
      "Epoch 45/100\n",
      "2/2 [==============================] - ETA: 0s - loss: 0.3936 - accuracy: 0.8258\n",
      "Epoch 45: val_loss did not improve from 0.50260\n",
      "2/2 [==============================] - 9s 5s/step - loss: 0.3941 - accuracy: 0.8276 - val_loss: 0.7050 - val_accuracy: 0.7942\n",
      "Epoch 46/100\n",
      "2/2 [==============================] - ETA: 0s - loss: 0.3833 - accuracy: 0.8309\n",
      "Epoch 46: val_loss improved from 0.50260 to 0.44459, saving model to ckpt1\n"
     ]
    },
    {
     "name": "stderr",
     "output_type": "stream",
     "text": [
      "WARNING:absl:Found untraced functions such as _update_step_xla, lstm_cell_layer_call_fn, lstm_cell_layer_call_and_return_conditional_losses, lstm_cell_1_layer_call_fn, lstm_cell_1_layer_call_and_return_conditional_losses while saving (showing 5 of 5). These functions will not be directly callable after loading.\n"
     ]
    },
    {
     "name": "stdout",
     "output_type": "stream",
     "text": [
      "INFO:tensorflow:Assets written to: ckpt1\\assets\n"
     ]
    },
    {
     "name": "stderr",
     "output_type": "stream",
     "text": [
      "INFO:tensorflow:Assets written to: ckpt1\\assets\n"
     ]
    },
    {
     "name": "stdout",
     "output_type": "stream",
     "text": [
      "2/2 [==============================] - 30s 25s/step - loss: 0.3845 - accuracy: 0.8300 - val_loss: 0.4446 - val_accuracy: 0.8140\n",
      "Epoch 47/100\n",
      "2/2 [==============================] - ETA: 0s - loss: 0.3814 - accuracy: 0.8299\n",
      "Epoch 47: val_loss improved from 0.44459 to 0.36665, saving model to ckpt1\n"
     ]
    },
    {
     "name": "stderr",
     "output_type": "stream",
     "text": [
      "WARNING:absl:Found untraced functions such as _update_step_xla, lstm_cell_layer_call_fn, lstm_cell_layer_call_and_return_conditional_losses, lstm_cell_1_layer_call_fn, lstm_cell_1_layer_call_and_return_conditional_losses while saving (showing 5 of 5). These functions will not be directly callable after loading.\n"
     ]
    },
    {
     "name": "stdout",
     "output_type": "stream",
     "text": [
      "INFO:tensorflow:Assets written to: ckpt1\\assets\n"
     ]
    },
    {
     "name": "stderr",
     "output_type": "stream",
     "text": [
      "INFO:tensorflow:Assets written to: ckpt1\\assets\n"
     ]
    },
    {
     "name": "stdout",
     "output_type": "stream",
     "text": [
      "2/2 [==============================] - 26s 23s/step - loss: 0.3794 - accuracy: 0.8292 - val_loss: 0.3666 - val_accuracy: 0.8568\n",
      "Epoch 48/100\n",
      "2/2 [==============================] - ETA: 0s - loss: 0.3631 - accuracy: 0.8340\n",
      "Epoch 48: val_loss did not improve from 0.36665\n",
      "2/2 [==============================] - 6s 3s/step - loss: 0.3555 - accuracy: 0.8341 - val_loss: 0.5063 - val_accuracy: 0.8000\n",
      "Epoch 49/100\n",
      "2/2 [==============================] - ETA: 0s - loss: 0.3646 - accuracy: 0.8385\n",
      "Epoch 49: val_loss did not improve from 0.36665\n",
      "2/2 [==============================] - 6s 3s/step - loss: 0.3602 - accuracy: 0.8397 - val_loss: 0.4441 - val_accuracy: 0.8303\n",
      "Epoch 50/100\n",
      "2/2 [==============================] - ETA: 0s - loss: 0.3441 - accuracy: 0.8507\n",
      "Epoch 50: val_loss did not improve from 0.36665\n",
      "2/2 [==============================] - 6s 3s/step - loss: 0.3478 - accuracy: 0.8504 - val_loss: 0.5062 - val_accuracy: 0.7944\n",
      "Epoch 51/100\n",
      "2/2 [==============================] - ETA: 0s - loss: 0.3371 - accuracy: 0.8520\n",
      "Epoch 51: val_loss did not improve from 0.36665\n",
      "2/2 [==============================] - 6s 3s/step - loss: 0.3326 - accuracy: 0.8530 - val_loss: 0.4325 - val_accuracy: 0.8237\n",
      "Epoch 52/100\n",
      "2/2 [==============================] - ETA: 0s - loss: 0.3278 - accuracy: 0.8541\n",
      "Epoch 52: val_loss did not improve from 0.36665\n",
      "2/2 [==============================] - 6s 3s/step - loss: 0.3315 - accuracy: 0.8531 - val_loss: 0.6406 - val_accuracy: 0.8267\n",
      "Epoch 53/100\n",
      "2/2 [==============================] - ETA: 0s - loss: 0.3157 - accuracy: 0.8623\n",
      "Epoch 53: val_loss did not improve from 0.36665\n",
      "2/2 [==============================] - 6s 3s/step - loss: 0.3149 - accuracy: 0.8629 - val_loss: 0.3894 - val_accuracy: 0.8560\n",
      "Epoch 54/100\n",
      "2/2 [==============================] - ETA: 0s - loss: 0.3154 - accuracy: 0.8601\n",
      "Epoch 54: val_loss did not improve from 0.36665\n",
      "2/2 [==============================] - 8s 3s/step - loss: 0.3116 - accuracy: 0.8587 - val_loss: 0.4996 - val_accuracy: 0.8059\n",
      "Epoch 55/100\n",
      "2/2 [==============================] - ETA: 0s - loss: 0.3097 - accuracy: 0.8633\n",
      "Epoch 55: val_loss did not improve from 0.36665\n",
      "2/2 [==============================] - 6s 3s/step - loss: 0.3116 - accuracy: 0.8620 - val_loss: 0.6856 - val_accuracy: 0.8174\n",
      "Epoch 56/100\n",
      "2/2 [==============================] - ETA: 0s - loss: 0.2910 - accuracy: 0.8682\n",
      "Epoch 56: val_loss improved from 0.36665 to 0.33261, saving model to ckpt1\n"
     ]
    },
    {
     "name": "stderr",
     "output_type": "stream",
     "text": [
      "WARNING:absl:Found untraced functions such as _update_step_xla, lstm_cell_layer_call_fn, lstm_cell_layer_call_and_return_conditional_losses, lstm_cell_1_layer_call_fn, lstm_cell_1_layer_call_and_return_conditional_losses while saving (showing 5 of 5). These functions will not be directly callable after loading.\n"
     ]
    },
    {
     "name": "stdout",
     "output_type": "stream",
     "text": [
      "INFO:tensorflow:Assets written to: ckpt1\\assets\n"
     ]
    },
    {
     "name": "stderr",
     "output_type": "stream",
     "text": [
      "INFO:tensorflow:Assets written to: ckpt1\\assets\n"
     ]
    },
    {
     "name": "stdout",
     "output_type": "stream",
     "text": [
      "2/2 [==============================] - 26s 23s/step - loss: 0.2904 - accuracy: 0.8687 - val_loss: 0.3326 - val_accuracy: 0.8642\n",
      "Epoch 57/100\n",
      "2/2 [==============================] - ETA: 0s - loss: 0.2898 - accuracy: 0.8660\n",
      "Epoch 57: val_loss did not improve from 0.33261\n",
      "2/2 [==============================] - 8s 4s/step - loss: 0.2928 - accuracy: 0.8630 - val_loss: 0.7080 - val_accuracy: 0.8156\n",
      "Epoch 58/100\n",
      "2/2 [==============================] - ETA: 0s - loss: 0.2804 - accuracy: 0.8731\n",
      "Epoch 58: val_loss did not improve from 0.33261\n",
      "2/2 [==============================] - 8s 4s/step - loss: 0.2790 - accuracy: 0.8723 - val_loss: 0.3529 - val_accuracy: 0.8430\n",
      "Epoch 59/100\n",
      "2/2 [==============================] - ETA: 0s - loss: 0.2853 - accuracy: 0.8703\n",
      "Epoch 59: val_loss did not improve from 0.33261\n",
      "2/2 [==============================] - 8s 4s/step - loss: 0.2894 - accuracy: 0.8705 - val_loss: 0.4780 - val_accuracy: 0.8386\n",
      "Epoch 60/100\n",
      "2/2 [==============================] - ETA: 0s - loss: 0.2735 - accuracy: 0.8759\n",
      "Epoch 60: val_loss did not improve from 0.33261\n",
      "2/2 [==============================] - 10s 5s/step - loss: 0.2735 - accuracy: 0.8765 - val_loss: 0.5884 - val_accuracy: 0.8396\n",
      "Epoch 61/100\n",
      "2/2 [==============================] - ETA: 0s - loss: 0.2572 - accuracy: 0.8860\n",
      "Epoch 61: val_loss improved from 0.33261 to 0.27774, saving model to ckpt1\n"
     ]
    },
    {
     "name": "stderr",
     "output_type": "stream",
     "text": [
      "WARNING:absl:Found untraced functions such as _update_step_xla, lstm_cell_layer_call_fn, lstm_cell_layer_call_and_return_conditional_losses, lstm_cell_1_layer_call_fn, lstm_cell_1_layer_call_and_return_conditional_losses while saving (showing 5 of 5). These functions will not be directly callable after loading.\n"
     ]
    },
    {
     "name": "stdout",
     "output_type": "stream",
     "text": [
      "INFO:tensorflow:Assets written to: ckpt1\\assets\n"
     ]
    },
    {
     "name": "stderr",
     "output_type": "stream",
     "text": [
      "INFO:tensorflow:Assets written to: ckpt1\\assets\n"
     ]
    },
    {
     "name": "stdout",
     "output_type": "stream",
     "text": [
      "2/2 [==============================] - 34s 29s/step - loss: 0.2619 - accuracy: 0.8851 - val_loss: 0.2777 - val_accuracy: 0.8811\n",
      "Epoch 62/100\n",
      "2/2 [==============================] - ETA: 0s - loss: 0.2720 - accuracy: 0.8802\n",
      "Epoch 62: val_loss did not improve from 0.27774\n",
      "2/2 [==============================] - 12s 5s/step - loss: 0.2840 - accuracy: 0.8764 - val_loss: 0.6239 - val_accuracy: 0.8265\n",
      "Epoch 63/100\n",
      "2/2 [==============================] - ETA: 0s - loss: 0.2548 - accuracy: 0.8831\n",
      "Epoch 63: val_loss did not improve from 0.27774\n",
      "2/2 [==============================] - 11s 5s/step - loss: 0.2543 - accuracy: 0.8829 - val_loss: 0.7279 - val_accuracy: 0.8369\n",
      "Epoch 64/100\n",
      "2/2 [==============================] - ETA: 0s - loss: 0.2465 - accuracy: 0.8876\n",
      "Epoch 64: val_loss improved from 0.27774 to 0.22519, saving model to ckpt1\n"
     ]
    },
    {
     "name": "stderr",
     "output_type": "stream",
     "text": [
      "WARNING:absl:Found untraced functions such as _update_step_xla, lstm_cell_layer_call_fn, lstm_cell_layer_call_and_return_conditional_losses, lstm_cell_1_layer_call_fn, lstm_cell_1_layer_call_and_return_conditional_losses while saving (showing 5 of 5). These functions will not be directly callable after loading.\n"
     ]
    },
    {
     "name": "stdout",
     "output_type": "stream",
     "text": [
      "INFO:tensorflow:Assets written to: ckpt1\\assets\n"
     ]
    },
    {
     "name": "stderr",
     "output_type": "stream",
     "text": [
      "INFO:tensorflow:Assets written to: ckpt1\\assets\n"
     ]
    },
    {
     "name": "stdout",
     "output_type": "stream",
     "text": [
      "2/2 [==============================] - 30s 25s/step - loss: 0.2370 - accuracy: 0.8883 - val_loss: 0.2252 - val_accuracy: 0.8937\n",
      "Epoch 65/100\n",
      "2/2 [==============================] - ETA: 0s - loss: 0.2445 - accuracy: 0.8944\n",
      "Epoch 65: val_loss did not improve from 0.22519\n",
      "2/2 [==============================] - 6s 3s/step - loss: 0.2458 - accuracy: 0.8934 - val_loss: 0.2907 - val_accuracy: 0.8934\n",
      "Epoch 66/100\n",
      "2/2 [==============================] - ETA: 0s - loss: 0.2383 - accuracy: 0.8934\n",
      "Epoch 66: val_loss did not improve from 0.22519\n",
      "2/2 [==============================] - 6s 3s/step - loss: 0.2364 - accuracy: 0.8916 - val_loss: 0.5043 - val_accuracy: 0.8554\n",
      "Epoch 67/100\n",
      "2/2 [==============================] - ETA: 0s - loss: 0.2373 - accuracy: 0.8956\n",
      "Epoch 67: val_loss did not improve from 0.22519\n",
      "2/2 [==============================] - 6s 3s/step - loss: 0.2377 - accuracy: 0.8950 - val_loss: 0.7424 - val_accuracy: 0.8358\n",
      "Epoch 68/100\n",
      "2/2 [==============================] - ETA: 0s - loss: 0.2261 - accuracy: 0.8964\n",
      "Epoch 68: val_loss did not improve from 0.22519\n",
      "2/2 [==============================] - 6s 3s/step - loss: 0.2264 - accuracy: 0.8956 - val_loss: 0.3021 - val_accuracy: 0.8765\n",
      "Epoch 69/100\n",
      "2/2 [==============================] - ETA: 0s - loss: 0.2279 - accuracy: 0.8954\n",
      "Epoch 69: val_loss did not improve from 0.22519\n",
      "2/2 [==============================] - 6s 3s/step - loss: 0.2270 - accuracy: 0.8959 - val_loss: 0.2604 - val_accuracy: 0.8940\n",
      "Epoch 70/100\n",
      "2/2 [==============================] - ETA: 0s - loss: 0.2208 - accuracy: 0.9002\n",
      "Epoch 70: val_loss did not improve from 0.22519\n",
      "2/2 [==============================] - 6s 3s/step - loss: 0.2244 - accuracy: 0.9012 - val_loss: 0.3750 - val_accuracy: 0.8785\n",
      "Epoch 71/100\n",
      "2/2 [==============================] - ETA: 0s - loss: 0.2136 - accuracy: 0.9045\n",
      "Epoch 71: val_loss did not improve from 0.22519\n",
      "2/2 [==============================] - 6s 3s/step - loss: 0.2120 - accuracy: 0.9061 - val_loss: 0.7803 - val_accuracy: 0.8461\n",
      "Epoch 72/100\n",
      "2/2 [==============================] - ETA: 0s - loss: 0.2126 - accuracy: 0.9093\n",
      "Epoch 72: val_loss did not improve from 0.22519\n",
      "2/2 [==============================] - 6s 3s/step - loss: 0.2103 - accuracy: 0.9097 - val_loss: 0.5037 - val_accuracy: 0.8531\n",
      "Epoch 73/100\n",
      "2/2 [==============================] - ETA: 0s - loss: 0.2056 - accuracy: 0.9090\n",
      "Epoch 73: val_loss did not improve from 0.22519\n",
      "2/2 [==============================] - 6s 3s/step - loss: 0.2048 - accuracy: 0.9086 - val_loss: 0.4044 - val_accuracy: 0.8733\n",
      "Epoch 74/100\n",
      "2/2 [==============================] - ETA: 0s - loss: 0.2052 - accuracy: 0.9088\n",
      "Epoch 74: val_loss did not improve from 0.22519\n",
      "2/2 [==============================] - 6s 3s/step - loss: 0.2038 - accuracy: 0.9078 - val_loss: 0.2582 - val_accuracy: 0.9143\n",
      "Epoch 75/100\n",
      "2/2 [==============================] - ETA: 0s - loss: 0.1956 - accuracy: 0.9108\n",
      "Epoch 75: val_loss did not improve from 0.22519\n",
      "2/2 [==============================] - 6s 3s/step - loss: 0.1990 - accuracy: 0.9101 - val_loss: 0.3642 - val_accuracy: 0.8617\n",
      "Epoch 76/100\n",
      "2/2 [==============================] - ETA: 0s - loss: 0.1982 - accuracy: 0.9133\n",
      "Epoch 76: val_loss did not improve from 0.22519\n",
      "2/2 [==============================] - 6s 3s/step - loss: 0.2038 - accuracy: 0.9139 - val_loss: 0.5117 - val_accuracy: 0.8590\n",
      "Epoch 77/100\n",
      "2/2 [==============================] - ETA: 0s - loss: 0.1899 - accuracy: 0.9141\n",
      "Epoch 77: val_loss did not improve from 0.22519\n",
      "2/2 [==============================] - 6s 3s/step - loss: 0.1900 - accuracy: 0.9148 - val_loss: 0.3425 - val_accuracy: 0.8983\n",
      "Epoch 78/100\n",
      "2/2 [==============================] - ETA: 0s - loss: 0.1883 - accuracy: 0.9149\n",
      "Epoch 78: val_loss did not improve from 0.22519\n",
      "2/2 [==============================] - 6s 3s/step - loss: 0.1900 - accuracy: 0.9139 - val_loss: 0.4213 - val_accuracy: 0.8908\n",
      "Epoch 79/100\n",
      "2/2 [==============================] - ETA: 0s - loss: 0.1845 - accuracy: 0.9193\n",
      "Epoch 79: val_loss did not improve from 0.22519\n",
      "2/2 [==============================] - 6s 3s/step - loss: 0.1839 - accuracy: 0.9194 - val_loss: 1.2148 - val_accuracy: 0.7800\n",
      "Epoch 80/100\n",
      "2/2 [==============================] - ETA: 0s - loss: 0.1789 - accuracy: 0.9163\n",
      "Epoch 80: val_loss did not improve from 0.22519\n",
      "2/2 [==============================] - 6s 3s/step - loss: 0.1762 - accuracy: 0.9178 - val_loss: 0.5022 - val_accuracy: 0.8582\n",
      "Epoch 81/100\n",
      "2/2 [==============================] - ETA: 0s - loss: 0.1796 - accuracy: 0.9177\n",
      "Epoch 81: val_loss did not improve from 0.22519\n",
      "2/2 [==============================] - 6s 3s/step - loss: 0.1770 - accuracy: 0.9179 - val_loss: 0.3405 - val_accuracy: 0.8966\n",
      "Epoch 82/100\n",
      "2/2 [==============================] - ETA: 0s - loss: 0.1647 - accuracy: 0.9249\n",
      "Epoch 82: val_loss did not improve from 0.22519\n",
      "2/2 [==============================] - 6s 3s/step - loss: 0.1621 - accuracy: 0.9261 - val_loss: 0.2909 - val_accuracy: 0.9022\n",
      "Epoch 83/100\n",
      "2/2 [==============================] - ETA: 0s - loss: 0.1771 - accuracy: 0.9191\n",
      "Epoch 83: val_loss improved from 0.22519 to 0.22261, saving model to ckpt1\n"
     ]
    },
    {
     "name": "stderr",
     "output_type": "stream",
     "text": [
      "WARNING:absl:Found untraced functions such as _update_step_xla, lstm_cell_layer_call_fn, lstm_cell_layer_call_and_return_conditional_losses, lstm_cell_1_layer_call_fn, lstm_cell_1_layer_call_and_return_conditional_losses while saving (showing 5 of 5). These functions will not be directly callable after loading.\n"
     ]
    },
    {
     "name": "stdout",
     "output_type": "stream",
     "text": [
      "INFO:tensorflow:Assets written to: ckpt1\\assets\n"
     ]
    },
    {
     "name": "stderr",
     "output_type": "stream",
     "text": [
      "INFO:tensorflow:Assets written to: ckpt1\\assets\n"
     ]
    },
    {
     "name": "stdout",
     "output_type": "stream",
     "text": [
      "2/2 [==============================] - 26s 23s/step - loss: 0.1778 - accuracy: 0.9193 - val_loss: 0.2226 - val_accuracy: 0.9078\n",
      "Epoch 84/100\n",
      "2/2 [==============================] - ETA: 0s - loss: 0.1674 - accuracy: 0.9252\n",
      "Epoch 84: val_loss did not improve from 0.22261\n",
      "2/2 [==============================] - 6s 3s/step - loss: 0.1671 - accuracy: 0.9256 - val_loss: 0.4737 - val_accuracy: 0.8738\n",
      "Epoch 85/100\n",
      "2/2 [==============================] - ETA: 0s - loss: 0.1701 - accuracy: 0.9235\n",
      "Epoch 85: val_loss did not improve from 0.22261\n",
      "2/2 [==============================] - 6s 3s/step - loss: 0.1706 - accuracy: 0.9251 - val_loss: 0.2834 - val_accuracy: 0.9126\n",
      "Epoch 86/100\n",
      "2/2 [==============================] - ETA: 0s - loss: 0.1667 - accuracy: 0.9243\n",
      "Epoch 86: val_loss did not improve from 0.22261\n",
      "2/2 [==============================] - 7s 3s/step - loss: 0.1649 - accuracy: 0.9251 - val_loss: 0.3572 - val_accuracy: 0.8827\n",
      "Epoch 87/100\n",
      "2/2 [==============================] - ETA: 0s - loss: 0.1684 - accuracy: 0.9251\n",
      "Epoch 87: val_loss did not improve from 0.22261\n",
      "2/2 [==============================] - 6s 3s/step - loss: 0.1641 - accuracy: 0.9268 - val_loss: 0.3660 - val_accuracy: 0.8878\n",
      "Epoch 88/100\n",
      "2/2 [==============================] - ETA: 0s - loss: 0.1620 - accuracy: 0.9268\n",
      "Epoch 88: val_loss improved from 0.22261 to 0.19586, saving model to ckpt1\n"
     ]
    },
    {
     "name": "stderr",
     "output_type": "stream",
     "text": [
      "WARNING:absl:Found untraced functions such as _update_step_xla, lstm_cell_layer_call_fn, lstm_cell_layer_call_and_return_conditional_losses, lstm_cell_1_layer_call_fn, lstm_cell_1_layer_call_and_return_conditional_losses while saving (showing 5 of 5). These functions will not be directly callable after loading.\n"
     ]
    },
    {
     "name": "stdout",
     "output_type": "stream",
     "text": [
      "INFO:tensorflow:Assets written to: ckpt1\\assets\n"
     ]
    },
    {
     "name": "stderr",
     "output_type": "stream",
     "text": [
      "INFO:tensorflow:Assets written to: ckpt1\\assets\n"
     ]
    },
    {
     "name": "stdout",
     "output_type": "stream",
     "text": [
      "2/2 [==============================] - 27s 23s/step - loss: 0.1622 - accuracy: 0.9277 - val_loss: 0.1959 - val_accuracy: 0.9068\n",
      "Epoch 89/100\n",
      "2/2 [==============================] - ETA: 0s - loss: 0.1601 - accuracy: 0.9275\n",
      "Epoch 89: val_loss improved from 0.19586 to 0.16684, saving model to ckpt1\n"
     ]
    },
    {
     "name": "stderr",
     "output_type": "stream",
     "text": [
      "WARNING:absl:Found untraced functions such as _update_step_xla, lstm_cell_layer_call_fn, lstm_cell_layer_call_and_return_conditional_losses, lstm_cell_1_layer_call_fn, lstm_cell_1_layer_call_and_return_conditional_losses while saving (showing 5 of 5). These functions will not be directly callable after loading.\n"
     ]
    },
    {
     "name": "stdout",
     "output_type": "stream",
     "text": [
      "INFO:tensorflow:Assets written to: ckpt1\\assets\n"
     ]
    },
    {
     "name": "stderr",
     "output_type": "stream",
     "text": [
      "INFO:tensorflow:Assets written to: ckpt1\\assets\n"
     ]
    },
    {
     "name": "stdout",
     "output_type": "stream",
     "text": [
      "2/2 [==============================] - 31s 27s/step - loss: 0.1629 - accuracy: 0.9272 - val_loss: 0.1668 - val_accuracy: 0.9276\n",
      "Epoch 90/100\n",
      "2/2 [==============================] - ETA: 0s - loss: 0.1518 - accuracy: 0.9321\n",
      "Epoch 90: val_loss did not improve from 0.16684\n",
      "2/2 [==============================] - 10s 5s/step - loss: 0.1546 - accuracy: 0.9311 - val_loss: 0.2797 - val_accuracy: 0.9115\n",
      "Epoch 91/100\n",
      "2/2 [==============================] - ETA: 0s - loss: 0.1538 - accuracy: 0.9301\n",
      "Epoch 91: val_loss did not improve from 0.16684\n",
      "2/2 [==============================] - 10s 5s/step - loss: 0.1516 - accuracy: 0.9307 - val_loss: 0.3515 - val_accuracy: 0.8953\n",
      "Epoch 92/100\n",
      "2/2 [==============================] - ETA: 0s - loss: 0.1552 - accuracy: 0.9280\n",
      "Epoch 92: val_loss did not improve from 0.16684\n",
      "2/2 [==============================] - 11s 6s/step - loss: 0.1563 - accuracy: 0.9277 - val_loss: 0.2360 - val_accuracy: 0.9299\n",
      "Epoch 93/100\n",
      "2/2 [==============================] - ETA: 0s - loss: 0.1487 - accuracy: 0.9322\n",
      "Epoch 93: val_loss did not improve from 0.16684\n",
      "2/2 [==============================] - 11s 5s/step - loss: 0.1465 - accuracy: 0.9330 - val_loss: 0.2678 - val_accuracy: 0.9200\n",
      "Epoch 94/100\n",
      "2/2 [==============================] - ETA: 0s - loss: 0.1493 - accuracy: 0.9326\n",
      "Epoch 94: val_loss did not improve from 0.16684\n",
      "2/2 [==============================] - 12s 5s/step - loss: 0.1548 - accuracy: 0.9324 - val_loss: 0.5777 - val_accuracy: 0.8809\n",
      "Epoch 95/100\n",
      "2/2 [==============================] - ETA: 0s - loss: 0.1411 - accuracy: 0.9384\n",
      "Epoch 95: val_loss improved from 0.16684 to 0.13723, saving model to ckpt1\n"
     ]
    },
    {
     "name": "stderr",
     "output_type": "stream",
     "text": [
      "WARNING:absl:Found untraced functions such as _update_step_xla, lstm_cell_layer_call_fn, lstm_cell_layer_call_and_return_conditional_losses, lstm_cell_1_layer_call_fn, lstm_cell_1_layer_call_and_return_conditional_losses while saving (showing 5 of 5). These functions will not be directly callable after loading.\n"
     ]
    },
    {
     "name": "stdout",
     "output_type": "stream",
     "text": [
      "INFO:tensorflow:Assets written to: ckpt1\\assets\n"
     ]
    },
    {
     "name": "stderr",
     "output_type": "stream",
     "text": [
      "INFO:tensorflow:Assets written to: ckpt1\\assets\n"
     ]
    },
    {
     "name": "stdout",
     "output_type": "stream",
     "text": [
      "2/2 [==============================] - 39s 33s/step - loss: 0.1371 - accuracy: 0.9383 - val_loss: 0.1372 - val_accuracy: 0.9386\n",
      "Epoch 96/100\n",
      "2/2 [==============================] - ETA: 0s - loss: 0.1400 - accuracy: 0.9339\n",
      "Epoch 96: val_loss did not improve from 0.13723\n",
      "2/2 [==============================] - 12s 6s/step - loss: 0.1403 - accuracy: 0.9336 - val_loss: 0.5987 - val_accuracy: 0.8860\n",
      "Epoch 97/100\n",
      "2/2 [==============================] - ETA: 0s - loss: 0.1290 - accuracy: 0.9422\n",
      "Epoch 97: val_loss did not improve from 0.13723\n",
      "2/2 [==============================] - 13s 6s/step - loss: 0.1303 - accuracy: 0.9423 - val_loss: 0.2473 - val_accuracy: 0.9247\n",
      "Epoch 98/100\n",
      "2/2 [==============================] - ETA: 0s - loss: 0.1355 - accuracy: 0.9395\n",
      "Epoch 98: val_loss did not improve from 0.13723\n",
      "2/2 [==============================] - 13s 7s/step - loss: 0.1382 - accuracy: 0.9380 - val_loss: 0.5574 - val_accuracy: 0.8812\n",
      "Epoch 99/100\n",
      "2/2 [==============================] - ETA: 0s - loss: 0.1259 - accuracy: 0.9437\n",
      "Epoch 99: val_loss improved from 0.13723 to 0.13282, saving model to ckpt1\n"
     ]
    },
    {
     "name": "stderr",
     "output_type": "stream",
     "text": [
      "WARNING:absl:Found untraced functions such as _update_step_xla, lstm_cell_layer_call_fn, lstm_cell_layer_call_and_return_conditional_losses, lstm_cell_1_layer_call_fn, lstm_cell_1_layer_call_and_return_conditional_losses while saving (showing 5 of 5). These functions will not be directly callable after loading.\n"
     ]
    },
    {
     "name": "stdout",
     "output_type": "stream",
     "text": [
      "INFO:tensorflow:Assets written to: ckpt1\\assets\n"
     ]
    },
    {
     "name": "stderr",
     "output_type": "stream",
     "text": [
      "INFO:tensorflow:Assets written to: ckpt1\\assets\n"
     ]
    },
    {
     "name": "stdout",
     "output_type": "stream",
     "text": [
      "2/2 [==============================] - 37s 31s/step - loss: 0.1266 - accuracy: 0.9438 - val_loss: 0.1328 - val_accuracy: 0.9382\n",
      "Epoch 100/100\n",
      "2/2 [==============================] - ETA: 0s - loss: 0.1294 - accuracy: 0.9394\n",
      "Epoch 100: val_loss did not improve from 0.13282\n",
      "2/2 [==============================] - 8s 4s/step - loss: 0.1294 - accuracy: 0.9403 - val_loss: 0.3675 - val_accuracy: 0.9073\n"
     ]
    }
   ],
   "source": [
    "history=model.fit(\n",
    "    train_data,\n",
    "    epochs=100,\n",
    "    validation_data=val_data,\n",
    "    callbacks=[\n",
    "        tf.keras.callbacks.TensorBoard(log_dir='logs1'),\n",
    "        tf.keras.callbacks.ModelCheckpoint('ckpt1',verbose=1,save_best_only=True)\n",
    "    ]\n",
    ")"
   ]
  },
  {
   "cell_type": "code",
   "execution_count": 24,
   "metadata": {},
   "outputs": [
    {
     "data": {
      "image/png": "[encoded data removed]",
      "text/plain": [
       "<Figure size 2000x500 with 2 Axes>"
      ]
     },
     "metadata": {},
     "output_type": "display_data"
    }
   ],
   "source": [
    "fig,ax=plt.subplots(nrows=1,ncols=2,figsize=(20,5))\n",
    "ax[0].plot(history.history['loss'],label='loss',c='red')\n",
    "ax[0].plot(history.history['val_loss'],label='val_loss',c = 'blue')\n",
    "ax[0].set_xlabel('Epochs')\n",
    "ax[1].set_xlabel('Epochs')\n",
    "ax[0].set_ylabel('Loss')\n",
    "ax[1].set_ylabel('Accuracy')\n",
    "ax[0].set_title('Loss Metrics')\n",
    "ax[1].set_title('Accuracy Metrics')\n",
    "ax[1].plot(history.history['accuracy'],label='accuracy')\n",
    "ax[1].plot(history.history['val_accuracy'],label='val_accuracy')\n",
    "ax[0].legend()\n",
    "ax[1].legend()\n",
    "plt.show()"
   ]
  },
  {
   "cell_type": "code",
   "execution_count": 25,
   "metadata": {},
   "outputs": [
    {
     "name": "stderr",
     "output_type": "stream",
     "text": [
      "WARNING:absl:Found untraced functions such as _update_step_xla, lstm_cell_layer_call_fn, lstm_cell_layer_call_and_return_conditional_losses, lstm_cell_1_layer_call_fn, lstm_cell_1_layer_call_and_return_conditional_losses while saving (showing 5 of 5). These functions will not be directly callable after loading.\n"
     ]
    },
    {
     "name": "stdout",
     "output_type": "stream",
     "text": [
      "INFO:tensorflow:Assets written to: models\\assets\n"
     ]
    },
    {
     "name": "stderr",
     "output_type": "stream",
     "text": [
      "INFO:tensorflow:Assets written to: models\\assets\n"
     ]
    }
   ],
   "source": [
    "model.load_weights('ckpt1')\n",
    "model.save('models',save_format='tf')"
   ]
  },
  {
   "cell_type": "code",
   "execution_count": 26,
   "metadata": {},
   "outputs": [
    {
     "name": "stdout",
     "output_type": "stream",
     "text": [
      "Encoder layers:\n",
      "<keras.layers.core.embedding.Embedding object at 0x000002B28D3F7730>\n",
      "<keras.layers.normalization.layer_normalization.LayerNormalization object at 0x000002B28CBB03A0>\n",
      "<keras.layers.rnn.lstm.LSTM object at 0x000002B28D436E30>\n",
      "---------------------\n",
      "Decoder layers: \n",
      "<keras.layers.core.embedding.Embedding object at 0x000002B28DAA9840>\n",
      "<keras.layers.normalization.layer_normalization.LayerNormalization object at 0x000002B28DAA9C30>\n",
      "<keras.layers.rnn.lstm.LSTM object at 0x000002B28DAA9060>\n",
      "<keras.layers.normalization.layer_normalization.LayerNormalization object at 0x000002B28DAA86A0>\n",
      "<keras.layers.core.dense.Dense object at 0x000002B28DAA8A60>\n",
      "---------------------\n"
     ]
    }
   ],
   "source": [
    "for idx,i in enumerate(model.layers):\n",
    "    print('Encoder layers:' if idx==0 else 'Decoder layers: ')\n",
    "    for j in i.layers:\n",
    "        print(j)\n",
    "    print('---------------------')"
   ]
  },
  {
   "cell_type": "code",
   "execution_count": 27,
   "metadata": {},
   "outputs": [
    {
     "name": "stdout",
     "output_type": "stream",
     "text": [
      "Model: \"chatbot_encoder\"\n",
      "_________________________________________________________________\n",
      " Layer (type)                Output Shape              Param #   \n",
      "=================================================================\n",
      " input_1 (InputLayer)        [(None, None)]            0         \n",
      "                                                                 \n",
      " encoder_embedding (Embeddin  (None, None, 256)        289792    \n",
      " g)                                                              \n",
      "                                                                 \n",
      " layer_normalization (LayerN  (None, None, 256)        512       \n",
      " ormalization)                                                   \n",
      "                                                                 \n",
      " encoder_lstm (LSTM)         [(None, None, 256),       525312    \n",
      "                              (None, 256),                       \n",
      "                              (None, 256)]                       \n",
      "                                                                 \n",
      "=================================================================\n",
      "Total params: 815,616\n",
      "Trainable params: 815,616\n",
      "Non-trainable params: 0\n",
      "_________________________________________________________________\n",
      "Model: \"chatbot_decoder\"\n",
      "__________________________________________________________________________________________________\n",
      " Layer (type)                   Output Shape         Param #     Connected to                     \n",
      "==================================================================================================\n",
      " input_4 (InputLayer)           [(None, None)]       0           []                               \n",
      "                                                                                                  \n",
      " decoder_embedding (Embedding)  (None, None, 256)    289792      ['input_4[0][0]']                \n",
      "                                                                                                  \n",
      " layer_normalization (LayerNorm  (None, None, 256)   512         ['decoder_embedding[0][0]']      \n",
      " alization)                                                                                       \n",
      "                                                                                                  \n",
      " input_2 (InputLayer)           [(None, 256)]        0           []                               \n",
      "                                                                                                  \n",
      " input_3 (InputLayer)           [(None, 256)]        0           []                               \n",
      "                                                                                                  \n",
      " decoder_lstm (LSTM)            [(None, None, 256),  525312      ['layer_normalization[1][0]',    \n",
      "                                 (None, 256),                     'input_2[0][0]',                \n",
      "                                 (None, 256)]                     'input_3[0][0]']                \n",
      "                                                                                                  \n",
      " decoder_dense (Dense)          (None, None, 1132)   290924      ['decoder_lstm[0][0]']           \n",
      "                                                                                                  \n",
      "==================================================================================================\n",
      "Total params: 1,106,540\n",
      "Trainable params: 1,106,540\n",
      "Non-trainable params: 0\n",
      "__________________________________________________________________________________________________\n"
     ]
    }
   ],
   "source": [
    "class ChatBot(tf.keras.models.Model):\n",
    "    def __init__(self,base_encoder,base_decoder,*args,**kwargs):\n",
    "        super().__init__(*args,**kwargs)\n",
    "        self.encoder,self.decoder=self.build_inference_model(base_encoder,base_decoder)\n",
    "\n",
    "    def build_inference_model(self,base_encoder,base_decoder):\n",
    "        encoder_inputs=tf.keras.Input(shape=(None,))\n",
    "        x=base_encoder.layers[0](encoder_inputs)\n",
    "        x=base_encoder.layers[1](x)\n",
    "        x,encoder_state_h,encoder_state_c=base_encoder.layers[2](x)\n",
    "        encoder=tf.keras.models.Model(inputs=encoder_inputs,outputs=[encoder_state_h,encoder_state_c],name='chatbot_encoder')\n",
    "\n",
    "        decoder_input_state_h=tf.keras.Input(shape=(lstm_cells,))\n",
    "        decoder_input_state_c=tf.keras.Input(shape=(lstm_cells,))\n",
    "        decoder_inputs=tf.keras.Input(shape=(None,))\n",
    "        x=base_decoder.layers[0](decoder_inputs)\n",
    "        x=base_encoder.layers[1](x)\n",
    "        x,decoder_state_h,decoder_state_c=base_decoder.layers[2](x,initial_state=[decoder_input_state_h,decoder_input_state_c])\n",
    "        decoder_outputs=base_decoder.layers[-1](x)\n",
    "        decoder=tf.keras.models.Model(\n",
    "            inputs=[decoder_inputs,[decoder_input_state_h,decoder_input_state_c]],\n",
    "            outputs=[decoder_outputs,[decoder_state_h,decoder_state_c]],name='chatbot_decoder'\n",
    "        )\n",
    "        return encoder,decoder\n",
    "\n",
    "    def summary(self):\n",
    "        self.encoder.summary()\n",
    "        self.decoder.summary()\n",
    "\n",
    "    def softmax(self,z):\n",
    "        return np.exp(z)/sum(np.exp(z))\n",
    "\n",
    "    def sample(self,conditional_probability,temperature=0.5):\n",
    "        conditional_probability = np.asarray(conditional_probability).astype(\"float64\")\n",
    "        conditional_probability = np.log(conditional_probability) / temperature\n",
    "        reweighted_conditional_probability = self.softmax(conditional_probability)\n",
    "        probas = np.random.multinomial(1, reweighted_conditional_probability, 1)\n",
    "        return np.argmax(probas)\n",
    "\n",
    "    def preprocess(self,text):\n",
    "        text=clean_text(text)\n",
    "        seq=np.zeros((1,max_sequence_length),dtype=np.int32)\n",
    "        for i,word in enumerate(text.split()):\n",
    "            seq[:,i]=sequences2ids(word).numpy()[0]\n",
    "        return seq\n",
    "    \n",
    "    def postprocess(self,text):\n",
    "        text=re.sub(' - ','-',text.lower())\n",
    "        text=re.sub(' [.] ','. ',text)\n",
    "        text=re.sub(' [1] ','1',text)\n",
    "        text=re.sub(' [2] ','2',text)\n",
    "        text=re.sub(' [3] ','3',text)\n",
    "        text=re.sub(' [4] ','4',text)\n",
    "        text=re.sub(' [5] ','5',text)\n",
    "        text=re.sub(' [6] ','6',text)\n",
    "        text=re.sub(' [7] ','7',text)\n",
    "        text=re.sub(' [8] ','8',text)\n",
    "        text=re.sub(' [9] ','9',text)\n",
    "        text=re.sub(' [0] ','0',text)\n",
    "        text=re.sub(' [,] ',', ',text)\n",
    "        text=re.sub(' [?] ','? ',text)\n",
    "        text=re.sub(' [!] ','! ',text)\n",
    "        text=re.sub(' [$] ','$ ',text)\n",
    "        text=re.sub(' [&] ','& ',text)\n",
    "        text=re.sub(' [/] ','/ ',text)\n",
    "        text=re.sub(' [:] ',': ',text)\n",
    "        text=re.sub(' [;] ','; ',text)\n",
    "        text=re.sub(' [*] ','* ',text)\n",
    "        text=re.sub(' [\\'] ','\\'',text)\n",
    "        text=re.sub(' [\\\"] ','\\\"',text)\n",
    "        return text\n",
    "\n",
    "    def call(self,text,config=None):\n",
    "        input_seq=self.preprocess(text)\n",
    "        states=self.encoder(input_seq,training=False)\n",
    "        target_seq=np.zeros((1,1))\n",
    "        target_seq[:,:]=sequences2ids(['<start>']).numpy()[0][0]\n",
    "        stop_condition=False\n",
    "        decoded=[]\n",
    "        while not stop_condition:\n",
    "            decoder_outputs,new_states=self.decoder([target_seq,states],training=False)\n",
    "#             index=tf.argmax(decoder_outputs[:,-1,:],axis=-1).numpy().item()\n",
    "            index=self.sample(decoder_outputs[0,0,:]).item()\n",
    "            word=ids2sequences([index])\n",
    "            if word=='<end> ' or len(decoded)>=max_sequence_length:\n",
    "                stop_condition=True\n",
    "            else:\n",
    "                decoded.append(index)\n",
    "                target_seq=np.zeros((1,1))\n",
    "                target_seq[:,:]=index\n",
    "                states=new_states\n",
    "        return self.postprocess(ids2sequences(decoded))\n",
    "\n",
    "chatbot=ChatBot(model.encoder,model.decoder,name='chatbot')\n",
    "chatbot.summary()"
   ]
  },
  {
   "cell_type": "code",
   "execution_count": 28,
   "metadata": {},
   "outputs": [
    {
     "name": "stdout",
     "output_type": "stream",
     "text": [
      "Requirement already satisfied: pydot in c:\\users\\nuwanga wijamuni\\appdata\\local\\programs\\python\\python310\\lib\\site-packages (1.4.2)\n",
      "Requirement already satisfied: pyparsing>=2.1.4 in c:\\users\\nuwanga wijamuni\\appdata\\local\\programs\\python\\python310\\lib\\site-packages (from pydot) (3.0.9)\n",
      "Note: you may need to restart the kernel to use updated packages.\n"
     ]
    },
    {
     "name": "stderr",
     "output_type": "stream",
     "text": [
      "WARNING: You are using pip version 22.0.4; however, version 23.2.1 is available.\n",
      "You should consider upgrading via the 'c:\\Users\\Nuwanga Wijamuni\\AppData\\Local\\Programs\\Python\\Python310\\python.exe -m pip install --upgrade pip' command.\n"
     ]
    }
   ],
   "source": [
    "pip install pydot"
   ]
  },
  {
   "cell_type": "code",
   "execution_count": 29,
   "metadata": {},
   "outputs": [
    {
     "name": "stdout",
     "output_type": "stream",
     "text": [
      "You must install pydot (`pip install pydot`) and install graphviz (see instructions at https://graphviz.gitlab.io/download/) for plot_model to work.\n"
     ]
    }
   ],
   "source": [
    "tf.keras.utils.plot_model(chatbot.encoder,to_file='encoder.png',show_shapes=True,show_layer_activations=True)"
   ]
  },
  {
   "cell_type": "code",
   "execution_count": 30,
   "metadata": {},
   "outputs": [
    {
     "name": "stdout",
     "output_type": "stream",
     "text": [
      "You must install pydot (`pip install pydot`) and install graphviz (see instructions at https://graphviz.gitlab.io/download/) for plot_model to work.\n"
     ]
    }
   ],
   "source": [
    "tf.keras.utils.plot_model(chatbot.decoder,to_file='decoder.png',show_shapes=True,show_layer_activations=True)"
   ]
  },
  {
   "cell_type": "code",
   "execution_count": 31,
   "metadata": {},
   "outputs": [],
   "source": [
    "def print_conversation(texts):\n",
    "    for text in texts:\n",
    "        print(f'Patient: {text}')\n",
    "        print(f'DocBot: {chatbot(text)}')\n",
    "        print('========================')"
   ]
  },
  {
   "cell_type": "code",
   "execution_count": 32,
   "metadata": {},
   "outputs": [
    {
     "name": "stdout",
     "output_type": "stream",
     "text": [
      "Patient: Hellow Doctor\n",
      "DocBot: hello, how can i assist you today? \n",
      "========================\n",
      "Patient: I haven't noticed any significant swelling\n",
      "DocBot: escalate, it's crucial to act quickly. if you have been prescribed an epinephrine auto injector (epipen), make sure to carry it with you at all times and know know. it's important to \n",
      "========================\n",
      "Patient:  I'm just a bit concerned about the severity of the reaction\n",
      "DocBot: it's important to monitor it further to further evaluation. if you have any further questions or concerns, don't hesitate to reach out. i'm here to support you. \n",
      "========================\n"
     ]
    }
   ],
   "source": [
    "print_conversation([\n",
    "    'Hellow Doctor',\n",
    "    '''I haven't noticed any significant swelling''',\n",
    "    ''' I'm just a bit concerned about the severity of the reaction'''\n",
    "\n",
    "])"
   ]
  },
  {
   "cell_type": "code",
   "execution_count": 35,
   "metadata": {},
   "outputs": [
    {
     "name": "stdout",
     "output_type": "stream",
     "text": [
      "Model: \"chatbot_encoder\"\n",
      "_________________________________________________________________\n",
      " Layer (type)                Output Shape              Param #   \n",
      "=================================================================\n",
      " input_13 (InputLayer)       [(None, None)]            0         \n",
      "                                                                 \n",
      " encoder_embedding (Embeddin  (None, None, 256)        289792    \n",
      " g)                                                              \n",
      "                                                                 \n",
      " layer_normalization (LayerN  (None, None, 256)        512       \n",
      " ormalization)                                                   \n",
      "                                                                 \n",
      " encoder_lstm (LSTM)         [(None, None, 256),       525312    \n",
      "                              (None, 256),                       \n",
      "                              (None, 256)]                       \n",
      "                                                                 \n",
      "=================================================================\n",
      "Total params: 815,616\n",
      "Trainable params: 815,616\n",
      "Non-trainable params: 0\n",
      "_________________________________________________________________\n",
      "Model: \"chatbot_decoder\"\n",
      "__________________________________________________________________________________________________\n",
      " Layer (type)                   Output Shape         Param #     Connected to                     \n",
      "==================================================================================================\n",
      " input_16 (InputLayer)          [(None, None)]       0           []                               \n",
      "                                                                                                  \n",
      " decoder_embedding (Embedding)  (None, None, 256)    289792      ['input_16[0][0]']               \n",
      "                                                                                                  \n",
      " layer_normalization (LayerNorm  (None, None, 256)   512         ['decoder_embedding[3][0]']      \n",
      " alization)                                                                                       \n",
      "                                                                                                  \n",
      " input_14 (InputLayer)          [(None, 256)]        0           []                               \n",
      "                                                                                                  \n",
      " input_15 (InputLayer)          [(None, 256)]        0           []                               \n",
      "                                                                                                  \n",
      " decoder_lstm (LSTM)            [(None, None, 256),  525312      ['layer_normalization[7][0]',    \n",
      "                                 (None, 256),                     'input_14[0][0]',               \n",
      "                                 (None, 256)]                     'input_15[0][0]']               \n",
      "                                                                                                  \n",
      " decoder_dense (Dense)          (None, None, 1132)   290924      ['decoder_lstm[3][0]']           \n",
      "                                                                                                  \n",
      "==================================================================================================\n",
      "Total params: 1,106,540\n",
      "Trainable params: 1,106,540\n",
      "Non-trainable params: 0\n",
      "__________________________________________________________________________________________________\n",
      "Bot: Hello! How can I assist you today?\n"
     ]
    }
   ],
   "source": [
    "class RealTimeChatBot(tf.keras.models.Model):\n",
    "    def __init__(self,base_encoder,base_decoder,*args,**kwargs):\n",
    "        super().__init__(*args,**kwargs)\n",
    "        self.encoder,self.decoder=self.build_inference_model(base_encoder,base_decoder)\n",
    "\n",
    "    def build_inference_model(self,base_encoder,base_decoder):\n",
    "        encoder_inputs=tf.keras.Input(shape=(None,))\n",
    "        x=base_encoder.layers[0](encoder_inputs)\n",
    "        x=base_encoder.layers[1](x)\n",
    "        x,encoder_state_h,encoder_state_c=base_encoder.layers[2](x)\n",
    "        encoder=tf.keras.models.Model(inputs=encoder_inputs,outputs=[encoder_state_h,encoder_state_c],name='chatbot_encoder')\n",
    "\n",
    "        decoder_input_state_h=tf.keras.Input(shape=(lstm_cells,))\n",
    "        decoder_input_state_c=tf.keras.Input(shape=(lstm_cells,))\n",
    "        decoder_inputs=tf.keras.Input(shape=(None,))\n",
    "        x=base_decoder.layers[0](decoder_inputs)\n",
    "        x=base_encoder.layers[1](x)\n",
    "        x,decoder_state_h,decoder_state_c=base_decoder.layers[2](x,initial_state=[decoder_input_state_h,decoder_input_state_c])\n",
    "        decoder_outputs=base_decoder.layers[-1](x)\n",
    "        decoder=tf.keras.models.Model(\n",
    "            inputs=[decoder_inputs,[decoder_input_state_h,decoder_input_state_c]],\n",
    "            outputs=[decoder_outputs,[decoder_state_h,decoder_state_c]],name='chatbot_decoder'\n",
    "        )\n",
    "        return encoder,decoder\n",
    "\n",
    "    def summary(self):\n",
    "        self.encoder.summary()\n",
    "        self.decoder.summary()\n",
    "\n",
    "    def softmax(self,z):\n",
    "        return np.exp(z)/sum(np.exp(z))\n",
    "\n",
    "    def sample(self,conditional_probability,temperature=0.5):\n",
    "        conditional_probability = np.asarray(conditional_probability).astype(\"float64\")\n",
    "        conditional_probability = np.log(conditional_probability) / temperature\n",
    "        reweighted_conditional_probability = self.softmax(conditional_probability)\n",
    "        probas = np.random.multinomial(1, reweighted_conditional_probability, 1)\n",
    "        return np.argmax(probas)\n",
    "\n",
    "    def preprocess(self,text):\n",
    "        text=clean_text(text)\n",
    "        seq=np.zeros((1,max_sequence_length),dtype=np.int32)\n",
    "        for i,word in enumerate(text.split()):\n",
    "            seq[:,i]=sequences2ids(word).numpy()[0]\n",
    "        return seq\n",
    "    \n",
    "    def postprocess(self,text):\n",
    "        text=re.sub(' - ','-',text.lower())\n",
    "        text=re.sub(' [.] ','. ',text)\n",
    "        text=re.sub(' [1] ','1',text)\n",
    "        text=re.sub(' [2] ','2',text)\n",
    "        text=re.sub(' [3] ','3',text)\n",
    "        text=re.sub(' [4] ','4',text)\n",
    "        text=re.sub(' [5] ','5',text)\n",
    "        text=re.sub(' [6] ','6',text)\n",
    "        text=re.sub(' [7] ','7',text)\n",
    "        text=re.sub(' [8] ','8',text)\n",
    "        text=re.sub(' [9] ','9',text)\n",
    "        text=re.sub(' [0] ','0',text)\n",
    "        text=re.sub(' [,] ',', ',text)\n",
    "        text=re.sub(' [?] ','? ',text)\n",
    "        text=re.sub(' [!] ','! ',text)\n",
    "        text=re.sub(' [$] ','$ ',text)\n",
    "        text=re.sub(' [&] ','& ',text)\n",
    "        text=re.sub(' [/] ','/ ',text)\n",
    "        text=re.sub(' [:] ',': ',text)\n",
    "        text=re.sub(' [;] ','; ',text)\n",
    "        text=re.sub(' [*] ','* ',text)\n",
    "        text=re.sub(' [\\'] ','\\'',text)\n",
    "        text=re.sub(' [\\\"] ','\\\"',text)\n",
    "        return text\n",
    "\n",
    "    def call(self,text,config=None):\n",
    "        input_seq=self.preprocess(text)\n",
    "        states=self.encoder(input_seq,training=False)\n",
    "        target_seq=np.zeros((1,1))\n",
    "        target_seq[:,:]=sequences2ids(['<start>']).numpy()[0][0]\n",
    "        stop_condition=False\n",
    "        decoded=[]\n",
    "        while not stop_condition:\n",
    "            decoder_outputs,new_states=self.decoder([target_seq,states],training=False)\n",
    "#             index=tf.argmax(decoder_outputs[:,-1,:],axis=-1).numpy().item()\n",
    "            index=self.sample(decoder_outputs[0,0,:]).item()\n",
    "            word=ids2sequences([index])\n",
    "            if word=='<end> ' or len(decoded)>=max_sequence_length:\n",
    "                stop_condition=True\n",
    "            else:\n",
    "                decoded.append(index)\n",
    "                target_seq=np.zeros((1,1))\n",
    "                target_seq[:,:]=index\n",
    "                states=new_states\n",
    "        return self.postprocess(ids2sequences(decoded))\n",
    "\n",
    "    def chat(self):\n",
    "        print(\"Bot: Hello! How can I assist you today?\")\n",
    "        while True:\n",
    "            user_input = input('User: ')\n",
    "            if user_input.lower() in ['quit', 'exit', 'bye']:\n",
    "                print('Bot: Goodbye! Take care.')\n",
    "                break\n",
    "            response = self.call(user_input)\n",
    "            print(f'Bot: {response}')\n",
    "\n",
    "# Initialize and summarize chatbot\n",
    "chatbot=RealTimeChatBot(model.encoder,model.decoder,name='chatbot')\n",
    "chatbot.summary()\n",
    "\n",
    "# Start a real-time chat with the chatbot\n",
    "chatbot.chat()\n"
   ]
  }
 ],
 "metadata": {
  "kernelspec": {
   "display_name": "Python 3",
   "language": "python",
   "name": "python3"
  },
  "language_info": {
   "codemirror_mode": {
    "name": "ipython",
    "version": 3
   },
   "file_extension": ".py",
   "mimetype": "text/x-python",
   "name": "python",
   "nbconvert_exporter": "python",
   "pygments_lexer": "ipython3",
   "version": "3.10.5"
  },
  "orig_nbformat": 4
 },
 "nbformat": 4,
 "nbformat_minor": 2
}
