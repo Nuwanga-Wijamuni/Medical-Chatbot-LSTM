{
 "cells": [
  {
   "cell_type": "code",
   "execution_count": 1,
   "metadata": {},
   "outputs": [],
   "source": [
    "import tensorflow as tf\n",
    "import numpy as np\n",
    "import pandas as pd\n",
    "import matplotlib.pyplot as plt\n",
    "import seaborn as sns\n",
    "from tensorflow.keras.layers import TextVectorization\n",
    "import re,string\n",
    "from tensorflow.keras.layers import LSTM,Dense,Embedding,Dropout,LayerNormalization"
   ]
  },
  {
   "cell_type": "code",
   "execution_count": 2,
   "metadata": {},
   "outputs": [],
   "source": [
    "# Load the dataset\n",
    "df = pd.read_excel(\"Allergy.xlsx\",header=0)"
   ]
  },
  {
   "cell_type": "code",
   "execution_count": 3,
   "metadata": {},
   "outputs": [],
   "source": [
    "# Set display options to show full content without truncation\n",
    "pd.set_option('display.max_colwidth', None)\n",
    "NewData = df[['Patient','Doctor']]"
   ]
  },
  {
   "cell_type": "code",
   "execution_count": 4,
   "metadata": {},
   "outputs": [
    {
     "name": "stdout",
     "output_type": "stream",
     "text": [
      "Dataframe size: 268\n"
     ]
    },
    {
     "data": {
      "text/html": [
       "<div>\n",
       "<style scoped>\n",
       "    .dataframe tbody tr th:only-of-type {\n",
       "        vertical-align: middle;\n",
       "    }\n",
       "\n",
       "    .dataframe tbody tr th {\n",
       "        vertical-align: top;\n",
       "    }\n",
       "\n",
       "    .dataframe thead th {\n",
       "        text-align: right;\n",
       "    }\n",
       "</style>\n",
       "<table border=\"1\" class=\"dataframe\">\n",
       "  <thead>\n",
       "    <tr style=\"text-align: right;\">\n",
       "      <th></th>\n",
       "      <th>Patient</th>\n",
       "      <th>Doctor</th>\n",
       "    </tr>\n",
       "  </thead>\n",
       "  <tbody>\n",
       "    <tr>\n",
       "      <th>0</th>\n",
       "      <td>Doctor, I've been feeling really strange lately. I had a reaction after eating something, and my throat felt like it was closing up. I'm really worried. Can you help me?</td>\n",
       "      <td>Of course, I'll do my best to help you. It sounds like you may have experienced an allergic reaction. Can you tell me more about what happened?</td>\n",
       "    </tr>\n",
       "    <tr>\n",
       "      <th>1</th>\n",
       "      <td>Well, I was at a restaurant and I had this dish with shrimp. Shortly after I finished eating, my lips started to swell, and I had difficulty breathing. I've never had this happen before, and it scared me.</td>\n",
       "      <td>I understand your concern. Based on your symptoms, it's possible that you had a severe allergic reaction called anaphylaxis. This is a serious condition that requires immediate medical attention. Have you experienced any other symptoms, such as hives, itching, or lightheadedness?</td>\n",
       "    </tr>\n",
       "    <tr>\n",
       "      <th>2</th>\n",
       "      <td>Yes, actually, I did notice some hives on my arms and chest, and I felt lightheaded and dizzy. I had no idea this could happen from eating shrimp. What exactly is anaphylaxis?</td>\n",
       "      <td>That's probably what's causing your reaction. Pork is a common allergen, and it can cause a variety of symptoms, including hives, difficulty breathing, and even anaphylaxis.</td>\n",
       "    </tr>\n",
       "    <tr>\n",
       "      <th>3</th>\n",
       "      <td>Anaphylaxis is a severe allergic reaction that can occur within minutes or even seconds after exposure to an allergen, such as shrimp in your case. It can affect multiple systems in your body and can be life-threatening if not treated promptly. Common symptoms include swelling of the lips, face, or throat, difficulty breathing, hives or rash, and a drop in blood pressure leading to dizziness or fainting.</td>\n",
       "      <td>That sounds really serious! I had no idea an allergic reaction could be so dangerous. What should I do if it happens again?</td>\n",
       "    </tr>\n",
       "    <tr>\n",
       "      <th>4</th>\n",
       "      <td>Good morning, Doctor. I've been experiencing some unusual symptoms, and I'm not sure what's going on. I noticed some skin issues and recently had a blood test done. Can you please take a look at the reports and help me understand what's happening?</td>\n",
       "      <td>Good morning. Of course, I'll be happy to assist you. Please hand me your reports, and let's discuss your symptoms in detail. What specific skin issues have you been experiencing?</td>\n",
       "    </tr>\n",
       "    <tr>\n",
       "      <th>5</th>\n",
       "      <td>Well, I've been having frequent rashes and hives on different parts of my body. They appear as red, itchy patches, and they come and go randomly. It's quite uncomfortable, and I'm not sure what triggers them.</td>\n",
       "      <td>I see. Skin rashes and hives can be indicative of an allergic reaction. It's important to identify the underlying cause. Now, let's take a look at your blood test results. Could you please pass them to me?</td>\n",
       "    </tr>\n",
       "    <tr>\n",
       "      <th>6</th>\n",
       "      <td>Here are the reports, Doctor. I hope they can provide some insight into my condition.</td>\n",
       "      <td>Thank you. Let me review these reports.</td>\n",
       "    </tr>\n",
       "    <tr>\n",
       "      <th>7</th>\n",
       "      <td>Doctor, I had a really scary experience after eating pork yesterday. My face swelled up, and I had difficulty breathing. I think it might have been an allergic reaction. Can you help me understand what happened?</td>\n",
       "      <td>I'm sorry to hear about your distressing experience. Allergic reactions can indeed occur after consuming certain foods. Let's discuss your symptoms in more detail. Did you notice any other reactions apart from the facial swelling and difficulty breathing?</td>\n",
       "    </tr>\n",
       "    <tr>\n",
       "      <th>8</th>\n",
       "      <td>Yes, I also had hives on my body, and I felt quite dizzy. It was really frightening, and I had no idea that this could happen from eating pork. Is it possible that I have an allergy to pork?</td>\n",
       "      <td>It's possible that you have developed an allergy to pork. Allergic reactions can vary from person to person, and some individuals can be allergic to specific types of meat. To better understand your condition, it would be helpful to review your skin and blood test reports. Can you please provide me with those?</td>\n",
       "    </tr>\n",
       "    <tr>\n",
       "      <th>9</th>\n",
       "      <td>Certainly, Doctor. Here are the reports. I hope they can shed some light on what's happening.</td>\n",
       "      <td>Thank you. Let me take a look at the report .Based on your blood test results, your IgE levels are elevated, indicating a possible allergic reaction. Additionally, your skin prick test shows a positive reaction to pork allergens, further suggesting an allergy to pork.</td>\n",
       "    </tr>\n",
       "    <tr>\n",
       "      <th>10</th>\n",
       "      <td>What should I do?</td>\n",
       "      <td>I recommend that you avoid beef in the future. If you have any more symptoms, please come back and see me.</td>\n",
       "    </tr>\n",
       "    <tr>\n",
       "      <th>11</th>\n",
       "      <td>Doctor, I had a scary experience after drinking a glass of milk yesterday. My throat started to swell, and I had trouble breathing. I suspect it might have been an allergic reaction. Can you please help me understand what happened?</td>\n",
       "      <td>I'm sorry to hear that you had such a distressing experience. Allergic reactions can occur after consuming certain foods, including milk. Let's discuss your symptoms in more detail. Did you notice any other reactions apart from the throat swelling and difficulty breathing?</td>\n",
       "    </tr>\n",
       "    <tr>\n",
       "      <th>12</th>\n",
       "      <td>Yes, I also had hives on my skin, and I felt quite nauseous and lightheaded. It was really frightening, and I had no idea that drinking milk could cause such a reaction. Is it possible that I have an allergy to milk?</td>\n",
       "      <td>It's possible that you have developed an allergy to milk. Allergic reactions to milk are quite common. To better understand your condition, it would be helpful to review your skin and blood test reports. Could you please provide me with those?</td>\n",
       "    </tr>\n",
       "    <tr>\n",
       "      <th>13</th>\n",
       "      <td>Certainly, Doctor. Here are the reports. I hope they can provide some insight into what's happening.</td>\n",
       "      <td>Thank you. Let me examine the reports and skin.</td>\n",
       "    </tr>\n",
       "    <tr>\n",
       "      <th>14</th>\n",
       "      <td>Doctor, something really alarming happened after I ate some chocolate. My whole body started itching, and I had trouble breathing. I suspect it might have been an allergic reaction. Can you please help me understand what's going on?</td>\n",
       "      <td>I'm sorry to hear that you had such a distressing experience. Allergic reactions can occur after consuming certain foods, including chocolate. Let's discuss your symptoms in more detail. Did you notice any other reactions apart from the itching and difficulty breathing?</td>\n",
       "    </tr>\n",
       "    <tr>\n",
       "      <th>15</th>\n",
       "      <td>Yes, I also had hives all over my body, and my face started to swell. I felt really anxious and had a rapid heartbeat. It was really scary, and I had no idea that chocolate could cause such a reaction. Could it be an allergy?</td>\n",
       "      <td>It's possible that you have developed an allergy to chocolate. Allergic reactions to chocolate can happen, although they are relatively rare. To better understand your condition, I would like to examine your skin and review your blood test reports. Could you please show me any visible skin reactions and provide me with the reports?</td>\n",
       "    </tr>\n",
       "    <tr>\n",
       "      <th>16</th>\n",
       "      <td>Certainly, Doctor. Here are the reports, and you can see some red rashes on my arms and chest.</td>\n",
       "      <td>Thank you. Let me examine your skin and review the reports</td>\n",
       "    </tr>\n",
       "    <tr>\n",
       "      <th>17</th>\n",
       "      <td>Doctor, I had a frightening experience after eating beef. I developed a rash all over my body, and I had difficulty breathing. I suspect it might have been an allergic reaction. Can you please help me understand what's happening?</td>\n",
       "      <td>I'm sorry to hear about your distressing experience. Allergic reactions can indeed occur after consuming certain foods, including beef. Let's discuss your symptoms in more detail. Did you notice any other reactions apart from the rash and difficulty breathing?</td>\n",
       "    </tr>\n",
       "    <tr>\n",
       "      <th>18</th>\n",
       "      <td>Yes, I also experienced severe itching and my face started to swell. I felt really anxious and had a tightness in my chest. It was really scary, and I had no idea that beef could cause such a reaction. Could it be an allergy?</td>\n",
       "      <td>It's possible that you have developed an allergy to beef. Allergic reactions to beef can occur, although they are relatively rare. To better understand your condition, I would like to examine your skin and review your blood test reports. Could you please show me any visible skin reactions and provide me with the reports?</td>\n",
       "    </tr>\n",
       "    <tr>\n",
       "      <th>19</th>\n",
       "      <td>Certainly, Doctor. Here are the reports, and you can see the red rashes on my legs and arms.</td>\n",
       "      <td>Thank you. Let me examine your skin and review the reports.</td>\n",
       "    </tr>\n",
       "  </tbody>\n",
       "</table>\n",
       "</div>"
      ],
      "text/plain": [
       "                                                                                                                                                                                                                                                                                                                                                                                                                    Patient  \\\n",
       "0                                                                                                                                                                                                                                                 Doctor, I've been feeling really strange lately. I had a reaction after eating something, and my throat felt like it was closing up. I'm really worried. Can you help me?   \n",
       "1                                                                                                                                                                                                              Well, I was at a restaurant and I had this dish with shrimp. Shortly after I finished eating, my lips started to swell, and I had difficulty breathing. I've never had this happen before, and it scared me.   \n",
       "2                                                                                                                                                                                                                                           Yes, actually, I did notice some hives on my arms and chest, and I felt lightheaded and dizzy. I had no idea this could happen from eating shrimp. What exactly is anaphylaxis?   \n",
       "3   Anaphylaxis is a severe allergic reaction that can occur within minutes or even seconds after exposure to an allergen, such as shrimp in your case. It can affect multiple systems in your body and can be life-threatening if not treated promptly. Common symptoms include swelling of the lips, face, or throat, difficulty breathing, hives or rash, and a drop in blood pressure leading to dizziness or fainting.   \n",
       "4                                                                                                                                                                   Good morning, Doctor. I've been experiencing some unusual symptoms, and I'm not sure what's going on. I noticed some skin issues and recently had a blood test done. Can you please take a look at the reports and help me understand what's happening?   \n",
       "5                                                                                                                                                                                                          Well, I've been having frequent rashes and hives on different parts of my body. They appear as red, itchy patches, and they come and go randomly. It's quite uncomfortable, and I'm not sure what triggers them.   \n",
       "6                                                                                                                                                                                                                                                                                                                                     Here are the reports, Doctor. I hope they can provide some insight into my condition.   \n",
       "7                                                                                                                                                                                                       Doctor, I had a really scary experience after eating pork yesterday. My face swelled up, and I had difficulty breathing. I think it might have been an allergic reaction. Can you help me understand what happened?   \n",
       "8                                                                                                                                                                                                                            Yes, I also had hives on my body, and I felt quite dizzy. It was really frightening, and I had no idea that this could happen from eating pork. Is it possible that I have an allergy to pork?   \n",
       "9                                                                                                                                                                                                                                                                                                                             Certainly, Doctor. Here are the reports. I hope they can shed some light on what's happening.   \n",
       "10                                                                                                                                                                                                                                                                                                                                                                                                        What should I do?   \n",
       "11                                                                                                                                                                                  Doctor, I had a scary experience after drinking a glass of milk yesterday. My throat started to swell, and I had trouble breathing. I suspect it might have been an allergic reaction. Can you please help me understand what happened?   \n",
       "12                                                                                                                                                                                                 Yes, I also had hives on my skin, and I felt quite nauseous and lightheaded. It was really frightening, and I had no idea that drinking milk could cause such a reaction. Is it possible that I have an allergy to milk?   \n",
       "13                                                                                                                                                                                                                                                                                                                     Certainly, Doctor. Here are the reports. I hope they can provide some insight into what's happening.   \n",
       "14                                                                                                                                                                                 Doctor, something really alarming happened after I ate some chocolate. My whole body started itching, and I had trouble breathing. I suspect it might have been an allergic reaction. Can you please help me understand what's going on?   \n",
       "15                                                                                                                                                                                        Yes, I also had hives all over my body, and my face started to swell. I felt really anxious and had a rapid heartbeat. It was really scary, and I had no idea that chocolate could cause such a reaction. Could it be an allergy?   \n",
       "16                                                                                                                                                                                                                                                                                                                           Certainly, Doctor. Here are the reports, and you can see some red rashes on my arms and chest.   \n",
       "17                                                                                                                                                                                    Doctor, I had a frightening experience after eating beef. I developed a rash all over my body, and I had difficulty breathing. I suspect it might have been an allergic reaction. Can you please help me understand what's happening?   \n",
       "18                                                                                                                                                                                        Yes, I also experienced severe itching and my face started to swell. I felt really anxious and had a tightness in my chest. It was really scary, and I had no idea that beef could cause such a reaction. Could it be an allergy?   \n",
       "19                                                                                                                                                                                                                                                                                                                             Certainly, Doctor. Here are the reports, and you can see the red rashes on my legs and arms.   \n",
       "\n",
       "                                                                                                                                                                                                                                                                                                                                           Doctor  \n",
       "0                                                                                                                                                                                                 Of course, I'll do my best to help you. It sounds like you may have experienced an allergic reaction. Can you tell me more about what happened?  \n",
       "1                                                        I understand your concern. Based on your symptoms, it's possible that you had a severe allergic reaction called anaphylaxis. This is a serious condition that requires immediate medical attention. Have you experienced any other symptoms, such as hives, itching, or lightheadedness?  \n",
       "2                                                                                                                                                                   That's probably what's causing your reaction. Pork is a common allergen, and it can cause a variety of symptoms, including hives, difficulty breathing, and even anaphylaxis.  \n",
       "3                                                                                                                                                                                                                     That sounds really serious! I had no idea an allergic reaction could be so dangerous. What should I do if it happens again?  \n",
       "4                                                                                                                                                             Good morning. Of course, I'll be happy to assist you. Please hand me your reports, and let's discuss your symptoms in detail. What specific skin issues have you been experiencing?  \n",
       "5                                                                                                                                   I see. Skin rashes and hives can be indicative of an allergic reaction. It's important to identify the underlying cause. Now, let's take a look at your blood test results. Could you please pass them to me?  \n",
       "6                                                                                                                                                                                                                                                                                                        Thank you. Let me review these reports.   \n",
       "7                                                                                 I'm sorry to hear about your distressing experience. Allergic reactions can indeed occur after consuming certain foods. Let's discuss your symptoms in more detail. Did you notice any other reactions apart from the facial swelling and difficulty breathing?  \n",
       "8                         It's possible that you have developed an allergy to pork. Allergic reactions can vary from person to person, and some individuals can be allergic to specific types of meat. To better understand your condition, it would be helpful to review your skin and blood test reports. Can you please provide me with those?  \n",
       "9                                                                    Thank you. Let me take a look at the report .Based on your blood test results, your IgE levels are elevated, indicating a possible allergic reaction. Additionally, your skin prick test shows a positive reaction to pork allergens, further suggesting an allergy to pork.  \n",
       "10                                                                                                                                                                                                                                     I recommend that you avoid beef in the future. If you have any more symptoms, please come back and see me.  \n",
       "11                                                              I'm sorry to hear that you had such a distressing experience. Allergic reactions can occur after consuming certain foods, including milk. Let's discuss your symptoms in more detail. Did you notice any other reactions apart from the throat swelling and difficulty breathing?  \n",
       "12                                                                                            It's possible that you have developed an allergy to milk. Allergic reactions to milk are quite common. To better understand your condition, it would be helpful to review your skin and blood test reports. Could you please provide me with those?  \n",
       "13                                                                                                                                                                                                                                                                                                Thank you. Let me examine the reports and skin.  \n",
       "14                                                                 I'm sorry to hear that you had such a distressing experience. Allergic reactions can occur after consuming certain foods, including chocolate. Let's discuss your symptoms in more detail. Did you notice any other reactions apart from the itching and difficulty breathing?  \n",
       "15  It's possible that you have developed an allergy to chocolate. Allergic reactions to chocolate can happen, although they are relatively rare. To better understand your condition, I would like to examine your skin and review your blood test reports. Could you please show me any visible skin reactions and provide me with the reports?  \n",
       "16                                                                                                                                                                                                                                                                                     Thank you. Let me examine your skin and review the reports  \n",
       "17                                                                           I'm sorry to hear about your distressing experience. Allergic reactions can indeed occur after consuming certain foods, including beef. Let's discuss your symptoms in more detail. Did you notice any other reactions apart from the rash and difficulty breathing?  \n",
       "18             It's possible that you have developed an allergy to beef. Allergic reactions to beef can occur, although they are relatively rare. To better understand your condition, I would like to examine your skin and review your blood test reports. Could you please show me any visible skin reactions and provide me with the reports?  \n",
       "19                                                                                                                                                                                                                                                                                    Thank you. Let me examine your skin and review the reports.  "
      ]
     },
     "execution_count": 4,
     "metadata": {},
     "output_type": "execute_result"
    }
   ],
   "source": [
    "print(f'Dataframe size: {len(NewData)}')\n",
    "NewData.head(20)"
   ]
  },
  {
   "cell_type": "code",
   "execution_count": 5,
   "metadata": {},
   "outputs": [
    {
     "name": "stdout",
     "output_type": "stream",
     "text": [
      "<class 'pandas.core.frame.DataFrame'>\n",
      "RangeIndex: 268 entries, 0 to 267\n",
      "Data columns (total 2 columns):\n",
      " #   Column   Non-Null Count  Dtype \n",
      "---  ------   --------------  ----- \n",
      " 0   Patient  246 non-null    object\n",
      " 1   Doctor   258 non-null    object\n",
      "dtypes: object(2)\n",
      "memory usage: 4.3+ KB\n"
     ]
    }
   ],
   "source": [
    "NewData.info()"
   ]
  },
  {
   "cell_type": "code",
   "execution_count": 6,
   "metadata": {},
   "outputs": [
    {
     "name": "stderr",
     "output_type": "stream",
     "text": [
      "C:\\Users\\Nuwanga Wijamuni\\AppData\\Local\\Temp\\ipykernel_21064\\1690811942.py:1: SettingWithCopyWarning: \n",
      "A value is trying to be set on a copy of a slice from a DataFrame.\n",
      "Try using .loc[row_indexer,col_indexer] = value instead\n",
      "\n",
      "See the caveats in the documentation: https://pandas.pydata.org/pandas-docs/stable/user_guide/indexing.html#returning-a-view-versus-a-copy\n",
      "  NewData['question Tokens'] = NewData['Patient'].apply(lambda x: len(str(x).split()))\n"
     ]
    },
    {
     "data": {
      "image/png": "[encoded data removed]",
      "text/plain": [
       "<Figure size 2000x500 with 2 Axes>"
      ]
     },
     "metadata": {},
     "output_type": "display_data"
    },
    {
     "data": {
      "image/png": "[encoded data removed]",
      "text/plain": [
       "<Figure size 600x600 with 3 Axes>"
      ]
     },
     "metadata": {},
     "output_type": "display_data"
    }
   ],
   "source": [
    "NewData['question Tokens'] = NewData['Patient'].apply(lambda x: len(str(x).split()))\n",
    "NewData['answer tokens'] = NewData['Doctor'].apply(lambda x: len(str(x).split()))\n",
    "plt.style.use('fivethirtyeight')\n",
    "fig, ax = plt.subplots(nrows=1, ncols=2, figsize=(20, 5))\n",
    "sns.set_palette('Set2')\n",
    "\n",
    "sns.histplot(x=NewData['question Tokens'], data=NewData, kde=True, ax=ax[0])\n",
    "sns.histplot(x=NewData['answer tokens'], data=NewData, kde=True, ax=ax[1])\n",
    "sns.jointplot(x='question Tokens', y='answer tokens', data=NewData, kind='kde', fill=True, cmap='YlGnBu')\n",
    "\n",
    "plt.show()\n",
    "plt.show()"
   ]
  },
  {
   "cell_type": "code",
   "execution_count": 7,
   "metadata": {},
   "outputs": [],
   "source": [
    "\n",
    "def clean_text(text):\n",
    "    text=re.sub('-',' ',text.lower())\n",
    "    text=re.sub('[.]',' . ',text)\n",
    "    text=re.sub('[1]',' 1 ',text)\n",
    "    text=re.sub('[2]',' 2 ',text)\n",
    "    text=re.sub('[3]',' 3 ',text)\n",
    "    text=re.sub('[4]',' 4 ',text)\n",
    "    text=re.sub('[5]',' 5 ',text)\n",
    "    text=re.sub('[6]',' 6 ',text)\n",
    "    text=re.sub('[7]',' 7 ',text)\n",
    "    text=re.sub('[8]',' 8 ',text)\n",
    "    text=re.sub('[9]',' 9 ',text)\n",
    "    text=re.sub('[0]',' 0 ',text)\n",
    "    text=re.sub('[,]',' , ',text)\n",
    "    text=re.sub('[?]',' ? ',text)\n",
    "    text=re.sub('[!]',' ! ',text)\n",
    "    text=re.sub('[$]',' $ ',text)\n",
    "    text=re.sub('[&]',' & ',text)\n",
    "    text=re.sub('[/]',' / ',text)\n",
    "    text=re.sub('[:]',' : ',text)\n",
    "    text=re.sub('[;]',' ; ',text)\n",
    "    text=re.sub('[*]',' * ',text)\n",
    "    text=re.sub('[\\']',' \\' ',text)\n",
    "    text=re.sub('[\\\"]',' \\\" ',text)\n",
    "    text=re.sub('\\t',' ',text)\n",
    "    return text"
   ]
  },
  {
   "cell_type": "code",
   "execution_count": 8,
   "metadata": {},
   "outputs": [
    {
     "name": "stdout",
     "output_type": "stream",
     "text": [
      "<class 'pandas.core.frame.DataFrame'>\n",
      "RangeIndex: 268 entries, 0 to 267\n",
      "Data columns (total 4 columns):\n",
      " #   Column           Non-Null Count  Dtype \n",
      "---  ------           --------------  ----- \n",
      " 0   Patient          246 non-null    object\n",
      " 1   Doctor           258 non-null    object\n",
      " 2   question Tokens  268 non-null    int64 \n",
      " 3   answer tokens    268 non-null    int64 \n",
      "dtypes: int64(2), object(2)\n",
      "memory usage: 8.5+ KB\n"
     ]
    }
   ],
   "source": [
    "NewData.info()"
   ]
  },
  {
   "cell_type": "code",
   "execution_count": 9,
   "metadata": {},
   "outputs": [
    {
     "data": {
      "text/html": [
       "<div>\n",
       "<style scoped>\n",
       "    .dataframe tbody tr th:only-of-type {\n",
       "        vertical-align: middle;\n",
       "    }\n",
       "\n",
       "    .dataframe tbody tr th {\n",
       "        vertical-align: top;\n",
       "    }\n",
       "\n",
       "    .dataframe thead th {\n",
       "        text-align: right;\n",
       "    }\n",
       "</style>\n",
       "<table border=\"1\" class=\"dataframe\">\n",
       "  <thead>\n",
       "    <tr style=\"text-align: right;\">\n",
       "      <th></th>\n",
       "      <th>Patient</th>\n",
       "      <th>Doctor</th>\n",
       "      <th>encoder_inputs</th>\n",
       "      <th>decoder_targets</th>\n",
       "      <th>decoder_inputs</th>\n",
       "    </tr>\n",
       "  </thead>\n",
       "  <tbody>\n",
       "    <tr>\n",
       "      <th>0</th>\n",
       "      <td>Doctor, I've been feeling really strange lately. I had a reaction after eating something, and my throat felt like it was closing up. I'm really worried. Can you help me?</td>\n",
       "      <td>Of course, I'll do my best to help you. It sounds like you may have experienced an allergic reaction. Can you tell me more about what happened?</td>\n",
       "      <td>doctor ,  i ' ve been feeling really strange lately .  i had a reaction after eating something ,  and my throat felt like it was closing up .  i ' m really worried .  can you help me ?</td>\n",
       "      <td>of course ,  i ' ll do my best to help you .  it sounds like you may have experienced an allergic reaction .  can you tell me more about what happened ?  &lt;end&gt;</td>\n",
       "      <td>&lt;start&gt; of course ,  i ' ll do my best to help you .  it sounds like you may have experienced an allergic reaction .  can you tell me more about what happened ?  &lt;end&gt;</td>\n",
       "    </tr>\n",
       "    <tr>\n",
       "      <th>1</th>\n",
       "      <td>Well, I was at a restaurant and I had this dish with shrimp. Shortly after I finished eating, my lips started to swell, and I had difficulty breathing. I've never had this happen before, and it scared me.</td>\n",
       "      <td>I understand your concern. Based on your symptoms, it's possible that you had a severe allergic reaction called anaphylaxis. This is a serious condition that requires immediate medical attention. Have you experienced any other symptoms, such as hives, itching, or lightheadedness?</td>\n",
       "      <td>well ,  i was at a restaurant and i had this dish with shrimp .  shortly after i finished eating ,  my lips started to swell ,  and i had difficulty breathing .  i ' ve never had this happen before ,  and it scared me .</td>\n",
       "      <td>i understand your concern .  based on your symptoms ,  it ' s possible that you had a severe allergic reaction called anaphylaxis .  this is a serious condition that requires immediate medical attention .  have you experienced any other symptoms ,  such as hives ,  itching ,  or lightheadedness ?  &lt;end&gt;</td>\n",
       "      <td>&lt;start&gt; i understand your concern .  based on your symptoms ,  it ' s possible that you had a severe allergic reaction called anaphylaxis .  this is a serious condition that requires immediate medical attention .  have you experienced any other symptoms ,  such as hives ,  itching ,  or lightheadedness ?  &lt;end&gt;</td>\n",
       "    </tr>\n",
       "    <tr>\n",
       "      <th>2</th>\n",
       "      <td>Yes, actually, I did notice some hives on my arms and chest, and I felt lightheaded and dizzy. I had no idea this could happen from eating shrimp. What exactly is anaphylaxis?</td>\n",
       "      <td>That's probably what's causing your reaction. Pork is a common allergen, and it can cause a variety of symptoms, including hives, difficulty breathing, and even anaphylaxis.</td>\n",
       "      <td>yes ,  actually ,  i did notice some hives on my arms and chest ,  and i felt lightheaded and dizzy .  i had no idea this could happen from eating shrimp .  what exactly is anaphylaxis ?</td>\n",
       "      <td>that ' s probably what ' s causing your reaction .  pork is a common allergen ,  and it can cause a variety of symptoms ,  including hives ,  difficulty breathing ,  and even anaphylaxis .  &lt;end&gt;</td>\n",
       "      <td>&lt;start&gt; that ' s probably what ' s causing your reaction .  pork is a common allergen ,  and it can cause a variety of symptoms ,  including hives ,  difficulty breathing ,  and even anaphylaxis .  &lt;end&gt;</td>\n",
       "    </tr>\n",
       "    <tr>\n",
       "      <th>3</th>\n",
       "      <td>Anaphylaxis is a severe allergic reaction that can occur within minutes or even seconds after exposure to an allergen, such as shrimp in your case. It can affect multiple systems in your body and can be life-threatening if not treated promptly. Common symptoms include swelling of the lips, face, or throat, difficulty breathing, hives or rash, and a drop in blood pressure leading to dizziness or fainting.</td>\n",
       "      <td>That sounds really serious! I had no idea an allergic reaction could be so dangerous. What should I do if it happens again?</td>\n",
       "      <td>anaphylaxis is a severe allergic reaction that can occur within minutes or even seconds after exposure to an allergen ,  such as shrimp in your case .  it can affect multiple systems in your body and can be life threatening if not treated promptly .  common symptoms include swelling of the lips ,  face ,  or throat ,  difficulty breathing ,  hives or rash ,  and a drop in blood pressure leading to dizziness or fainting .</td>\n",
       "      <td>that sounds really serious !  i had no idea an allergic reaction could be so dangerous .  what should i do if it happens again ?  &lt;end&gt;</td>\n",
       "      <td>&lt;start&gt; that sounds really serious !  i had no idea an allergic reaction could be so dangerous .  what should i do if it happens again ?  &lt;end&gt;</td>\n",
       "    </tr>\n",
       "    <tr>\n",
       "      <th>4</th>\n",
       "      <td>Good morning, Doctor. I've been experiencing some unusual symptoms, and I'm not sure what's going on. I noticed some skin issues and recently had a blood test done. Can you please take a look at the reports and help me understand what's happening?</td>\n",
       "      <td>Good morning. Of course, I'll be happy to assist you. Please hand me your reports, and let's discuss your symptoms in detail. What specific skin issues have you been experiencing?</td>\n",
       "      <td>good morning ,  doctor .  i ' ve been experiencing some unusual symptoms ,  and i ' m not sure what ' s going on .  i noticed some skin issues and recently had a blood test done .  can you please take a look at the reports and help me understand what ' s happening ?</td>\n",
       "      <td>good morning .  of course ,  i ' ll be happy to assist you .  please hand me your reports ,  and let ' s discuss your symptoms in detail .  what specific skin issues have you been experiencing ?  &lt;end&gt;</td>\n",
       "      <td>&lt;start&gt; good morning .  of course ,  i ' ll be happy to assist you .  please hand me your reports ,  and let ' s discuss your symptoms in detail .  what specific skin issues have you been experiencing ?  &lt;end&gt;</td>\n",
       "    </tr>\n",
       "    <tr>\n",
       "      <th>5</th>\n",
       "      <td>Well, I've been having frequent rashes and hives on different parts of my body. They appear as red, itchy patches, and they come and go randomly. It's quite uncomfortable, and I'm not sure what triggers them.</td>\n",
       "      <td>I see. Skin rashes and hives can be indicative of an allergic reaction. It's important to identify the underlying cause. Now, let's take a look at your blood test results. Could you please pass them to me?</td>\n",
       "      <td>well ,  i ' ve been having frequent rashes and hives on different parts of my body .  they appear as red ,  itchy patches ,  and they come and go randomly .  it ' s quite uncomfortable ,  and i ' m not sure what triggers them .</td>\n",
       "      <td>i see .  skin rashes and hives can be indicative of an allergic reaction .  it ' s important to identify the underlying cause .  now ,  let ' s take a look at your blood test results .  could you please pass them to me ?  &lt;end&gt;</td>\n",
       "      <td>&lt;start&gt;  i see .  skin rashes and hives can be indicative of an allergic reaction .  it ' s important to identify the underlying cause .  now ,  let ' s take a look at your blood test results .  could you please pass them to me ?  &lt;end&gt;</td>\n",
       "    </tr>\n",
       "    <tr>\n",
       "      <th>6</th>\n",
       "      <td>Here are the reports, Doctor. I hope they can provide some insight into my condition.</td>\n",
       "      <td>Thank you. Let me review these reports.</td>\n",
       "      <td>here are the reports ,  doctor .  i hope they can provide some insight into my condition .</td>\n",
       "      <td>thank you .  let me review these reports .   &lt;end&gt;</td>\n",
       "      <td>&lt;start&gt; thank you .  let me review these reports .   &lt;end&gt;</td>\n",
       "    </tr>\n",
       "    <tr>\n",
       "      <th>7</th>\n",
       "      <td>Doctor, I had a really scary experience after eating pork yesterday. My face swelled up, and I had difficulty breathing. I think it might have been an allergic reaction. Can you help me understand what happened?</td>\n",
       "      <td>I'm sorry to hear about your distressing experience. Allergic reactions can indeed occur after consuming certain foods. Let's discuss your symptoms in more detail. Did you notice any other reactions apart from the facial swelling and difficulty breathing?</td>\n",
       "      <td>doctor ,  i had a really scary experience after eating pork yesterday .  my face swelled up ,  and i had difficulty breathing .  i think it might have been an allergic reaction .  can you help me understand what happened ?</td>\n",
       "      <td>i ' m sorry to hear about your distressing experience .  allergic reactions can indeed occur after consuming certain foods .  let ' s discuss your symptoms in more detail .  did you notice any other reactions apart from the facial swelling and difficulty breathing ?  &lt;end&gt;</td>\n",
       "      <td>&lt;start&gt;  i ' m sorry to hear about your distressing experience .  allergic reactions can indeed occur after consuming certain foods .  let ' s discuss your symptoms in more detail .  did you notice any other reactions apart from the facial swelling and difficulty breathing ?  &lt;end&gt;</td>\n",
       "    </tr>\n",
       "    <tr>\n",
       "      <th>8</th>\n",
       "      <td>Yes, I also had hives on my body, and I felt quite dizzy. It was really frightening, and I had no idea that this could happen from eating pork. Is it possible that I have an allergy to pork?</td>\n",
       "      <td>It's possible that you have developed an allergy to pork. Allergic reactions can vary from person to person, and some individuals can be allergic to specific types of meat. To better understand your condition, it would be helpful to review your skin and blood test reports. Can you please provide me with those?</td>\n",
       "      <td>yes ,  i also had hives on my body ,  and i felt quite dizzy .  it was really frightening ,  and i had no idea that this could happen from eating pork .  is it possible that i have an allergy to pork ?</td>\n",
       "      <td>it ' s possible that you have developed an allergy to pork .  allergic reactions can vary from person to person ,  and some individuals can be allergic to specific types of meat .  to better understand your condition ,  it would be helpful to review your skin and blood test reports .  can you please provide me with those ?  &lt;end&gt;</td>\n",
       "      <td>&lt;start&gt;  it ' s possible that you have developed an allergy to pork .  allergic reactions can vary from person to person ,  and some individuals can be allergic to specific types of meat .  to better understand your condition ,  it would be helpful to review your skin and blood test reports .  can you please provide me with those ?  &lt;end&gt;</td>\n",
       "    </tr>\n",
       "    <tr>\n",
       "      <th>9</th>\n",
       "      <td>Certainly, Doctor. Here are the reports. I hope they can shed some light on what's happening.</td>\n",
       "      <td>Thank you. Let me take a look at the report .Based on your blood test results, your IgE levels are elevated, indicating a possible allergic reaction. Additionally, your skin prick test shows a positive reaction to pork allergens, further suggesting an allergy to pork.</td>\n",
       "      <td>certainly ,  doctor .  here are the reports .  i hope they can shed some light on what ' s happening .</td>\n",
       "      <td>thank you .  let me take a look at the report  . based on your blood test results ,  your ige levels are elevated ,  indicating a possible allergic reaction .  additionally ,  your skin prick test shows a positive reaction to pork allergens ,  further suggesting an allergy to pork .  &lt;end&gt;</td>\n",
       "      <td>&lt;start&gt; thank you .  let me take a look at the report  . based on your blood test results ,  your ige levels are elevated ,  indicating a possible allergic reaction .  additionally ,  your skin prick test shows a positive reaction to pork allergens ,  further suggesting an allergy to pork .  &lt;end&gt;</td>\n",
       "    </tr>\n",
       "  </tbody>\n",
       "</table>\n",
       "</div>"
      ],
      "text/plain": [
       "                                                                                                                                                                                                                                                                                                                                                                                                                   Patient  \\\n",
       "0                                                                                                                                                                                                                                                Doctor, I've been feeling really strange lately. I had a reaction after eating something, and my throat felt like it was closing up. I'm really worried. Can you help me?   \n",
       "1                                                                                                                                                                                                             Well, I was at a restaurant and I had this dish with shrimp. Shortly after I finished eating, my lips started to swell, and I had difficulty breathing. I've never had this happen before, and it scared me.   \n",
       "2                                                                                                                                                                                                                                          Yes, actually, I did notice some hives on my arms and chest, and I felt lightheaded and dizzy. I had no idea this could happen from eating shrimp. What exactly is anaphylaxis?   \n",
       "3  Anaphylaxis is a severe allergic reaction that can occur within minutes or even seconds after exposure to an allergen, such as shrimp in your case. It can affect multiple systems in your body and can be life-threatening if not treated promptly. Common symptoms include swelling of the lips, face, or throat, difficulty breathing, hives or rash, and a drop in blood pressure leading to dizziness or fainting.   \n",
       "4                                                                                                                                                                  Good morning, Doctor. I've been experiencing some unusual symptoms, and I'm not sure what's going on. I noticed some skin issues and recently had a blood test done. Can you please take a look at the reports and help me understand what's happening?   \n",
       "5                                                                                                                                                                                                         Well, I've been having frequent rashes and hives on different parts of my body. They appear as red, itchy patches, and they come and go randomly. It's quite uncomfortable, and I'm not sure what triggers them.   \n",
       "6                                                                                                                                                                                                                                                                                                                                    Here are the reports, Doctor. I hope they can provide some insight into my condition.   \n",
       "7                                                                                                                                                                                                      Doctor, I had a really scary experience after eating pork yesterday. My face swelled up, and I had difficulty breathing. I think it might have been an allergic reaction. Can you help me understand what happened?   \n",
       "8                                                                                                                                                                                                                           Yes, I also had hives on my body, and I felt quite dizzy. It was really frightening, and I had no idea that this could happen from eating pork. Is it possible that I have an allergy to pork?   \n",
       "9                                                                                                                                                                                                                                                                                                                            Certainly, Doctor. Here are the reports. I hope they can shed some light on what's happening.   \n",
       "\n",
       "                                                                                                                                                                                                                                                                                                                     Doctor  \\\n",
       "0                                                                                                                                                                           Of course, I'll do my best to help you. It sounds like you may have experienced an allergic reaction. Can you tell me more about what happened?   \n",
       "1                                  I understand your concern. Based on your symptoms, it's possible that you had a severe allergic reaction called anaphylaxis. This is a serious condition that requires immediate medical attention. Have you experienced any other symptoms, such as hives, itching, or lightheadedness?   \n",
       "2                                                                                                                                             That's probably what's causing your reaction. Pork is a common allergen, and it can cause a variety of symptoms, including hives, difficulty breathing, and even anaphylaxis.   \n",
       "3                                                                                                                                                                                               That sounds really serious! I had no idea an allergic reaction could be so dangerous. What should I do if it happens again?   \n",
       "4                                                                                                                                       Good morning. Of course, I'll be happy to assist you. Please hand me your reports, and let's discuss your symptoms in detail. What specific skin issues have you been experiencing?   \n",
       "5                                                                                                             I see. Skin rashes and hives can be indicative of an allergic reaction. It's important to identify the underlying cause. Now, let's take a look at your blood test results. Could you please pass them to me?   \n",
       "6                                                                                                                                                                                                                                                                                  Thank you. Let me review these reports.    \n",
       "7                                                           I'm sorry to hear about your distressing experience. Allergic reactions can indeed occur after consuming certain foods. Let's discuss your symptoms in more detail. Did you notice any other reactions apart from the facial swelling and difficulty breathing?   \n",
       "8   It's possible that you have developed an allergy to pork. Allergic reactions can vary from person to person, and some individuals can be allergic to specific types of meat. To better understand your condition, it would be helpful to review your skin and blood test reports. Can you please provide me with those?   \n",
       "9                                              Thank you. Let me take a look at the report .Based on your blood test results, your IgE levels are elevated, indicating a possible allergic reaction. Additionally, your skin prick test shows a positive reaction to pork allergens, further suggesting an allergy to pork.   \n",
       "\n",
       "                                                                                                                                                                                                                                                                                                                                                                                                                              encoder_inputs  \\\n",
       "0                                                                                                                                                                                                                                                  doctor ,  i ' ve been feeling really strange lately .  i had a reaction after eating something ,  and my throat felt like it was closing up .  i ' m really worried .  can you help me ?    \n",
       "1                                                                                                                                                                                                               well ,  i was at a restaurant and i had this dish with shrimp .  shortly after i finished eating ,  my lips started to swell ,  and i had difficulty breathing .  i ' ve never had this happen before ,  and it scared me .    \n",
       "2                                                                                                                                                                                                                                                yes ,  actually ,  i did notice some hives on my arms and chest ,  and i felt lightheaded and dizzy .  i had no idea this could happen from eating shrimp .  what exactly is anaphylaxis ?    \n",
       "3  anaphylaxis is a severe allergic reaction that can occur within minutes or even seconds after exposure to an allergen ,  such as shrimp in your case .  it can affect multiple systems in your body and can be life threatening if not treated promptly .  common symptoms include swelling of the lips ,  face ,  or throat ,  difficulty breathing ,  hives or rash ,  and a drop in blood pressure leading to dizziness or fainting .    \n",
       "4                                                                                                                                                                good morning ,  doctor .  i ' ve been experiencing some unusual symptoms ,  and i ' m not sure what ' s going on .  i noticed some skin issues and recently had a blood test done .  can you please take a look at the reports and help me understand what ' s happening ?    \n",
       "5                                                                                                                                                                                                       well ,  i ' ve been having frequent rashes and hives on different parts of my body .  they appear as red ,  itchy patches ,  and they come and go randomly .  it ' s quite uncomfortable ,  and i ' m not sure what triggers them .    \n",
       "6                                                                                                                                                                                                                                                                                                                                                here are the reports ,  doctor .  i hope they can provide some insight into my condition .    \n",
       "7                                                                                                                                                                                                            doctor ,  i had a really scary experience after eating pork yesterday .  my face swelled up ,  and i had difficulty breathing .  i think it might have been an allergic reaction .  can you help me understand what happened ?    \n",
       "8                                                                                                                                                                                                                                 yes ,  i also had hives on my body ,  and i felt quite dizzy .  it was really frightening ,  and i had no idea that this could happen from eating pork .  is it possible that i have an allergy to pork ?    \n",
       "9                                                                                                                                                                                                                                                                                                                                    certainly ,  doctor .  here are the reports .  i hope they can shed some light on what ' s happening .    \n",
       "\n",
       "                                                                                                                                                                                                                                                                                                                                decoder_targets  \\\n",
       "0                                                                                                                                                                               of course ,  i ' ll do my best to help you .  it sounds like you may have experienced an allergic reaction .  can you tell me more about what happened ?  <end>   \n",
       "1                              i understand your concern .  based on your symptoms ,  it ' s possible that you had a severe allergic reaction called anaphylaxis .  this is a serious condition that requires immediate medical attention .  have you experienced any other symptoms ,  such as hives ,  itching ,  or lightheadedness ?  <end>   \n",
       "2                                                                                                                                           that ' s probably what ' s causing your reaction .  pork is a common allergen ,  and it can cause a variety of symptoms ,  including hives ,  difficulty breathing ,  and even anaphylaxis .  <end>   \n",
       "3                                                                                                                                                                                                       that sounds really serious !  i had no idea an allergic reaction could be so dangerous .  what should i do if it happens again ?  <end>   \n",
       "4                                                                                                                                     good morning .  of course ,  i ' ll be happy to assist you .  please hand me your reports ,  and let ' s discuss your symptoms in detail .  what specific skin issues have you been experiencing ?  <end>   \n",
       "5                                                                                                           i see .  skin rashes and hives can be indicative of an allergic reaction .  it ' s important to identify the underlying cause .  now ,  let ' s take a look at your blood test results .  could you please pass them to me ?  <end>   \n",
       "6                                                                                                                                                                                                                                                                                            thank you .  let me review these reports .   <end>   \n",
       "7                                                             i ' m sorry to hear about your distressing experience .  allergic reactions can indeed occur after consuming certain foods .  let ' s discuss your symptoms in more detail .  did you notice any other reactions apart from the facial swelling and difficulty breathing ?  <end>   \n",
       "8   it ' s possible that you have developed an allergy to pork .  allergic reactions can vary from person to person ,  and some individuals can be allergic to specific types of meat .  to better understand your condition ,  it would be helpful to review your skin and blood test reports .  can you please provide me with those ?  <end>   \n",
       "9                                            thank you .  let me take a look at the report  . based on your blood test results ,  your ige levels are elevated ,  indicating a possible allergic reaction .  additionally ,  your skin prick test shows a positive reaction to pork allergens ,  further suggesting an allergy to pork .  <end>   \n",
       "\n",
       "                                                                                                                                                                                                                                                                                                                                         decoder_inputs  \n",
       "0                                                                                                                                                                               <start> of course ,  i ' ll do my best to help you .  it sounds like you may have experienced an allergic reaction .  can you tell me more about what happened ?  <end>  \n",
       "1                              <start> i understand your concern .  based on your symptoms ,  it ' s possible that you had a severe allergic reaction called anaphylaxis .  this is a serious condition that requires immediate medical attention .  have you experienced any other symptoms ,  such as hives ,  itching ,  or lightheadedness ?  <end>  \n",
       "2                                                                                                                                           <start> that ' s probably what ' s causing your reaction .  pork is a common allergen ,  and it can cause a variety of symptoms ,  including hives ,  difficulty breathing ,  and even anaphylaxis .  <end>  \n",
       "3                                                                                                                                                                                                       <start> that sounds really serious !  i had no idea an allergic reaction could be so dangerous .  what should i do if it happens again ?  <end>  \n",
       "4                                                                                                                                     <start> good morning .  of course ,  i ' ll be happy to assist you .  please hand me your reports ,  and let ' s discuss your symptoms in detail .  what specific skin issues have you been experiencing ?  <end>  \n",
       "5                                                                                                          <start>  i see .  skin rashes and hives can be indicative of an allergic reaction .  it ' s important to identify the underlying cause .  now ,  let ' s take a look at your blood test results .  could you please pass them to me ?  <end>  \n",
       "6                                                                                                                                                                                                                                                                                            <start> thank you .  let me review these reports .   <end>  \n",
       "7                                                            <start>  i ' m sorry to hear about your distressing experience .  allergic reactions can indeed occur after consuming certain foods .  let ' s discuss your symptoms in more detail .  did you notice any other reactions apart from the facial swelling and difficulty breathing ?  <end>  \n",
       "8  <start>  it ' s possible that you have developed an allergy to pork .  allergic reactions can vary from person to person ,  and some individuals can be allergic to specific types of meat .  to better understand your condition ,  it would be helpful to review your skin and blood test reports .  can you please provide me with those ?  <end>  \n",
       "9                                            <start> thank you .  let me take a look at the report  . based on your blood test results ,  your ige levels are elevated ,  indicating a possible allergic reaction .  additionally ,  your skin prick test shows a positive reaction to pork allergens ,  further suggesting an allergy to pork .  <end>  "
      ]
     },
     "execution_count": 9,
     "metadata": {},
     "output_type": "execute_result"
    }
   ],
   "source": [
    "NewData.drop(columns=['answer tokens', 'question Tokens'], inplace=True)\n",
    "NewData['encoder_inputs'] = NewData['Patient'].astype(str).apply(clean_text)\n",
    "NewData['decoder_targets'] = NewData['Doctor'].apply(lambda x: clean_text(x) if pd.notnull(x) else '')\n",
    "NewData['decoder_targets'] += ' <end>'\n",
    "NewData['decoder_inputs'] = '<start> ' + NewData['Doctor'].apply(lambda x: clean_text(x) if pd.notnull(x) else '')\n",
    "NewData['decoder_inputs'] += ' <end>'\n",
    "NewData.head(10)"
   ]
  },
  {
   "cell_type": "code",
   "execution_count": 10,
   "metadata": {},
   "outputs": [
    {
     "data": {
      "image/png": "[encoded data removed]",
      "text/plain": [
       "<Figure size 2000x500 with 3 Axes>"
      ]
     },
     "metadata": {},
     "output_type": "display_data"
    },
    {
     "data": {
      "image/png": "[encoded data removed]",
      "text/plain": [
       "<Figure size 600x600 with 3 Axes>"
      ]
     },
     "metadata": {},
     "output_type": "display_data"
    }
   ],
   "source": [
    "NewData['encoder input tokens']=NewData['encoder_inputs'].apply(lambda x:len(x.split()))\n",
    "NewData['decoder input tokens']=NewData['decoder_inputs'].apply(lambda x:len(x.split()))\n",
    "NewData['decoder target tokens']=NewData['decoder_targets'].apply(lambda x:len(x.split()))\n",
    "plt.style.use('fivethirtyeight')\n",
    "fig,ax=plt.subplots(nrows=1,ncols=3,figsize=(20,5))\n",
    "sns.set_palette('Set2')\n",
    "sns.histplot(x=NewData['encoder input tokens'],data=NewData,kde=True,ax=ax[0])\n",
    "sns.histplot(x=NewData['decoder input tokens'],data=NewData,kde=True,ax=ax[1])\n",
    "sns.histplot(x=NewData['decoder target tokens'],data=NewData,kde=True,ax=ax[2])\n",
    "sns.jointplot(x='encoder input tokens',y='decoder target tokens',data=NewData,kind='kde',fill=True,cmap='YlGnBu')\n",
    "plt.show()"
   ]
  },
  {
   "cell_type": "code",
   "execution_count": 11,
   "metadata": {},
   "outputs": [
    {
     "name": "stdout",
     "output_type": "stream",
     "text": [
      "After preprocessing: anaphylaxis is a severe allergic reaction that can occur within minutes or even seconds after exposure to an allergen , such as shrimp in your case . it can affect multiple systems in your body and can be life threatening if not treated promptly . common symptoms include swelling of the lips , face , or throat , difficulty breathing , hives or rash , and a drop in blood pressure leading to dizziness or fainting .\n",
      "Max encoder input length: 77\n",
      "Max decoder input length: 133\n",
      "Max decoder target length: 132\n"
     ]
    }
   ],
   "source": [
    "max_encoder_input_row = NewData['encoder_inputs'].str.split().str.len().argmax()\n",
    "max_encoder_input = NewData.loc[max_encoder_input_row, 'encoder_inputs']\n",
    "\n",
    "print(f\"After preprocessing: {' '.join(max_encoder_input.split())}\")\n",
    "print(f\"Max encoder input length: {NewData['encoder_inputs'].str.split().str.len().max()}\")\n",
    "print(f\"Max decoder input length: {NewData['decoder_inputs'].str.split().str.len().max()}\")\n",
    "print(f\"Max decoder target length: {NewData['decoder_targets'].str.split().str.len().max()}\")"
   ]
  },
  {
   "cell_type": "code",
   "execution_count": 12,
   "metadata": {},
   "outputs": [
    {
     "data": {
      "text/html": [
       "<div>\n",
       "<style scoped>\n",
       "    .dataframe tbody tr th:only-of-type {\n",
       "        vertical-align: middle;\n",
       "    }\n",
       "\n",
       "    .dataframe tbody tr th {\n",
       "        vertical-align: top;\n",
       "    }\n",
       "\n",
       "    .dataframe thead th {\n",
       "        text-align: right;\n",
       "    }\n",
       "</style>\n",
       "<table border=\"1\" class=\"dataframe\">\n",
       "  <thead>\n",
       "    <tr style=\"text-align: right;\">\n",
       "      <th></th>\n",
       "      <th>Patient</th>\n",
       "      <th>Doctor</th>\n",
       "      <th>encoder_inputs</th>\n",
       "      <th>decoder_targets</th>\n",
       "      <th>decoder_inputs</th>\n",
       "      <th>encoder input tokens</th>\n",
       "      <th>decoder input tokens</th>\n",
       "      <th>decoder target tokens</th>\n",
       "    </tr>\n",
       "  </thead>\n",
       "  <tbody>\n",
       "    <tr>\n",
       "      <th>0</th>\n",
       "      <td>Doctor, I've been feeling really strange lately. I had a reaction after eating something, and my throat felt like it was closing up. I'm really worried. Can you help me?</td>\n",
       "      <td>Of course, I'll do my best to help you. It sounds like you may have experienced an allergic reaction. Can you tell me more about what happened?</td>\n",
       "      <td>doctor ,  i ' ve been feeling really strange lately .  i had a reaction after eating something ,  and my throat felt like it was closing up .  i ' m really worried .  can you help me ?</td>\n",
       "      <td>of course ,  i ' ll do my best to help you .  it sounds like you may have experienced an allergic reaction .  can you tell me more about what happened ?  &lt;end&gt;</td>\n",
       "      <td>&lt;start&gt; of course ,  i ' ll do my best to help you .  it sounds like you may have experienced an allergic reaction .  can you tell me more about what happened ?  &lt;end&gt;</td>\n",
       "      <td>40</td>\n",
       "      <td>35</td>\n",
       "      <td>34</td>\n",
       "    </tr>\n",
       "    <tr>\n",
       "      <th>1</th>\n",
       "      <td>Well, I was at a restaurant and I had this dish with shrimp. Shortly after I finished eating, my lips started to swell, and I had difficulty breathing. I've never had this happen before, and it scared me.</td>\n",
       "      <td>I understand your concern. Based on your symptoms, it's possible that you had a severe allergic reaction called anaphylaxis. This is a serious condition that requires immediate medical attention. Have you experienced any other symptoms, such as hives, itching, or lightheadedness?</td>\n",
       "      <td>well ,  i was at a restaurant and i had this dish with shrimp .  shortly after i finished eating ,  my lips started to swell ,  and i had difficulty breathing .  i ' ve never had this happen before ,  and it scared me .</td>\n",
       "      <td>i understand your concern .  based on your symptoms ,  it ' s possible that you had a severe allergic reaction called anaphylaxis .  this is a serious condition that requires immediate medical attention .  have you experienced any other symptoms ,  such as hives ,  itching ,  or lightheadedness ?  &lt;end&gt;</td>\n",
       "      <td>&lt;start&gt; i understand your concern .  based on your symptoms ,  it ' s possible that you had a severe allergic reaction called anaphylaxis .  this is a serious condition that requires immediate medical attention .  have you experienced any other symptoms ,  such as hives ,  itching ,  or lightheadedness ?  &lt;end&gt;</td>\n",
       "      <td>47</td>\n",
       "      <td>53</td>\n",
       "      <td>52</td>\n",
       "    </tr>\n",
       "    <tr>\n",
       "      <th>2</th>\n",
       "      <td>Yes, actually, I did notice some hives on my arms and chest, and I felt lightheaded and dizzy. I had no idea this could happen from eating shrimp. What exactly is anaphylaxis?</td>\n",
       "      <td>That's probably what's causing your reaction. Pork is a common allergen, and it can cause a variety of symptoms, including hives, difficulty breathing, and even anaphylaxis.</td>\n",
       "      <td>yes ,  actually ,  i did notice some hives on my arms and chest ,  and i felt lightheaded and dizzy .  i had no idea this could happen from eating shrimp .  what exactly is anaphylaxis ?</td>\n",
       "      <td>that ' s probably what ' s causing your reaction .  pork is a common allergen ,  and it can cause a variety of symptoms ,  including hives ,  difficulty breathing ,  and even anaphylaxis .  &lt;end&gt;</td>\n",
       "      <td>&lt;start&gt; that ' s probably what ' s causing your reaction .  pork is a common allergen ,  and it can cause a variety of symptoms ,  including hives ,  difficulty breathing ,  and even anaphylaxis .  &lt;end&gt;</td>\n",
       "      <td>38</td>\n",
       "      <td>38</td>\n",
       "      <td>37</td>\n",
       "    </tr>\n",
       "    <tr>\n",
       "      <th>3</th>\n",
       "      <td>Anaphylaxis is a severe allergic reaction that can occur within minutes or even seconds after exposure to an allergen, such as shrimp in your case. It can affect multiple systems in your body and can be life-threatening if not treated promptly. Common symptoms include swelling of the lips, face, or throat, difficulty breathing, hives or rash, and a drop in blood pressure leading to dizziness or fainting.</td>\n",
       "      <td>That sounds really serious! I had no idea an allergic reaction could be so dangerous. What should I do if it happens again?</td>\n",
       "      <td>anaphylaxis is a severe allergic reaction that can occur within minutes or even seconds after exposure to an allergen ,  such as shrimp in your case .  it can affect multiple systems in your body and can be life threatening if not treated promptly .  common symptoms include swelling of the lips ,  face ,  or throat ,  difficulty breathing ,  hives or rash ,  and a drop in blood pressure leading to dizziness or fainting .</td>\n",
       "      <td>that sounds really serious !  i had no idea an allergic reaction could be so dangerous .  what should i do if it happens again ?  &lt;end&gt;</td>\n",
       "      <td>&lt;start&gt; that sounds really serious !  i had no idea an allergic reaction could be so dangerous .  what should i do if it happens again ?  &lt;end&gt;</td>\n",
       "      <td>77</td>\n",
       "      <td>28</td>\n",
       "      <td>27</td>\n",
       "    </tr>\n",
       "    <tr>\n",
       "      <th>4</th>\n",
       "      <td>Good morning, Doctor. I've been experiencing some unusual symptoms, and I'm not sure what's going on. I noticed some skin issues and recently had a blood test done. Can you please take a look at the reports and help me understand what's happening?</td>\n",
       "      <td>Good morning. Of course, I'll be happy to assist you. Please hand me your reports, and let's discuss your symptoms in detail. What specific skin issues have you been experiencing?</td>\n",
       "      <td>good morning ,  doctor .  i ' ve been experiencing some unusual symptoms ,  and i ' m not sure what ' s going on .  i noticed some skin issues and recently had a blood test done .  can you please take a look at the reports and help me understand what ' s happening ?</td>\n",
       "      <td>good morning .  of course ,  i ' ll be happy to assist you .  please hand me your reports ,  and let ' s discuss your symptoms in detail .  what specific skin issues have you been experiencing ?  &lt;end&gt;</td>\n",
       "      <td>&lt;start&gt; good morning .  of course ,  i ' ll be happy to assist you .  please hand me your reports ,  and let ' s discuss your symptoms in detail .  what specific skin issues have you been experiencing ?  &lt;end&gt;</td>\n",
       "      <td>57</td>\n",
       "      <td>42</td>\n",
       "      <td>41</td>\n",
       "    </tr>\n",
       "  </tbody>\n",
       "</table>\n",
       "</div>"
      ],
      "text/plain": [
       "                                                                                                                                                                                                                                                                                                                                                                                                                   Patient  \\\n",
       "0                                                                                                                                                                                                                                                Doctor, I've been feeling really strange lately. I had a reaction after eating something, and my throat felt like it was closing up. I'm really worried. Can you help me?   \n",
       "1                                                                                                                                                                                                             Well, I was at a restaurant and I had this dish with shrimp. Shortly after I finished eating, my lips started to swell, and I had difficulty breathing. I've never had this happen before, and it scared me.   \n",
       "2                                                                                                                                                                                                                                          Yes, actually, I did notice some hives on my arms and chest, and I felt lightheaded and dizzy. I had no idea this could happen from eating shrimp. What exactly is anaphylaxis?   \n",
       "3  Anaphylaxis is a severe allergic reaction that can occur within minutes or even seconds after exposure to an allergen, such as shrimp in your case. It can affect multiple systems in your body and can be life-threatening if not treated promptly. Common symptoms include swelling of the lips, face, or throat, difficulty breathing, hives or rash, and a drop in blood pressure leading to dizziness or fainting.   \n",
       "4                                                                                                                                                                  Good morning, Doctor. I've been experiencing some unusual symptoms, and I'm not sure what's going on. I noticed some skin issues and recently had a blood test done. Can you please take a look at the reports and help me understand what's happening?   \n",
       "\n",
       "                                                                                                                                                                                                                                                                                     Doctor  \\\n",
       "0                                                                                                                                           Of course, I'll do my best to help you. It sounds like you may have experienced an allergic reaction. Can you tell me more about what happened?   \n",
       "1  I understand your concern. Based on your symptoms, it's possible that you had a severe allergic reaction called anaphylaxis. This is a serious condition that requires immediate medical attention. Have you experienced any other symptoms, such as hives, itching, or lightheadedness?   \n",
       "2                                                                                                             That's probably what's causing your reaction. Pork is a common allergen, and it can cause a variety of symptoms, including hives, difficulty breathing, and even anaphylaxis.   \n",
       "3                                                                                                                                                               That sounds really serious! I had no idea an allergic reaction could be so dangerous. What should I do if it happens again?   \n",
       "4                                                                                                       Good morning. Of course, I'll be happy to assist you. Please hand me your reports, and let's discuss your symptoms in detail. What specific skin issues have you been experiencing?   \n",
       "\n",
       "                                                                                                                                                                                                                                                                                                                                                                                                                              encoder_inputs  \\\n",
       "0                                                                                                                                                                                                                                                  doctor ,  i ' ve been feeling really strange lately .  i had a reaction after eating something ,  and my throat felt like it was closing up .  i ' m really worried .  can you help me ?    \n",
       "1                                                                                                                                                                                                               well ,  i was at a restaurant and i had this dish with shrimp .  shortly after i finished eating ,  my lips started to swell ,  and i had difficulty breathing .  i ' ve never had this happen before ,  and it scared me .    \n",
       "2                                                                                                                                                                                                                                                yes ,  actually ,  i did notice some hives on my arms and chest ,  and i felt lightheaded and dizzy .  i had no idea this could happen from eating shrimp .  what exactly is anaphylaxis ?    \n",
       "3  anaphylaxis is a severe allergic reaction that can occur within minutes or even seconds after exposure to an allergen ,  such as shrimp in your case .  it can affect multiple systems in your body and can be life threatening if not treated promptly .  common symptoms include swelling of the lips ,  face ,  or throat ,  difficulty breathing ,  hives or rash ,  and a drop in blood pressure leading to dizziness or fainting .    \n",
       "4                                                                                                                                                                good morning ,  doctor .  i ' ve been experiencing some unusual symptoms ,  and i ' m not sure what ' s going on .  i noticed some skin issues and recently had a blood test done .  can you please take a look at the reports and help me understand what ' s happening ?    \n",
       "\n",
       "                                                                                                                                                                                                                                                                                                    decoder_targets  \\\n",
       "0                                                                                                                                                   of course ,  i ' ll do my best to help you .  it sounds like you may have experienced an allergic reaction .  can you tell me more about what happened ?  <end>   \n",
       "1  i understand your concern .  based on your symptoms ,  it ' s possible that you had a severe allergic reaction called anaphylaxis .  this is a serious condition that requires immediate medical attention .  have you experienced any other symptoms ,  such as hives ,  itching ,  or lightheadedness ?  <end>   \n",
       "2                                                                                                               that ' s probably what ' s causing your reaction .  pork is a common allergen ,  and it can cause a variety of symptoms ,  including hives ,  difficulty breathing ,  and even anaphylaxis .  <end>   \n",
       "3                                                                                                                                                                           that sounds really serious !  i had no idea an allergic reaction could be so dangerous .  what should i do if it happens again ?  <end>   \n",
       "4                                                                                                         good morning .  of course ,  i ' ll be happy to assist you .  please hand me your reports ,  and let ' s discuss your symptoms in detail .  what specific skin issues have you been experiencing ?  <end>   \n",
       "\n",
       "                                                                                                                                                                                                                                                                                                             decoder_inputs  \\\n",
       "0                                                                                                                                                   <start> of course ,  i ' ll do my best to help you .  it sounds like you may have experienced an allergic reaction .  can you tell me more about what happened ?  <end>   \n",
       "1  <start> i understand your concern .  based on your symptoms ,  it ' s possible that you had a severe allergic reaction called anaphylaxis .  this is a serious condition that requires immediate medical attention .  have you experienced any other symptoms ,  such as hives ,  itching ,  or lightheadedness ?  <end>   \n",
       "2                                                                                                               <start> that ' s probably what ' s causing your reaction .  pork is a common allergen ,  and it can cause a variety of symptoms ,  including hives ,  difficulty breathing ,  and even anaphylaxis .  <end>   \n",
       "3                                                                                                                                                                           <start> that sounds really serious !  i had no idea an allergic reaction could be so dangerous .  what should i do if it happens again ?  <end>   \n",
       "4                                                                                                         <start> good morning .  of course ,  i ' ll be happy to assist you .  please hand me your reports ,  and let ' s discuss your symptoms in detail .  what specific skin issues have you been experiencing ?  <end>   \n",
       "\n",
       "   encoder input tokens  decoder input tokens  decoder target tokens  \n",
       "0                    40                    35                     34  \n",
       "1                    47                    53                     52  \n",
       "2                    38                    38                     37  \n",
       "3                    77                    28                     27  \n",
       "4                    57                    42                     41  "
      ]
     },
     "execution_count": 12,
     "metadata": {},
     "output_type": "execute_result"
    }
   ],
   "source": [
    "NewData.head()"
   ]
  },
  {
   "cell_type": "code",
   "execution_count": 13,
   "metadata": {},
   "outputs": [],
   "source": [
    "NewData.drop(columns=['Patient','Doctor','encoder input tokens','decoder input tokens','decoder target tokens'],axis=1,inplace=True)\n",
    "params={\n",
    "    \"vocab_size\":2500,\n",
    "    \"max_sequence_length\":40,\n",
    "    \"learning_rate\":0.008,\n",
    "    \"batch_size\":149,\n",
    "    \"lstm_cells\":256,\n",
    "    \"embedding_dim\":256,\n",
    "    \"buffer_size\":10000\n",
    "}"
   ]
  },
  {
   "cell_type": "code",
   "execution_count": 14,
   "metadata": {},
   "outputs": [
    {
     "data": {
      "text/html": [
       "<div>\n",
       "<style scoped>\n",
       "    .dataframe tbody tr th:only-of-type {\n",
       "        vertical-align: middle;\n",
       "    }\n",
       "\n",
       "    .dataframe tbody tr th {\n",
       "        vertical-align: top;\n",
       "    }\n",
       "\n",
       "    .dataframe thead th {\n",
       "        text-align: right;\n",
       "    }\n",
       "</style>\n",
       "<table border=\"1\" class=\"dataframe\">\n",
       "  <thead>\n",
       "    <tr style=\"text-align: right;\">\n",
       "      <th></th>\n",
       "      <th>encoder_inputs</th>\n",
       "      <th>decoder_targets</th>\n",
       "      <th>decoder_inputs</th>\n",
       "    </tr>\n",
       "  </thead>\n",
       "  <tbody>\n",
       "    <tr>\n",
       "      <th>0</th>\n",
       "      <td>doctor ,  i ' ve been feeling really strange lately .  i had a reaction after eating something ,  and my throat felt like it was closing up .  i ' m really worried .  can you help me ?</td>\n",
       "      <td>of course ,  i ' ll do my best to help you .  it sounds like you may have experienced an allergic reaction .  can you tell me more about what happened ?  &lt;end&gt;</td>\n",
       "      <td>&lt;start&gt; of course ,  i ' ll do my best to help you .  it sounds like you may have experienced an allergic reaction .  can you tell me more about what happened ?  &lt;end&gt;</td>\n",
       "    </tr>\n",
       "    <tr>\n",
       "      <th>1</th>\n",
       "      <td>well ,  i was at a restaurant and i had this dish with shrimp .  shortly after i finished eating ,  my lips started to swell ,  and i had difficulty breathing .  i ' ve never had this happen before ,  and it scared me .</td>\n",
       "      <td>i understand your concern .  based on your symptoms ,  it ' s possible that you had a severe allergic reaction called anaphylaxis .  this is a serious condition that requires immediate medical attention .  have you experienced any other symptoms ,  such as hives ,  itching ,  or lightheadedness ?  &lt;end&gt;</td>\n",
       "      <td>&lt;start&gt; i understand your concern .  based on your symptoms ,  it ' s possible that you had a severe allergic reaction called anaphylaxis .  this is a serious condition that requires immediate medical attention .  have you experienced any other symptoms ,  such as hives ,  itching ,  or lightheadedness ?  &lt;end&gt;</td>\n",
       "    </tr>\n",
       "    <tr>\n",
       "      <th>2</th>\n",
       "      <td>yes ,  actually ,  i did notice some hives on my arms and chest ,  and i felt lightheaded and dizzy .  i had no idea this could happen from eating shrimp .  what exactly is anaphylaxis ?</td>\n",
       "      <td>that ' s probably what ' s causing your reaction .  pork is a common allergen ,  and it can cause a variety of symptoms ,  including hives ,  difficulty breathing ,  and even anaphylaxis .  &lt;end&gt;</td>\n",
       "      <td>&lt;start&gt; that ' s probably what ' s causing your reaction .  pork is a common allergen ,  and it can cause a variety of symptoms ,  including hives ,  difficulty breathing ,  and even anaphylaxis .  &lt;end&gt;</td>\n",
       "    </tr>\n",
       "    <tr>\n",
       "      <th>3</th>\n",
       "      <td>anaphylaxis is a severe allergic reaction that can occur within minutes or even seconds after exposure to an allergen ,  such as shrimp in your case .  it can affect multiple systems in your body and can be life threatening if not treated promptly .  common symptoms include swelling of the lips ,  face ,  or throat ,  difficulty breathing ,  hives or rash ,  and a drop in blood pressure leading to dizziness or fainting .</td>\n",
       "      <td>that sounds really serious !  i had no idea an allergic reaction could be so dangerous .  what should i do if it happens again ?  &lt;end&gt;</td>\n",
       "      <td>&lt;start&gt; that sounds really serious !  i had no idea an allergic reaction could be so dangerous .  what should i do if it happens again ?  &lt;end&gt;</td>\n",
       "    </tr>\n",
       "    <tr>\n",
       "      <th>4</th>\n",
       "      <td>good morning ,  doctor .  i ' ve been experiencing some unusual symptoms ,  and i ' m not sure what ' s going on .  i noticed some skin issues and recently had a blood test done .  can you please take a look at the reports and help me understand what ' s happening ?</td>\n",
       "      <td>good morning .  of course ,  i ' ll be happy to assist you .  please hand me your reports ,  and let ' s discuss your symptoms in detail .  what specific skin issues have you been experiencing ?  &lt;end&gt;</td>\n",
       "      <td>&lt;start&gt; good morning .  of course ,  i ' ll be happy to assist you .  please hand me your reports ,  and let ' s discuss your symptoms in detail .  what specific skin issues have you been experiencing ?  &lt;end&gt;</td>\n",
       "    </tr>\n",
       "    <tr>\n",
       "      <th>5</th>\n",
       "      <td>well ,  i ' ve been having frequent rashes and hives on different parts of my body .  they appear as red ,  itchy patches ,  and they come and go randomly .  it ' s quite uncomfortable ,  and i ' m not sure what triggers them .</td>\n",
       "      <td>i see .  skin rashes and hives can be indicative of an allergic reaction .  it ' s important to identify the underlying cause .  now ,  let ' s take a look at your blood test results .  could you please pass them to me ?  &lt;end&gt;</td>\n",
       "      <td>&lt;start&gt;  i see .  skin rashes and hives can be indicative of an allergic reaction .  it ' s important to identify the underlying cause .  now ,  let ' s take a look at your blood test results .  could you please pass them to me ?  &lt;end&gt;</td>\n",
       "    </tr>\n",
       "    <tr>\n",
       "      <th>6</th>\n",
       "      <td>here are the reports ,  doctor .  i hope they can provide some insight into my condition .</td>\n",
       "      <td>thank you .  let me review these reports .   &lt;end&gt;</td>\n",
       "      <td>&lt;start&gt; thank you .  let me review these reports .   &lt;end&gt;</td>\n",
       "    </tr>\n",
       "    <tr>\n",
       "      <th>7</th>\n",
       "      <td>doctor ,  i had a really scary experience after eating pork yesterday .  my face swelled up ,  and i had difficulty breathing .  i think it might have been an allergic reaction .  can you help me understand what happened ?</td>\n",
       "      <td>i ' m sorry to hear about your distressing experience .  allergic reactions can indeed occur after consuming certain foods .  let ' s discuss your symptoms in more detail .  did you notice any other reactions apart from the facial swelling and difficulty breathing ?  &lt;end&gt;</td>\n",
       "      <td>&lt;start&gt;  i ' m sorry to hear about your distressing experience .  allergic reactions can indeed occur after consuming certain foods .  let ' s discuss your symptoms in more detail .  did you notice any other reactions apart from the facial swelling and difficulty breathing ?  &lt;end&gt;</td>\n",
       "    </tr>\n",
       "    <tr>\n",
       "      <th>8</th>\n",
       "      <td>yes ,  i also had hives on my body ,  and i felt quite dizzy .  it was really frightening ,  and i had no idea that this could happen from eating pork .  is it possible that i have an allergy to pork ?</td>\n",
       "      <td>it ' s possible that you have developed an allergy to pork .  allergic reactions can vary from person to person ,  and some individuals can be allergic to specific types of meat .  to better understand your condition ,  it would be helpful to review your skin and blood test reports .  can you please provide me with those ?  &lt;end&gt;</td>\n",
       "      <td>&lt;start&gt;  it ' s possible that you have developed an allergy to pork .  allergic reactions can vary from person to person ,  and some individuals can be allergic to specific types of meat .  to better understand your condition ,  it would be helpful to review your skin and blood test reports .  can you please provide me with those ?  &lt;end&gt;</td>\n",
       "    </tr>\n",
       "    <tr>\n",
       "      <th>9</th>\n",
       "      <td>certainly ,  doctor .  here are the reports .  i hope they can shed some light on what ' s happening .</td>\n",
       "      <td>thank you .  let me take a look at the report  . based on your blood test results ,  your ige levels are elevated ,  indicating a possible allergic reaction .  additionally ,  your skin prick test shows a positive reaction to pork allergens ,  further suggesting an allergy to pork .  &lt;end&gt;</td>\n",
       "      <td>&lt;start&gt; thank you .  let me take a look at the report  . based on your blood test results ,  your ige levels are elevated ,  indicating a possible allergic reaction .  additionally ,  your skin prick test shows a positive reaction to pork allergens ,  further suggesting an allergy to pork .  &lt;end&gt;</td>\n",
       "    </tr>\n",
       "  </tbody>\n",
       "</table>\n",
       "</div>"
      ],
      "text/plain": [
       "                                                                                                                                                                                                                                                                                                                                                                                                                              encoder_inputs  \\\n",
       "0                                                                                                                                                                                                                                                  doctor ,  i ' ve been feeling really strange lately .  i had a reaction after eating something ,  and my throat felt like it was closing up .  i ' m really worried .  can you help me ?    \n",
       "1                                                                                                                                                                                                               well ,  i was at a restaurant and i had this dish with shrimp .  shortly after i finished eating ,  my lips started to swell ,  and i had difficulty breathing .  i ' ve never had this happen before ,  and it scared me .    \n",
       "2                                                                                                                                                                                                                                                yes ,  actually ,  i did notice some hives on my arms and chest ,  and i felt lightheaded and dizzy .  i had no idea this could happen from eating shrimp .  what exactly is anaphylaxis ?    \n",
       "3  anaphylaxis is a severe allergic reaction that can occur within minutes or even seconds after exposure to an allergen ,  such as shrimp in your case .  it can affect multiple systems in your body and can be life threatening if not treated promptly .  common symptoms include swelling of the lips ,  face ,  or throat ,  difficulty breathing ,  hives or rash ,  and a drop in blood pressure leading to dizziness or fainting .    \n",
       "4                                                                                                                                                                good morning ,  doctor .  i ' ve been experiencing some unusual symptoms ,  and i ' m not sure what ' s going on .  i noticed some skin issues and recently had a blood test done .  can you please take a look at the reports and help me understand what ' s happening ?    \n",
       "5                                                                                                                                                                                                       well ,  i ' ve been having frequent rashes and hives on different parts of my body .  they appear as red ,  itchy patches ,  and they come and go randomly .  it ' s quite uncomfortable ,  and i ' m not sure what triggers them .    \n",
       "6                                                                                                                                                                                                                                                                                                                                                here are the reports ,  doctor .  i hope they can provide some insight into my condition .    \n",
       "7                                                                                                                                                                                                            doctor ,  i had a really scary experience after eating pork yesterday .  my face swelled up ,  and i had difficulty breathing .  i think it might have been an allergic reaction .  can you help me understand what happened ?    \n",
       "8                                                                                                                                                                                                                                 yes ,  i also had hives on my body ,  and i felt quite dizzy .  it was really frightening ,  and i had no idea that this could happen from eating pork .  is it possible that i have an allergy to pork ?    \n",
       "9                                                                                                                                                                                                                                                                                                                                    certainly ,  doctor .  here are the reports .  i hope they can shed some light on what ' s happening .    \n",
       "\n",
       "                                                                                                                                                                                                                                                                                                                                decoder_targets  \\\n",
       "0                                                                                                                                                                               of course ,  i ' ll do my best to help you .  it sounds like you may have experienced an allergic reaction .  can you tell me more about what happened ?  <end>   \n",
       "1                              i understand your concern .  based on your symptoms ,  it ' s possible that you had a severe allergic reaction called anaphylaxis .  this is a serious condition that requires immediate medical attention .  have you experienced any other symptoms ,  such as hives ,  itching ,  or lightheadedness ?  <end>   \n",
       "2                                                                                                                                           that ' s probably what ' s causing your reaction .  pork is a common allergen ,  and it can cause a variety of symptoms ,  including hives ,  difficulty breathing ,  and even anaphylaxis .  <end>   \n",
       "3                                                                                                                                                                                                       that sounds really serious !  i had no idea an allergic reaction could be so dangerous .  what should i do if it happens again ?  <end>   \n",
       "4                                                                                                                                     good morning .  of course ,  i ' ll be happy to assist you .  please hand me your reports ,  and let ' s discuss your symptoms in detail .  what specific skin issues have you been experiencing ?  <end>   \n",
       "5                                                                                                           i see .  skin rashes and hives can be indicative of an allergic reaction .  it ' s important to identify the underlying cause .  now ,  let ' s take a look at your blood test results .  could you please pass them to me ?  <end>   \n",
       "6                                                                                                                                                                                                                                                                                            thank you .  let me review these reports .   <end>   \n",
       "7                                                             i ' m sorry to hear about your distressing experience .  allergic reactions can indeed occur after consuming certain foods .  let ' s discuss your symptoms in more detail .  did you notice any other reactions apart from the facial swelling and difficulty breathing ?  <end>   \n",
       "8   it ' s possible that you have developed an allergy to pork .  allergic reactions can vary from person to person ,  and some individuals can be allergic to specific types of meat .  to better understand your condition ,  it would be helpful to review your skin and blood test reports .  can you please provide me with those ?  <end>   \n",
       "9                                            thank you .  let me take a look at the report  . based on your blood test results ,  your ige levels are elevated ,  indicating a possible allergic reaction .  additionally ,  your skin prick test shows a positive reaction to pork allergens ,  further suggesting an allergy to pork .  <end>   \n",
       "\n",
       "                                                                                                                                                                                                                                                                                                                                         decoder_inputs  \n",
       "0                                                                                                                                                                               <start> of course ,  i ' ll do my best to help you .  it sounds like you may have experienced an allergic reaction .  can you tell me more about what happened ?  <end>  \n",
       "1                              <start> i understand your concern .  based on your symptoms ,  it ' s possible that you had a severe allergic reaction called anaphylaxis .  this is a serious condition that requires immediate medical attention .  have you experienced any other symptoms ,  such as hives ,  itching ,  or lightheadedness ?  <end>  \n",
       "2                                                                                                                                           <start> that ' s probably what ' s causing your reaction .  pork is a common allergen ,  and it can cause a variety of symptoms ,  including hives ,  difficulty breathing ,  and even anaphylaxis .  <end>  \n",
       "3                                                                                                                                                                                                       <start> that sounds really serious !  i had no idea an allergic reaction could be so dangerous .  what should i do if it happens again ?  <end>  \n",
       "4                                                                                                                                     <start> good morning .  of course ,  i ' ll be happy to assist you .  please hand me your reports ,  and let ' s discuss your symptoms in detail .  what specific skin issues have you been experiencing ?  <end>  \n",
       "5                                                                                                          <start>  i see .  skin rashes and hives can be indicative of an allergic reaction .  it ' s important to identify the underlying cause .  now ,  let ' s take a look at your blood test results .  could you please pass them to me ?  <end>  \n",
       "6                                                                                                                                                                                                                                                                                            <start> thank you .  let me review these reports .   <end>  \n",
       "7                                                            <start>  i ' m sorry to hear about your distressing experience .  allergic reactions can indeed occur after consuming certain foods .  let ' s discuss your symptoms in more detail .  did you notice any other reactions apart from the facial swelling and difficulty breathing ?  <end>  \n",
       "8  <start>  it ' s possible that you have developed an allergy to pork .  allergic reactions can vary from person to person ,  and some individuals can be allergic to specific types of meat .  to better understand your condition ,  it would be helpful to review your skin and blood test reports .  can you please provide me with those ?  <end>  \n",
       "9                                            <start> thank you .  let me take a look at the report  . based on your blood test results ,  your ige levels are elevated ,  indicating a possible allergic reaction .  additionally ,  your skin prick test shows a positive reaction to pork allergens ,  further suggesting an allergy to pork .  <end>  "
      ]
     },
     "execution_count": 14,
     "metadata": {},
     "output_type": "execute_result"
    }
   ],
   "source": [
    "learning_rate=params['learning_rate']\n",
    "batch_size=params['batch_size']\n",
    "embedding_dim=params['embedding_dim']\n",
    "lstm_cells=params['lstm_cells']\n",
    "vocab_size=params['vocab_size']\n",
    "buffer_size=params['buffer_size']\n",
    "max_sequence_length=params['max_sequence_length']\n",
    "NewData.head(10)"
   ]
  },
  {
   "cell_type": "code",
   "execution_count": 15,
   "metadata": {},
   "outputs": [
    {
     "name": "stdout",
     "output_type": "stream",
     "text": [
      "Vocab size: 1016\n",
      "['', '[UNK]', '.', ',', 'i', \"'\", '<end>', 'to', 'you', 'and', 'the', 'it']\n"
     ]
    }
   ],
   "source": [
    "vectorize_layer = TextVectorization(\n",
    "    max_tokens=vocab_size,\n",
    "    standardize=None,\n",
    "    output_mode='int',\n",
    "    output_sequence_length=max_sequence_length\n",
    ")\n",
    "vectorize_layer.adapt(NewData['encoder_inputs'] + ' ' + NewData['decoder_targets'] + ' <start> <end>')\n",
    "vocab_size = len(vectorize_layer.get_vocabulary())\n",
    "print(f'Vocab size: {vocab_size}')\n",
    "print(f'{vectorize_layer.get_vocabulary()[:12]}')"
   ]
  },
  {
   "cell_type": "code",
   "execution_count": 16,
   "metadata": {},
   "outputs": [
    {
     "name": "stdout",
     "output_type": "stream",
     "text": [
      "Thank you. Let me examine your skin and review the reports.\n",
      "Question to tokens: [  1   1   1  35  88  16  34   9 201  10]\n",
      "Encoder input shape: (268, 40)\n",
      "Decoder input shape: (268, 40)\n",
      "Decoder target shape: (268, 40)\n"
     ]
    }
   ],
   "source": [
    "def sequences2ids(sequence):\n",
    "    return vectorize_layer(sequence)\n",
    "\n",
    "def ids2sequences(ids):\n",
    "    decode=''\n",
    "    if type(ids)==int:\n",
    "        ids=[ids]\n",
    "    for id in ids:\n",
    "        decode+=vectorize_layer.get_vocabulary()[id]+' '\n",
    "    return decode\n",
    "\n",
    "x = sequences2ids(NewData['encoder_inputs'])\n",
    "yd = sequences2ids(NewData['decoder_inputs'])\n",
    "y = sequences2ids(NewData['decoder_targets'])\n",
    "\n",
    "print(f'Thank you. Let me examine your skin and review the reports.')\n",
    "print(f'Question to tokens: {sequences2ids(\"Thank you. Let me examine your skin and review the reports.\")[:10]}')\n",
    "print(f'Encoder input shape: {x.shape}')\n",
    "print(f'Decoder input shape: {yd.shape}')\n",
    "print(f'Decoder target shape: {y.shape}')"
   ]
  },
  {
   "cell_type": "code",
   "execution_count": 17,
   "metadata": {},
   "outputs": [
    {
     "name": "stdout",
     "output_type": "stream",
     "text": [
      "Encoder input: [ 33   3   4   5  41  62  93  64 482 313   2   4] ...\n",
      "Decoder input: [ 13  23 258   3   4   5  50 106  24 180   7  52] ...\n",
      "Decoder target: [ 23 258   3   4   5  50 106  24 180   7  52   8] ...\n"
     ]
    }
   ],
   "source": [
    "print(f'Encoder input: {x[0][:12]} ...')\n",
    "print(f'Decoder input: {yd[0][:12]} ...')    # shifted by one time step of the target as input to decoder is the output of the previous timestep\n",
    "print(f'Decoder target: {y[0][:12]} ...')"
   ]
  },
  {
   "cell_type": "code",
   "execution_count": 18,
   "metadata": {},
   "outputs": [
    {
     "name": "stdout",
     "output_type": "stream",
     "text": [
      "Number of train batches: 2\n",
      "Number of training data: 298\n",
      "Number of validation batches: 1\n",
      "Number of validation data: 149\n",
      "Encoder Input shape (with batches): (149, 40)\n",
      "Decoder Input shape (with batches): (149, 40)\n",
      "Target Output shape (with batches): (149, 40)\n"
     ]
    }
   ],
   "source": [
    "data=tf.data.Dataset.from_tensor_slices((x,yd,y))\n",
    "data=data.shuffle(buffer_size)\n",
    "\n",
    "train_data=data.take(int(.9*len(data)))\n",
    "train_data=train_data.cache()\n",
    "train_data=train_data.shuffle(buffer_size)\n",
    "train_data=train_data.batch(batch_size)\n",
    "train_data=train_data.prefetch(tf.data.AUTOTUNE)\n",
    "train_data_iterator=train_data.as_numpy_iterator()\n",
    "\n",
    "val_data=data.skip(int(.9*len(data))).take(int(.1*len(data)))\n",
    "val_data=val_data.batch(batch_size)\n",
    "val_data=val_data.prefetch(tf.data.AUTOTUNE)\n",
    "\n",
    "_=train_data_iterator.next()\n",
    "print(f'Number of train batches: {len(train_data)}')\n",
    "print(f'Number of training data: {len(train_data)*batch_size}')\n",
    "print(f'Number of validation batches: {len(val_data)}')\n",
    "print(f'Number of validation data: {len(val_data)*batch_size}')\n",
    "print(f'Encoder Input shape (with batches): {_[0].shape}')\n",
    "print(f'Decoder Input shape (with batches): {_[1].shape}')\n",
    "print(f'Target Output shape (with batches): {_[2].shape}')"
   ]
  },
  {
   "cell_type": "code",
   "execution_count": 40,
   "metadata": {},
   "outputs": [
    {
     "data": {
      "text/plain": [
       "(<tf.Tensor: shape=(149, 256), dtype=float32, numpy=\n",
       " array([[ 0.02763438,  0.17581291,  0.21416582, ...,  0.15758248,\n",
       "          0.01357438, -0.00800343],\n",
       "        [ 0.09366734, -0.03548377,  0.21240135, ..., -0.00178594,\n",
       "          0.01262595, -0.00261095],\n",
       "        [ 0.16593142,  0.08599135, -0.1405205 , ...,  0.18889652,\n",
       "         -0.03188433, -0.11899646],\n",
       "        ...,\n",
       "        [ 0.4362614 , -0.11363763,  0.01882041, ...,  0.14676172,\n",
       "         -0.02148326, -0.22691283],\n",
       "        [-0.02898508,  0.16224422,  0.22006601, ...,  0.13462777,\n",
       "         -0.00578193,  0.02416164],\n",
       "        [ 0.07149186,  0.00067548, -0.05293309, ..., -0.07380644,\n",
       "          0.09334129,  0.18951051]], dtype=float32)>,\n",
       " <tf.Tensor: shape=(149, 256), dtype=float32, numpy=\n",
       " array([[ 0.05473319,  0.38045755,  0.5586896 , ...,  0.27984348,\n",
       "          0.02190259, -0.01726447],\n",
       "        [ 0.19949506, -0.07022026,  0.57501554, ..., -0.00319058,\n",
       "          0.01911169, -0.00632811],\n",
       "        [ 0.23731947,  0.1710991 , -0.31228593, ...,  0.3724369 ,\n",
       "         -0.12322445, -0.24886899],\n",
       "        ...,\n",
       "        [ 0.6714649 , -0.21786898,  0.04167232, ...,  0.28469354,\n",
       "         -0.08743832, -0.5228872 ],\n",
       "        [-0.05835193,  0.35232925,  0.56401646, ...,  0.23860118,\n",
       "         -0.00922024,  0.05245068],\n",
       "        [ 0.16030109,  0.00191151, -0.11839989, ..., -0.15777925,\n",
       "          0.2618501 ,  0.33902615]], dtype=float32)>)"
      ]
     },
     "execution_count": 40,
     "metadata": {},
     "output_type": "execute_result"
    }
   ],
   "source": [
    "class Encoder(tf.keras.models.Model):\n",
    "    def __init__(self,units,embedding_dim,vocab_size,*args,**kwargs) -> None:\n",
    "        super().__init__(*args,**kwargs)\n",
    "        self.units=units\n",
    "        self.vocab_size=vocab_size\n",
    "        self.embedding_dim=embedding_dim\n",
    "        self.embedding=Embedding(\n",
    "            vocab_size,\n",
    "            embedding_dim,\n",
    "            name='encoder_embedding',\n",
    "            mask_zero=True,\n",
    "            embeddings_initializer=tf.keras.initializers.GlorotNormal()\n",
    "        )\n",
    "        self.normalize=LayerNormalization()\n",
    "        self.lstm=LSTM(\n",
    "            units,\n",
    "            dropout=.4,\n",
    "            return_state=True,\n",
    "            return_sequences=True,\n",
    "            name='encoder_lstm',\n",
    "            kernel_initializer=tf.keras.initializers.GlorotNormal()\n",
    "        )\n",
    "    \n",
    "    def call(self,encoder_inputs):\n",
    "        self.inputs=encoder_inputs\n",
    "        x=self.embedding(encoder_inputs)\n",
    "        x=self.normalize(x)\n",
    "        x=Dropout(.4)(x)\n",
    "        encoder_outputs,encoder_state_h,encoder_state_c=self.lstm(x)\n",
    "        self.outputs=[encoder_state_h,encoder_state_c]\n",
    "        return encoder_state_h,encoder_state_c\n",
    "\n",
    "encoder=Encoder(lstm_cells,embedding_dim,vocab_size,name='encoder')\n",
    "encoder.call(_[0])"
   ]
  },
  {
   "cell_type": "code",
   "execution_count": 41,
   "metadata": {},
   "outputs": [
    {
     "data": {
      "text/plain": [
       "<tf.Tensor: shape=(1, 40, 1016), dtype=float32, numpy=\n",
       "array([[[5.4088893e-04, 4.6757833e-04, 4.3446900e-05, ...,\n",
       "         5.9717864e-04, 1.5778387e-04, 9.5199171e-04],\n",
       "        [2.4808899e-03, 1.8211224e-05, 1.6540987e-05, ...,\n",
       "         1.2409409e-04, 1.2481096e-04, 5.5049750e-04],\n",
       "        [1.8502296e-03, 6.9739588e-05, 1.4083599e-05, ...,\n",
       "         2.6364301e-04, 2.1771052e-04, 3.8053975e-05],\n",
       "        ...,\n",
       "        [7.9714577e-04, 5.0878269e-04, 2.4610071e-04, ...,\n",
       "         2.3859167e-03, 4.0535924e-05, 2.5239901e-04],\n",
       "        [2.5470677e-04, 2.7771562e-03, 7.3427847e-04, ...,\n",
       "         2.7102856e-03, 7.1157078e-04, 1.6864328e-04],\n",
       "        [2.1078036e-04, 2.7703118e-04, 7.8242325e-04, ...,\n",
       "         1.1535907e-03, 2.1375835e-04, 1.0401315e-04]]], dtype=float32)>"
      ]
     },
     "execution_count": 41,
     "metadata": {},
     "output_type": "execute_result"
    }
   ],
   "source": [
    "class Decoder(tf.keras.models.Model):\n",
    "    def __init__(self,units,embedding_dim,vocab_size,*args,**kwargs) -> None:\n",
    "        super().__init__(*args,**kwargs)\n",
    "        self.units=units\n",
    "        self.embedding_dim=embedding_dim\n",
    "        self.vocab_size=vocab_size\n",
    "        self.embedding=Embedding(\n",
    "            vocab_size,\n",
    "            embedding_dim,\n",
    "            name='decoder_embedding',\n",
    "            mask_zero=True,\n",
    "            embeddings_initializer=tf.keras.initializers.HeNormal()\n",
    "        )\n",
    "        self.normalize1=LayerNormalization()  # Added new normalization layer here\n",
    "        self.lstm=LSTM(\n",
    "            units,\n",
    "            dropout=.4,\n",
    "            return_state=True,\n",
    "            return_sequences=True,\n",
    "            name='decoder_lstm',\n",
    "            kernel_initializer=tf.keras.initializers.HeNormal()\n",
    "        )\n",
    "        self.normalize2=LayerNormalization()  # Renamed old normalization layer\n",
    "        self.fc=Dense(\n",
    "            vocab_size,\n",
    "            activation='softmax',\n",
    "            name='decoder_dense',\n",
    "            kernel_initializer=tf.keras.initializers.HeNormal()\n",
    "        )\n",
    "    \n",
    "    def call(self,decoder_inputs,encoder_states):\n",
    "        x=self.embedding(decoder_inputs)\n",
    "        x=self.normalize1(x)  # Applied new normalization layer here\n",
    "        x=Dropout(.4)(x)\n",
    "        x,decoder_state_h,decoder_state_c=self.lstm(x,initial_state=encoder_states)\n",
    "        x=self.normalize2(x)  # Applied renamed normalization layer here\n",
    "        x=Dropout(.4)(x)\n",
    "        return self.fc(x)\n",
    "\n",
    "decoder=Decoder(lstm_cells,embedding_dim,vocab_size,name='decoder')\n",
    "decoder(_[1][:1],encoder(_[0][:1]))  # corrected parenthesis\n",
    "\n"
   ]
  },
  {
   "cell_type": "code",
   "execution_count": 21,
   "metadata": {},
   "outputs": [],
   "source": [
    "'''class ChatBotTrainer(tf.keras.models.Model):\n",
    "    def __init__(self,encoder,decoder,*args,**kwargs):\n",
    "        super().__init__(*args,**kwargs)\n",
    "        self.encoder=encoder\n",
    "        self.decoder=decoder\n",
    "\n",
    "    def loss_fn(self,y_true,y_pred):\n",
    "        loss=self.loss(y_true,y_pred)\n",
    "        mask=tf.math.logical_not(tf.math.equal(y_true,0))\n",
    "        mask=tf.cast(mask,dtype=loss.dtype)\n",
    "        loss*=mask\n",
    "        return tf.reduce_mean(loss)\n",
    "    \n",
    "    def accuracy_fn(self,y_true,y_pred):\n",
    "        pred_values = tf.cast(tf.argmax(y_pred, axis=-1), dtype='int64')\n",
    "        correct = tf.cast(tf.equal(y_true, pred_values), dtype='float64')\n",
    "        mask = tf.cast(tf.greater(y_true, 0), dtype='float64')\n",
    "        n_correct = tf.keras.backend.sum(mask * correct)\n",
    "        n_total = tf.keras.backend.sum(mask)\n",
    "        return n_correct / n_total\n",
    "\n",
    "    def call(self,inputs):\n",
    "        encoder_inputs,decoder_inputs=inputs\n",
    "        encoder_states=self.encoder(encoder_inputs)\n",
    "        return self.decoder(decoder_inputs,encoder_states)\n",
    "\n",
    "    def train_step(self,batch):\n",
    "        encoder_inputs,decoder_inputs,y=batch\n",
    "        with tf.GradientTape() as tape:\n",
    "            encoder_states=self.encoder(encoder_inputs,training=True)\n",
    "            y_pred=self.decoder(decoder_inputs,encoder_states,training=True)\n",
    "            loss=self.loss_fn(y,y_pred)\n",
    "            acc=self.accuracy_fn(y,y_pred)\n",
    "\n",
    "        variables=self.encoder.trainable_variables+self.decoder.trainable_variables\n",
    "        grads=tape.gradient(loss,variables)\n",
    "        self.optimizer.apply_gradients(zip(grads,variables))\n",
    "        metrics={'loss':loss,'accuracy':acc}\n",
    "        return metrics\n",
    "    \n",
    "    def test_step(self,batch):\n",
    "        encoder_inputs,decoder_inputs,y=batch\n",
    "        encoder_states=self.encoder(encoder_inputs,training=True)\n",
    "        y_pred=self.decoder(decoder_inputs,encoder_states,training=True)\n",
    "        loss=self.loss_fn(y,y_pred)\n",
    "        acc=self.accuracy_fn(y,y_pred)\n",
    "        metrics={'loss':loss,'accuracy':acc}\n",
    "        return metrics     '''\n",
    "\n",
    "'''import tensorflow as tf\n",
    "from tensorflow.keras.losses import Loss\n",
    "\n",
    "# Define the custom loss\n",
    "class SparseCategoricalCrossentropyMasked(Loss):\n",
    "    def call(self, y_true, y_pred):\n",
    "        loss_object = tf.keras.losses.SparseCategoricalCrossentropy(from_logits=True, reduction='none')\n",
    "        loss = loss_object(y_true, y_pred)\n",
    "        mask = tf.math.logical_not(tf.math.equal(y_true, 0))\n",
    "        mask = tf.cast(mask, dtype=loss.dtype)\n",
    "        loss *= mask\n",
    "        return tf.reduce_mean(loss)\n",
    "\n",
    "loss_instance = SparseCategoricalCrossentropyMasked()\n",
    "\n",
    "# ChatBotTrainer class definition\n",
    "class ChatBotTrainer(tf.keras.models.Model):\n",
    "    def __init__(self, encoder, decoder, *args, **kwargs):\n",
    "        super().__init__(*args, **kwargs)\n",
    "        self.encoder = encoder\n",
    "        self.decoder = decoder\n",
    "\n",
    "        self.loss_instance = loss_instance\n",
    "        self.accuracy_fn = self.accuracy_fn_method\n",
    "\n",
    "    def accuracy_fn_method(self, y_true, y_pred):\n",
    "        pred_values = tf.cast(tf.argmax(y_pred, axis=-1), dtype='int64')\n",
    "        correct = tf.cast(tf.equal(y_true, pred_values), dtype='float64')\n",
    "        mask = tf.cast(tf.greater(y_true, 0), dtype='float64')\n",
    "        n_correct = tf.keras.backend.sum(mask * correct)\n",
    "        n_total = tf.keras.backend.sum(mask)\n",
    "        return n_correct / n_total\n",
    "\n",
    "    def call(self, inputs):\n",
    "        encoder_inputs, decoder_inputs = inputs\n",
    "        encoder_states = self.encoder(encoder_inputs)\n",
    "        return self.decoder(decoder_inputs, encoder_states)\n",
    "\n",
    "    def train_step(self, batch):\n",
    "        encoder_inputs, decoder_inputs, y = batch\n",
    "        with tf.GradientTape() as tape:\n",
    "            encoder_states = self.encoder(encoder_inputs, training=True)\n",
    "            y_pred = self.decoder(decoder_inputs, encoder_states, training=True)\n",
    "            loss = self.loss_instance(y, y_pred)\n",
    "            acc = self.accuracy_fn_method(y, y_pred)\n",
    "\n",
    "        variables = self.encoder.trainable_variables + self.decoder.trainable_variables\n",
    "        grads = tape.gradient(loss, variables)\n",
    "        self.optimizer.apply_gradients(zip(grads, variables))\n",
    "        return {'loss': loss, 'accuracy': acc}\n",
    "\n",
    "    def test_step(self, batch):\n",
    "        encoder_inputs, decoder_inputs, y = batch\n",
    "        encoder_states = self.encoder(encoder_inputs, training=False)\n",
    "        y_pred = self.decoder(decoder_inputs, encoder_states, training=False)\n",
    "        loss = self.loss_instance(y, y_pred)\n",
    "        acc = self.accuracy_fn_method(y, y_pred)\n",
    "        return {'loss': loss, 'accuracy': acc}'''\n",
    "\n",
    "import tensorflow as tf\n",
    "from tensorflow.keras.losses import Loss\n",
    "\n"
   ]
  },
  {
   "cell_type": "code",
   "execution_count": 22,
   "metadata": {},
   "outputs": [],
   "source": [
    "#model=ChatBotTrainer(encoder,decoder,name='chatbot_trainer')\n",
    "#model.compile(\n",
    "    #loss=tf.keras.losses.SparseCategoricalCrossentropy(),\n",
    "    #optimizer=tf.keras.optimizers.Adam(learning_rate=learning_rate),\n",
    "    #weighted_metrics=['loss','accuracy']\n",
    "#)\n",
    "#model(_[:2])"
   ]
  },
  {
   "cell_type": "code",
   "execution_count": 42,
   "metadata": {},
   "outputs": [],
   "source": [
    "'''model=ChatBotTrainer(encoder,decoder,name='chatbot_trainer')\n",
    "model.compile(\n",
    "    optimizer=tf.keras.optimizers.Adam(learning_rate=learning_rate),\n",
    "    metrics=['accuracy']\n",
    ")\n",
    "# Test the model's forward pass\n",
    "predictions = model(_[:2])\n",
    "print(predictions.shape) '''\n",
    "\n",
    "import tensorflow as tf\n",
    "from tensorflow.keras.losses import Loss\n",
    "\n",
    "class ChatBotTrainer(tf.keras.models.Model):\n",
    "    \n",
    "    class SparseCategoricalCrossentropyMasked(Loss):\n",
    "        def call(self, y_true, y_pred):\n",
    "            loss_object = tf.keras.losses.SparseCategoricalCrossentropy(from_logits=True, reduction='none')\n",
    "            loss = loss_object(y_true, y_pred)\n",
    "            mask = tf.math.logical_not(tf.math.equal(y_true, 0))\n",
    "            mask = tf.cast(mask, dtype=loss.dtype)\n",
    "            loss *= mask\n",
    "            return tf.reduce_mean(loss)\n",
    "\n",
    "    def __init__(self, encoder, decoder, *args, **kwargs):\n",
    "        super().__init__(*args, **kwargs)\n",
    "        self.encoder = encoder\n",
    "        self.decoder = decoder\n",
    "        self.loss_instance = self.SparseCategoricalCrossentropyMasked()\n",
    "\n",
    "    def accuracy_fn_method(self, y_true, y_pred):\n",
    "        pred_values = tf.cast(tf.argmax(y_pred, axis=-1), dtype='int64')\n",
    "        correct = tf.cast(tf.equal(y_true, pred_values), dtype='float64')\n",
    "        mask = tf.cast(tf.greater(y_true, 0), dtype='float64')\n",
    "        n_correct = tf.keras.backend.sum(mask * correct)\n",
    "        n_total = tf.keras.backend.sum(mask)\n",
    "        return n_correct / n_total\n",
    "\n",
    "    def call(self, inputs):\n",
    "        encoder_inputs, decoder_inputs = inputs\n",
    "        encoder_states = self.encoder(encoder_inputs)\n",
    "        return self.decoder(decoder_inputs, encoder_states)\n",
    "\n",
    "    def train_step(self, batch):\n",
    "        encoder_inputs, decoder_inputs, y = batch\n",
    "        with tf.GradientTape() as tape:\n",
    "            encoder_states = self.encoder(encoder_inputs, training=True)\n",
    "            y_pred = self.decoder(decoder_inputs, encoder_states, training=True)\n",
    "            loss = self.loss_instance(y, y_pred)\n",
    "            acc = self.accuracy_fn_method(y, y_pred)\n",
    "\n",
    "        variables = self.encoder.trainable_variables + self.decoder.trainable_variables\n",
    "        grads = tape.gradient(loss, variables)\n",
    "        self.optimizer.apply_gradients(zip(grads, variables))\n",
    "        return {'loss': loss, 'accuracy': acc}\n",
    "\n",
    "    def test_step(self, batch):\n",
    "        encoder_inputs, decoder_inputs, y = batch\n",
    "        encoder_states = self.encoder(encoder_inputs, training=False)\n",
    "        y_pred = self.decoder(decoder_inputs, encoder_states, training=False)\n",
    "        loss = self.loss_instance(y, y_pred)\n",
    "        acc = self.accuracy_fn_method(y, y_pred)\n",
    "        return {'loss': loss, 'accuracy': acc}\n",
    "\n",
    "    def get_config(self):\n",
    "        base_config = super().get_config()\n",
    "        return {\n",
    "            **base_config, \n",
    "            \"encoder\": self.encoder.get_config(),  \n",
    "            \"decoder\": self.decoder.get_config()\n",
    "        }\n",
    "\n",
    "    @classmethod\n",
    "    def from_config(cls, config, custom_objects=None):\n",
    "        encoder = custom_objects['Encoder'].from_config(config[\"encoder\"])\n",
    "        decoder = custom_objects['Decoder'].from_config(config[\"decoder\"])\n",
    "        return cls(encoder=encoder, decoder=decoder)\n"
   ]
  },
  {
   "cell_type": "code",
   "execution_count": 45,
   "metadata": {},
   "outputs": [
    {
     "name": "stdout",
     "output_type": "stream",
     "text": [
      "(149, 40, 1016)\n"
     ]
    }
   ],
   "source": [
    "# Ensure you've defined the learning rate\n",
    "learning_rate = 0.001\n",
    "\n",
    "# Create a model instance\n",
    "model = ChatBotTrainer(encoder, decoder, name='chatbot_trainer')\n",
    "\n",
    "# Compile the model with optimizer, custom loss, and accuracy metric\n",
    "model.compile(\n",
    "    optimizer=tf.keras.optimizers.Adam(learning_rate=learning_rate),\n",
    "    loss=ChatBotTrainer.SparseCategoricalCrossentropyMasked(),   # Use the nested class for custom loss\n",
    "    metrics=[model.accuracy_fn_method]\n",
    ")\n",
    "\n",
    "# Assuming `_` is a list or tuple where the first two elements are encoder and decoder inputs\n",
    "encoder_inputs_sample, decoder_inputs_sample = _[:2]\n",
    "\n",
    "# Test the model's forward pass\n",
    "predictions = model([encoder_inputs_sample, decoder_inputs_sample])\n",
    "\n",
    "# Print the shape of the predictions\n",
    "print(predictions.shape)\n",
    "\n",
    "\n"
   ]
  },
  {
   "cell_type": "code",
   "execution_count": null,
   "metadata": {},
   "outputs": [
    {
     "data": {
      "text/plain": [
       "\"history=model.fit(\\n    train_data,\\n    epochs=100,\\n    validation_data=val_data,\\n    callbacks=[\\n        tf.keras.callbacks.TensorBoard(log_dir='logs1'),\\n        tf.keras.callbacks.ModelCheckpoint('ckpt1',verbose=1,save_best_only=True)\\n    ]\\n)\""
      ]
     },
     "execution_count": 53,
     "metadata": {},
     "output_type": "execute_result"
    }
   ],
   "source": [
    "'''history=model.fit(\n",
    "    train_data,\n",
    "    epochs=100,\n",
    "    validation_data=val_data,\n",
    "    callbacks=[\n",
    "        tf.keras.callbacks.TensorBoard(log_dir='logs1'),\n",
    "        tf.keras.callbacks.ModelCheckpoint('ckpt1',verbose=1,save_best_only=True)\n",
    "    ]\n",
    ")'''"
   ]
  },
  {
   "cell_type": "code",
   "execution_count": 46,
   "metadata": {},
   "outputs": [
    {
     "name": "stdout",
     "output_type": "stream",
     "text": [
      "Epoch 1/150\n",
      "2/2 [==============================] - ETA: 0s - loss: 5.8857 - accuracy: 0.0015 WARNING:tensorflow:`evaluate()` received a value for `sample_weight`, but `weighted_metrics` were not provided.  Did you mean to pass metrics to `weighted_metrics` in `compile()`?  If this is intentional you can pass `weighted_metrics=[]` to `compile()` in order to silence this warning.\n"
     ]
    },
    {
     "name": "stderr",
     "output_type": "stream",
     "text": [
      "WARNING:tensorflow:`evaluate()` received a value for `sample_weight`, but `weighted_metrics` were not provided.  Did you mean to pass metrics to `weighted_metrics` in `compile()`?  If this is intentional you can pass `weighted_metrics=[]` to `compile()` in order to silence this warning.\n"
     ]
    },
    {
     "name": "stdout",
     "output_type": "stream",
     "text": [
      "\n",
      "Epoch 1: val_loss improved from inf to 5.02840, saving model to ckpt1\n"
     ]
    },
    {
     "name": "stderr",
     "output_type": "stream",
     "text": [
      "WARNING:absl:Found untraced functions such as _update_step_xla, lstm_cell_2_layer_call_fn, lstm_cell_2_layer_call_and_return_conditional_losses, lstm_cell_3_layer_call_fn, lstm_cell_3_layer_call_and_return_conditional_losses while saving (showing 5 of 5). These functions will not be directly callable after loading.\n"
     ]
    },
    {
     "name": "stdout",
     "output_type": "stream",
     "text": [
      "INFO:tensorflow:Assets written to: ckpt1\\assets\n"
     ]
    },
    {
     "name": "stderr",
     "output_type": "stream",
     "text": [
      "INFO:tensorflow:Assets written to: ckpt1\\assets\n"
     ]
    },
    {
     "name": "stdout",
     "output_type": "stream",
     "text": [
      "2/2 [==============================] - 41s 30s/step - loss: 5.8173 - accuracy: 0.0015 - val_loss: 5.0284 - val_accuracy: 0.0406\n",
      "Epoch 2/150\n",
      "2/2 [==============================] - ETA: 0s - loss: 5.7147 - accuracy: 0.0050WARNING:tensorflow:`evaluate()` received a value for `sample_weight`, but `weighted_metrics` were not provided.  Did you mean to pass metrics to `weighted_metrics` in `compile()`?  If this is intentional you can pass `weighted_metrics=[]` to `compile()` in order to silence this warning.\n"
     ]
    },
    {
     "name": "stderr",
     "output_type": "stream",
     "text": [
      "WARNING:tensorflow:`evaluate()` received a value for `sample_weight`, but `weighted_metrics` were not provided.  Did you mean to pass metrics to `weighted_metrics` in `compile()`?  If this is intentional you can pass `weighted_metrics=[]` to `compile()` in order to silence this warning.\n"
     ]
    },
    {
     "name": "stdout",
     "output_type": "stream",
     "text": [
      "\n",
      "Epoch 2: val_loss improved from 5.02840 to 4.49455, saving model to ckpt1\n"
     ]
    },
    {
     "name": "stderr",
     "output_type": "stream",
     "text": [
      "WARNING:absl:Found untraced functions such as _update_step_xla, lstm_cell_2_layer_call_fn, lstm_cell_2_layer_call_and_return_conditional_losses, lstm_cell_3_layer_call_fn, lstm_cell_3_layer_call_and_return_conditional_losses while saving (showing 5 of 5). These functions will not be directly callable after loading.\n"
     ]
    },
    {
     "name": "stdout",
     "output_type": "stream",
     "text": [
      "INFO:tensorflow:Assets written to: ckpt1\\assets\n"
     ]
    },
    {
     "name": "stderr",
     "output_type": "stream",
     "text": [
      "INFO:tensorflow:Assets written to: ckpt1\\assets\n"
     ]
    },
    {
     "name": "stdout",
     "output_type": "stream",
     "text": [
      "2/2 [==============================] - 31s 27s/step - loss: 5.7942 - accuracy: 0.0055 - val_loss: 4.4946 - val_accuracy: 0.1119\n",
      "Epoch 3/150\n",
      "2/2 [==============================] - ETA: 0s - loss: 5.3540 - accuracy: 0.0112WARNING:tensorflow:`evaluate()` received a value for `sample_weight`, but `weighted_metrics` were not provided.  Did you mean to pass metrics to `weighted_metrics` in `compile()`?  If this is intentional you can pass `weighted_metrics=[]` to `compile()` in order to silence this warning.\n"
     ]
    },
    {
     "name": "stderr",
     "output_type": "stream",
     "text": [
      "WARNING:tensorflow:`evaluate()` received a value for `sample_weight`, but `weighted_metrics` were not provided.  Did you mean to pass metrics to `weighted_metrics` in `compile()`?  If this is intentional you can pass `weighted_metrics=[]` to `compile()` in order to silence this warning.\n"
     ]
    },
    {
     "name": "stdout",
     "output_type": "stream",
     "text": [
      "\n",
      "Epoch 3: val_loss improved from 4.49455 to 4.18262, saving model to ckpt1\n"
     ]
    },
    {
     "name": "stderr",
     "output_type": "stream",
     "text": [
      "WARNING:absl:Found untraced functions such as _update_step_xla, lstm_cell_2_layer_call_fn, lstm_cell_2_layer_call_and_return_conditional_losses, lstm_cell_3_layer_call_fn, lstm_cell_3_layer_call_and_return_conditional_losses while saving (showing 5 of 5). These functions will not be directly callable after loading.\n"
     ]
    },
    {
     "name": "stdout",
     "output_type": "stream",
     "text": [
      "INFO:tensorflow:Assets written to: ckpt1\\assets\n"
     ]
    },
    {
     "name": "stderr",
     "output_type": "stream",
     "text": [
      "INFO:tensorflow:Assets written to: ckpt1\\assets\n"
     ]
    },
    {
     "name": "stdout",
     "output_type": "stream",
     "text": [
      "2/2 [==============================] - 43s 39s/step - loss: 5.3576 - accuracy: 0.0120 - val_loss: 4.1826 - val_accuracy: 0.1700\n",
      "Epoch 4/150\n",
      "2/2 [==============================] - ETA: 0s - loss: 5.0941 - accuracy: 0.0254WARNING:tensorflow:`evaluate()` received a value for `sample_weight`, but `weighted_metrics` were not provided.  Did you mean to pass metrics to `weighted_metrics` in `compile()`?  If this is intentional you can pass `weighted_metrics=[]` to `compile()` in order to silence this warning.\n"
     ]
    },
    {
     "name": "stderr",
     "output_type": "stream",
     "text": [
      "WARNING:tensorflow:`evaluate()` received a value for `sample_weight`, but `weighted_metrics` were not provided.  Did you mean to pass metrics to `weighted_metrics` in `compile()`?  If this is intentional you can pass `weighted_metrics=[]` to `compile()` in order to silence this warning.\n"
     ]
    },
    {
     "name": "stdout",
     "output_type": "stream",
     "text": [
      "\n",
      "Epoch 4: val_loss improved from 4.18262 to 3.40136, saving model to ckpt1\n"
     ]
    },
    {
     "name": "stderr",
     "output_type": "stream",
     "text": [
      "WARNING:absl:Found untraced functions such as _update_step_xla, lstm_cell_2_layer_call_fn, lstm_cell_2_layer_call_and_return_conditional_losses, lstm_cell_3_layer_call_fn, lstm_cell_3_layer_call_and_return_conditional_losses while saving (showing 5 of 5). These functions will not be directly callable after loading.\n"
     ]
    },
    {
     "name": "stdout",
     "output_type": "stream",
     "text": [
      "INFO:tensorflow:Assets written to: ckpt1\\assets\n"
     ]
    },
    {
     "name": "stderr",
     "output_type": "stream",
     "text": [
      "INFO:tensorflow:Assets written to: ckpt1\\assets\n"
     ]
    },
    {
     "name": "stdout",
     "output_type": "stream",
     "text": [
      "2/2 [==============================] - 46s 38s/step - loss: 5.0574 - accuracy: 0.0260 - val_loss: 3.4014 - val_accuracy: 0.1770\n",
      "Epoch 5/150\n",
      "2/2 [==============================] - ETA: 0s - loss: 4.8527 - accuracy: 0.0440WARNING:tensorflow:`evaluate()` received a value for `sample_weight`, but `weighted_metrics` were not provided.  Did you mean to pass metrics to `weighted_metrics` in `compile()`?  If this is intentional you can pass `weighted_metrics=[]` to `compile()` in order to silence this warning.\n"
     ]
    },
    {
     "name": "stderr",
     "output_type": "stream",
     "text": [
      "WARNING:tensorflow:`evaluate()` received a value for `sample_weight`, but `weighted_metrics` were not provided.  Did you mean to pass metrics to `weighted_metrics` in `compile()`?  If this is intentional you can pass `weighted_metrics=[]` to `compile()` in order to silence this warning.\n"
     ]
    },
    {
     "name": "stdout",
     "output_type": "stream",
     "text": [
      "\n",
      "Epoch 5: val_loss improved from 3.40136 to 3.12002, saving model to ckpt1\n"
     ]
    },
    {
     "name": "stderr",
     "output_type": "stream",
     "text": [
      "WARNING:absl:Found untraced functions such as _update_step_xla, lstm_cell_2_layer_call_fn, lstm_cell_2_layer_call_and_return_conditional_losses, lstm_cell_3_layer_call_fn, lstm_cell_3_layer_call_and_return_conditional_losses while saving (showing 5 of 5). These functions will not be directly callable after loading.\n"
     ]
    },
    {
     "name": "stdout",
     "output_type": "stream",
     "text": [
      "INFO:tensorflow:Assets written to: ckpt1\\assets\n"
     ]
    },
    {
     "name": "stderr",
     "output_type": "stream",
     "text": [
      "INFO:tensorflow:Assets written to: ckpt1\\assets\n"
     ]
    },
    {
     "name": "stdout",
     "output_type": "stream",
     "text": [
      "2/2 [==============================] - 48s 41s/step - loss: 4.8475 - accuracy: 0.0453 - val_loss: 3.1200 - val_accuracy: 0.2358\n",
      "Epoch 6/150\n",
      "2/2 [==============================] - ETA: 0s - loss: 4.5384 - accuracy: 0.0675WARNING:tensorflow:`evaluate()` received a value for `sample_weight`, but `weighted_metrics` were not provided.  Did you mean to pass metrics to `weighted_metrics` in `compile()`?  If this is intentional you can pass `weighted_metrics=[]` to `compile()` in order to silence this warning.\n"
     ]
    },
    {
     "name": "stderr",
     "output_type": "stream",
     "text": [
      "WARNING:tensorflow:`evaluate()` received a value for `sample_weight`, but `weighted_metrics` were not provided.  Did you mean to pass metrics to `weighted_metrics` in `compile()`?  If this is intentional you can pass `weighted_metrics=[]` to `compile()` in order to silence this warning.\n"
     ]
    },
    {
     "name": "stdout",
     "output_type": "stream",
     "text": [
      "\n",
      "Epoch 6: val_loss did not improve from 3.12002\n",
      "2/2 [==============================] - 16s 8s/step - loss: 4.4727 - accuracy: 0.0702 - val_loss: 3.5750 - val_accuracy: 0.2202\n",
      "Epoch 7/150\n",
      "2/2 [==============================] - ETA: 0s - loss: 4.3350 - accuracy: 0.0944WARNING:tensorflow:`evaluate()` received a value for `sample_weight`, but `weighted_metrics` were not provided.  Did you mean to pass metrics to `weighted_metrics` in `compile()`?  If this is intentional you can pass `weighted_metrics=[]` to `compile()` in order to silence this warning.\n"
     ]
    },
    {
     "name": "stderr",
     "output_type": "stream",
     "text": [
      "WARNING:tensorflow:`evaluate()` received a value for `sample_weight`, but `weighted_metrics` were not provided.  Did you mean to pass metrics to `weighted_metrics` in `compile()`?  If this is intentional you can pass `weighted_metrics=[]` to `compile()` in order to silence this warning.\n"
     ]
    },
    {
     "name": "stdout",
     "output_type": "stream",
     "text": [
      "\n",
      "Epoch 7: val_loss did not improve from 3.12002\n",
      "2/2 [==============================] - 14s 7s/step - loss: 4.3661 - accuracy: 0.0942 - val_loss: 3.8900 - val_accuracy: 0.2096\n",
      "Epoch 8/150\n",
      "2/2 [==============================] - ETA: 0s - loss: 4.1166 - accuracy: 0.1140WARNING:tensorflow:`evaluate()` received a value for `sample_weight`, but `weighted_metrics` were not provided.  Did you mean to pass metrics to `weighted_metrics` in `compile()`?  If this is intentional you can pass `weighted_metrics=[]` to `compile()` in order to silence this warning.\n"
     ]
    },
    {
     "name": "stderr",
     "output_type": "stream",
     "text": [
      "WARNING:tensorflow:`evaluate()` received a value for `sample_weight`, but `weighted_metrics` were not provided.  Did you mean to pass metrics to `weighted_metrics` in `compile()`?  If this is intentional you can pass `weighted_metrics=[]` to `compile()` in order to silence this warning.\n"
     ]
    },
    {
     "name": "stdout",
     "output_type": "stream",
     "text": [
      "\n",
      "Epoch 8: val_loss did not improve from 3.12002\n",
      "2/2 [==============================] - 14s 7s/step - loss: 4.1695 - accuracy: 0.1129 - val_loss: 3.4747 - val_accuracy: 0.2175\n",
      "Epoch 9/150\n",
      "2/2 [==============================] - ETA: 0s - loss: 3.8671 - accuracy: 0.1381WARNING:tensorflow:`evaluate()` received a value for `sample_weight`, but `weighted_metrics` were not provided.  Did you mean to pass metrics to `weighted_metrics` in `compile()`?  If this is intentional you can pass `weighted_metrics=[]` to `compile()` in order to silence this warning.\n"
     ]
    },
    {
     "name": "stderr",
     "output_type": "stream",
     "text": [
      "WARNING:tensorflow:`evaluate()` received a value for `sample_weight`, but `weighted_metrics` were not provided.  Did you mean to pass metrics to `weighted_metrics` in `compile()`?  If this is intentional you can pass `weighted_metrics=[]` to `compile()` in order to silence this warning.\n"
     ]
    },
    {
     "name": "stdout",
     "output_type": "stream",
     "text": [
      "\n",
      "Epoch 9: val_loss did not improve from 3.12002\n",
      "2/2 [==============================] - 14s 8s/step - loss: 3.8343 - accuracy: 0.1394 - val_loss: 3.1297 - val_accuracy: 0.2350\n",
      "Epoch 10/150\n",
      "2/2 [==============================] - ETA: 0s - loss: 3.7257 - accuracy: 0.1552WARNING:tensorflow:`evaluate()` received a value for `sample_weight`, but `weighted_metrics` were not provided.  Did you mean to pass metrics to `weighted_metrics` in `compile()`?  If this is intentional you can pass `weighted_metrics=[]` to `compile()` in order to silence this warning.\n"
     ]
    },
    {
     "name": "stderr",
     "output_type": "stream",
     "text": [
      "WARNING:tensorflow:`evaluate()` received a value for `sample_weight`, but `weighted_metrics` were not provided.  Did you mean to pass metrics to `weighted_metrics` in `compile()`?  If this is intentional you can pass `weighted_metrics=[]` to `compile()` in order to silence this warning.\n"
     ]
    },
    {
     "name": "stdout",
     "output_type": "stream",
     "text": [
      "\n",
      "Epoch 10: val_loss improved from 3.12002 to 3.06818, saving model to ckpt1\n"
     ]
    },
    {
     "name": "stderr",
     "output_type": "stream",
     "text": [
      "WARNING:absl:Found untraced functions such as _update_step_xla, lstm_cell_2_layer_call_fn, lstm_cell_2_layer_call_and_return_conditional_losses, lstm_cell_3_layer_call_fn, lstm_cell_3_layer_call_and_return_conditional_losses while saving (showing 5 of 5). These functions will not be directly callable after loading.\n"
     ]
    },
    {
     "name": "stdout",
     "output_type": "stream",
     "text": [
      "INFO:tensorflow:Assets written to: ckpt1\\assets\n"
     ]
    },
    {
     "name": "stderr",
     "output_type": "stream",
     "text": [
      "INFO:tensorflow:Assets written to: ckpt1\\assets\n"
     ]
    },
    {
     "name": "stdout",
     "output_type": "stream",
     "text": [
      "2/2 [==============================] - 36s 29s/step - loss: 3.7311 - accuracy: 0.1580 - val_loss: 3.0682 - val_accuracy: 0.2441\n",
      "Epoch 11/150\n",
      "2/2 [==============================] - ETA: 0s - loss: 3.6432 - accuracy: 0.1717WARNING:tensorflow:`evaluate()` received a value for `sample_weight`, but `weighted_metrics` were not provided.  Did you mean to pass metrics to `weighted_metrics` in `compile()`?  If this is intentional you can pass `weighted_metrics=[]` to `compile()` in order to silence this warning.\n"
     ]
    },
    {
     "name": "stderr",
     "output_type": "stream",
     "text": [
      "WARNING:tensorflow:`evaluate()` received a value for `sample_weight`, but `weighted_metrics` were not provided.  Did you mean to pass metrics to `weighted_metrics` in `compile()`?  If this is intentional you can pass `weighted_metrics=[]` to `compile()` in order to silence this warning.\n"
     ]
    },
    {
     "name": "stdout",
     "output_type": "stream",
     "text": [
      "\n",
      "Epoch 11: val_loss improved from 3.06818 to 2.97268, saving model to ckpt1\n"
     ]
    },
    {
     "name": "stderr",
     "output_type": "stream",
     "text": [
      "WARNING:absl:Found untraced functions such as _update_step_xla, lstm_cell_2_layer_call_fn, lstm_cell_2_layer_call_and_return_conditional_losses, lstm_cell_3_layer_call_fn, lstm_cell_3_layer_call_and_return_conditional_losses while saving (showing 5 of 5). These functions will not be directly callable after loading.\n"
     ]
    },
    {
     "name": "stdout",
     "output_type": "stream",
     "text": [
      "INFO:tensorflow:Assets written to: ckpt1\\assets\n"
     ]
    },
    {
     "name": "stderr",
     "output_type": "stream",
     "text": [
      "INFO:tensorflow:Assets written to: ckpt1\\assets\n"
     ]
    },
    {
     "name": "stdout",
     "output_type": "stream",
     "text": [
      "2/2 [==============================] - 42s 34s/step - loss: 3.7461 - accuracy: 0.1719 - val_loss: 2.9727 - val_accuracy: 0.2725\n",
      "Epoch 12/150\n",
      "2/2 [==============================] - ETA: 0s - loss: 3.4427 - accuracy: 0.1908WARNING:tensorflow:`evaluate()` received a value for `sample_weight`, but `weighted_metrics` were not provided.  Did you mean to pass metrics to `weighted_metrics` in `compile()`?  If this is intentional you can pass `weighted_metrics=[]` to `compile()` in order to silence this warning.\n"
     ]
    },
    {
     "name": "stderr",
     "output_type": "stream",
     "text": [
      "WARNING:tensorflow:`evaluate()` received a value for `sample_weight`, but `weighted_metrics` were not provided.  Did you mean to pass metrics to `weighted_metrics` in `compile()`?  If this is intentional you can pass `weighted_metrics=[]` to `compile()` in order to silence this warning.\n"
     ]
    },
    {
     "name": "stdout",
     "output_type": "stream",
     "text": [
      "\n",
      "Epoch 12: val_loss improved from 2.97268 to 2.65873, saving model to ckpt1\n"
     ]
    },
    {
     "name": "stderr",
     "output_type": "stream",
     "text": [
      "WARNING:absl:Found untraced functions such as _update_step_xla, lstm_cell_2_layer_call_fn, lstm_cell_2_layer_call_and_return_conditional_losses, lstm_cell_3_layer_call_fn, lstm_cell_3_layer_call_and_return_conditional_losses while saving (showing 5 of 5). These functions will not be directly callable after loading.\n"
     ]
    },
    {
     "name": "stdout",
     "output_type": "stream",
     "text": [
      "INFO:tensorflow:Assets written to: ckpt1\\assets\n"
     ]
    },
    {
     "name": "stderr",
     "output_type": "stream",
     "text": [
      "INFO:tensorflow:Assets written to: ckpt1\\assets\n"
     ]
    },
    {
     "name": "stdout",
     "output_type": "stream",
     "text": [
      "2/2 [==============================] - 38s 31s/step - loss: 3.4273 - accuracy: 0.1933 - val_loss: 2.6587 - val_accuracy: 0.3490\n",
      "Epoch 13/150\n",
      "2/2 [==============================] - ETA: 0s - loss: 3.2961 - accuracy: 0.2070WARNING:tensorflow:`evaluate()` received a value for `sample_weight`, but `weighted_metrics` were not provided.  Did you mean to pass metrics to `weighted_metrics` in `compile()`?  If this is intentional you can pass `weighted_metrics=[]` to `compile()` in order to silence this warning.\n"
     ]
    },
    {
     "name": "stderr",
     "output_type": "stream",
     "text": [
      "WARNING:tensorflow:`evaluate()` received a value for `sample_weight`, but `weighted_metrics` were not provided.  Did you mean to pass metrics to `weighted_metrics` in `compile()`?  If this is intentional you can pass `weighted_metrics=[]` to `compile()` in order to silence this warning.\n"
     ]
    },
    {
     "name": "stdout",
     "output_type": "stream",
     "text": [
      "\n",
      "Epoch 13: val_loss did not improve from 2.65873\n",
      "2/2 [==============================] - 16s 8s/step - loss: 3.2666 - accuracy: 0.2090 - val_loss: 2.7540 - val_accuracy: 0.3267\n",
      "Epoch 14/150\n",
      "2/2 [==============================] - ETA: 0s - loss: 3.1977 - accuracy: 0.2230WARNING:tensorflow:`evaluate()` received a value for `sample_weight`, but `weighted_metrics` were not provided.  Did you mean to pass metrics to `weighted_metrics` in `compile()`?  If this is intentional you can pass `weighted_metrics=[]` to `compile()` in order to silence this warning.\n"
     ]
    },
    {
     "name": "stderr",
     "output_type": "stream",
     "text": [
      "WARNING:tensorflow:`evaluate()` received a value for `sample_weight`, but `weighted_metrics` were not provided.  Did you mean to pass metrics to `weighted_metrics` in `compile()`?  If this is intentional you can pass `weighted_metrics=[]` to `compile()` in order to silence this warning.\n"
     ]
    },
    {
     "name": "stdout",
     "output_type": "stream",
     "text": [
      "\n",
      "Epoch 14: val_loss improved from 2.65873 to 2.48883, saving model to ckpt1\n"
     ]
    },
    {
     "name": "stderr",
     "output_type": "stream",
     "text": [
      "WARNING:absl:Found untraced functions such as _update_step_xla, lstm_cell_2_layer_call_fn, lstm_cell_2_layer_call_and_return_conditional_losses, lstm_cell_3_layer_call_fn, lstm_cell_3_layer_call_and_return_conditional_losses while saving (showing 5 of 5). These functions will not be directly callable after loading.\n"
     ]
    },
    {
     "name": "stdout",
     "output_type": "stream",
     "text": [
      "INFO:tensorflow:Assets written to: ckpt1\\assets\n"
     ]
    },
    {
     "name": "stderr",
     "output_type": "stream",
     "text": [
      "INFO:tensorflow:Assets written to: ckpt1\\assets\n"
     ]
    },
    {
     "name": "stdout",
     "output_type": "stream",
     "text": [
      "2/2 [==============================] - 40s 33s/step - loss: 3.1865 - accuracy: 0.2254 - val_loss: 2.4888 - val_accuracy: 0.3857\n",
      "Epoch 15/150\n",
      "2/2 [==============================] - ETA: 0s - loss: 3.1227 - accuracy: 0.2268WARNING:tensorflow:`evaluate()` received a value for `sample_weight`, but `weighted_metrics` were not provided.  Did you mean to pass metrics to `weighted_metrics` in `compile()`?  If this is intentional you can pass `weighted_metrics=[]` to `compile()` in order to silence this warning.\n"
     ]
    },
    {
     "name": "stderr",
     "output_type": "stream",
     "text": [
      "WARNING:tensorflow:`evaluate()` received a value for `sample_weight`, but `weighted_metrics` were not provided.  Did you mean to pass metrics to `weighted_metrics` in `compile()`?  If this is intentional you can pass `weighted_metrics=[]` to `compile()` in order to silence this warning.\n"
     ]
    },
    {
     "name": "stdout",
     "output_type": "stream",
     "text": [
      "\n",
      "Epoch 15: val_loss improved from 2.48883 to 1.88305, saving model to ckpt1\n"
     ]
    },
    {
     "name": "stderr",
     "output_type": "stream",
     "text": [
      "WARNING:absl:Found untraced functions such as _update_step_xla, lstm_cell_2_layer_call_fn, lstm_cell_2_layer_call_and_return_conditional_losses, lstm_cell_3_layer_call_fn, lstm_cell_3_layer_call_and_return_conditional_losses while saving (showing 5 of 5). These functions will not be directly callable after loading.\n"
     ]
    },
    {
     "name": "stdout",
     "output_type": "stream",
     "text": [
      "INFO:tensorflow:Assets written to: ckpt1\\assets\n"
     ]
    },
    {
     "name": "stderr",
     "output_type": "stream",
     "text": [
      "INFO:tensorflow:Assets written to: ckpt1\\assets\n"
     ]
    },
    {
     "name": "stdout",
     "output_type": "stream",
     "text": [
      "2/2 [==============================] - 43s 35s/step - loss: 3.1079 - accuracy: 0.2255 - val_loss: 1.8830 - val_accuracy: 0.4299\n",
      "Epoch 16/150\n",
      "2/2 [==============================] - ETA: 0s - loss: 3.0199 - accuracy: 0.2395WARNING:tensorflow:`evaluate()` received a value for `sample_weight`, but `weighted_metrics` were not provided.  Did you mean to pass metrics to `weighted_metrics` in `compile()`?  If this is intentional you can pass `weighted_metrics=[]` to `compile()` in order to silence this warning.\n"
     ]
    },
    {
     "name": "stderr",
     "output_type": "stream",
     "text": [
      "WARNING:tensorflow:`evaluate()` received a value for `sample_weight`, but `weighted_metrics` were not provided.  Did you mean to pass metrics to `weighted_metrics` in `compile()`?  If this is intentional you can pass `weighted_metrics=[]` to `compile()` in order to silence this warning.\n"
     ]
    },
    {
     "name": "stdout",
     "output_type": "stream",
     "text": [
      "\n",
      "Epoch 16: val_loss did not improve from 1.88305\n",
      "2/2 [==============================] - 18s 9s/step - loss: 2.9848 - accuracy: 0.2412 - val_loss: 1.9357 - val_accuracy: 0.4677\n",
      "Epoch 17/150\n",
      "2/2 [==============================] - ETA: 0s - loss: 2.9409 - accuracy: 0.2579WARNING:tensorflow:`evaluate()` received a value for `sample_weight`, but `weighted_metrics` were not provided.  Did you mean to pass metrics to `weighted_metrics` in `compile()`?  If this is intentional you can pass `weighted_metrics=[]` to `compile()` in order to silence this warning.\n"
     ]
    },
    {
     "name": "stderr",
     "output_type": "stream",
     "text": [
      "WARNING:tensorflow:`evaluate()` received a value for `sample_weight`, but `weighted_metrics` were not provided.  Did you mean to pass metrics to `weighted_metrics` in `compile()`?  If this is intentional you can pass `weighted_metrics=[]` to `compile()` in order to silence this warning.\n"
     ]
    },
    {
     "name": "stdout",
     "output_type": "stream",
     "text": [
      "\n",
      "Epoch 17: val_loss did not improve from 1.88305\n",
      "2/2 [==============================] - 18s 10s/step - loss: 2.9055 - accuracy: 0.2594 - val_loss: 2.1918 - val_accuracy: 0.4178\n",
      "Epoch 18/150\n",
      "2/2 [==============================] - ETA: 0s - loss: 2.9126 - accuracy: 0.2690WARNING:tensorflow:`evaluate()` received a value for `sample_weight`, but `weighted_metrics` were not provided.  Did you mean to pass metrics to `weighted_metrics` in `compile()`?  If this is intentional you can pass `weighted_metrics=[]` to `compile()` in order to silence this warning.\n"
     ]
    },
    {
     "name": "stderr",
     "output_type": "stream",
     "text": [
      "WARNING:tensorflow:`evaluate()` received a value for `sample_weight`, but `weighted_metrics` were not provided.  Did you mean to pass metrics to `weighted_metrics` in `compile()`?  If this is intentional you can pass `weighted_metrics=[]` to `compile()` in order to silence this warning.\n"
     ]
    },
    {
     "name": "stdout",
     "output_type": "stream",
     "text": [
      "\n",
      "Epoch 18: val_loss improved from 1.88305 to 1.86561, saving model to ckpt1\n"
     ]
    },
    {
     "name": "stderr",
     "output_type": "stream",
     "text": [
      "WARNING:absl:Found untraced functions such as _update_step_xla, lstm_cell_2_layer_call_fn, lstm_cell_2_layer_call_and_return_conditional_losses, lstm_cell_3_layer_call_fn, lstm_cell_3_layer_call_and_return_conditional_losses while saving (showing 5 of 5). These functions will not be directly callable after loading.\n"
     ]
    },
    {
     "name": "stdout",
     "output_type": "stream",
     "text": [
      "INFO:tensorflow:Assets written to: ckpt1\\assets\n"
     ]
    },
    {
     "name": "stderr",
     "output_type": "stream",
     "text": [
      "INFO:tensorflow:Assets written to: ckpt1\\assets\n"
     ]
    },
    {
     "name": "stdout",
     "output_type": "stream",
     "text": [
      "2/2 [==============================] - 43s 35s/step - loss: 2.9477 - accuracy: 0.2675 - val_loss: 1.8656 - val_accuracy: 0.4273\n",
      "Epoch 19/150\n",
      "2/2 [==============================] - ETA: 0s - loss: 2.8135 - accuracy: 0.2838WARNING:tensorflow:`evaluate()` received a value for `sample_weight`, but `weighted_metrics` were not provided.  Did you mean to pass metrics to `weighted_metrics` in `compile()`?  If this is intentional you can pass `weighted_metrics=[]` to `compile()` in order to silence this warning.\n"
     ]
    },
    {
     "name": "stderr",
     "output_type": "stream",
     "text": [
      "WARNING:tensorflow:`evaluate()` received a value for `sample_weight`, but `weighted_metrics` were not provided.  Did you mean to pass metrics to `weighted_metrics` in `compile()`?  If this is intentional you can pass `weighted_metrics=[]` to `compile()` in order to silence this warning.\n"
     ]
    },
    {
     "name": "stdout",
     "output_type": "stream",
     "text": [
      "\n",
      "Epoch 19: val_loss improved from 1.86561 to 1.84721, saving model to ckpt1\n"
     ]
    },
    {
     "name": "stderr",
     "output_type": "stream",
     "text": [
      "WARNING:absl:Found untraced functions such as _update_step_xla, lstm_cell_2_layer_call_fn, lstm_cell_2_layer_call_and_return_conditional_losses, lstm_cell_3_layer_call_fn, lstm_cell_3_layer_call_and_return_conditional_losses while saving (showing 5 of 5). These functions will not be directly callable after loading.\n"
     ]
    },
    {
     "name": "stdout",
     "output_type": "stream",
     "text": [
      "INFO:tensorflow:Assets written to: ckpt1\\assets\n"
     ]
    },
    {
     "name": "stderr",
     "output_type": "stream",
     "text": [
      "INFO:tensorflow:Assets written to: ckpt1\\assets\n"
     ]
    },
    {
     "name": "stdout",
     "output_type": "stream",
     "text": [
      "2/2 [==============================] - 45s 37s/step - loss: 2.8267 - accuracy: 0.2812 - val_loss: 1.8472 - val_accuracy: 0.4540\n",
      "Epoch 20/150\n",
      "2/2 [==============================] - ETA: 0s - loss: 2.7142 - accuracy: 0.3029WARNING:tensorflow:`evaluate()` received a value for `sample_weight`, but `weighted_metrics` were not provided.  Did you mean to pass metrics to `weighted_metrics` in `compile()`?  If this is intentional you can pass `weighted_metrics=[]` to `compile()` in order to silence this warning.\n"
     ]
    },
    {
     "name": "stderr",
     "output_type": "stream",
     "text": [
      "WARNING:tensorflow:`evaluate()` received a value for `sample_weight`, but `weighted_metrics` were not provided.  Did you mean to pass metrics to `weighted_metrics` in `compile()`?  If this is intentional you can pass `weighted_metrics=[]` to `compile()` in order to silence this warning.\n"
     ]
    },
    {
     "name": "stdout",
     "output_type": "stream",
     "text": [
      "\n",
      "Epoch 20: val_loss did not improve from 1.84721\n",
      "2/2 [==============================] - 18s 9s/step - loss: 2.7035 - accuracy: 0.3074 - val_loss: 2.0026 - val_accuracy: 0.4945\n",
      "Epoch 21/150\n",
      "2/2 [==============================] - ETA: 0s - loss: 2.7098 - accuracy: 0.3075WARNING:tensorflow:`evaluate()` received a value for `sample_weight`, but `weighted_metrics` were not provided.  Did you mean to pass metrics to `weighted_metrics` in `compile()`?  If this is intentional you can pass `weighted_metrics=[]` to `compile()` in order to silence this warning.\n"
     ]
    },
    {
     "name": "stderr",
     "output_type": "stream",
     "text": [
      "WARNING:tensorflow:`evaluate()` received a value for `sample_weight`, but `weighted_metrics` were not provided.  Did you mean to pass metrics to `weighted_metrics` in `compile()`?  If this is intentional you can pass `weighted_metrics=[]` to `compile()` in order to silence this warning.\n"
     ]
    },
    {
     "name": "stdout",
     "output_type": "stream",
     "text": [
      "\n",
      "Epoch 21: val_loss did not improve from 1.84721\n",
      "2/2 [==============================] - 20s 10s/step - loss: 2.7498 - accuracy: 0.3066 - val_loss: 2.1481 - val_accuracy: 0.4918\n",
      "Epoch 22/150\n",
      "2/2 [==============================] - ETA: 0s - loss: 2.5929 - accuracy: 0.3197WARNING:tensorflow:`evaluate()` received a value for `sample_weight`, but `weighted_metrics` were not provided.  Did you mean to pass metrics to `weighted_metrics` in `compile()`?  If this is intentional you can pass `weighted_metrics=[]` to `compile()` in order to silence this warning.\n"
     ]
    },
    {
     "name": "stderr",
     "output_type": "stream",
     "text": [
      "WARNING:tensorflow:`evaluate()` received a value for `sample_weight`, but `weighted_metrics` were not provided.  Did you mean to pass metrics to `weighted_metrics` in `compile()`?  If this is intentional you can pass `weighted_metrics=[]` to `compile()` in order to silence this warning.\n"
     ]
    },
    {
     "name": "stdout",
     "output_type": "stream",
     "text": [
      "\n",
      "Epoch 22: val_loss did not improve from 1.84721\n",
      "2/2 [==============================] - 21s 12s/step - loss: 2.5937 - accuracy: 0.3172 - val_loss: 2.4415 - val_accuracy: 0.4687\n",
      "Epoch 23/150\n",
      "2/2 [==============================] - ETA: 0s - loss: 2.5784 - accuracy: 0.3364WARNING:tensorflow:`evaluate()` received a value for `sample_weight`, but `weighted_metrics` were not provided.  Did you mean to pass metrics to `weighted_metrics` in `compile()`?  If this is intentional you can pass `weighted_metrics=[]` to `compile()` in order to silence this warning.\n"
     ]
    },
    {
     "name": "stderr",
     "output_type": "stream",
     "text": [
      "WARNING:tensorflow:`evaluate()` received a value for `sample_weight`, but `weighted_metrics` were not provided.  Did you mean to pass metrics to `weighted_metrics` in `compile()`?  If this is intentional you can pass `weighted_metrics=[]` to `compile()` in order to silence this warning.\n"
     ]
    },
    {
     "name": "stdout",
     "output_type": "stream",
     "text": [
      "\n",
      "Epoch 23: val_loss did not improve from 1.84721\n",
      "2/2 [==============================] - 20s 10s/step - loss: 2.6019 - accuracy: 0.3403 - val_loss: 1.9291 - val_accuracy: 0.5244\n",
      "Epoch 24/150\n",
      "2/2 [==============================] - ETA: 0s - loss: 2.5264 - accuracy: 0.3333WARNING:tensorflow:`evaluate()` received a value for `sample_weight`, but `weighted_metrics` were not provided.  Did you mean to pass metrics to `weighted_metrics` in `compile()`?  If this is intentional you can pass `weighted_metrics=[]` to `compile()` in order to silence this warning.\n"
     ]
    },
    {
     "name": "stderr",
     "output_type": "stream",
     "text": [
      "WARNING:tensorflow:`evaluate()` received a value for `sample_weight`, but `weighted_metrics` were not provided.  Did you mean to pass metrics to `weighted_metrics` in `compile()`?  If this is intentional you can pass `weighted_metrics=[]` to `compile()` in order to silence this warning.\n"
     ]
    },
    {
     "name": "stdout",
     "output_type": "stream",
     "text": [
      "\n",
      "Epoch 24: val_loss improved from 1.84721 to 1.70300, saving model to ckpt1\n"
     ]
    },
    {
     "name": "stderr",
     "output_type": "stream",
     "text": [
      "WARNING:absl:Found untraced functions such as _update_step_xla, lstm_cell_2_layer_call_fn, lstm_cell_2_layer_call_and_return_conditional_losses, lstm_cell_3_layer_call_fn, lstm_cell_3_layer_call_and_return_conditional_losses while saving (showing 5 of 5). These functions will not be directly callable after loading.\n"
     ]
    },
    {
     "name": "stdout",
     "output_type": "stream",
     "text": [
      "INFO:tensorflow:Assets written to: ckpt1\\assets\n"
     ]
    },
    {
     "name": "stderr",
     "output_type": "stream",
     "text": [
      "INFO:tensorflow:Assets written to: ckpt1\\assets\n"
     ]
    },
    {
     "name": "stdout",
     "output_type": "stream",
     "text": [
      "2/2 [==============================] - 48s 38s/step - loss: 2.5574 - accuracy: 0.3253 - val_loss: 1.7030 - val_accuracy: 0.5000\n",
      "Epoch 25/150\n",
      "2/2 [==============================] - ETA: 0s - loss: 2.4622 - accuracy: 0.3552WARNING:tensorflow:`evaluate()` received a value for `sample_weight`, but `weighted_metrics` were not provided.  Did you mean to pass metrics to `weighted_metrics` in `compile()`?  If this is intentional you can pass `weighted_metrics=[]` to `compile()` in order to silence this warning.\n"
     ]
    },
    {
     "name": "stderr",
     "output_type": "stream",
     "text": [
      "WARNING:tensorflow:`evaluate()` received a value for `sample_weight`, but `weighted_metrics` were not provided.  Did you mean to pass metrics to `weighted_metrics` in `compile()`?  If this is intentional you can pass `weighted_metrics=[]` to `compile()` in order to silence this warning.\n"
     ]
    },
    {
     "name": "stdout",
     "output_type": "stream",
     "text": [
      "\n",
      "Epoch 25: val_loss improved from 1.70300 to 1.62232, saving model to ckpt1\n"
     ]
    },
    {
     "name": "stderr",
     "output_type": "stream",
     "text": [
      "WARNING:absl:Found untraced functions such as _update_step_xla, lstm_cell_2_layer_call_fn, lstm_cell_2_layer_call_and_return_conditional_losses, lstm_cell_3_layer_call_fn, lstm_cell_3_layer_call_and_return_conditional_losses while saving (showing 5 of 5). These functions will not be directly callable after loading.\n"
     ]
    },
    {
     "name": "stdout",
     "output_type": "stream",
     "text": [
      "INFO:tensorflow:Assets written to: ckpt1\\assets\n"
     ]
    },
    {
     "name": "stderr",
     "output_type": "stream",
     "text": [
      "INFO:tensorflow:Assets written to: ckpt1\\assets\n"
     ]
    },
    {
     "name": "stdout",
     "output_type": "stream",
     "text": [
      "2/2 [==============================] - 40s 32s/step - loss: 2.4713 - accuracy: 0.3557 - val_loss: 1.6223 - val_accuracy: 0.5487\n",
      "Epoch 26/150\n",
      "2/2 [==============================] - ETA: 0s - loss: 2.3943 - accuracy: 0.3571WARNING:tensorflow:`evaluate()` received a value for `sample_weight`, but `weighted_metrics` were not provided.  Did you mean to pass metrics to `weighted_metrics` in `compile()`?  If this is intentional you can pass `weighted_metrics=[]` to `compile()` in order to silence this warning.\n"
     ]
    },
    {
     "name": "stderr",
     "output_type": "stream",
     "text": [
      "WARNING:tensorflow:`evaluate()` received a value for `sample_weight`, but `weighted_metrics` were not provided.  Did you mean to pass metrics to `weighted_metrics` in `compile()`?  If this is intentional you can pass `weighted_metrics=[]` to `compile()` in order to silence this warning.\n"
     ]
    },
    {
     "name": "stdout",
     "output_type": "stream",
     "text": [
      "\n",
      "Epoch 26: val_loss improved from 1.62232 to 1.50621, saving model to ckpt1\n"
     ]
    },
    {
     "name": "stderr",
     "output_type": "stream",
     "text": [
      "WARNING:absl:Found untraced functions such as _update_step_xla, lstm_cell_2_layer_call_fn, lstm_cell_2_layer_call_and_return_conditional_losses, lstm_cell_3_layer_call_fn, lstm_cell_3_layer_call_and_return_conditional_losses while saving (showing 5 of 5). These functions will not be directly callable after loading.\n"
     ]
    },
    {
     "name": "stdout",
     "output_type": "stream",
     "text": [
      "INFO:tensorflow:Assets written to: ckpt1\\assets\n"
     ]
    },
    {
     "name": "stderr",
     "output_type": "stream",
     "text": [
      "INFO:tensorflow:Assets written to: ckpt1\\assets\n"
     ]
    },
    {
     "name": "stdout",
     "output_type": "stream",
     "text": [
      "2/2 [==============================] - 43s 35s/step - loss: 2.3807 - accuracy: 0.3574 - val_loss: 1.5062 - val_accuracy: 0.5256\n",
      "Epoch 27/150\n",
      "2/2 [==============================] - ETA: 0s - loss: 2.3379 - accuracy: 0.3725WARNING:tensorflow:`evaluate()` received a value for `sample_weight`, but `weighted_metrics` were not provided.  Did you mean to pass metrics to `weighted_metrics` in `compile()`?  If this is intentional you can pass `weighted_metrics=[]` to `compile()` in order to silence this warning.\n"
     ]
    },
    {
     "name": "stderr",
     "output_type": "stream",
     "text": [
      "WARNING:tensorflow:`evaluate()` received a value for `sample_weight`, but `weighted_metrics` were not provided.  Did you mean to pass metrics to `weighted_metrics` in `compile()`?  If this is intentional you can pass `weighted_metrics=[]` to `compile()` in order to silence this warning.\n"
     ]
    },
    {
     "name": "stdout",
     "output_type": "stream",
     "text": [
      "\n",
      "Epoch 27: val_loss did not improve from 1.50621\n",
      "2/2 [==============================] - 18s 9s/step - loss: 2.3220 - accuracy: 0.3750 - val_loss: 1.6125 - val_accuracy: 0.5490\n",
      "Epoch 28/150\n",
      "2/2 [==============================] - ETA: 0s - loss: 2.2790 - accuracy: 0.3858WARNING:tensorflow:`evaluate()` received a value for `sample_weight`, but `weighted_metrics` were not provided.  Did you mean to pass metrics to `weighted_metrics` in `compile()`?  If this is intentional you can pass `weighted_metrics=[]` to `compile()` in order to silence this warning.\n"
     ]
    },
    {
     "name": "stderr",
     "output_type": "stream",
     "text": [
      "WARNING:tensorflow:`evaluate()` received a value for `sample_weight`, but `weighted_metrics` were not provided.  Did you mean to pass metrics to `weighted_metrics` in `compile()`?  If this is intentional you can pass `weighted_metrics=[]` to `compile()` in order to silence this warning.\n"
     ]
    },
    {
     "name": "stdout",
     "output_type": "stream",
     "text": [
      "\n",
      "Epoch 28: val_loss did not improve from 1.50621\n",
      "2/2 [==============================] - 19s 11s/step - loss: 2.2588 - accuracy: 0.3867 - val_loss: 1.7109 - val_accuracy: 0.5501\n",
      "Epoch 29/150\n",
      "2/2 [==============================] - ETA: 0s - loss: 2.2859 - accuracy: 0.3876 WARNING:tensorflow:`evaluate()` received a value for `sample_weight`, but `weighted_metrics` were not provided.  Did you mean to pass metrics to `weighted_metrics` in `compile()`?  If this is intentional you can pass `weighted_metrics=[]` to `compile()` in order to silence this warning.\n"
     ]
    },
    {
     "name": "stderr",
     "output_type": "stream",
     "text": [
      "WARNING:tensorflow:`evaluate()` received a value for `sample_weight`, but `weighted_metrics` were not provided.  Did you mean to pass metrics to `weighted_metrics` in `compile()`?  If this is intentional you can pass `weighted_metrics=[]` to `compile()` in order to silence this warning.\n"
     ]
    },
    {
     "name": "stdout",
     "output_type": "stream",
     "text": [
      "\n",
      "Epoch 29: val_loss improved from 1.50621 to 1.46954, saving model to ckpt1\n"
     ]
    },
    {
     "name": "stderr",
     "output_type": "stream",
     "text": [
      "WARNING:absl:Found untraced functions such as _update_step_xla, lstm_cell_2_layer_call_fn, lstm_cell_2_layer_call_and_return_conditional_losses, lstm_cell_3_layer_call_fn, lstm_cell_3_layer_call_and_return_conditional_losses while saving (showing 5 of 5). These functions will not be directly callable after loading.\n"
     ]
    },
    {
     "name": "stdout",
     "output_type": "stream",
     "text": [
      "INFO:tensorflow:Assets written to: ckpt1\\assets\n"
     ]
    },
    {
     "name": "stderr",
     "output_type": "stream",
     "text": [
      "INFO:tensorflow:Assets written to: ckpt1\\assets\n"
     ]
    },
    {
     "name": "stdout",
     "output_type": "stream",
     "text": [
      "2/2 [==============================] - 49s 38s/step - loss: 2.3221 - accuracy: 0.3833 - val_loss: 1.4695 - val_accuracy: 0.5254\n",
      "Epoch 30/150\n",
      "2/2 [==============================] - ETA: 0s - loss: 2.2135 - accuracy: 0.3963WARNING:tensorflow:`evaluate()` received a value for `sample_weight`, but `weighted_metrics` were not provided.  Did you mean to pass metrics to `weighted_metrics` in `compile()`?  If this is intentional you can pass `weighted_metrics=[]` to `compile()` in order to silence this warning.\n"
     ]
    },
    {
     "name": "stderr",
     "output_type": "stream",
     "text": [
      "WARNING:tensorflow:`evaluate()` received a value for `sample_weight`, but `weighted_metrics` were not provided.  Did you mean to pass metrics to `weighted_metrics` in `compile()`?  If this is intentional you can pass `weighted_metrics=[]` to `compile()` in order to silence this warning.\n"
     ]
    },
    {
     "name": "stdout",
     "output_type": "stream",
     "text": [
      "\n",
      "Epoch 30: val_loss improved from 1.46954 to 1.44112, saving model to ckpt1\n"
     ]
    },
    {
     "name": "stderr",
     "output_type": "stream",
     "text": [
      "WARNING:absl:Found untraced functions such as _update_step_xla, lstm_cell_2_layer_call_fn, lstm_cell_2_layer_call_and_return_conditional_losses, lstm_cell_3_layer_call_fn, lstm_cell_3_layer_call_and_return_conditional_losses while saving (showing 5 of 5). These functions will not be directly callable after loading.\n"
     ]
    },
    {
     "name": "stdout",
     "output_type": "stream",
     "text": [
      "INFO:tensorflow:Assets written to: ckpt1\\assets\n"
     ]
    },
    {
     "name": "stderr",
     "output_type": "stream",
     "text": [
      "INFO:tensorflow:Assets written to: ckpt1\\assets\n"
     ]
    },
    {
     "name": "stdout",
     "output_type": "stream",
     "text": [
      "2/2 [==============================] - 40s 32s/step - loss: 2.2096 - accuracy: 0.3951 - val_loss: 1.4411 - val_accuracy: 0.5863\n",
      "Epoch 31/150\n",
      "2/2 [==============================] - ETA: 0s - loss: 2.1134 - accuracy: 0.4148WARNING:tensorflow:`evaluate()` received a value for `sample_weight`, but `weighted_metrics` were not provided.  Did you mean to pass metrics to `weighted_metrics` in `compile()`?  If this is intentional you can pass `weighted_metrics=[]` to `compile()` in order to silence this warning.\n"
     ]
    },
    {
     "name": "stderr",
     "output_type": "stream",
     "text": [
      "WARNING:tensorflow:`evaluate()` received a value for `sample_weight`, but `weighted_metrics` were not provided.  Did you mean to pass metrics to `weighted_metrics` in `compile()`?  If this is intentional you can pass `weighted_metrics=[]` to `compile()` in order to silence this warning.\n"
     ]
    },
    {
     "name": "stdout",
     "output_type": "stream",
     "text": [
      "\n",
      "Epoch 31: val_loss improved from 1.44112 to 1.31138, saving model to ckpt1\n"
     ]
    },
    {
     "name": "stderr",
     "output_type": "stream",
     "text": [
      "WARNING:absl:Found untraced functions such as _update_step_xla, lstm_cell_2_layer_call_fn, lstm_cell_2_layer_call_and_return_conditional_losses, lstm_cell_3_layer_call_fn, lstm_cell_3_layer_call_and_return_conditional_losses while saving (showing 5 of 5). These functions will not be directly callable after loading.\n"
     ]
    },
    {
     "name": "stdout",
     "output_type": "stream",
     "text": [
      "INFO:tensorflow:Assets written to: ckpt1\\assets\n"
     ]
    },
    {
     "name": "stderr",
     "output_type": "stream",
     "text": [
      "INFO:tensorflow:Assets written to: ckpt1\\assets\n"
     ]
    },
    {
     "name": "stdout",
     "output_type": "stream",
     "text": [
      "2/2 [==============================] - 40s 33s/step - loss: 2.0520 - accuracy: 0.4172 - val_loss: 1.3114 - val_accuracy: 0.5912\n",
      "Epoch 32/150\n",
      "2/2 [==============================] - ETA: 0s - loss: 2.1069 - accuracy: 0.4162WARNING:tensorflow:`evaluate()` received a value for `sample_weight`, but `weighted_metrics` were not provided.  Did you mean to pass metrics to `weighted_metrics` in `compile()`?  If this is intentional you can pass `weighted_metrics=[]` to `compile()` in order to silence this warning.\n"
     ]
    },
    {
     "name": "stderr",
     "output_type": "stream",
     "text": [
      "WARNING:tensorflow:`evaluate()` received a value for `sample_weight`, but `weighted_metrics` were not provided.  Did you mean to pass metrics to `weighted_metrics` in `compile()`?  If this is intentional you can pass `weighted_metrics=[]` to `compile()` in order to silence this warning.\n"
     ]
    },
    {
     "name": "stdout",
     "output_type": "stream",
     "text": [
      "\n",
      "Epoch 32: val_loss did not improve from 1.31138\n",
      "2/2 [==============================] - 17s 9s/step - loss: 2.0934 - accuracy: 0.4184 - val_loss: 1.5873 - val_accuracy: 0.5764\n",
      "Epoch 33/150\n",
      "2/2 [==============================] - ETA: 0s - loss: 2.1167 - accuracy: 0.4152WARNING:tensorflow:`evaluate()` received a value for `sample_weight`, but `weighted_metrics` were not provided.  Did you mean to pass metrics to `weighted_metrics` in `compile()`?  If this is intentional you can pass `weighted_metrics=[]` to `compile()` in order to silence this warning.\n"
     ]
    },
    {
     "name": "stderr",
     "output_type": "stream",
     "text": [
      "WARNING:tensorflow:`evaluate()` received a value for `sample_weight`, but `weighted_metrics` were not provided.  Did you mean to pass metrics to `weighted_metrics` in `compile()`?  If this is intentional you can pass `weighted_metrics=[]` to `compile()` in order to silence this warning.\n"
     ]
    },
    {
     "name": "stdout",
     "output_type": "stream",
     "text": [
      "\n",
      "Epoch 33: val_loss did not improve from 1.31138\n",
      "2/2 [==============================] - 16s 9s/step - loss: 2.1410 - accuracy: 0.4086 - val_loss: 1.3555 - val_accuracy: 0.6088\n",
      "Epoch 34/150\n",
      "2/2 [==============================] - ETA: 0s - loss: 2.0486 - accuracy: 0.4316WARNING:tensorflow:`evaluate()` received a value for `sample_weight`, but `weighted_metrics` were not provided.  Did you mean to pass metrics to `weighted_metrics` in `compile()`?  If this is intentional you can pass `weighted_metrics=[]` to `compile()` in order to silence this warning.\n"
     ]
    },
    {
     "name": "stderr",
     "output_type": "stream",
     "text": [
      "WARNING:tensorflow:`evaluate()` received a value for `sample_weight`, but `weighted_metrics` were not provided.  Did you mean to pass metrics to `weighted_metrics` in `compile()`?  If this is intentional you can pass `weighted_metrics=[]` to `compile()` in order to silence this warning.\n"
     ]
    },
    {
     "name": "stdout",
     "output_type": "stream",
     "text": [
      "\n",
      "Epoch 34: val_loss improved from 1.31138 to 1.13688, saving model to ckpt1\n"
     ]
    },
    {
     "name": "stderr",
     "output_type": "stream",
     "text": [
      "WARNING:absl:Found untraced functions such as _update_step_xla, lstm_cell_2_layer_call_fn, lstm_cell_2_layer_call_and_return_conditional_losses, lstm_cell_3_layer_call_fn, lstm_cell_3_layer_call_and_return_conditional_losses while saving (showing 5 of 5). These functions will not be directly callable after loading.\n"
     ]
    },
    {
     "name": "stdout",
     "output_type": "stream",
     "text": [
      "INFO:tensorflow:Assets written to: ckpt1\\assets\n"
     ]
    },
    {
     "name": "stderr",
     "output_type": "stream",
     "text": [
      "INFO:tensorflow:Assets written to: ckpt1\\assets\n"
     ]
    },
    {
     "name": "stdout",
     "output_type": "stream",
     "text": [
      "2/2 [==============================] - 39s 31s/step - loss: 2.0403 - accuracy: 0.4352 - val_loss: 1.1369 - val_accuracy: 0.6014\n",
      "Epoch 35/150\n",
      "2/2 [==============================] - ETA: 0s - loss: 2.0085 - accuracy: 0.4359WARNING:tensorflow:`evaluate()` received a value for `sample_weight`, but `weighted_metrics` were not provided.  Did you mean to pass metrics to `weighted_metrics` in `compile()`?  If this is intentional you can pass `weighted_metrics=[]` to `compile()` in order to silence this warning.\n"
     ]
    },
    {
     "name": "stderr",
     "output_type": "stream",
     "text": [
      "WARNING:tensorflow:`evaluate()` received a value for `sample_weight`, but `weighted_metrics` were not provided.  Did you mean to pass metrics to `weighted_metrics` in `compile()`?  If this is intentional you can pass `weighted_metrics=[]` to `compile()` in order to silence this warning.\n"
     ]
    },
    {
     "name": "stdout",
     "output_type": "stream",
     "text": [
      "\n",
      "Epoch 35: val_loss did not improve from 1.13688\n",
      "2/2 [==============================] - 16s 8s/step - loss: 2.0051 - accuracy: 0.4356 - val_loss: 1.2334 - val_accuracy: 0.5749\n",
      "Epoch 36/150\n",
      "2/2 [==============================] - ETA: 0s - loss: 2.0101 - accuracy: 0.4372WARNING:tensorflow:`evaluate()` received a value for `sample_weight`, but `weighted_metrics` were not provided.  Did you mean to pass metrics to `weighted_metrics` in `compile()`?  If this is intentional you can pass `weighted_metrics=[]` to `compile()` in order to silence this warning.\n"
     ]
    },
    {
     "name": "stderr",
     "output_type": "stream",
     "text": [
      "WARNING:tensorflow:`evaluate()` received a value for `sample_weight`, but `weighted_metrics` were not provided.  Did you mean to pass metrics to `weighted_metrics` in `compile()`?  If this is intentional you can pass `weighted_metrics=[]` to `compile()` in order to silence this warning.\n"
     ]
    },
    {
     "name": "stdout",
     "output_type": "stream",
     "text": [
      "\n",
      "Epoch 36: val_loss did not improve from 1.13688\n",
      "2/2 [==============================] - 16s 8s/step - loss: 2.0357 - accuracy: 0.4326 - val_loss: 1.4131 - val_accuracy: 0.6026\n",
      "Epoch 37/150\n",
      "2/2 [==============================] - ETA: 0s - loss: 1.9687 - accuracy: 0.4494 WARNING:tensorflow:`evaluate()` received a value for `sample_weight`, but `weighted_metrics` were not provided.  Did you mean to pass metrics to `weighted_metrics` in `compile()`?  If this is intentional you can pass `weighted_metrics=[]` to `compile()` in order to silence this warning.\n"
     ]
    },
    {
     "name": "stderr",
     "output_type": "stream",
     "text": [
      "WARNING:tensorflow:`evaluate()` received a value for `sample_weight`, but `weighted_metrics` were not provided.  Did you mean to pass metrics to `weighted_metrics` in `compile()`?  If this is intentional you can pass `weighted_metrics=[]` to `compile()` in order to silence this warning.\n"
     ]
    },
    {
     "name": "stdout",
     "output_type": "stream",
     "text": [
      "\n",
      "Epoch 37: val_loss did not improve from 1.13688\n",
      "2/2 [==============================] - 23s 12s/step - loss: 2.0061 - accuracy: 0.4454 - val_loss: 1.6238 - val_accuracy: 0.5428\n",
      "Epoch 38/150\n",
      "2/2 [==============================] - ETA: 0s - loss: 1.9538 - accuracy: 0.4567 WARNING:tensorflow:`evaluate()` received a value for `sample_weight`, but `weighted_metrics` were not provided.  Did you mean to pass metrics to `weighted_metrics` in `compile()`?  If this is intentional you can pass `weighted_metrics=[]` to `compile()` in order to silence this warning.\n"
     ]
    },
    {
     "name": "stderr",
     "output_type": "stream",
     "text": [
      "WARNING:tensorflow:`evaluate()` received a value for `sample_weight`, but `weighted_metrics` were not provided.  Did you mean to pass metrics to `weighted_metrics` in `compile()`?  If this is intentional you can pass `weighted_metrics=[]` to `compile()` in order to silence this warning.\n"
     ]
    },
    {
     "name": "stdout",
     "output_type": "stream",
     "text": [
      "\n",
      "Epoch 38: val_loss did not improve from 1.13688\n",
      "2/2 [==============================] - 22s 12s/step - loss: 2.0070 - accuracy: 0.4531 - val_loss: 1.3219 - val_accuracy: 0.6088\n",
      "Epoch 39/150\n",
      "2/2 [==============================] - ETA: 0s - loss: 1.8863 - accuracy: 0.4627 WARNING:tensorflow:`evaluate()` received a value for `sample_weight`, but `weighted_metrics` were not provided.  Did you mean to pass metrics to `weighted_metrics` in `compile()`?  If this is intentional you can pass `weighted_metrics=[]` to `compile()` in order to silence this warning.\n"
     ]
    },
    {
     "name": "stderr",
     "output_type": "stream",
     "text": [
      "WARNING:tensorflow:`evaluate()` received a value for `sample_weight`, but `weighted_metrics` were not provided.  Did you mean to pass metrics to `weighted_metrics` in `compile()`?  If this is intentional you can pass `weighted_metrics=[]` to `compile()` in order to silence this warning.\n"
     ]
    },
    {
     "name": "stdout",
     "output_type": "stream",
     "text": [
      "\n",
      "Epoch 39: val_loss improved from 1.13688 to 1.05028, saving model to ckpt1\n"
     ]
    },
    {
     "name": "stderr",
     "output_type": "stream",
     "text": [
      "WARNING:absl:Found untraced functions such as _update_step_xla, lstm_cell_2_layer_call_fn, lstm_cell_2_layer_call_and_return_conditional_losses, lstm_cell_3_layer_call_fn, lstm_cell_3_layer_call_and_return_conditional_losses while saving (showing 5 of 5). These functions will not be directly callable after loading.\n"
     ]
    },
    {
     "name": "stdout",
     "output_type": "stream",
     "text": [
      "INFO:tensorflow:Assets written to: ckpt1\\assets\n"
     ]
    },
    {
     "name": "stderr",
     "output_type": "stream",
     "text": [
      "INFO:tensorflow:Assets written to: ckpt1\\assets\n"
     ]
    },
    {
     "name": "stdout",
     "output_type": "stream",
     "text": [
      "2/2 [==============================] - 47s 37s/step - loss: 1.9083 - accuracy: 0.4607 - val_loss: 1.0503 - val_accuracy: 0.6189\n",
      "Epoch 40/150\n",
      "2/2 [==============================] - ETA: 0s - loss: 1.8369 - accuracy: 0.4748WARNING:tensorflow:`evaluate()` received a value for `sample_weight`, but `weighted_metrics` were not provided.  Did you mean to pass metrics to `weighted_metrics` in `compile()`?  If this is intentional you can pass `weighted_metrics=[]` to `compile()` in order to silence this warning.\n"
     ]
    },
    {
     "name": "stderr",
     "output_type": "stream",
     "text": [
      "WARNING:tensorflow:`evaluate()` received a value for `sample_weight`, but `weighted_metrics` were not provided.  Did you mean to pass metrics to `weighted_metrics` in `compile()`?  If this is intentional you can pass `weighted_metrics=[]` to `compile()` in order to silence this warning.\n"
     ]
    },
    {
     "name": "stdout",
     "output_type": "stream",
     "text": [
      "\n",
      "Epoch 40: val_loss improved from 1.05028 to 1.00947, saving model to ckpt1\n"
     ]
    },
    {
     "name": "stderr",
     "output_type": "stream",
     "text": [
      "WARNING:absl:Found untraced functions such as _update_step_xla, lstm_cell_2_layer_call_fn, lstm_cell_2_layer_call_and_return_conditional_losses, lstm_cell_3_layer_call_fn, lstm_cell_3_layer_call_and_return_conditional_losses while saving (showing 5 of 5). These functions will not be directly callable after loading.\n"
     ]
    },
    {
     "name": "stdout",
     "output_type": "stream",
     "text": [
      "INFO:tensorflow:Assets written to: ckpt1\\assets\n"
     ]
    },
    {
     "name": "stderr",
     "output_type": "stream",
     "text": [
      "INFO:tensorflow:Assets written to: ckpt1\\assets\n"
     ]
    },
    {
     "name": "stdout",
     "output_type": "stream",
     "text": [
      "2/2 [==============================] - 44s 35s/step - loss: 1.8551 - accuracy: 0.4728 - val_loss: 1.0095 - val_accuracy: 0.6504\n",
      "Epoch 41/150\n",
      "2/2 [==============================] - ETA: 0s - loss: 1.8197 - accuracy: 0.4647WARNING:tensorflow:`evaluate()` received a value for `sample_weight`, but `weighted_metrics` were not provided.  Did you mean to pass metrics to `weighted_metrics` in `compile()`?  If this is intentional you can pass `weighted_metrics=[]` to `compile()` in order to silence this warning.\n"
     ]
    },
    {
     "name": "stderr",
     "output_type": "stream",
     "text": [
      "WARNING:tensorflow:`evaluate()` received a value for `sample_weight`, but `weighted_metrics` were not provided.  Did you mean to pass metrics to `weighted_metrics` in `compile()`?  If this is intentional you can pass `weighted_metrics=[]` to `compile()` in order to silence this warning.\n"
     ]
    },
    {
     "name": "stdout",
     "output_type": "stream",
     "text": [
      "\n",
      "Epoch 41: val_loss did not improve from 1.00947\n",
      "2/2 [==============================] - 19s 10s/step - loss: 1.8210 - accuracy: 0.4600 - val_loss: 1.2751 - val_accuracy: 0.6305\n",
      "Epoch 42/150\n",
      "2/2 [==============================] - ETA: 0s - loss: 1.8215 - accuracy: 0.4787WARNING:tensorflow:`evaluate()` received a value for `sample_weight`, but `weighted_metrics` were not provided.  Did you mean to pass metrics to `weighted_metrics` in `compile()`?  If this is intentional you can pass `weighted_metrics=[]` to `compile()` in order to silence this warning.\n"
     ]
    },
    {
     "name": "stderr",
     "output_type": "stream",
     "text": [
      "WARNING:tensorflow:`evaluate()` received a value for `sample_weight`, but `weighted_metrics` were not provided.  Did you mean to pass metrics to `weighted_metrics` in `compile()`?  If this is intentional you can pass `weighted_metrics=[]` to `compile()` in order to silence this warning.\n"
     ]
    },
    {
     "name": "stdout",
     "output_type": "stream",
     "text": [
      "\n",
      "Epoch 42: val_loss did not improve from 1.00947\n",
      "2/2 [==============================] - 18s 9s/step - loss: 1.8714 - accuracy: 0.4732 - val_loss: 1.3813 - val_accuracy: 0.5961\n",
      "Epoch 43/150\n",
      "2/2 [==============================] - ETA: 0s - loss: 1.7642 - accuracy: 0.4849WARNING:tensorflow:`evaluate()` received a value for `sample_weight`, but `weighted_metrics` were not provided.  Did you mean to pass metrics to `weighted_metrics` in `compile()`?  If this is intentional you can pass `weighted_metrics=[]` to `compile()` in order to silence this warning.\n"
     ]
    },
    {
     "name": "stderr",
     "output_type": "stream",
     "text": [
      "WARNING:tensorflow:`evaluate()` received a value for `sample_weight`, but `weighted_metrics` were not provided.  Did you mean to pass metrics to `weighted_metrics` in `compile()`?  If this is intentional you can pass `weighted_metrics=[]` to `compile()` in order to silence this warning.\n"
     ]
    },
    {
     "name": "stdout",
     "output_type": "stream",
     "text": [
      "\n",
      "Epoch 43: val_loss did not improve from 1.00947\n",
      "2/2 [==============================] - 18s 9s/step - loss: 1.7863 - accuracy: 0.4835 - val_loss: 1.1208 - val_accuracy: 0.6698\n",
      "Epoch 44/150\n",
      "2/2 [==============================] - ETA: 0s - loss: 1.7297 - accuracy: 0.4907WARNING:tensorflow:`evaluate()` received a value for `sample_weight`, but `weighted_metrics` were not provided.  Did you mean to pass metrics to `weighted_metrics` in `compile()`?  If this is intentional you can pass `weighted_metrics=[]` to `compile()` in order to silence this warning.\n"
     ]
    },
    {
     "name": "stderr",
     "output_type": "stream",
     "text": [
      "WARNING:tensorflow:`evaluate()` received a value for `sample_weight`, but `weighted_metrics` were not provided.  Did you mean to pass metrics to `weighted_metrics` in `compile()`?  If this is intentional you can pass `weighted_metrics=[]` to `compile()` in order to silence this warning.\n"
     ]
    },
    {
     "name": "stdout",
     "output_type": "stream",
     "text": [
      "\n",
      "Epoch 44: val_loss improved from 1.00947 to 0.94852, saving model to ckpt1\n"
     ]
    },
    {
     "name": "stderr",
     "output_type": "stream",
     "text": [
      "WARNING:absl:Found untraced functions such as _update_step_xla, lstm_cell_2_layer_call_fn, lstm_cell_2_layer_call_and_return_conditional_losses, lstm_cell_3_layer_call_fn, lstm_cell_3_layer_call_and_return_conditional_losses while saving (showing 5 of 5). These functions will not be directly callable after loading.\n"
     ]
    },
    {
     "name": "stdout",
     "output_type": "stream",
     "text": [
      "INFO:tensorflow:Assets written to: ckpt1\\assets\n"
     ]
    },
    {
     "name": "stderr",
     "output_type": "stream",
     "text": [
      "INFO:tensorflow:Assets written to: ckpt1\\assets\n"
     ]
    },
    {
     "name": "stdout",
     "output_type": "stream",
     "text": [
      "2/2 [==============================] - 44s 36s/step - loss: 1.7430 - accuracy: 0.4906 - val_loss: 0.9485 - val_accuracy: 0.6368\n",
      "Epoch 45/150\n",
      "2/2 [==============================] - ETA: 0s - loss: 1.7175 - accuracy: 0.4944WARNING:tensorflow:`evaluate()` received a value for `sample_weight`, but `weighted_metrics` were not provided.  Did you mean to pass metrics to `weighted_metrics` in `compile()`?  If this is intentional you can pass `weighted_metrics=[]` to `compile()` in order to silence this warning.\n"
     ]
    },
    {
     "name": "stderr",
     "output_type": "stream",
     "text": [
      "WARNING:tensorflow:`evaluate()` received a value for `sample_weight`, but `weighted_metrics` were not provided.  Did you mean to pass metrics to `weighted_metrics` in `compile()`?  If this is intentional you can pass `weighted_metrics=[]` to `compile()` in order to silence this warning.\n"
     ]
    },
    {
     "name": "stdout",
     "output_type": "stream",
     "text": [
      "\n",
      "Epoch 45: val_loss did not improve from 0.94852\n",
      "2/2 [==============================] - 18s 9s/step - loss: 1.7299 - accuracy: 0.4920 - val_loss: 0.9733 - val_accuracy: 0.6689\n",
      "Epoch 46/150\n",
      "2/2 [==============================] - ETA: 0s - loss: 1.6464 - accuracy: 0.5058WARNING:tensorflow:`evaluate()` received a value for `sample_weight`, but `weighted_metrics` were not provided.  Did you mean to pass metrics to `weighted_metrics` in `compile()`?  If this is intentional you can pass `weighted_metrics=[]` to `compile()` in order to silence this warning.\n"
     ]
    },
    {
     "name": "stderr",
     "output_type": "stream",
     "text": [
      "WARNING:tensorflow:`evaluate()` received a value for `sample_weight`, but `weighted_metrics` were not provided.  Did you mean to pass metrics to `weighted_metrics` in `compile()`?  If this is intentional you can pass `weighted_metrics=[]` to `compile()` in order to silence this warning.\n"
     ]
    },
    {
     "name": "stdout",
     "output_type": "stream",
     "text": [
      "\n",
      "Epoch 46: val_loss did not improve from 0.94852\n",
      "2/2 [==============================] - 19s 10s/step - loss: 1.6205 - accuracy: 0.5054 - val_loss: 1.1339 - val_accuracy: 0.6647\n",
      "Epoch 47/150\n",
      "2/2 [==============================] - ETA: 0s - loss: 1.6535 - accuracy: 0.5036WARNING:tensorflow:`evaluate()` received a value for `sample_weight`, but `weighted_metrics` were not provided.  Did you mean to pass metrics to `weighted_metrics` in `compile()`?  If this is intentional you can pass `weighted_metrics=[]` to `compile()` in order to silence this warning.\n"
     ]
    },
    {
     "name": "stderr",
     "output_type": "stream",
     "text": [
      "WARNING:tensorflow:`evaluate()` received a value for `sample_weight`, but `weighted_metrics` were not provided.  Did you mean to pass metrics to `weighted_metrics` in `compile()`?  If this is intentional you can pass `weighted_metrics=[]` to `compile()` in order to silence this warning.\n"
     ]
    },
    {
     "name": "stdout",
     "output_type": "stream",
     "text": [
      "\n",
      "Epoch 47: val_loss improved from 0.94852 to 0.64693, saving model to ckpt1\n"
     ]
    },
    {
     "name": "stderr",
     "output_type": "stream",
     "text": [
      "WARNING:absl:Found untraced functions such as _update_step_xla, lstm_cell_2_layer_call_fn, lstm_cell_2_layer_call_and_return_conditional_losses, lstm_cell_3_layer_call_fn, lstm_cell_3_layer_call_and_return_conditional_losses while saving (showing 5 of 5). These functions will not be directly callable after loading.\n"
     ]
    },
    {
     "name": "stdout",
     "output_type": "stream",
     "text": [
      "INFO:tensorflow:Assets written to: ckpt1\\assets\n"
     ]
    },
    {
     "name": "stderr",
     "output_type": "stream",
     "text": [
      "INFO:tensorflow:Assets written to: ckpt1\\assets\n"
     ]
    },
    {
     "name": "stdout",
     "output_type": "stream",
     "text": [
      "2/2 [==============================] - 44s 35s/step - loss: 1.6463 - accuracy: 0.5031 - val_loss: 0.6469 - val_accuracy: 0.7578\n",
      "Epoch 48/150\n",
      "2/2 [==============================] - ETA: 0s - loss: 1.6230 - accuracy: 0.5139WARNING:tensorflow:`evaluate()` received a value for `sample_weight`, but `weighted_metrics` were not provided.  Did you mean to pass metrics to `weighted_metrics` in `compile()`?  If this is intentional you can pass `weighted_metrics=[]` to `compile()` in order to silence this warning.\n"
     ]
    },
    {
     "name": "stderr",
     "output_type": "stream",
     "text": [
      "WARNING:tensorflow:`evaluate()` received a value for `sample_weight`, but `weighted_metrics` were not provided.  Did you mean to pass metrics to `weighted_metrics` in `compile()`?  If this is intentional you can pass `weighted_metrics=[]` to `compile()` in order to silence this warning.\n"
     ]
    },
    {
     "name": "stdout",
     "output_type": "stream",
     "text": [
      "\n",
      "Epoch 48: val_loss did not improve from 0.64693\n",
      "2/2 [==============================] - 20s 11s/step - loss: 1.6234 - accuracy: 0.5161 - val_loss: 1.0499 - val_accuracy: 0.6849\n",
      "Epoch 49/150\n",
      "2/2 [==============================] - ETA: 0s - loss: 1.5404 - accuracy: 0.5138 WARNING:tensorflow:`evaluate()` received a value for `sample_weight`, but `weighted_metrics` were not provided.  Did you mean to pass metrics to `weighted_metrics` in `compile()`?  If this is intentional you can pass `weighted_metrics=[]` to `compile()` in order to silence this warning.\n"
     ]
    },
    {
     "name": "stderr",
     "output_type": "stream",
     "text": [
      "WARNING:tensorflow:`evaluate()` received a value for `sample_weight`, but `weighted_metrics` were not provided.  Did you mean to pass metrics to `weighted_metrics` in `compile()`?  If this is intentional you can pass `weighted_metrics=[]` to `compile()` in order to silence this warning.\n"
     ]
    },
    {
     "name": "stdout",
     "output_type": "stream",
     "text": [
      "\n",
      "Epoch 49: val_loss did not improve from 0.64693\n",
      "2/2 [==============================] - 21s 11s/step - loss: 1.4760 - accuracy: 0.5118 - val_loss: 0.8347 - val_accuracy: 0.6688\n",
      "Epoch 50/150\n",
      "2/2 [==============================] - ETA: 0s - loss: 1.5711 - accuracy: 0.5225WARNING:tensorflow:`evaluate()` received a value for `sample_weight`, but `weighted_metrics` were not provided.  Did you mean to pass metrics to `weighted_metrics` in `compile()`?  If this is intentional you can pass `weighted_metrics=[]` to `compile()` in order to silence this warning.\n"
     ]
    },
    {
     "name": "stderr",
     "output_type": "stream",
     "text": [
      "WARNING:tensorflow:`evaluate()` received a value for `sample_weight`, but `weighted_metrics` were not provided.  Did you mean to pass metrics to `weighted_metrics` in `compile()`?  If this is intentional you can pass `weighted_metrics=[]` to `compile()` in order to silence this warning.\n"
     ]
    },
    {
     "name": "stdout",
     "output_type": "stream",
     "text": [
      "\n",
      "Epoch 50: val_loss did not improve from 0.64693\n",
      "2/2 [==============================] - 20s 11s/step - loss: 1.5777 - accuracy: 0.5203 - val_loss: 0.8720 - val_accuracy: 0.7172\n",
      "Epoch 51/150\n",
      "2/2 [==============================] - ETA: 0s - loss: 1.5431 - accuracy: 0.5323WARNING:tensorflow:`evaluate()` received a value for `sample_weight`, but `weighted_metrics` were not provided.  Did you mean to pass metrics to `weighted_metrics` in `compile()`?  If this is intentional you can pass `weighted_metrics=[]` to `compile()` in order to silence this warning.\n"
     ]
    },
    {
     "name": "stderr",
     "output_type": "stream",
     "text": [
      "WARNING:tensorflow:`evaluate()` received a value for `sample_weight`, but `weighted_metrics` were not provided.  Did you mean to pass metrics to `weighted_metrics` in `compile()`?  If this is intentional you can pass `weighted_metrics=[]` to `compile()` in order to silence this warning.\n"
     ]
    },
    {
     "name": "stdout",
     "output_type": "stream",
     "text": [
      "\n",
      "Epoch 51: val_loss did not improve from 0.64693\n",
      "2/2 [==============================] - 20s 10s/step - loss: 1.5642 - accuracy: 0.5342 - val_loss: 1.0447 - val_accuracy: 0.6461\n",
      "Epoch 52/150\n",
      "2/2 [==============================] - ETA: 0s - loss: 1.4977 - accuracy: 0.5362WARNING:tensorflow:`evaluate()` received a value for `sample_weight`, but `weighted_metrics` were not provided.  Did you mean to pass metrics to `weighted_metrics` in `compile()`?  If this is intentional you can pass `weighted_metrics=[]` to `compile()` in order to silence this warning.\n"
     ]
    },
    {
     "name": "stderr",
     "output_type": "stream",
     "text": [
      "WARNING:tensorflow:`evaluate()` received a value for `sample_weight`, but `weighted_metrics` were not provided.  Did you mean to pass metrics to `weighted_metrics` in `compile()`?  If this is intentional you can pass `weighted_metrics=[]` to `compile()` in order to silence this warning.\n"
     ]
    },
    {
     "name": "stdout",
     "output_type": "stream",
     "text": [
      "\n",
      "Epoch 52: val_loss did not improve from 0.64693\n",
      "2/2 [==============================] - 20s 10s/step - loss: 1.4784 - accuracy: 0.5404 - val_loss: 0.7902 - val_accuracy: 0.7360\n",
      "Epoch 53/150\n",
      "2/2 [==============================] - ETA: 0s - loss: 1.4790 - accuracy: 0.5342WARNING:tensorflow:`evaluate()` received a value for `sample_weight`, but `weighted_metrics` were not provided.  Did you mean to pass metrics to `weighted_metrics` in `compile()`?  If this is intentional you can pass `weighted_metrics=[]` to `compile()` in order to silence this warning.\n"
     ]
    },
    {
     "name": "stderr",
     "output_type": "stream",
     "text": [
      "WARNING:tensorflow:`evaluate()` received a value for `sample_weight`, but `weighted_metrics` were not provided.  Did you mean to pass metrics to `weighted_metrics` in `compile()`?  If this is intentional you can pass `weighted_metrics=[]` to `compile()` in order to silence this warning.\n"
     ]
    },
    {
     "name": "stdout",
     "output_type": "stream",
     "text": [
      "\n",
      "Epoch 53: val_loss did not improve from 0.64693\n",
      "2/2 [==============================] - 20s 10s/step - loss: 1.4586 - accuracy: 0.5379 - val_loss: 1.1146 - val_accuracy: 0.6089\n",
      "Epoch 54/150\n",
      "2/2 [==============================] - ETA: 0s - loss: 1.4660 - accuracy: 0.5432 WARNING:tensorflow:`evaluate()` received a value for `sample_weight`, but `weighted_metrics` were not provided.  Did you mean to pass metrics to `weighted_metrics` in `compile()`?  If this is intentional you can pass `weighted_metrics=[]` to `compile()` in order to silence this warning.\n"
     ]
    },
    {
     "name": "stderr",
     "output_type": "stream",
     "text": [
      "WARNING:tensorflow:`evaluate()` received a value for `sample_weight`, but `weighted_metrics` were not provided.  Did you mean to pass metrics to `weighted_metrics` in `compile()`?  If this is intentional you can pass `weighted_metrics=[]` to `compile()` in order to silence this warning.\n"
     ]
    },
    {
     "name": "stdout",
     "output_type": "stream",
     "text": [
      "\n",
      "Epoch 54: val_loss did not improve from 0.64693\n",
      "2/2 [==============================] - 20s 10s/step - loss: 1.4712 - accuracy: 0.5418 - val_loss: 0.8785 - val_accuracy: 0.6824\n",
      "Epoch 55/150\n",
      "2/2 [==============================] - ETA: 0s - loss: 1.4541 - accuracy: 0.5472WARNING:tensorflow:`evaluate()` received a value for `sample_weight`, but `weighted_metrics` were not provided.  Did you mean to pass metrics to `weighted_metrics` in `compile()`?  If this is intentional you can pass `weighted_metrics=[]` to `compile()` in order to silence this warning.\n"
     ]
    },
    {
     "name": "stderr",
     "output_type": "stream",
     "text": [
      "WARNING:tensorflow:`evaluate()` received a value for `sample_weight`, but `weighted_metrics` were not provided.  Did you mean to pass metrics to `weighted_metrics` in `compile()`?  If this is intentional you can pass `weighted_metrics=[]` to `compile()` in order to silence this warning.\n"
     ]
    },
    {
     "name": "stdout",
     "output_type": "stream",
     "text": [
      "\n",
      "Epoch 55: val_loss did not improve from 0.64693\n",
      "2/2 [==============================] - 20s 10s/step - loss: 1.4501 - accuracy: 0.5463 - val_loss: 0.8663 - val_accuracy: 0.7010\n",
      "Epoch 56/150\n",
      "2/2 [==============================] - ETA: 0s - loss: 1.4087 - accuracy: 0.5574WARNING:tensorflow:`evaluate()` received a value for `sample_weight`, but `weighted_metrics` were not provided.  Did you mean to pass metrics to `weighted_metrics` in `compile()`?  If this is intentional you can pass `weighted_metrics=[]` to `compile()` in order to silence this warning.\n"
     ]
    },
    {
     "name": "stderr",
     "output_type": "stream",
     "text": [
      "WARNING:tensorflow:`evaluate()` received a value for `sample_weight`, but `weighted_metrics` were not provided.  Did you mean to pass metrics to `weighted_metrics` in `compile()`?  If this is intentional you can pass `weighted_metrics=[]` to `compile()` in order to silence this warning.\n"
     ]
    },
    {
     "name": "stdout",
     "output_type": "stream",
     "text": [
      "\n",
      "Epoch 56: val_loss did not improve from 0.64693\n",
      "2/2 [==============================] - 21s 11s/step - loss: 1.3802 - accuracy: 0.5667 - val_loss: 0.6572 - val_accuracy: 0.7765\n",
      "Epoch 57/150\n",
      "2/2 [==============================] - ETA: 0s - loss: 1.4073 - accuracy: 0.5578WARNING:tensorflow:`evaluate()` received a value for `sample_weight`, but `weighted_metrics` were not provided.  Did you mean to pass metrics to `weighted_metrics` in `compile()`?  If this is intentional you can pass `weighted_metrics=[]` to `compile()` in order to silence this warning.\n"
     ]
    },
    {
     "name": "stderr",
     "output_type": "stream",
     "text": [
      "WARNING:tensorflow:`evaluate()` received a value for `sample_weight`, but `weighted_metrics` were not provided.  Did you mean to pass metrics to `weighted_metrics` in `compile()`?  If this is intentional you can pass `weighted_metrics=[]` to `compile()` in order to silence this warning.\n"
     ]
    },
    {
     "name": "stdout",
     "output_type": "stream",
     "text": [
      "\n",
      "Epoch 57: val_loss did not improve from 0.64693\n",
      "2/2 [==============================] - 21s 11s/step - loss: 1.4216 - accuracy: 0.5570 - val_loss: 0.7410 - val_accuracy: 0.7042\n",
      "Epoch 58/150\n",
      "2/2 [==============================] - ETA: 0s - loss: 1.3563 - accuracy: 0.5554WARNING:tensorflow:`evaluate()` received a value for `sample_weight`, but `weighted_metrics` were not provided.  Did you mean to pass metrics to `weighted_metrics` in `compile()`?  If this is intentional you can pass `weighted_metrics=[]` to `compile()` in order to silence this warning.\n"
     ]
    },
    {
     "name": "stderr",
     "output_type": "stream",
     "text": [
      "WARNING:tensorflow:`evaluate()` received a value for `sample_weight`, but `weighted_metrics` were not provided.  Did you mean to pass metrics to `weighted_metrics` in `compile()`?  If this is intentional you can pass `weighted_metrics=[]` to `compile()` in order to silence this warning.\n"
     ]
    },
    {
     "name": "stdout",
     "output_type": "stream",
     "text": [
      "\n",
      "Epoch 58: val_loss did not improve from 0.64693\n",
      "2/2 [==============================] - 20s 10s/step - loss: 1.3197 - accuracy: 0.5546 - val_loss: 1.0073 - val_accuracy: 0.6747\n",
      "Epoch 59/150\n",
      "2/2 [==============================] - ETA: 0s - loss: 1.3802 - accuracy: 0.5632WARNING:tensorflow:`evaluate()` received a value for `sample_weight`, but `weighted_metrics` were not provided.  Did you mean to pass metrics to `weighted_metrics` in `compile()`?  If this is intentional you can pass `weighted_metrics=[]` to `compile()` in order to silence this warning.\n"
     ]
    },
    {
     "name": "stderr",
     "output_type": "stream",
     "text": [
      "WARNING:tensorflow:`evaluate()` received a value for `sample_weight`, but `weighted_metrics` were not provided.  Did you mean to pass metrics to `weighted_metrics` in `compile()`?  If this is intentional you can pass `weighted_metrics=[]` to `compile()` in order to silence this warning.\n"
     ]
    },
    {
     "name": "stdout",
     "output_type": "stream",
     "text": [
      "\n",
      "Epoch 59: val_loss did not improve from 0.64693\n",
      "2/2 [==============================] - 20s 11s/step - loss: 1.3957 - accuracy: 0.5607 - val_loss: 0.8344 - val_accuracy: 0.7214\n",
      "Epoch 60/150\n",
      "2/2 [==============================] - ETA: 0s - loss: 1.3503 - accuracy: 0.5697 WARNING:tensorflow:`evaluate()` received a value for `sample_weight`, but `weighted_metrics` were not provided.  Did you mean to pass metrics to `weighted_metrics` in `compile()`?  If this is intentional you can pass `weighted_metrics=[]` to `compile()` in order to silence this warning.\n"
     ]
    },
    {
     "name": "stderr",
     "output_type": "stream",
     "text": [
      "WARNING:tensorflow:`evaluate()` received a value for `sample_weight`, but `weighted_metrics` were not provided.  Did you mean to pass metrics to `weighted_metrics` in `compile()`?  If this is intentional you can pass `weighted_metrics=[]` to `compile()` in order to silence this warning.\n"
     ]
    },
    {
     "name": "stdout",
     "output_type": "stream",
     "text": [
      "\n",
      "Epoch 60: val_loss did not improve from 0.64693\n",
      "2/2 [==============================] - 21s 10s/step - loss: 1.3632 - accuracy: 0.5681 - val_loss: 0.9050 - val_accuracy: 0.6997\n",
      "Epoch 61/150\n",
      "2/2 [==============================] - ETA: 0s - loss: 1.3243 - accuracy: 0.5732WARNING:tensorflow:`evaluate()` received a value for `sample_weight`, but `weighted_metrics` were not provided.  Did you mean to pass metrics to `weighted_metrics` in `compile()`?  If this is intentional you can pass `weighted_metrics=[]` to `compile()` in order to silence this warning.\n"
     ]
    },
    {
     "name": "stderr",
     "output_type": "stream",
     "text": [
      "WARNING:tensorflow:`evaluate()` received a value for `sample_weight`, but `weighted_metrics` were not provided.  Did you mean to pass metrics to `weighted_metrics` in `compile()`?  If this is intentional you can pass `weighted_metrics=[]` to `compile()` in order to silence this warning.\n"
     ]
    },
    {
     "name": "stdout",
     "output_type": "stream",
     "text": [
      "\n",
      "Epoch 61: val_loss did not improve from 0.64693\n",
      "2/2 [==============================] - 20s 10s/step - loss: 1.3228 - accuracy: 0.5723 - val_loss: 0.6483 - val_accuracy: 0.7588\n",
      "Epoch 62/150\n",
      "2/2 [==============================] - ETA: 0s - loss: 1.2969 - accuracy: 0.5901WARNING:tensorflow:`evaluate()` received a value for `sample_weight`, but `weighted_metrics` were not provided.  Did you mean to pass metrics to `weighted_metrics` in `compile()`?  If this is intentional you can pass `weighted_metrics=[]` to `compile()` in order to silence this warning.\n"
     ]
    },
    {
     "name": "stderr",
     "output_type": "stream",
     "text": [
      "WARNING:tensorflow:`evaluate()` received a value for `sample_weight`, but `weighted_metrics` were not provided.  Did you mean to pass metrics to `weighted_metrics` in `compile()`?  If this is intentional you can pass `weighted_metrics=[]` to `compile()` in order to silence this warning.\n"
     ]
    },
    {
     "name": "stdout",
     "output_type": "stream",
     "text": [
      "\n",
      "Epoch 62: val_loss did not improve from 0.64693\n",
      "2/2 [==============================] - 20s 10s/step - loss: 1.2823 - accuracy: 0.5916 - val_loss: 0.7478 - val_accuracy: 0.7432\n",
      "Epoch 63/150\n",
      "2/2 [==============================] - ETA: 0s - loss: 1.3019 - accuracy: 0.5817WARNING:tensorflow:`evaluate()` received a value for `sample_weight`, but `weighted_metrics` were not provided.  Did you mean to pass metrics to `weighted_metrics` in `compile()`?  If this is intentional you can pass `weighted_metrics=[]` to `compile()` in order to silence this warning.\n"
     ]
    },
    {
     "name": "stderr",
     "output_type": "stream",
     "text": [
      "WARNING:tensorflow:`evaluate()` received a value for `sample_weight`, but `weighted_metrics` were not provided.  Did you mean to pass metrics to `weighted_metrics` in `compile()`?  If this is intentional you can pass `weighted_metrics=[]` to `compile()` in order to silence this warning.\n"
     ]
    },
    {
     "name": "stdout",
     "output_type": "stream",
     "text": [
      "\n",
      "Epoch 63: val_loss did not improve from 0.64693\n",
      "2/2 [==============================] - 20s 10s/step - loss: 1.3204 - accuracy: 0.5796 - val_loss: 0.7487 - val_accuracy: 0.7480\n",
      "Epoch 64/150\n",
      "2/2 [==============================] - ETA: 0s - loss: 1.2831 - accuracy: 0.5955WARNING:tensorflow:`evaluate()` received a value for `sample_weight`, but `weighted_metrics` were not provided.  Did you mean to pass metrics to `weighted_metrics` in `compile()`?  If this is intentional you can pass `weighted_metrics=[]` to `compile()` in order to silence this warning.\n"
     ]
    },
    {
     "name": "stderr",
     "output_type": "stream",
     "text": [
      "WARNING:tensorflow:`evaluate()` received a value for `sample_weight`, but `weighted_metrics` were not provided.  Did you mean to pass metrics to `weighted_metrics` in `compile()`?  If this is intentional you can pass `weighted_metrics=[]` to `compile()` in order to silence this warning.\n"
     ]
    },
    {
     "name": "stdout",
     "output_type": "stream",
     "text": [
      "\n",
      "Epoch 64: val_loss did not improve from 0.64693\n",
      "2/2 [==============================] - 19s 10s/step - loss: 1.3081 - accuracy: 0.5945 - val_loss: 0.7374 - val_accuracy: 0.7561\n",
      "Epoch 65/150\n",
      "2/2 [==============================] - ETA: 0s - loss: 1.2601 - accuracy: 0.5874 WARNING:tensorflow:`evaluate()` received a value for `sample_weight`, but `weighted_metrics` were not provided.  Did you mean to pass metrics to `weighted_metrics` in `compile()`?  If this is intentional you can pass `weighted_metrics=[]` to `compile()` in order to silence this warning.\n"
     ]
    },
    {
     "name": "stderr",
     "output_type": "stream",
     "text": [
      "WARNING:tensorflow:`evaluate()` received a value for `sample_weight`, but `weighted_metrics` were not provided.  Did you mean to pass metrics to `weighted_metrics` in `compile()`?  If this is intentional you can pass `weighted_metrics=[]` to `compile()` in order to silence this warning.\n"
     ]
    },
    {
     "name": "stdout",
     "output_type": "stream",
     "text": [
      "\n",
      "Epoch 65: val_loss did not improve from 0.64693\n",
      "2/2 [==============================] - 21s 10s/step - loss: 1.2758 - accuracy: 0.5812 - val_loss: 0.7276 - val_accuracy: 0.7711\n",
      "Epoch 66/150\n",
      "2/2 [==============================] - ETA: 0s - loss: 1.2273 - accuracy: 0.5983WARNING:tensorflow:`evaluate()` received a value for `sample_weight`, but `weighted_metrics` were not provided.  Did you mean to pass metrics to `weighted_metrics` in `compile()`?  If this is intentional you can pass `weighted_metrics=[]` to `compile()` in order to silence this warning.\n"
     ]
    },
    {
     "name": "stderr",
     "output_type": "stream",
     "text": [
      "WARNING:tensorflow:`evaluate()` received a value for `sample_weight`, but `weighted_metrics` were not provided.  Did you mean to pass metrics to `weighted_metrics` in `compile()`?  If this is intentional you can pass `weighted_metrics=[]` to `compile()` in order to silence this warning.\n"
     ]
    },
    {
     "name": "stdout",
     "output_type": "stream",
     "text": [
      "\n",
      "Epoch 66: val_loss did not improve from 0.64693\n",
      "2/2 [==============================] - 22s 12s/step - loss: 1.2181 - accuracy: 0.5969 - val_loss: 0.7688 - val_accuracy: 0.7370\n",
      "Epoch 67/150\n",
      "2/2 [==============================] - ETA: 0s - loss: 1.2160 - accuracy: 0.6018WARNING:tensorflow:`evaluate()` received a value for `sample_weight`, but `weighted_metrics` were not provided.  Did you mean to pass metrics to `weighted_metrics` in `compile()`?  If this is intentional you can pass `weighted_metrics=[]` to `compile()` in order to silence this warning.\n"
     ]
    },
    {
     "name": "stderr",
     "output_type": "stream",
     "text": [
      "WARNING:tensorflow:`evaluate()` received a value for `sample_weight`, but `weighted_metrics` were not provided.  Did you mean to pass metrics to `weighted_metrics` in `compile()`?  If this is intentional you can pass `weighted_metrics=[]` to `compile()` in order to silence this warning.\n"
     ]
    },
    {
     "name": "stdout",
     "output_type": "stream",
     "text": [
      "\n",
      "Epoch 67: val_loss improved from 0.64693 to 0.56259, saving model to ckpt1\n"
     ]
    },
    {
     "name": "stderr",
     "output_type": "stream",
     "text": [
      "WARNING:absl:Found untraced functions such as _update_step_xla, lstm_cell_2_layer_call_fn, lstm_cell_2_layer_call_and_return_conditional_losses, lstm_cell_3_layer_call_fn, lstm_cell_3_layer_call_and_return_conditional_losses while saving (showing 5 of 5). These functions will not be directly callable after loading.\n"
     ]
    },
    {
     "name": "stdout",
     "output_type": "stream",
     "text": [
      "INFO:tensorflow:Assets written to: ckpt1\\assets\n"
     ]
    },
    {
     "name": "stderr",
     "output_type": "stream",
     "text": [
      "INFO:tensorflow:Assets written to: ckpt1\\assets\n"
     ]
    },
    {
     "name": "stdout",
     "output_type": "stream",
     "text": [
      "2/2 [==============================] - 45s 35s/step - loss: 1.2075 - accuracy: 0.6053 - val_loss: 0.5626 - val_accuracy: 0.7610\n",
      "Epoch 68/150\n",
      "2/2 [==============================] - ETA: 0s - loss: 1.1886 - accuracy: 0.6086WARNING:tensorflow:`evaluate()` received a value for `sample_weight`, but `weighted_metrics` were not provided.  Did you mean to pass metrics to `weighted_metrics` in `compile()`?  If this is intentional you can pass `weighted_metrics=[]` to `compile()` in order to silence this warning.\n"
     ]
    },
    {
     "name": "stderr",
     "output_type": "stream",
     "text": [
      "WARNING:tensorflow:`evaluate()` received a value for `sample_weight`, but `weighted_metrics` were not provided.  Did you mean to pass metrics to `weighted_metrics` in `compile()`?  If this is intentional you can pass `weighted_metrics=[]` to `compile()` in order to silence this warning.\n"
     ]
    },
    {
     "name": "stdout",
     "output_type": "stream",
     "text": [
      "\n",
      "Epoch 68: val_loss did not improve from 0.56259\n",
      "2/2 [==============================] - 17s 9s/step - loss: 1.1620 - accuracy: 0.6139 - val_loss: 0.6257 - val_accuracy: 0.7844\n",
      "Epoch 69/150\n",
      "2/2 [==============================] - ETA: 0s - loss: 1.1721 - accuracy: 0.6035WARNING:tensorflow:`evaluate()` received a value for `sample_weight`, but `weighted_metrics` were not provided.  Did you mean to pass metrics to `weighted_metrics` in `compile()`?  If this is intentional you can pass `weighted_metrics=[]` to `compile()` in order to silence this warning.\n"
     ]
    },
    {
     "name": "stderr",
     "output_type": "stream",
     "text": [
      "WARNING:tensorflow:`evaluate()` received a value for `sample_weight`, but `weighted_metrics` were not provided.  Did you mean to pass metrics to `weighted_metrics` in `compile()`?  If this is intentional you can pass `weighted_metrics=[]` to `compile()` in order to silence this warning.\n"
     ]
    },
    {
     "name": "stdout",
     "output_type": "stream",
     "text": [
      "\n",
      "Epoch 69: val_loss did not improve from 0.56259\n",
      "2/2 [==============================] - 17s 8s/step - loss: 1.1666 - accuracy: 0.6020 - val_loss: 0.8775 - val_accuracy: 0.7004\n",
      "Epoch 70/150\n",
      "2/2 [==============================] - ETA: 0s - loss: 1.1401 - accuracy: 0.6191WARNING:tensorflow:`evaluate()` received a value for `sample_weight`, but `weighted_metrics` were not provided.  Did you mean to pass metrics to `weighted_metrics` in `compile()`?  If this is intentional you can pass `weighted_metrics=[]` to `compile()` in order to silence this warning.\n"
     ]
    },
    {
     "name": "stderr",
     "output_type": "stream",
     "text": [
      "WARNING:tensorflow:`evaluate()` received a value for `sample_weight`, but `weighted_metrics` were not provided.  Did you mean to pass metrics to `weighted_metrics` in `compile()`?  If this is intentional you can pass `weighted_metrics=[]` to `compile()` in order to silence this warning.\n"
     ]
    },
    {
     "name": "stdout",
     "output_type": "stream",
     "text": [
      "\n",
      "Epoch 70: val_loss did not improve from 0.56259\n",
      "2/2 [==============================] - 17s 9s/step - loss: 1.1230 - accuracy: 0.6240 - val_loss: 0.7418 - val_accuracy: 0.7462\n",
      "Epoch 71/150\n",
      "2/2 [==============================] - ETA: 0s - loss: 1.1377 - accuracy: 0.6200WARNING:tensorflow:`evaluate()` received a value for `sample_weight`, but `weighted_metrics` were not provided.  Did you mean to pass metrics to `weighted_metrics` in `compile()`?  If this is intentional you can pass `weighted_metrics=[]` to `compile()` in order to silence this warning.\n"
     ]
    },
    {
     "name": "stderr",
     "output_type": "stream",
     "text": [
      "WARNING:tensorflow:`evaluate()` received a value for `sample_weight`, but `weighted_metrics` were not provided.  Did you mean to pass metrics to `weighted_metrics` in `compile()`?  If this is intentional you can pass `weighted_metrics=[]` to `compile()` in order to silence this warning.\n"
     ]
    },
    {
     "name": "stdout",
     "output_type": "stream",
     "text": [
      "\n",
      "Epoch 71: val_loss did not improve from 0.56259\n",
      "2/2 [==============================] - 18s 9s/step - loss: 1.1174 - accuracy: 0.6201 - val_loss: 0.7823 - val_accuracy: 0.7287\n",
      "Epoch 72/150\n",
      "2/2 [==============================] - ETA: 0s - loss: 1.1184 - accuracy: 0.6195WARNING:tensorflow:`evaluate()` received a value for `sample_weight`, but `weighted_metrics` were not provided.  Did you mean to pass metrics to `weighted_metrics` in `compile()`?  If this is intentional you can pass `weighted_metrics=[]` to `compile()` in order to silence this warning.\n"
     ]
    },
    {
     "name": "stderr",
     "output_type": "stream",
     "text": [
      "WARNING:tensorflow:`evaluate()` received a value for `sample_weight`, but `weighted_metrics` were not provided.  Did you mean to pass metrics to `weighted_metrics` in `compile()`?  If this is intentional you can pass `weighted_metrics=[]` to `compile()` in order to silence this warning.\n"
     ]
    },
    {
     "name": "stdout",
     "output_type": "stream",
     "text": [
      "\n",
      "Epoch 72: val_loss improved from 0.56259 to 0.53658, saving model to ckpt1\n"
     ]
    },
    {
     "name": "stderr",
     "output_type": "stream",
     "text": [
      "WARNING:absl:Found untraced functions such as _update_step_xla, lstm_cell_2_layer_call_fn, lstm_cell_2_layer_call_and_return_conditional_losses, lstm_cell_3_layer_call_fn, lstm_cell_3_layer_call_and_return_conditional_losses while saving (showing 5 of 5). These functions will not be directly callable after loading.\n"
     ]
    },
    {
     "name": "stdout",
     "output_type": "stream",
     "text": [
      "INFO:tensorflow:Assets written to: ckpt1\\assets\n"
     ]
    },
    {
     "name": "stderr",
     "output_type": "stream",
     "text": [
      "INFO:tensorflow:Assets written to: ckpt1\\assets\n"
     ]
    },
    {
     "name": "stdout",
     "output_type": "stream",
     "text": [
      "2/2 [==============================] - 40s 32s/step - loss: 1.1019 - accuracy: 0.6185 - val_loss: 0.5366 - val_accuracy: 0.7714\n",
      "Epoch 73/150\n",
      "2/2 [==============================] - ETA: 0s - loss: 1.1153 - accuracy: 0.6263WARNING:tensorflow:`evaluate()` received a value for `sample_weight`, but `weighted_metrics` were not provided.  Did you mean to pass metrics to `weighted_metrics` in `compile()`?  If this is intentional you can pass `weighted_metrics=[]` to `compile()` in order to silence this warning.\n"
     ]
    },
    {
     "name": "stderr",
     "output_type": "stream",
     "text": [
      "WARNING:tensorflow:`evaluate()` received a value for `sample_weight`, but `weighted_metrics` were not provided.  Did you mean to pass metrics to `weighted_metrics` in `compile()`?  If this is intentional you can pass `weighted_metrics=[]` to `compile()` in order to silence this warning.\n"
     ]
    },
    {
     "name": "stdout",
     "output_type": "stream",
     "text": [
      "\n",
      "Epoch 73: val_loss did not improve from 0.53658\n",
      "2/2 [==============================] - 18s 9s/step - loss: 1.1212 - accuracy: 0.6233 - val_loss: 0.6726 - val_accuracy: 0.7798\n",
      "Epoch 74/150\n",
      "2/2 [==============================] - ETA: 0s - loss: 1.1065 - accuracy: 0.6300WARNING:tensorflow:`evaluate()` received a value for `sample_weight`, but `weighted_metrics` were not provided.  Did you mean to pass metrics to `weighted_metrics` in `compile()`?  If this is intentional you can pass `weighted_metrics=[]` to `compile()` in order to silence this warning.\n"
     ]
    },
    {
     "name": "stderr",
     "output_type": "stream",
     "text": [
      "WARNING:tensorflow:`evaluate()` received a value for `sample_weight`, but `weighted_metrics` were not provided.  Did you mean to pass metrics to `weighted_metrics` in `compile()`?  If this is intentional you can pass `weighted_metrics=[]` to `compile()` in order to silence this warning.\n"
     ]
    },
    {
     "name": "stdout",
     "output_type": "stream",
     "text": [
      "\n",
      "Epoch 74: val_loss did not improve from 0.53658\n",
      "2/2 [==============================] - 17s 9s/step - loss: 1.1287 - accuracy: 0.6295 - val_loss: 0.7357 - val_accuracy: 0.7796\n",
      "Epoch 75/150\n",
      "2/2 [==============================] - ETA: 0s - loss: 1.0687 - accuracy: 0.6385WARNING:tensorflow:`evaluate()` received a value for `sample_weight`, but `weighted_metrics` were not provided.  Did you mean to pass metrics to `weighted_metrics` in `compile()`?  If this is intentional you can pass `weighted_metrics=[]` to `compile()` in order to silence this warning.\n"
     ]
    },
    {
     "name": "stderr",
     "output_type": "stream",
     "text": [
      "WARNING:tensorflow:`evaluate()` received a value for `sample_weight`, but `weighted_metrics` were not provided.  Did you mean to pass metrics to `weighted_metrics` in `compile()`?  If this is intentional you can pass `weighted_metrics=[]` to `compile()` in order to silence this warning.\n"
     ]
    },
    {
     "name": "stdout",
     "output_type": "stream",
     "text": [
      "\n",
      "Epoch 75: val_loss did not improve from 0.53658\n",
      "2/2 [==============================] - 17s 9s/step - loss: 1.0478 - accuracy: 0.6439 - val_loss: 0.7577 - val_accuracy: 0.7620\n",
      "Epoch 76/150\n",
      "2/2 [==============================] - ETA: 0s - loss: 1.0947 - accuracy: 0.6351WARNING:tensorflow:`evaluate()` received a value for `sample_weight`, but `weighted_metrics` were not provided.  Did you mean to pass metrics to `weighted_metrics` in `compile()`?  If this is intentional you can pass `weighted_metrics=[]` to `compile()` in order to silence this warning.\n"
     ]
    },
    {
     "name": "stderr",
     "output_type": "stream",
     "text": [
      "WARNING:tensorflow:`evaluate()` received a value for `sample_weight`, but `weighted_metrics` were not provided.  Did you mean to pass metrics to `weighted_metrics` in `compile()`?  If this is intentional you can pass `weighted_metrics=[]` to `compile()` in order to silence this warning.\n"
     ]
    },
    {
     "name": "stdout",
     "output_type": "stream",
     "text": [
      "\n",
      "Epoch 76: val_loss did not improve from 0.53658\n",
      "2/2 [==============================] - 18s 9s/step - loss: 1.1153 - accuracy: 0.6331 - val_loss: 0.6686 - val_accuracy: 0.7670\n",
      "Epoch 77/150\n",
      "2/2 [==============================] - ETA: 0s - loss: 1.0548 - accuracy: 0.6429WARNING:tensorflow:`evaluate()` received a value for `sample_weight`, but `weighted_metrics` were not provided.  Did you mean to pass metrics to `weighted_metrics` in `compile()`?  If this is intentional you can pass `weighted_metrics=[]` to `compile()` in order to silence this warning.\n"
     ]
    },
    {
     "name": "stderr",
     "output_type": "stream",
     "text": [
      "WARNING:tensorflow:`evaluate()` received a value for `sample_weight`, but `weighted_metrics` were not provided.  Did you mean to pass metrics to `weighted_metrics` in `compile()`?  If this is intentional you can pass `weighted_metrics=[]` to `compile()` in order to silence this warning.\n"
     ]
    },
    {
     "name": "stdout",
     "output_type": "stream",
     "text": [
      "\n",
      "Epoch 77: val_loss did not improve from 0.53658\n",
      "2/2 [==============================] - 18s 9s/step - loss: 1.0675 - accuracy: 0.6452 - val_loss: 0.7105 - val_accuracy: 0.7633\n",
      "Epoch 78/150\n",
      "2/2 [==============================] - ETA: 0s - loss: 1.0261 - accuracy: 0.6468WARNING:tensorflow:`evaluate()` received a value for `sample_weight`, but `weighted_metrics` were not provided.  Did you mean to pass metrics to `weighted_metrics` in `compile()`?  If this is intentional you can pass `weighted_metrics=[]` to `compile()` in order to silence this warning.\n"
     ]
    },
    {
     "name": "stderr",
     "output_type": "stream",
     "text": [
      "WARNING:tensorflow:`evaluate()` received a value for `sample_weight`, but `weighted_metrics` were not provided.  Did you mean to pass metrics to `weighted_metrics` in `compile()`?  If this is intentional you can pass `weighted_metrics=[]` to `compile()` in order to silence this warning.\n"
     ]
    },
    {
     "name": "stdout",
     "output_type": "stream",
     "text": [
      "\n",
      "Epoch 78: val_loss did not improve from 0.53658\n",
      "2/2 [==============================] - 17s 9s/step - loss: 1.0053 - accuracy: 0.6486 - val_loss: 0.6530 - val_accuracy: 0.7708\n",
      "Epoch 79/150\n",
      "2/2 [==============================] - ETA: 0s - loss: 1.0472 - accuracy: 0.6420WARNING:tensorflow:`evaluate()` received a value for `sample_weight`, but `weighted_metrics` were not provided.  Did you mean to pass metrics to `weighted_metrics` in `compile()`?  If this is intentional you can pass `weighted_metrics=[]` to `compile()` in order to silence this warning.\n"
     ]
    },
    {
     "name": "stderr",
     "output_type": "stream",
     "text": [
      "WARNING:tensorflow:`evaluate()` received a value for `sample_weight`, but `weighted_metrics` were not provided.  Did you mean to pass metrics to `weighted_metrics` in `compile()`?  If this is intentional you can pass `weighted_metrics=[]` to `compile()` in order to silence this warning.\n"
     ]
    },
    {
     "name": "stdout",
     "output_type": "stream",
     "text": [
      "\n",
      "Epoch 79: val_loss improved from 0.53658 to 0.34904, saving model to ckpt1\n"
     ]
    },
    {
     "name": "stderr",
     "output_type": "stream",
     "text": [
      "WARNING:absl:Found untraced functions such as _update_step_xla, lstm_cell_2_layer_call_fn, lstm_cell_2_layer_call_and_return_conditional_losses, lstm_cell_3_layer_call_fn, lstm_cell_3_layer_call_and_return_conditional_losses while saving (showing 5 of 5). These functions will not be directly callable after loading.\n"
     ]
    },
    {
     "name": "stdout",
     "output_type": "stream",
     "text": [
      "INFO:tensorflow:Assets written to: ckpt1\\assets\n"
     ]
    },
    {
     "name": "stderr",
     "output_type": "stream",
     "text": [
      "INFO:tensorflow:Assets written to: ckpt1\\assets\n"
     ]
    },
    {
     "name": "stdout",
     "output_type": "stream",
     "text": [
      "2/2 [==============================] - 43s 34s/step - loss: 1.0547 - accuracy: 0.6416 - val_loss: 0.3490 - val_accuracy: 0.8507\n",
      "Epoch 80/150\n",
      "2/2 [==============================] - ETA: 0s - loss: 1.0327 - accuracy: 0.6518WARNING:tensorflow:`evaluate()` received a value for `sample_weight`, but `weighted_metrics` were not provided.  Did you mean to pass metrics to `weighted_metrics` in `compile()`?  If this is intentional you can pass `weighted_metrics=[]` to `compile()` in order to silence this warning.\n"
     ]
    },
    {
     "name": "stderr",
     "output_type": "stream",
     "text": [
      "WARNING:tensorflow:`evaluate()` received a value for `sample_weight`, but `weighted_metrics` were not provided.  Did you mean to pass metrics to `weighted_metrics` in `compile()`?  If this is intentional you can pass `weighted_metrics=[]` to `compile()` in order to silence this warning.\n"
     ]
    },
    {
     "name": "stdout",
     "output_type": "stream",
     "text": [
      "\n",
      "Epoch 80: val_loss did not improve from 0.34904\n",
      "2/2 [==============================] - 17s 9s/step - loss: 1.0687 - accuracy: 0.6500 - val_loss: 0.5219 - val_accuracy: 0.8209\n",
      "Epoch 81/150\n",
      "2/2 [==============================] - ETA: 0s - loss: 1.0340 - accuracy: 0.6476WARNING:tensorflow:`evaluate()` received a value for `sample_weight`, but `weighted_metrics` were not provided.  Did you mean to pass metrics to `weighted_metrics` in `compile()`?  If this is intentional you can pass `weighted_metrics=[]` to `compile()` in order to silence this warning.\n"
     ]
    },
    {
     "name": "stderr",
     "output_type": "stream",
     "text": [
      "WARNING:tensorflow:`evaluate()` received a value for `sample_weight`, but `weighted_metrics` were not provided.  Did you mean to pass metrics to `weighted_metrics` in `compile()`?  If this is intentional you can pass `weighted_metrics=[]` to `compile()` in order to silence this warning.\n"
     ]
    },
    {
     "name": "stdout",
     "output_type": "stream",
     "text": [
      "\n",
      "Epoch 81: val_loss did not improve from 0.34904\n",
      "2/2 [==============================] - 18s 9s/step - loss: 1.0515 - accuracy: 0.6476 - val_loss: 0.5957 - val_accuracy: 0.8000\n",
      "Epoch 82/150\n",
      "2/2 [==============================] - ETA: 0s - loss: 0.9813 - accuracy: 0.6661WARNING:tensorflow:`evaluate()` received a value for `sample_weight`, but `weighted_metrics` were not provided.  Did you mean to pass metrics to `weighted_metrics` in `compile()`?  If this is intentional you can pass `weighted_metrics=[]` to `compile()` in order to silence this warning.\n"
     ]
    },
    {
     "name": "stderr",
     "output_type": "stream",
     "text": [
      "WARNING:tensorflow:`evaluate()` received a value for `sample_weight`, but `weighted_metrics` were not provided.  Did you mean to pass metrics to `weighted_metrics` in `compile()`?  If this is intentional you can pass `weighted_metrics=[]` to `compile()` in order to silence this warning.\n"
     ]
    },
    {
     "name": "stdout",
     "output_type": "stream",
     "text": [
      "\n",
      "Epoch 82: val_loss did not improve from 0.34904\n",
      "2/2 [==============================] - 17s 9s/step - loss: 0.9801 - accuracy: 0.6654 - val_loss: 0.5098 - val_accuracy: 0.8118\n",
      "Epoch 83/150\n",
      "2/2 [==============================] - ETA: 0s - loss: 0.9538 - accuracy: 0.6634WARNING:tensorflow:`evaluate()` received a value for `sample_weight`, but `weighted_metrics` were not provided.  Did you mean to pass metrics to `weighted_metrics` in `compile()`?  If this is intentional you can pass `weighted_metrics=[]` to `compile()` in order to silence this warning.\n"
     ]
    },
    {
     "name": "stderr",
     "output_type": "stream",
     "text": [
      "WARNING:tensorflow:`evaluate()` received a value for `sample_weight`, but `weighted_metrics` were not provided.  Did you mean to pass metrics to `weighted_metrics` in `compile()`?  If this is intentional you can pass `weighted_metrics=[]` to `compile()` in order to silence this warning.\n"
     ]
    },
    {
     "name": "stdout",
     "output_type": "stream",
     "text": [
      "\n",
      "Epoch 83: val_loss did not improve from 0.34904\n",
      "2/2 [==============================] - 17s 9s/step - loss: 0.9266 - accuracy: 0.6685 - val_loss: 0.5657 - val_accuracy: 0.8195\n",
      "Epoch 84/150\n",
      "2/2 [==============================] - ETA: 0s - loss: 0.9729 - accuracy: 0.6594WARNING:tensorflow:`evaluate()` received a value for `sample_weight`, but `weighted_metrics` were not provided.  Did you mean to pass metrics to `weighted_metrics` in `compile()`?  If this is intentional you can pass `weighted_metrics=[]` to `compile()` in order to silence this warning.\n"
     ]
    },
    {
     "name": "stderr",
     "output_type": "stream",
     "text": [
      "WARNING:tensorflow:`evaluate()` received a value for `sample_weight`, but `weighted_metrics` were not provided.  Did you mean to pass metrics to `weighted_metrics` in `compile()`?  If this is intentional you can pass `weighted_metrics=[]` to `compile()` in order to silence this warning.\n"
     ]
    },
    {
     "name": "stdout",
     "output_type": "stream",
     "text": [
      "\n",
      "Epoch 84: val_loss did not improve from 0.34904\n",
      "2/2 [==============================] - 17s 9s/step - loss: 0.9780 - accuracy: 0.6605 - val_loss: 0.5007 - val_accuracy: 0.8295\n",
      "Epoch 85/150\n",
      "2/2 [==============================] - ETA: 0s - loss: 0.9424 - accuracy: 0.6598WARNING:tensorflow:`evaluate()` received a value for `sample_weight`, but `weighted_metrics` were not provided.  Did you mean to pass metrics to `weighted_metrics` in `compile()`?  If this is intentional you can pass `weighted_metrics=[]` to `compile()` in order to silence this warning.\n"
     ]
    },
    {
     "name": "stderr",
     "output_type": "stream",
     "text": [
      "WARNING:tensorflow:`evaluate()` received a value for `sample_weight`, but `weighted_metrics` were not provided.  Did you mean to pass metrics to `weighted_metrics` in `compile()`?  If this is intentional you can pass `weighted_metrics=[]` to `compile()` in order to silence this warning.\n"
     ]
    },
    {
     "name": "stdout",
     "output_type": "stream",
     "text": [
      "\n",
      "Epoch 85: val_loss did not improve from 0.34904\n",
      "2/2 [==============================] - 17s 9s/step - loss: 0.9307 - accuracy: 0.6580 - val_loss: 0.5250 - val_accuracy: 0.8284\n",
      "Epoch 86/150\n",
      "2/2 [==============================] - ETA: 0s - loss: 0.9380 - accuracy: 0.6697WARNING:tensorflow:`evaluate()` received a value for `sample_weight`, but `weighted_metrics` were not provided.  Did you mean to pass metrics to `weighted_metrics` in `compile()`?  If this is intentional you can pass `weighted_metrics=[]` to `compile()` in order to silence this warning.\n"
     ]
    },
    {
     "name": "stderr",
     "output_type": "stream",
     "text": [
      "WARNING:tensorflow:`evaluate()` received a value for `sample_weight`, but `weighted_metrics` were not provided.  Did you mean to pass metrics to `weighted_metrics` in `compile()`?  If this is intentional you can pass `weighted_metrics=[]` to `compile()` in order to silence this warning.\n"
     ]
    },
    {
     "name": "stdout",
     "output_type": "stream",
     "text": [
      "\n",
      "Epoch 86: val_loss did not improve from 0.34904\n",
      "2/2 [==============================] - 17s 9s/step - loss: 0.9291 - accuracy: 0.6710 - val_loss: 0.5899 - val_accuracy: 0.7701\n",
      "Epoch 87/150\n",
      "2/2 [==============================] - ETA: 0s - loss: 0.9337 - accuracy: 0.6764WARNING:tensorflow:`evaluate()` received a value for `sample_weight`, but `weighted_metrics` were not provided.  Did you mean to pass metrics to `weighted_metrics` in `compile()`?  If this is intentional you can pass `weighted_metrics=[]` to `compile()` in order to silence this warning.\n"
     ]
    },
    {
     "name": "stderr",
     "output_type": "stream",
     "text": [
      "WARNING:tensorflow:`evaluate()` received a value for `sample_weight`, but `weighted_metrics` were not provided.  Did you mean to pass metrics to `weighted_metrics` in `compile()`?  If this is intentional you can pass `weighted_metrics=[]` to `compile()` in order to silence this warning.\n"
     ]
    },
    {
     "name": "stdout",
     "output_type": "stream",
     "text": [
      "\n",
      "Epoch 87: val_loss did not improve from 0.34904\n",
      "2/2 [==============================] - 18s 9s/step - loss: 0.9417 - accuracy: 0.6748 - val_loss: 0.5115 - val_accuracy: 0.7854\n",
      "Epoch 88/150\n",
      "2/2 [==============================] - ETA: 0s - loss: 0.9152 - accuracy: 0.6759WARNING:tensorflow:`evaluate()` received a value for `sample_weight`, but `weighted_metrics` were not provided.  Did you mean to pass metrics to `weighted_metrics` in `compile()`?  If this is intentional you can pass `weighted_metrics=[]` to `compile()` in order to silence this warning.\n"
     ]
    },
    {
     "name": "stderr",
     "output_type": "stream",
     "text": [
      "WARNING:tensorflow:`evaluate()` received a value for `sample_weight`, but `weighted_metrics` were not provided.  Did you mean to pass metrics to `weighted_metrics` in `compile()`?  If this is intentional you can pass `weighted_metrics=[]` to `compile()` in order to silence this warning.\n"
     ]
    },
    {
     "name": "stdout",
     "output_type": "stream",
     "text": [
      "\n",
      "Epoch 88: val_loss did not improve from 0.34904\n",
      "2/2 [==============================] - 17s 9s/step - loss: 0.8932 - accuracy: 0.6761 - val_loss: 0.4472 - val_accuracy: 0.8099\n",
      "Epoch 89/150\n",
      "2/2 [==============================] - ETA: 0s - loss: 0.9117 - accuracy: 0.6780WARNING:tensorflow:`evaluate()` received a value for `sample_weight`, but `weighted_metrics` were not provided.  Did you mean to pass metrics to `weighted_metrics` in `compile()`?  If this is intentional you can pass `weighted_metrics=[]` to `compile()` in order to silence this warning.\n"
     ]
    },
    {
     "name": "stderr",
     "output_type": "stream",
     "text": [
      "WARNING:tensorflow:`evaluate()` received a value for `sample_weight`, but `weighted_metrics` were not provided.  Did you mean to pass metrics to `weighted_metrics` in `compile()`?  If this is intentional you can pass `weighted_metrics=[]` to `compile()` in order to silence this warning.\n"
     ]
    },
    {
     "name": "stdout",
     "output_type": "stream",
     "text": [
      "\n",
      "Epoch 89: val_loss did not improve from 0.34904\n",
      "2/2 [==============================] - 18s 9s/step - loss: 0.9141 - accuracy: 0.6796 - val_loss: 0.5241 - val_accuracy: 0.8150\n",
      "Epoch 90/150\n",
      "2/2 [==============================] - ETA: 0s - loss: 0.8664 - accuracy: 0.6825WARNING:tensorflow:`evaluate()` received a value for `sample_weight`, but `weighted_metrics` were not provided.  Did you mean to pass metrics to `weighted_metrics` in `compile()`?  If this is intentional you can pass `weighted_metrics=[]` to `compile()` in order to silence this warning.\n"
     ]
    },
    {
     "name": "stderr",
     "output_type": "stream",
     "text": [
      "WARNING:tensorflow:`evaluate()` received a value for `sample_weight`, but `weighted_metrics` were not provided.  Did you mean to pass metrics to `weighted_metrics` in `compile()`?  If this is intentional you can pass `weighted_metrics=[]` to `compile()` in order to silence this warning.\n"
     ]
    },
    {
     "name": "stdout",
     "output_type": "stream",
     "text": [
      "\n",
      "Epoch 90: val_loss did not improve from 0.34904\n",
      "2/2 [==============================] - 17s 9s/step - loss: 0.8179 - accuracy: 0.6888 - val_loss: 0.5486 - val_accuracy: 0.7861\n",
      "Epoch 91/150\n",
      "2/2 [==============================] - ETA: 0s - loss: 0.8701 - accuracy: 0.6944WARNING:tensorflow:`evaluate()` received a value for `sample_weight`, but `weighted_metrics` were not provided.  Did you mean to pass metrics to `weighted_metrics` in `compile()`?  If this is intentional you can pass `weighted_metrics=[]` to `compile()` in order to silence this warning.\n"
     ]
    },
    {
     "name": "stderr",
     "output_type": "stream",
     "text": [
      "WARNING:tensorflow:`evaluate()` received a value for `sample_weight`, but `weighted_metrics` were not provided.  Did you mean to pass metrics to `weighted_metrics` in `compile()`?  If this is intentional you can pass `weighted_metrics=[]` to `compile()` in order to silence this warning.\n"
     ]
    },
    {
     "name": "stdout",
     "output_type": "stream",
     "text": [
      "\n",
      "Epoch 91: val_loss did not improve from 0.34904\n",
      "2/2 [==============================] - 18s 9s/step - loss: 0.8679 - accuracy: 0.6983 - val_loss: 0.4453 - val_accuracy: 0.8122\n",
      "Epoch 92/150\n",
      "2/2 [==============================] - ETA: 0s - loss: 0.8791 - accuracy: 0.6914WARNING:tensorflow:`evaluate()` received a value for `sample_weight`, but `weighted_metrics` were not provided.  Did you mean to pass metrics to `weighted_metrics` in `compile()`?  If this is intentional you can pass `weighted_metrics=[]` to `compile()` in order to silence this warning.\n"
     ]
    },
    {
     "name": "stderr",
     "output_type": "stream",
     "text": [
      "WARNING:tensorflow:`evaluate()` received a value for `sample_weight`, but `weighted_metrics` were not provided.  Did you mean to pass metrics to `weighted_metrics` in `compile()`?  If this is intentional you can pass `weighted_metrics=[]` to `compile()` in order to silence this warning.\n"
     ]
    },
    {
     "name": "stdout",
     "output_type": "stream",
     "text": [
      "\n",
      "Epoch 92: val_loss did not improve from 0.34904\n",
      "2/2 [==============================] - 17s 9s/step - loss: 0.8878 - accuracy: 0.6935 - val_loss: 0.4658 - val_accuracy: 0.8137\n",
      "Epoch 93/150\n",
      "2/2 [==============================] - ETA: 0s - loss: 0.8745 - accuracy: 0.6947WARNING:tensorflow:`evaluate()` received a value for `sample_weight`, but `weighted_metrics` were not provided.  Did you mean to pass metrics to `weighted_metrics` in `compile()`?  If this is intentional you can pass `weighted_metrics=[]` to `compile()` in order to silence this warning.\n"
     ]
    },
    {
     "name": "stderr",
     "output_type": "stream",
     "text": [
      "WARNING:tensorflow:`evaluate()` received a value for `sample_weight`, but `weighted_metrics` were not provided.  Did you mean to pass metrics to `weighted_metrics` in `compile()`?  If this is intentional you can pass `weighted_metrics=[]` to `compile()` in order to silence this warning.\n"
     ]
    },
    {
     "name": "stdout",
     "output_type": "stream",
     "text": [
      "\n",
      "Epoch 93: val_loss did not improve from 0.34904\n",
      "2/2 [==============================] - 17s 9s/step - loss: 0.8823 - accuracy: 0.6990 - val_loss: 0.4392 - val_accuracy: 0.8444\n",
      "Epoch 94/150\n",
      "2/2 [==============================] - ETA: 0s - loss: 0.8561 - accuracy: 0.6923WARNING:tensorflow:`evaluate()` received a value for `sample_weight`, but `weighted_metrics` were not provided.  Did you mean to pass metrics to `weighted_metrics` in `compile()`?  If this is intentional you can pass `weighted_metrics=[]` to `compile()` in order to silence this warning.\n"
     ]
    },
    {
     "name": "stderr",
     "output_type": "stream",
     "text": [
      "WARNING:tensorflow:`evaluate()` received a value for `sample_weight`, but `weighted_metrics` were not provided.  Did you mean to pass metrics to `weighted_metrics` in `compile()`?  If this is intentional you can pass `weighted_metrics=[]` to `compile()` in order to silence this warning.\n"
     ]
    },
    {
     "name": "stdout",
     "output_type": "stream",
     "text": [
      "\n",
      "Epoch 94: val_loss did not improve from 0.34904\n",
      "2/2 [==============================] - 17s 9s/step - loss: 0.8592 - accuracy: 0.6909 - val_loss: 0.3959 - val_accuracy: 0.8286\n",
      "Epoch 95/150\n",
      "2/2 [==============================] - ETA: 0s - loss: 0.8273 - accuracy: 0.7007WARNING:tensorflow:`evaluate()` received a value for `sample_weight`, but `weighted_metrics` were not provided.  Did you mean to pass metrics to `weighted_metrics` in `compile()`?  If this is intentional you can pass `weighted_metrics=[]` to `compile()` in order to silence this warning.\n"
     ]
    },
    {
     "name": "stderr",
     "output_type": "stream",
     "text": [
      "WARNING:tensorflow:`evaluate()` received a value for `sample_weight`, but `weighted_metrics` were not provided.  Did you mean to pass metrics to `weighted_metrics` in `compile()`?  If this is intentional you can pass `weighted_metrics=[]` to `compile()` in order to silence this warning.\n"
     ]
    },
    {
     "name": "stdout",
     "output_type": "stream",
     "text": [
      "\n",
      "Epoch 95: val_loss did not improve from 0.34904\n",
      "2/2 [==============================] - 17s 9s/step - loss: 0.8055 - accuracy: 0.7054 - val_loss: 0.7148 - val_accuracy: 0.8073\n",
      "Epoch 96/150\n",
      "2/2 [==============================] - ETA: 0s - loss: 0.8246 - accuracy: 0.7044WARNING:tensorflow:`evaluate()` received a value for `sample_weight`, but `weighted_metrics` were not provided.  Did you mean to pass metrics to `weighted_metrics` in `compile()`?  If this is intentional you can pass `weighted_metrics=[]` to `compile()` in order to silence this warning.\n"
     ]
    },
    {
     "name": "stderr",
     "output_type": "stream",
     "text": [
      "WARNING:tensorflow:`evaluate()` received a value for `sample_weight`, but `weighted_metrics` were not provided.  Did you mean to pass metrics to `weighted_metrics` in `compile()`?  If this is intentional you can pass `weighted_metrics=[]` to `compile()` in order to silence this warning.\n"
     ]
    },
    {
     "name": "stdout",
     "output_type": "stream",
     "text": [
      "\n",
      "Epoch 96: val_loss did not improve from 0.34904\n",
      "2/2 [==============================] - 18s 9s/step - loss: 0.8156 - accuracy: 0.7057 - val_loss: 0.3924 - val_accuracy: 0.8533\n",
      "Epoch 97/150\n",
      "2/2 [==============================] - ETA: 0s - loss: 0.8225 - accuracy: 0.7042WARNING:tensorflow:`evaluate()` received a value for `sample_weight`, but `weighted_metrics` were not provided.  Did you mean to pass metrics to `weighted_metrics` in `compile()`?  If this is intentional you can pass `weighted_metrics=[]` to `compile()` in order to silence this warning.\n"
     ]
    },
    {
     "name": "stderr",
     "output_type": "stream",
     "text": [
      "WARNING:tensorflow:`evaluate()` received a value for `sample_weight`, but `weighted_metrics` were not provided.  Did you mean to pass metrics to `weighted_metrics` in `compile()`?  If this is intentional you can pass `weighted_metrics=[]` to `compile()` in order to silence this warning.\n"
     ]
    },
    {
     "name": "stdout",
     "output_type": "stream",
     "text": [
      "\n",
      "Epoch 97: val_loss did not improve from 0.34904\n",
      "2/2 [==============================] - 17s 9s/step - loss: 0.8163 - accuracy: 0.7058 - val_loss: 0.3611 - val_accuracy: 0.8450\n",
      "Epoch 98/150\n",
      "2/2 [==============================] - ETA: 0s - loss: 0.7933 - accuracy: 0.7121WARNING:tensorflow:`evaluate()` received a value for `sample_weight`, but `weighted_metrics` were not provided.  Did you mean to pass metrics to `weighted_metrics` in `compile()`?  If this is intentional you can pass `weighted_metrics=[]` to `compile()` in order to silence this warning.\n"
     ]
    },
    {
     "name": "stderr",
     "output_type": "stream",
     "text": [
      "WARNING:tensorflow:`evaluate()` received a value for `sample_weight`, but `weighted_metrics` were not provided.  Did you mean to pass metrics to `weighted_metrics` in `compile()`?  If this is intentional you can pass `weighted_metrics=[]` to `compile()` in order to silence this warning.\n"
     ]
    },
    {
     "name": "stdout",
     "output_type": "stream",
     "text": [
      "\n",
      "Epoch 98: val_loss did not improve from 0.34904\n",
      "2/2 [==============================] - 17s 9s/step - loss: 0.7744 - accuracy: 0.7147 - val_loss: 0.4179 - val_accuracy: 0.8528\n",
      "Epoch 99/150\n",
      "2/2 [==============================] - ETA: 0s - loss: 0.8008 - accuracy: 0.7125WARNING:tensorflow:`evaluate()` received a value for `sample_weight`, but `weighted_metrics` were not provided.  Did you mean to pass metrics to `weighted_metrics` in `compile()`?  If this is intentional you can pass `weighted_metrics=[]` to `compile()` in order to silence this warning.\n"
     ]
    },
    {
     "name": "stderr",
     "output_type": "stream",
     "text": [
      "WARNING:tensorflow:`evaluate()` received a value for `sample_weight`, but `weighted_metrics` were not provided.  Did you mean to pass metrics to `weighted_metrics` in `compile()`?  If this is intentional you can pass `weighted_metrics=[]` to `compile()` in order to silence this warning.\n"
     ]
    },
    {
     "name": "stdout",
     "output_type": "stream",
     "text": [
      "\n",
      "Epoch 99: val_loss did not improve from 0.34904\n",
      "2/2 [==============================] - 17s 9s/step - loss: 0.8026 - accuracy: 0.7156 - val_loss: 0.3721 - val_accuracy: 0.8477\n",
      "Epoch 100/150\n",
      "2/2 [==============================] - ETA: 0s - loss: 0.8027 - accuracy: 0.7079WARNING:tensorflow:`evaluate()` received a value for `sample_weight`, but `weighted_metrics` were not provided.  Did you mean to pass metrics to `weighted_metrics` in `compile()`?  If this is intentional you can pass `weighted_metrics=[]` to `compile()` in order to silence this warning.\n"
     ]
    },
    {
     "name": "stderr",
     "output_type": "stream",
     "text": [
      "WARNING:tensorflow:`evaluate()` received a value for `sample_weight`, but `weighted_metrics` were not provided.  Did you mean to pass metrics to `weighted_metrics` in `compile()`?  If this is intentional you can pass `weighted_metrics=[]` to `compile()` in order to silence this warning.\n"
     ]
    },
    {
     "name": "stdout",
     "output_type": "stream",
     "text": [
      "\n",
      "Epoch 100: val_loss did not improve from 0.34904\n",
      "2/2 [==============================] - 17s 9s/step - loss: 0.8207 - accuracy: 0.7088 - val_loss: 0.3870 - val_accuracy: 0.8500\n",
      "Epoch 101/150\n",
      "2/2 [==============================] - ETA: 0s - loss: 0.7755 - accuracy: 0.7168WARNING:tensorflow:`evaluate()` received a value for `sample_weight`, but `weighted_metrics` were not provided.  Did you mean to pass metrics to `weighted_metrics` in `compile()`?  If this is intentional you can pass `weighted_metrics=[]` to `compile()` in order to silence this warning.\n"
     ]
    },
    {
     "name": "stderr",
     "output_type": "stream",
     "text": [
      "WARNING:tensorflow:`evaluate()` received a value for `sample_weight`, but `weighted_metrics` were not provided.  Did you mean to pass metrics to `weighted_metrics` in `compile()`?  If this is intentional you can pass `weighted_metrics=[]` to `compile()` in order to silence this warning.\n"
     ]
    },
    {
     "name": "stdout",
     "output_type": "stream",
     "text": [
      "\n",
      "Epoch 101: val_loss did not improve from 0.34904\n",
      "2/2 [==============================] - 17s 9s/step - loss: 0.7726 - accuracy: 0.7165 - val_loss: 0.5054 - val_accuracy: 0.8294\n",
      "Epoch 102/150\n",
      "2/2 [==============================] - ETA: 0s - loss: 0.7626 - accuracy: 0.7212WARNING:tensorflow:`evaluate()` received a value for `sample_weight`, but `weighted_metrics` were not provided.  Did you mean to pass metrics to `weighted_metrics` in `compile()`?  If this is intentional you can pass `weighted_metrics=[]` to `compile()` in order to silence this warning.\n"
     ]
    },
    {
     "name": "stderr",
     "output_type": "stream",
     "text": [
      "WARNING:tensorflow:`evaluate()` received a value for `sample_weight`, but `weighted_metrics` were not provided.  Did you mean to pass metrics to `weighted_metrics` in `compile()`?  If this is intentional you can pass `weighted_metrics=[]` to `compile()` in order to silence this warning.\n"
     ]
    },
    {
     "name": "stdout",
     "output_type": "stream",
     "text": [
      "\n",
      "Epoch 102: val_loss improved from 0.34904 to 0.33806, saving model to ckpt1\n"
     ]
    },
    {
     "name": "stderr",
     "output_type": "stream",
     "text": [
      "WARNING:absl:Found untraced functions such as _update_step_xla, lstm_cell_2_layer_call_fn, lstm_cell_2_layer_call_and_return_conditional_losses, lstm_cell_3_layer_call_fn, lstm_cell_3_layer_call_and_return_conditional_losses while saving (showing 5 of 5). These functions will not be directly callable after loading.\n"
     ]
    },
    {
     "name": "stdout",
     "output_type": "stream",
     "text": [
      "INFO:tensorflow:Assets written to: ckpt1\\assets\n"
     ]
    },
    {
     "name": "stderr",
     "output_type": "stream",
     "text": [
      "INFO:tensorflow:Assets written to: ckpt1\\assets\n"
     ]
    },
    {
     "name": "stdout",
     "output_type": "stream",
     "text": [
      "2/2 [==============================] - 40s 32s/step - loss: 0.7684 - accuracy: 0.7217 - val_loss: 0.3381 - val_accuracy: 0.8714\n",
      "Epoch 103/150\n",
      "2/2 [==============================] - ETA: 0s - loss: 0.7612 - accuracy: 0.7219WARNING:tensorflow:`evaluate()` received a value for `sample_weight`, but `weighted_metrics` were not provided.  Did you mean to pass metrics to `weighted_metrics` in `compile()`?  If this is intentional you can pass `weighted_metrics=[]` to `compile()` in order to silence this warning.\n"
     ]
    },
    {
     "name": "stderr",
     "output_type": "stream",
     "text": [
      "WARNING:tensorflow:`evaluate()` received a value for `sample_weight`, but `weighted_metrics` were not provided.  Did you mean to pass metrics to `weighted_metrics` in `compile()`?  If this is intentional you can pass `weighted_metrics=[]` to `compile()` in order to silence this warning.\n"
     ]
    },
    {
     "name": "stdout",
     "output_type": "stream",
     "text": [
      "\n",
      "Epoch 103: val_loss did not improve from 0.33806\n",
      "2/2 [==============================] - 17s 9s/step - loss: 0.7712 - accuracy: 0.7194 - val_loss: 0.5126 - val_accuracy: 0.8206\n",
      "Epoch 104/150\n",
      "2/2 [==============================] - ETA: 0s - loss: 0.7335 - accuracy: 0.7247WARNING:tensorflow:`evaluate()` received a value for `sample_weight`, but `weighted_metrics` were not provided.  Did you mean to pass metrics to `weighted_metrics` in `compile()`?  If this is intentional you can pass `weighted_metrics=[]` to `compile()` in order to silence this warning.\n"
     ]
    },
    {
     "name": "stderr",
     "output_type": "stream",
     "text": [
      "WARNING:tensorflow:`evaluate()` received a value for `sample_weight`, but `weighted_metrics` were not provided.  Did you mean to pass metrics to `weighted_metrics` in `compile()`?  If this is intentional you can pass `weighted_metrics=[]` to `compile()` in order to silence this warning.\n"
     ]
    },
    {
     "name": "stdout",
     "output_type": "stream",
     "text": [
      "\n",
      "Epoch 104: val_loss did not improve from 0.33806\n",
      "2/2 [==============================] - 17s 9s/step - loss: 0.7213 - accuracy: 0.7254 - val_loss: 0.4052 - val_accuracy: 0.8513\n",
      "Epoch 105/150\n",
      "2/2 [==============================] - ETA: 0s - loss: 0.7368 - accuracy: 0.7231WARNING:tensorflow:`evaluate()` received a value for `sample_weight`, but `weighted_metrics` were not provided.  Did you mean to pass metrics to `weighted_metrics` in `compile()`?  If this is intentional you can pass `weighted_metrics=[]` to `compile()` in order to silence this warning.\n"
     ]
    },
    {
     "name": "stderr",
     "output_type": "stream",
     "text": [
      "WARNING:tensorflow:`evaluate()` received a value for `sample_weight`, but `weighted_metrics` were not provided.  Did you mean to pass metrics to `weighted_metrics` in `compile()`?  If this is intentional you can pass `weighted_metrics=[]` to `compile()` in order to silence this warning.\n"
     ]
    },
    {
     "name": "stdout",
     "output_type": "stream",
     "text": [
      "\n",
      "Epoch 105: val_loss improved from 0.33806 to 0.31565, saving model to ckpt1\n"
     ]
    },
    {
     "name": "stderr",
     "output_type": "stream",
     "text": [
      "WARNING:absl:Found untraced functions such as _update_step_xla, lstm_cell_2_layer_call_fn, lstm_cell_2_layer_call_and_return_conditional_losses, lstm_cell_3_layer_call_fn, lstm_cell_3_layer_call_and_return_conditional_losses while saving (showing 5 of 5). These functions will not be directly callable after loading.\n"
     ]
    },
    {
     "name": "stdout",
     "output_type": "stream",
     "text": [
      "INFO:tensorflow:Assets written to: ckpt1\\assets\n"
     ]
    },
    {
     "name": "stderr",
     "output_type": "stream",
     "text": [
      "INFO:tensorflow:Assets written to: ckpt1\\assets\n"
     ]
    },
    {
     "name": "stdout",
     "output_type": "stream",
     "text": [
      "2/2 [==============================] - 41s 33s/step - loss: 0.7273 - accuracy: 0.7223 - val_loss: 0.3156 - val_accuracy: 0.8783\n",
      "Epoch 106/150\n",
      "2/2 [==============================] - ETA: 0s - loss: 0.7186 - accuracy: 0.7345WARNING:tensorflow:`evaluate()` received a value for `sample_weight`, but `weighted_metrics` were not provided.  Did you mean to pass metrics to `weighted_metrics` in `compile()`?  If this is intentional you can pass `weighted_metrics=[]` to `compile()` in order to silence this warning.\n"
     ]
    },
    {
     "name": "stderr",
     "output_type": "stream",
     "text": [
      "WARNING:tensorflow:`evaluate()` received a value for `sample_weight`, but `weighted_metrics` were not provided.  Did you mean to pass metrics to `weighted_metrics` in `compile()`?  If this is intentional you can pass `weighted_metrics=[]` to `compile()` in order to silence this warning.\n"
     ]
    },
    {
     "name": "stdout",
     "output_type": "stream",
     "text": [
      "\n",
      "Epoch 106: val_loss did not improve from 0.31565\n",
      "2/2 [==============================] - 19s 10s/step - loss: 0.7057 - accuracy: 0.7375 - val_loss: 0.4275 - val_accuracy: 0.8499\n",
      "Epoch 107/150\n",
      "2/2 [==============================] - ETA: 0s - loss: 0.7258 - accuracy: 0.7314WARNING:tensorflow:`evaluate()` received a value for `sample_weight`, but `weighted_metrics` were not provided.  Did you mean to pass metrics to `weighted_metrics` in `compile()`?  If this is intentional you can pass `weighted_metrics=[]` to `compile()` in order to silence this warning.\n"
     ]
    },
    {
     "name": "stderr",
     "output_type": "stream",
     "text": [
      "WARNING:tensorflow:`evaluate()` received a value for `sample_weight`, but `weighted_metrics` were not provided.  Did you mean to pass metrics to `weighted_metrics` in `compile()`?  If this is intentional you can pass `weighted_metrics=[]` to `compile()` in order to silence this warning.\n"
     ]
    },
    {
     "name": "stdout",
     "output_type": "stream",
     "text": [
      "\n",
      "Epoch 107: val_loss improved from 0.31565 to 0.31294, saving model to ckpt1\n"
     ]
    },
    {
     "name": "stderr",
     "output_type": "stream",
     "text": [
      "WARNING:absl:Found untraced functions such as _update_step_xla, lstm_cell_2_layer_call_fn, lstm_cell_2_layer_call_and_return_conditional_losses, lstm_cell_3_layer_call_fn, lstm_cell_3_layer_call_and_return_conditional_losses while saving (showing 5 of 5). These functions will not be directly callable after loading.\n"
     ]
    },
    {
     "name": "stdout",
     "output_type": "stream",
     "text": [
      "INFO:tensorflow:Assets written to: ckpt1\\assets\n"
     ]
    },
    {
     "name": "stderr",
     "output_type": "stream",
     "text": [
      "INFO:tensorflow:Assets written to: ckpt1\\assets\n"
     ]
    },
    {
     "name": "stdout",
     "output_type": "stream",
     "text": [
      "2/2 [==============================] - 42s 33s/step - loss: 0.7212 - accuracy: 0.7264 - val_loss: 0.3129 - val_accuracy: 0.8637\n",
      "Epoch 108/150\n",
      "2/2 [==============================] - ETA: 0s - loss: 0.7265 - accuracy: 0.7289WARNING:tensorflow:`evaluate()` received a value for `sample_weight`, but `weighted_metrics` were not provided.  Did you mean to pass metrics to `weighted_metrics` in `compile()`?  If this is intentional you can pass `weighted_metrics=[]` to `compile()` in order to silence this warning.\n"
     ]
    },
    {
     "name": "stderr",
     "output_type": "stream",
     "text": [
      "WARNING:tensorflow:`evaluate()` received a value for `sample_weight`, but `weighted_metrics` were not provided.  Did you mean to pass metrics to `weighted_metrics` in `compile()`?  If this is intentional you can pass `weighted_metrics=[]` to `compile()` in order to silence this warning.\n"
     ]
    },
    {
     "name": "stdout",
     "output_type": "stream",
     "text": [
      "\n",
      "Epoch 108: val_loss did not improve from 0.31294\n",
      "2/2 [==============================] - 18s 10s/step - loss: 0.7330 - accuracy: 0.7300 - val_loss: 0.5844 - val_accuracy: 0.8435\n",
      "Epoch 109/150\n",
      "2/2 [==============================] - ETA: 0s - loss: 0.7193 - accuracy: 0.7333WARNING:tensorflow:`evaluate()` received a value for `sample_weight`, but `weighted_metrics` were not provided.  Did you mean to pass metrics to `weighted_metrics` in `compile()`?  If this is intentional you can pass `weighted_metrics=[]` to `compile()` in order to silence this warning.\n"
     ]
    },
    {
     "name": "stderr",
     "output_type": "stream",
     "text": [
      "WARNING:tensorflow:`evaluate()` received a value for `sample_weight`, but `weighted_metrics` were not provided.  Did you mean to pass metrics to `weighted_metrics` in `compile()`?  If this is intentional you can pass `weighted_metrics=[]` to `compile()` in order to silence this warning.\n"
     ]
    },
    {
     "name": "stdout",
     "output_type": "stream",
     "text": [
      "\n",
      "Epoch 109: val_loss did not improve from 0.31294\n",
      "2/2 [==============================] - 17s 9s/step - loss: 0.7214 - accuracy: 0.7318 - val_loss: 0.6178 - val_accuracy: 0.8298\n",
      "Epoch 110/150\n",
      "2/2 [==============================] - ETA: 0s - loss: 0.7061 - accuracy: 0.7353WARNING:tensorflow:`evaluate()` received a value for `sample_weight`, but `weighted_metrics` were not provided.  Did you mean to pass metrics to `weighted_metrics` in `compile()`?  If this is intentional you can pass `weighted_metrics=[]` to `compile()` in order to silence this warning.\n"
     ]
    },
    {
     "name": "stderr",
     "output_type": "stream",
     "text": [
      "WARNING:tensorflow:`evaluate()` received a value for `sample_weight`, but `weighted_metrics` were not provided.  Did you mean to pass metrics to `weighted_metrics` in `compile()`?  If this is intentional you can pass `weighted_metrics=[]` to `compile()` in order to silence this warning.\n"
     ]
    },
    {
     "name": "stdout",
     "output_type": "stream",
     "text": [
      "\n",
      "Epoch 110: val_loss did not improve from 0.31294\n",
      "2/2 [==============================] - 18s 9s/step - loss: 0.7159 - accuracy: 0.7328 - val_loss: 0.3638 - val_accuracy: 0.8544\n",
      "Epoch 111/150\n",
      "2/2 [==============================] - ETA: 0s - loss: 0.7028 - accuracy: 0.7404WARNING:tensorflow:`evaluate()` received a value for `sample_weight`, but `weighted_metrics` were not provided.  Did you mean to pass metrics to `weighted_metrics` in `compile()`?  If this is intentional you can pass `weighted_metrics=[]` to `compile()` in order to silence this warning.\n"
     ]
    },
    {
     "name": "stderr",
     "output_type": "stream",
     "text": [
      "WARNING:tensorflow:`evaluate()` received a value for `sample_weight`, but `weighted_metrics` were not provided.  Did you mean to pass metrics to `weighted_metrics` in `compile()`?  If this is intentional you can pass `weighted_metrics=[]` to `compile()` in order to silence this warning.\n"
     ]
    },
    {
     "name": "stdout",
     "output_type": "stream",
     "text": [
      "\n",
      "Epoch 111: val_loss did not improve from 0.31294\n",
      "2/2 [==============================] - 18s 9s/step - loss: 0.6994 - accuracy: 0.7423 - val_loss: 0.5706 - val_accuracy: 0.8197\n",
      "Epoch 112/150\n",
      "2/2 [==============================] - ETA: 0s - loss: 0.6747 - accuracy: 0.7486WARNING:tensorflow:`evaluate()` received a value for `sample_weight`, but `weighted_metrics` were not provided.  Did you mean to pass metrics to `weighted_metrics` in `compile()`?  If this is intentional you can pass `weighted_metrics=[]` to `compile()` in order to silence this warning.\n"
     ]
    },
    {
     "name": "stderr",
     "output_type": "stream",
     "text": [
      "WARNING:tensorflow:`evaluate()` received a value for `sample_weight`, but `weighted_metrics` were not provided.  Did you mean to pass metrics to `weighted_metrics` in `compile()`?  If this is intentional you can pass `weighted_metrics=[]` to `compile()` in order to silence this warning.\n"
     ]
    },
    {
     "name": "stdout",
     "output_type": "stream",
     "text": [
      "\n",
      "Epoch 112: val_loss did not improve from 0.31294\n",
      "2/2 [==============================] - 18s 10s/step - loss: 0.6673 - accuracy: 0.7469 - val_loss: 0.3261 - val_accuracy: 0.8692\n",
      "Epoch 113/150\n",
      "2/2 [==============================] - ETA: 0s - loss: 0.6877 - accuracy: 0.7485WARNING:tensorflow:`evaluate()` received a value for `sample_weight`, but `weighted_metrics` were not provided.  Did you mean to pass metrics to `weighted_metrics` in `compile()`?  If this is intentional you can pass `weighted_metrics=[]` to `compile()` in order to silence this warning.\n"
     ]
    },
    {
     "name": "stderr",
     "output_type": "stream",
     "text": [
      "WARNING:tensorflow:`evaluate()` received a value for `sample_weight`, but `weighted_metrics` were not provided.  Did you mean to pass metrics to `weighted_metrics` in `compile()`?  If this is intentional you can pass `weighted_metrics=[]` to `compile()` in order to silence this warning.\n"
     ]
    },
    {
     "name": "stdout",
     "output_type": "stream",
     "text": [
      "\n",
      "Epoch 113: val_loss improved from 0.31294 to 0.24319, saving model to ckpt1\n"
     ]
    },
    {
     "name": "stderr",
     "output_type": "stream",
     "text": [
      "WARNING:absl:Found untraced functions such as _update_step_xla, lstm_cell_2_layer_call_fn, lstm_cell_2_layer_call_and_return_conditional_losses, lstm_cell_3_layer_call_fn, lstm_cell_3_layer_call_and_return_conditional_losses while saving (showing 5 of 5). These functions will not be directly callable after loading.\n"
     ]
    },
    {
     "name": "stdout",
     "output_type": "stream",
     "text": [
      "INFO:tensorflow:Assets written to: ckpt1\\assets\n"
     ]
    },
    {
     "name": "stderr",
     "output_type": "stream",
     "text": [
      "INFO:tensorflow:Assets written to: ckpt1\\assets\n"
     ]
    },
    {
     "name": "stdout",
     "output_type": "stream",
     "text": [
      "2/2 [==============================] - 42s 33s/step - loss: 0.7011 - accuracy: 0.7466 - val_loss: 0.2432 - val_accuracy: 0.8927\n",
      "Epoch 114/150\n",
      "2/2 [==============================] - ETA: 0s - loss: 0.6745 - accuracy: 0.7500WARNING:tensorflow:`evaluate()` received a value for `sample_weight`, but `weighted_metrics` were not provided.  Did you mean to pass metrics to `weighted_metrics` in `compile()`?  If this is intentional you can pass `weighted_metrics=[]` to `compile()` in order to silence this warning.\n"
     ]
    },
    {
     "name": "stderr",
     "output_type": "stream",
     "text": [
      "WARNING:tensorflow:`evaluate()` received a value for `sample_weight`, but `weighted_metrics` were not provided.  Did you mean to pass metrics to `weighted_metrics` in `compile()`?  If this is intentional you can pass `weighted_metrics=[]` to `compile()` in order to silence this warning.\n"
     ]
    },
    {
     "name": "stdout",
     "output_type": "stream",
     "text": [
      "\n",
      "Epoch 114: val_loss did not improve from 0.24319\n",
      "2/2 [==============================] - 20s 11s/step - loss: 0.6746 - accuracy: 0.7521 - val_loss: 0.4194 - val_accuracy: 0.8492\n",
      "Epoch 115/150\n",
      "2/2 [==============================] - ETA: 0s - loss: 0.6652 - accuracy: 0.7546WARNING:tensorflow:`evaluate()` received a value for `sample_weight`, but `weighted_metrics` were not provided.  Did you mean to pass metrics to `weighted_metrics` in `compile()`?  If this is intentional you can pass `weighted_metrics=[]` to `compile()` in order to silence this warning.\n"
     ]
    },
    {
     "name": "stderr",
     "output_type": "stream",
     "text": [
      "WARNING:tensorflow:`evaluate()` received a value for `sample_weight`, but `weighted_metrics` were not provided.  Did you mean to pass metrics to `weighted_metrics` in `compile()`?  If this is intentional you can pass `weighted_metrics=[]` to `compile()` in order to silence this warning.\n"
     ]
    },
    {
     "name": "stdout",
     "output_type": "stream",
     "text": [
      "\n",
      "Epoch 115: val_loss did not improve from 0.24319\n",
      "2/2 [==============================] - 19s 10s/step - loss: 0.6884 - accuracy: 0.7562 - val_loss: 0.3064 - val_accuracy: 0.8597\n",
      "Epoch 116/150\n",
      "2/2 [==============================] - ETA: 0s - loss: 0.6463 - accuracy: 0.7653WARNING:tensorflow:`evaluate()` received a value for `sample_weight`, but `weighted_metrics` were not provided.  Did you mean to pass metrics to `weighted_metrics` in `compile()`?  If this is intentional you can pass `weighted_metrics=[]` to `compile()` in order to silence this warning.\n"
     ]
    },
    {
     "name": "stderr",
     "output_type": "stream",
     "text": [
      "WARNING:tensorflow:`evaluate()` received a value for `sample_weight`, but `weighted_metrics` were not provided.  Did you mean to pass metrics to `weighted_metrics` in `compile()`?  If this is intentional you can pass `weighted_metrics=[]` to `compile()` in order to silence this warning.\n"
     ]
    },
    {
     "name": "stdout",
     "output_type": "stream",
     "text": [
      "\n",
      "Epoch 116: val_loss did not improve from 0.24319\n",
      "2/2 [==============================] - 19s 10s/step - loss: 0.6442 - accuracy: 0.7660 - val_loss: 0.3469 - val_accuracy: 0.8677\n",
      "Epoch 117/150\n",
      "2/2 [==============================] - ETA: 0s - loss: 0.6257 - accuracy: 0.7617WARNING:tensorflow:`evaluate()` received a value for `sample_weight`, but `weighted_metrics` were not provided.  Did you mean to pass metrics to `weighted_metrics` in `compile()`?  If this is intentional you can pass `weighted_metrics=[]` to `compile()` in order to silence this warning.\n"
     ]
    },
    {
     "name": "stderr",
     "output_type": "stream",
     "text": [
      "WARNING:tensorflow:`evaluate()` received a value for `sample_weight`, but `weighted_metrics` were not provided.  Did you mean to pass metrics to `weighted_metrics` in `compile()`?  If this is intentional you can pass `weighted_metrics=[]` to `compile()` in order to silence this warning.\n"
     ]
    },
    {
     "name": "stdout",
     "output_type": "stream",
     "text": [
      "\n",
      "Epoch 117: val_loss did not improve from 0.24319\n",
      "2/2 [==============================] - 19s 10s/step - loss: 0.6064 - accuracy: 0.7656 - val_loss: 0.3064 - val_accuracy: 0.8893\n",
      "Epoch 118/150\n",
      "2/2 [==============================] - ETA: 0s - loss: 0.6359 - accuracy: 0.7598WARNING:tensorflow:`evaluate()` received a value for `sample_weight`, but `weighted_metrics` were not provided.  Did you mean to pass metrics to `weighted_metrics` in `compile()`?  If this is intentional you can pass `weighted_metrics=[]` to `compile()` in order to silence this warning.\n"
     ]
    },
    {
     "name": "stderr",
     "output_type": "stream",
     "text": [
      "WARNING:tensorflow:`evaluate()` received a value for `sample_weight`, but `weighted_metrics` were not provided.  Did you mean to pass metrics to `weighted_metrics` in `compile()`?  If this is intentional you can pass `weighted_metrics=[]` to `compile()` in order to silence this warning.\n"
     ]
    },
    {
     "name": "stdout",
     "output_type": "stream",
     "text": [
      "\n",
      "Epoch 118: val_loss did not improve from 0.24319\n",
      "2/2 [==============================] - 19s 10s/step - loss: 0.6229 - accuracy: 0.7621 - val_loss: 0.5785 - val_accuracy: 0.8275\n",
      "Epoch 119/150\n",
      "2/2 [==============================] - ETA: 0s - loss: 0.6378 - accuracy: 0.7579WARNING:tensorflow:`evaluate()` received a value for `sample_weight`, but `weighted_metrics` were not provided.  Did you mean to pass metrics to `weighted_metrics` in `compile()`?  If this is intentional you can pass `weighted_metrics=[]` to `compile()` in order to silence this warning.\n"
     ]
    },
    {
     "name": "stderr",
     "output_type": "stream",
     "text": [
      "WARNING:tensorflow:`evaluate()` received a value for `sample_weight`, but `weighted_metrics` were not provided.  Did you mean to pass metrics to `weighted_metrics` in `compile()`?  If this is intentional you can pass `weighted_metrics=[]` to `compile()` in order to silence this warning.\n"
     ]
    },
    {
     "name": "stdout",
     "output_type": "stream",
     "text": [
      "\n",
      "Epoch 119: val_loss did not improve from 0.24319\n",
      "2/2 [==============================] - 19s 10s/step - loss: 0.6369 - accuracy: 0.7601 - val_loss: 0.4425 - val_accuracy: 0.8700\n",
      "Epoch 120/150\n",
      "2/2 [==============================] - ETA: 0s - loss: 0.6218 - accuracy: 0.7604WARNING:tensorflow:`evaluate()` received a value for `sample_weight`, but `weighted_metrics` were not provided.  Did you mean to pass metrics to `weighted_metrics` in `compile()`?  If this is intentional you can pass `weighted_metrics=[]` to `compile()` in order to silence this warning.\n"
     ]
    },
    {
     "name": "stderr",
     "output_type": "stream",
     "text": [
      "WARNING:tensorflow:`evaluate()` received a value for `sample_weight`, but `weighted_metrics` were not provided.  Did you mean to pass metrics to `weighted_metrics` in `compile()`?  If this is intentional you can pass `weighted_metrics=[]` to `compile()` in order to silence this warning.\n"
     ]
    },
    {
     "name": "stdout",
     "output_type": "stream",
     "text": [
      "\n",
      "Epoch 120: val_loss did not improve from 0.24319\n",
      "2/2 [==============================] - 19s 10s/step - loss: 0.6097 - accuracy: 0.7620 - val_loss: 0.3084 - val_accuracy: 0.8795\n",
      "Epoch 121/150\n",
      "2/2 [==============================] - ETA: 0s - loss: 0.6236 - accuracy: 0.7628WARNING:tensorflow:`evaluate()` received a value for `sample_weight`, but `weighted_metrics` were not provided.  Did you mean to pass metrics to `weighted_metrics` in `compile()`?  If this is intentional you can pass `weighted_metrics=[]` to `compile()` in order to silence this warning.\n"
     ]
    },
    {
     "name": "stderr",
     "output_type": "stream",
     "text": [
      "WARNING:tensorflow:`evaluate()` received a value for `sample_weight`, but `weighted_metrics` were not provided.  Did you mean to pass metrics to `weighted_metrics` in `compile()`?  If this is intentional you can pass `weighted_metrics=[]` to `compile()` in order to silence this warning.\n"
     ]
    },
    {
     "name": "stdout",
     "output_type": "stream",
     "text": [
      "\n",
      "Epoch 121: val_loss did not improve from 0.24319\n",
      "2/2 [==============================] - 20s 11s/step - loss: 0.6144 - accuracy: 0.7620 - val_loss: 0.4044 - val_accuracy: 0.8556\n",
      "Epoch 122/150\n",
      "2/2 [==============================] - ETA: 0s - loss: 0.6223 - accuracy: 0.7668WARNING:tensorflow:`evaluate()` received a value for `sample_weight`, but `weighted_metrics` were not provided.  Did you mean to pass metrics to `weighted_metrics` in `compile()`?  If this is intentional you can pass `weighted_metrics=[]` to `compile()` in order to silence this warning.\n"
     ]
    },
    {
     "name": "stderr",
     "output_type": "stream",
     "text": [
      "WARNING:tensorflow:`evaluate()` received a value for `sample_weight`, but `weighted_metrics` were not provided.  Did you mean to pass metrics to `weighted_metrics` in `compile()`?  If this is intentional you can pass `weighted_metrics=[]` to `compile()` in order to silence this warning.\n"
     ]
    },
    {
     "name": "stdout",
     "output_type": "stream",
     "text": [
      "\n",
      "Epoch 122: val_loss improved from 0.24319 to 0.22668, saving model to ckpt1\n"
     ]
    },
    {
     "name": "stderr",
     "output_type": "stream",
     "text": [
      "WARNING:absl:Found untraced functions such as _update_step_xla, lstm_cell_2_layer_call_fn, lstm_cell_2_layer_call_and_return_conditional_losses, lstm_cell_3_layer_call_fn, lstm_cell_3_layer_call_and_return_conditional_losses while saving (showing 5 of 5). These functions will not be directly callable after loading.\n"
     ]
    },
    {
     "name": "stdout",
     "output_type": "stream",
     "text": [
      "INFO:tensorflow:Assets written to: ckpt1\\assets\n"
     ]
    },
    {
     "name": "stderr",
     "output_type": "stream",
     "text": [
      "INFO:tensorflow:Assets written to: ckpt1\\assets\n"
     ]
    },
    {
     "name": "stdout",
     "output_type": "stream",
     "text": [
      "2/2 [==============================] - 45s 36s/step - loss: 0.6230 - accuracy: 0.7677 - val_loss: 0.2267 - val_accuracy: 0.9061\n",
      "Epoch 123/150\n",
      "2/2 [==============================] - ETA: 0s - loss: 0.6019 - accuracy: 0.7732 WARNING:tensorflow:`evaluate()` received a value for `sample_weight`, but `weighted_metrics` were not provided.  Did you mean to pass metrics to `weighted_metrics` in `compile()`?  If this is intentional you can pass `weighted_metrics=[]` to `compile()` in order to silence this warning.\n"
     ]
    },
    {
     "name": "stderr",
     "output_type": "stream",
     "text": [
      "WARNING:tensorflow:`evaluate()` received a value for `sample_weight`, but `weighted_metrics` were not provided.  Did you mean to pass metrics to `weighted_metrics` in `compile()`?  If this is intentional you can pass `weighted_metrics=[]` to `compile()` in order to silence this warning.\n"
     ]
    },
    {
     "name": "stdout",
     "output_type": "stream",
     "text": [
      "\n",
      "Epoch 123: val_loss did not improve from 0.22668\n",
      "2/2 [==============================] - 23s 11s/step - loss: 0.6077 - accuracy: 0.7715 - val_loss: 0.3666 - val_accuracy: 0.8505\n",
      "Epoch 124/150\n",
      "2/2 [==============================] - ETA: 0s - loss: 0.6049 - accuracy: 0.7682 WARNING:tensorflow:`evaluate()` received a value for `sample_weight`, but `weighted_metrics` were not provided.  Did you mean to pass metrics to `weighted_metrics` in `compile()`?  If this is intentional you can pass `weighted_metrics=[]` to `compile()` in order to silence this warning.\n"
     ]
    },
    {
     "name": "stderr",
     "output_type": "stream",
     "text": [
      "WARNING:tensorflow:`evaluate()` received a value for `sample_weight`, but `weighted_metrics` were not provided.  Did you mean to pass metrics to `weighted_metrics` in `compile()`?  If this is intentional you can pass `weighted_metrics=[]` to `compile()` in order to silence this warning.\n"
     ]
    },
    {
     "name": "stdout",
     "output_type": "stream",
     "text": [
      "\n",
      "Epoch 124: val_loss did not improve from 0.22668\n",
      "2/2 [==============================] - 21s 10s/step - loss: 0.5997 - accuracy: 0.7684 - val_loss: 0.2971 - val_accuracy: 0.9060\n",
      "Epoch 125/150\n",
      "2/2 [==============================] - ETA: 0s - loss: 0.5782 - accuracy: 0.7776WARNING:tensorflow:`evaluate()` received a value for `sample_weight`, but `weighted_metrics` were not provided.  Did you mean to pass metrics to `weighted_metrics` in `compile()`?  If this is intentional you can pass `weighted_metrics=[]` to `compile()` in order to silence this warning.\n"
     ]
    },
    {
     "name": "stderr",
     "output_type": "stream",
     "text": [
      "WARNING:tensorflow:`evaluate()` received a value for `sample_weight`, but `weighted_metrics` were not provided.  Did you mean to pass metrics to `weighted_metrics` in `compile()`?  If this is intentional you can pass `weighted_metrics=[]` to `compile()` in order to silence this warning.\n"
     ]
    },
    {
     "name": "stdout",
     "output_type": "stream",
     "text": [
      "\n",
      "Epoch 125: val_loss improved from 0.22668 to 0.18393, saving model to ckpt1\n"
     ]
    },
    {
     "name": "stderr",
     "output_type": "stream",
     "text": [
      "WARNING:absl:Found untraced functions such as _update_step_xla, lstm_cell_2_layer_call_fn, lstm_cell_2_layer_call_and_return_conditional_losses, lstm_cell_3_layer_call_fn, lstm_cell_3_layer_call_and_return_conditional_losses while saving (showing 5 of 5). These functions will not be directly callable after loading.\n"
     ]
    },
    {
     "name": "stdout",
     "output_type": "stream",
     "text": [
      "INFO:tensorflow:Assets written to: ckpt1\\assets\n"
     ]
    },
    {
     "name": "stderr",
     "output_type": "stream",
     "text": [
      "INFO:tensorflow:Assets written to: ckpt1\\assets\n"
     ]
    },
    {
     "name": "stdout",
     "output_type": "stream",
     "text": [
      "2/2 [==============================] - 44s 35s/step - loss: 0.5731 - accuracy: 0.7799 - val_loss: 0.1839 - val_accuracy: 0.9135\n",
      "Epoch 126/150\n",
      "2/2 [==============================] - ETA: 0s - loss: 0.5900 - accuracy: 0.7729WARNING:tensorflow:`evaluate()` received a value for `sample_weight`, but `weighted_metrics` were not provided.  Did you mean to pass metrics to `weighted_metrics` in `compile()`?  If this is intentional you can pass `weighted_metrics=[]` to `compile()` in order to silence this warning.\n"
     ]
    },
    {
     "name": "stderr",
     "output_type": "stream",
     "text": [
      "WARNING:tensorflow:`evaluate()` received a value for `sample_weight`, but `weighted_metrics` were not provided.  Did you mean to pass metrics to `weighted_metrics` in `compile()`?  If this is intentional you can pass `weighted_metrics=[]` to `compile()` in order to silence this warning.\n"
     ]
    },
    {
     "name": "stdout",
     "output_type": "stream",
     "text": [
      "\n",
      "Epoch 126: val_loss did not improve from 0.18393\n",
      "2/2 [==============================] - 19s 10s/step - loss: 0.5915 - accuracy: 0.7747 - val_loss: 0.2341 - val_accuracy: 0.9047\n",
      "Epoch 127/150\n",
      "2/2 [==============================] - ETA: 0s - loss: 0.5809 - accuracy: 0.7812WARNING:tensorflow:`evaluate()` received a value for `sample_weight`, but `weighted_metrics` were not provided.  Did you mean to pass metrics to `weighted_metrics` in `compile()`?  If this is intentional you can pass `weighted_metrics=[]` to `compile()` in order to silence this warning.\n"
     ]
    },
    {
     "name": "stderr",
     "output_type": "stream",
     "text": [
      "WARNING:tensorflow:`evaluate()` received a value for `sample_weight`, but `weighted_metrics` were not provided.  Did you mean to pass metrics to `weighted_metrics` in `compile()`?  If this is intentional you can pass `weighted_metrics=[]` to `compile()` in order to silence this warning.\n"
     ]
    },
    {
     "name": "stdout",
     "output_type": "stream",
     "text": [
      "\n",
      "Epoch 127: val_loss did not improve from 0.18393\n",
      "2/2 [==============================] - 20s 11s/step - loss: 0.5824 - accuracy: 0.7803 - val_loss: 0.3630 - val_accuracy: 0.8607\n",
      "Epoch 128/150\n",
      "2/2 [==============================] - ETA: 0s - loss: 0.5885 - accuracy: 0.7719WARNING:tensorflow:`evaluate()` received a value for `sample_weight`, but `weighted_metrics` were not provided.  Did you mean to pass metrics to `weighted_metrics` in `compile()`?  If this is intentional you can pass `weighted_metrics=[]` to `compile()` in order to silence this warning.\n"
     ]
    },
    {
     "name": "stderr",
     "output_type": "stream",
     "text": [
      "WARNING:tensorflow:`evaluate()` received a value for `sample_weight`, but `weighted_metrics` were not provided.  Did you mean to pass metrics to `weighted_metrics` in `compile()`?  If this is intentional you can pass `weighted_metrics=[]` to `compile()` in order to silence this warning.\n"
     ]
    },
    {
     "name": "stdout",
     "output_type": "stream",
     "text": [
      "\n",
      "Epoch 128: val_loss did not improve from 0.18393\n",
      "2/2 [==============================] - 20s 11s/step - loss: 0.5904 - accuracy: 0.7695 - val_loss: 0.3194 - val_accuracy: 0.8920\n",
      "Epoch 129/150\n",
      "2/2 [==============================] - ETA: 0s - loss: 0.5751 - accuracy: 0.7814 WARNING:tensorflow:`evaluate()` received a value for `sample_weight`, but `weighted_metrics` were not provided.  Did you mean to pass metrics to `weighted_metrics` in `compile()`?  If this is intentional you can pass `weighted_metrics=[]` to `compile()` in order to silence this warning.\n"
     ]
    },
    {
     "name": "stderr",
     "output_type": "stream",
     "text": [
      "WARNING:tensorflow:`evaluate()` received a value for `sample_weight`, but `weighted_metrics` were not provided.  Did you mean to pass metrics to `weighted_metrics` in `compile()`?  If this is intentional you can pass `weighted_metrics=[]` to `compile()` in order to silence this warning.\n"
     ]
    },
    {
     "name": "stdout",
     "output_type": "stream",
     "text": [
      "\n",
      "Epoch 129: val_loss did not improve from 0.18393\n",
      "2/2 [==============================] - 21s 11s/step - loss: 0.5764 - accuracy: 0.7830 - val_loss: 0.2208 - val_accuracy: 0.9128\n",
      "Epoch 130/150\n",
      "2/2 [==============================] - ETA: 0s - loss: 0.5749 - accuracy: 0.7833WARNING:tensorflow:`evaluate()` received a value for `sample_weight`, but `weighted_metrics` were not provided.  Did you mean to pass metrics to `weighted_metrics` in `compile()`?  If this is intentional you can pass `weighted_metrics=[]` to `compile()` in order to silence this warning.\n"
     ]
    },
    {
     "name": "stderr",
     "output_type": "stream",
     "text": [
      "WARNING:tensorflow:`evaluate()` received a value for `sample_weight`, but `weighted_metrics` were not provided.  Did you mean to pass metrics to `weighted_metrics` in `compile()`?  If this is intentional you can pass `weighted_metrics=[]` to `compile()` in order to silence this warning.\n"
     ]
    },
    {
     "name": "stdout",
     "output_type": "stream",
     "text": [
      "\n",
      "Epoch 130: val_loss did not improve from 0.18393\n",
      "2/2 [==============================] - 22s 13s/step - loss: 0.5854 - accuracy: 0.7816 - val_loss: 0.4107 - val_accuracy: 0.8703\n",
      "Epoch 131/150\n",
      "2/2 [==============================] - ETA: 0s - loss: 0.5529 - accuracy: 0.7917 WARNING:tensorflow:`evaluate()` received a value for `sample_weight`, but `weighted_metrics` were not provided.  Did you mean to pass metrics to `weighted_metrics` in `compile()`?  If this is intentional you can pass `weighted_metrics=[]` to `compile()` in order to silence this warning.\n"
     ]
    },
    {
     "name": "stderr",
     "output_type": "stream",
     "text": [
      "WARNING:tensorflow:`evaluate()` received a value for `sample_weight`, but `weighted_metrics` were not provided.  Did you mean to pass metrics to `weighted_metrics` in `compile()`?  If this is intentional you can pass `weighted_metrics=[]` to `compile()` in order to silence this warning.\n"
     ]
    },
    {
     "name": "stdout",
     "output_type": "stream",
     "text": [
      "\n",
      "Epoch 131: val_loss improved from 0.18393 to 0.12783, saving model to ckpt1\n"
     ]
    },
    {
     "name": "stderr",
     "output_type": "stream",
     "text": [
      "WARNING:absl:Found untraced functions such as _update_step_xla, lstm_cell_2_layer_call_fn, lstm_cell_2_layer_call_and_return_conditional_losses, lstm_cell_3_layer_call_fn, lstm_cell_3_layer_call_and_return_conditional_losses while saving (showing 5 of 5). These functions will not be directly callable after loading.\n"
     ]
    },
    {
     "name": "stdout",
     "output_type": "stream",
     "text": [
      "INFO:tensorflow:Assets written to: ckpt1\\assets\n"
     ]
    },
    {
     "name": "stderr",
     "output_type": "stream",
     "text": [
      "INFO:tensorflow:Assets written to: ckpt1\\assets\n"
     ]
    },
    {
     "name": "stdout",
     "output_type": "stream",
     "text": [
      "2/2 [==============================] - 63s 52s/step - loss: 0.5380 - accuracy: 0.7946 - val_loss: 0.1278 - val_accuracy: 0.9352\n",
      "Epoch 132/150\n",
      "2/2 [==============================] - ETA: 0s - loss: 0.5356 - accuracy: 0.7914 WARNING:tensorflow:`evaluate()` received a value for `sample_weight`, but `weighted_metrics` were not provided.  Did you mean to pass metrics to `weighted_metrics` in `compile()`?  If this is intentional you can pass `weighted_metrics=[]` to `compile()` in order to silence this warning.\n"
     ]
    },
    {
     "name": "stderr",
     "output_type": "stream",
     "text": [
      "WARNING:tensorflow:`evaluate()` received a value for `sample_weight`, but `weighted_metrics` were not provided.  Did you mean to pass metrics to `weighted_metrics` in `compile()`?  If this is intentional you can pass `weighted_metrics=[]` to `compile()` in order to silence this warning.\n"
     ]
    },
    {
     "name": "stdout",
     "output_type": "stream",
     "text": [
      "\n",
      "Epoch 132: val_loss did not improve from 0.12783\n",
      "2/2 [==============================] - 24s 12s/step - loss: 0.5158 - accuracy: 0.7942 - val_loss: 0.2489 - val_accuracy: 0.8850\n",
      "Epoch 133/150\n",
      "2/2 [==============================] - ETA: 0s - loss: 0.5440 - accuracy: 0.7854 WARNING:tensorflow:`evaluate()` received a value for `sample_weight`, but `weighted_metrics` were not provided.  Did you mean to pass metrics to `weighted_metrics` in `compile()`?  If this is intentional you can pass `weighted_metrics=[]` to `compile()` in order to silence this warning.\n"
     ]
    },
    {
     "name": "stderr",
     "output_type": "stream",
     "text": [
      "WARNING:tensorflow:`evaluate()` received a value for `sample_weight`, but `weighted_metrics` were not provided.  Did you mean to pass metrics to `weighted_metrics` in `compile()`?  If this is intentional you can pass `weighted_metrics=[]` to `compile()` in order to silence this warning.\n"
     ]
    },
    {
     "name": "stdout",
     "output_type": "stream",
     "text": [
      "\n",
      "Epoch 133: val_loss did not improve from 0.12783\n",
      "2/2 [==============================] - 23s 12s/step - loss: 0.5496 - accuracy: 0.7839 - val_loss: 0.2102 - val_accuracy: 0.9127\n",
      "Epoch 134/150\n",
      "2/2 [==============================] - ETA: 0s - loss: 0.5513 - accuracy: 0.7918WARNING:tensorflow:`evaluate()` received a value for `sample_weight`, but `weighted_metrics` were not provided.  Did you mean to pass metrics to `weighted_metrics` in `compile()`?  If this is intentional you can pass `weighted_metrics=[]` to `compile()` in order to silence this warning.\n"
     ]
    },
    {
     "name": "stderr",
     "output_type": "stream",
     "text": [
      "WARNING:tensorflow:`evaluate()` received a value for `sample_weight`, but `weighted_metrics` were not provided.  Did you mean to pass metrics to `weighted_metrics` in `compile()`?  If this is intentional you can pass `weighted_metrics=[]` to `compile()` in order to silence this warning.\n"
     ]
    },
    {
     "name": "stdout",
     "output_type": "stream",
     "text": [
      "\n",
      "Epoch 134: val_loss did not improve from 0.12783\n",
      "2/2 [==============================] - 20s 11s/step - loss: 0.5683 - accuracy: 0.7893 - val_loss: 0.3150 - val_accuracy: 0.8719\n",
      "Epoch 135/150\n",
      "2/2 [==============================] - ETA: 0s - loss: 0.5498 - accuracy: 0.7911WARNING:tensorflow:`evaluate()` received a value for `sample_weight`, but `weighted_metrics` were not provided.  Did you mean to pass metrics to `weighted_metrics` in `compile()`?  If this is intentional you can pass `weighted_metrics=[]` to `compile()` in order to silence this warning.\n"
     ]
    },
    {
     "name": "stderr",
     "output_type": "stream",
     "text": [
      "WARNING:tensorflow:`evaluate()` received a value for `sample_weight`, but `weighted_metrics` were not provided.  Did you mean to pass metrics to `weighted_metrics` in `compile()`?  If this is intentional you can pass `weighted_metrics=[]` to `compile()` in order to silence this warning.\n"
     ]
    },
    {
     "name": "stdout",
     "output_type": "stream",
     "text": [
      "\n",
      "Epoch 135: val_loss improved from 0.12783 to 0.11993, saving model to ckpt1\n"
     ]
    },
    {
     "name": "stderr",
     "output_type": "stream",
     "text": [
      "WARNING:absl:Found untraced functions such as _update_step_xla, lstm_cell_2_layer_call_fn, lstm_cell_2_layer_call_and_return_conditional_losses, lstm_cell_3_layer_call_fn, lstm_cell_3_layer_call_and_return_conditional_losses while saving (showing 5 of 5). These functions will not be directly callable after loading.\n"
     ]
    },
    {
     "name": "stdout",
     "output_type": "stream",
     "text": [
      "INFO:tensorflow:Assets written to: ckpt1\\assets\n"
     ]
    },
    {
     "name": "stderr",
     "output_type": "stream",
     "text": [
      "INFO:tensorflow:Assets written to: ckpt1\\assets\n"
     ]
    },
    {
     "name": "stdout",
     "output_type": "stream",
     "text": [
      "2/2 [==============================] - 44s 35s/step - loss: 0.5724 - accuracy: 0.7881 - val_loss: 0.1199 - val_accuracy: 0.9281\n",
      "Epoch 136/150\n",
      "2/2 [==============================] - ETA: 0s - loss: 0.5182 - accuracy: 0.7955WARNING:tensorflow:`evaluate()` received a value for `sample_weight`, but `weighted_metrics` were not provided.  Did you mean to pass metrics to `weighted_metrics` in `compile()`?  If this is intentional you can pass `weighted_metrics=[]` to `compile()` in order to silence this warning.\n"
     ]
    },
    {
     "name": "stderr",
     "output_type": "stream",
     "text": [
      "WARNING:tensorflow:`evaluate()` received a value for `sample_weight`, but `weighted_metrics` were not provided.  Did you mean to pass metrics to `weighted_metrics` in `compile()`?  If this is intentional you can pass `weighted_metrics=[]` to `compile()` in order to silence this warning.\n"
     ]
    },
    {
     "name": "stdout",
     "output_type": "stream",
     "text": [
      "\n",
      "Epoch 136: val_loss did not improve from 0.11993\n",
      "2/2 [==============================] - 20s 10s/step - loss: 0.5070 - accuracy: 0.7967 - val_loss: 0.3714 - val_accuracy: 0.8865\n",
      "Epoch 137/150\n",
      "2/2 [==============================] - ETA: 0s - loss: 0.5209 - accuracy: 0.7987WARNING:tensorflow:`evaluate()` received a value for `sample_weight`, but `weighted_metrics` were not provided.  Did you mean to pass metrics to `weighted_metrics` in `compile()`?  If this is intentional you can pass `weighted_metrics=[]` to `compile()` in order to silence this warning.\n"
     ]
    },
    {
     "name": "stderr",
     "output_type": "stream",
     "text": [
      "WARNING:tensorflow:`evaluate()` received a value for `sample_weight`, but `weighted_metrics` were not provided.  Did you mean to pass metrics to `weighted_metrics` in `compile()`?  If this is intentional you can pass `weighted_metrics=[]` to `compile()` in order to silence this warning.\n"
     ]
    },
    {
     "name": "stdout",
     "output_type": "stream",
     "text": [
      "\n",
      "Epoch 137: val_loss did not improve from 0.11993\n",
      "2/2 [==============================] - 20s 10s/step - loss: 0.5286 - accuracy: 0.7966 - val_loss: 0.1959 - val_accuracy: 0.9269\n",
      "Epoch 138/150\n",
      "2/2 [==============================] - ETA: 0s - loss: 0.5070 - accuracy: 0.7994WARNING:tensorflow:`evaluate()` received a value for `sample_weight`, but `weighted_metrics` were not provided.  Did you mean to pass metrics to `weighted_metrics` in `compile()`?  If this is intentional you can pass `weighted_metrics=[]` to `compile()` in order to silence this warning.\n"
     ]
    },
    {
     "name": "stderr",
     "output_type": "stream",
     "text": [
      "WARNING:tensorflow:`evaluate()` received a value for `sample_weight`, but `weighted_metrics` were not provided.  Did you mean to pass metrics to `weighted_metrics` in `compile()`?  If this is intentional you can pass `weighted_metrics=[]` to `compile()` in order to silence this warning.\n"
     ]
    },
    {
     "name": "stdout",
     "output_type": "stream",
     "text": [
      "\n",
      "Epoch 138: val_loss did not improve from 0.11993\n",
      "2/2 [==============================] - 21s 11s/step - loss: 0.4998 - accuracy: 0.7977 - val_loss: 0.2986 - val_accuracy: 0.9091\n",
      "Epoch 139/150\n",
      "2/2 [==============================] - ETA: 0s - loss: 0.4896 - accuracy: 0.8116WARNING:tensorflow:`evaluate()` received a value for `sample_weight`, but `weighted_metrics` were not provided.  Did you mean to pass metrics to `weighted_metrics` in `compile()`?  If this is intentional you can pass `weighted_metrics=[]` to `compile()` in order to silence this warning.\n"
     ]
    },
    {
     "name": "stderr",
     "output_type": "stream",
     "text": [
      "WARNING:tensorflow:`evaluate()` received a value for `sample_weight`, but `weighted_metrics` were not provided.  Did you mean to pass metrics to `weighted_metrics` in `compile()`?  If this is intentional you can pass `weighted_metrics=[]` to `compile()` in order to silence this warning.\n"
     ]
    },
    {
     "name": "stdout",
     "output_type": "stream",
     "text": [
      "\n",
      "Epoch 139: val_loss did not improve from 0.11993\n",
      "2/2 [==============================] - 20s 10s/step - loss: 0.4724 - accuracy: 0.8149 - val_loss: 0.1865 - val_accuracy: 0.9243\n",
      "Epoch 140/150\n",
      "2/2 [==============================] - ETA: 0s - loss: 0.4980 - accuracy: 0.8079 WARNING:tensorflow:`evaluate()` received a value for `sample_weight`, but `weighted_metrics` were not provided.  Did you mean to pass metrics to `weighted_metrics` in `compile()`?  If this is intentional you can pass `weighted_metrics=[]` to `compile()` in order to silence this warning.\n"
     ]
    },
    {
     "name": "stderr",
     "output_type": "stream",
     "text": [
      "WARNING:tensorflow:`evaluate()` received a value for `sample_weight`, but `weighted_metrics` were not provided.  Did you mean to pass metrics to `weighted_metrics` in `compile()`?  If this is intentional you can pass `weighted_metrics=[]` to `compile()` in order to silence this warning.\n"
     ]
    },
    {
     "name": "stdout",
     "output_type": "stream",
     "text": [
      "\n",
      "Epoch 140: val_loss did not improve from 0.11993\n",
      "2/2 [==============================] - 21s 10s/step - loss: 0.4948 - accuracy: 0.8103 - val_loss: 0.2087 - val_accuracy: 0.9218\n",
      "Epoch 141/150\n",
      "2/2 [==============================] - ETA: 0s - loss: 0.5061 - accuracy: 0.8072WARNING:tensorflow:`evaluate()` received a value for `sample_weight`, but `weighted_metrics` were not provided.  Did you mean to pass metrics to `weighted_metrics` in `compile()`?  If this is intentional you can pass `weighted_metrics=[]` to `compile()` in order to silence this warning.\n"
     ]
    },
    {
     "name": "stderr",
     "output_type": "stream",
     "text": [
      "WARNING:tensorflow:`evaluate()` received a value for `sample_weight`, but `weighted_metrics` were not provided.  Did you mean to pass metrics to `weighted_metrics` in `compile()`?  If this is intentional you can pass `weighted_metrics=[]` to `compile()` in order to silence this warning.\n"
     ]
    },
    {
     "name": "stdout",
     "output_type": "stream",
     "text": [
      "\n",
      "Epoch 141: val_loss did not improve from 0.11993\n",
      "2/2 [==============================] - 20s 10s/step - loss: 0.5049 - accuracy: 0.8093 - val_loss: 0.2664 - val_accuracy: 0.9072\n",
      "Epoch 142/150\n",
      "2/2 [==============================] - ETA: 0s - loss: 0.4925 - accuracy: 0.8109WARNING:tensorflow:`evaluate()` received a value for `sample_weight`, but `weighted_metrics` were not provided.  Did you mean to pass metrics to `weighted_metrics` in `compile()`?  If this is intentional you can pass `weighted_metrics=[]` to `compile()` in order to silence this warning.\n"
     ]
    },
    {
     "name": "stderr",
     "output_type": "stream",
     "text": [
      "WARNING:tensorflow:`evaluate()` received a value for `sample_weight`, but `weighted_metrics` were not provided.  Did you mean to pass metrics to `weighted_metrics` in `compile()`?  If this is intentional you can pass `weighted_metrics=[]` to `compile()` in order to silence this warning.\n"
     ]
    },
    {
     "name": "stdout",
     "output_type": "stream",
     "text": [
      "\n",
      "Epoch 142: val_loss did not improve from 0.11993\n",
      "2/2 [==============================] - 19s 10s/step - loss: 0.4966 - accuracy: 0.8083 - val_loss: 0.2879 - val_accuracy: 0.9052\n",
      "Epoch 143/150\n",
      "2/2 [==============================] - ETA: 0s - loss: 0.4838 - accuracy: 0.8113WARNING:tensorflow:`evaluate()` received a value for `sample_weight`, but `weighted_metrics` were not provided.  Did you mean to pass metrics to `weighted_metrics` in `compile()`?  If this is intentional you can pass `weighted_metrics=[]` to `compile()` in order to silence this warning.\n"
     ]
    },
    {
     "name": "stderr",
     "output_type": "stream",
     "text": [
      "WARNING:tensorflow:`evaluate()` received a value for `sample_weight`, but `weighted_metrics` were not provided.  Did you mean to pass metrics to `weighted_metrics` in `compile()`?  If this is intentional you can pass `weighted_metrics=[]` to `compile()` in order to silence this warning.\n"
     ]
    },
    {
     "name": "stdout",
     "output_type": "stream",
     "text": [
      "\n",
      "Epoch 143: val_loss did not improve from 0.11993\n",
      "2/2 [==============================] - 19s 10s/step - loss: 0.4819 - accuracy: 0.8111 - val_loss: 0.4791 - val_accuracy: 0.8955\n",
      "Epoch 144/150\n",
      "2/2 [==============================] - ETA: 0s - loss: 0.4871 - accuracy: 0.8060WARNING:tensorflow:`evaluate()` received a value for `sample_weight`, but `weighted_metrics` were not provided.  Did you mean to pass metrics to `weighted_metrics` in `compile()`?  If this is intentional you can pass `weighted_metrics=[]` to `compile()` in order to silence this warning.\n"
     ]
    },
    {
     "name": "stderr",
     "output_type": "stream",
     "text": [
      "WARNING:tensorflow:`evaluate()` received a value for `sample_weight`, but `weighted_metrics` were not provided.  Did you mean to pass metrics to `weighted_metrics` in `compile()`?  If this is intentional you can pass `weighted_metrics=[]` to `compile()` in order to silence this warning.\n"
     ]
    },
    {
     "name": "stdout",
     "output_type": "stream",
     "text": [
      "\n",
      "Epoch 144: val_loss did not improve from 0.11993\n",
      "2/2 [==============================] - 20s 10s/step - loss: 0.4967 - accuracy: 0.8051 - val_loss: 0.2611 - val_accuracy: 0.9161\n",
      "Epoch 145/150\n",
      "2/2 [==============================] - ETA: 0s - loss: 0.4836 - accuracy: 0.8063WARNING:tensorflow:`evaluate()` received a value for `sample_weight`, but `weighted_metrics` were not provided.  Did you mean to pass metrics to `weighted_metrics` in `compile()`?  If this is intentional you can pass `weighted_metrics=[]` to `compile()` in order to silence this warning.\n"
     ]
    },
    {
     "name": "stderr",
     "output_type": "stream",
     "text": [
      "WARNING:tensorflow:`evaluate()` received a value for `sample_weight`, but `weighted_metrics` were not provided.  Did you mean to pass metrics to `weighted_metrics` in `compile()`?  If this is intentional you can pass `weighted_metrics=[]` to `compile()` in order to silence this warning.\n"
     ]
    },
    {
     "name": "stdout",
     "output_type": "stream",
     "text": [
      "\n",
      "Epoch 145: val_loss did not improve from 0.11993\n",
      "2/2 [==============================] - 20s 10s/step - loss: 0.4911 - accuracy: 0.8048 - val_loss: 0.5982 - val_accuracy: 0.8582\n",
      "Epoch 146/150\n",
      "2/2 [==============================] - ETA: 0s - loss: 0.4725 - accuracy: 0.8147WARNING:tensorflow:`evaluate()` received a value for `sample_weight`, but `weighted_metrics` were not provided.  Did you mean to pass metrics to `weighted_metrics` in `compile()`?  If this is intentional you can pass `weighted_metrics=[]` to `compile()` in order to silence this warning.\n"
     ]
    },
    {
     "name": "stderr",
     "output_type": "stream",
     "text": [
      "WARNING:tensorflow:`evaluate()` received a value for `sample_weight`, but `weighted_metrics` were not provided.  Did you mean to pass metrics to `weighted_metrics` in `compile()`?  If this is intentional you can pass `weighted_metrics=[]` to `compile()` in order to silence this warning.\n"
     ]
    },
    {
     "name": "stdout",
     "output_type": "stream",
     "text": [
      "\n",
      "Epoch 146: val_loss did not improve from 0.11993\n",
      "2/2 [==============================] - 20s 10s/step - loss: 0.4734 - accuracy: 0.8163 - val_loss: 0.4499 - val_accuracy: 0.9000\n",
      "Epoch 147/150\n",
      "2/2 [==============================] - ETA: 0s - loss: 0.4658 - accuracy: 0.8184WARNING:tensorflow:`evaluate()` received a value for `sample_weight`, but `weighted_metrics` were not provided.  Did you mean to pass metrics to `weighted_metrics` in `compile()`?  If this is intentional you can pass `weighted_metrics=[]` to `compile()` in order to silence this warning.\n"
     ]
    },
    {
     "name": "stderr",
     "output_type": "stream",
     "text": [
      "WARNING:tensorflow:`evaluate()` received a value for `sample_weight`, but `weighted_metrics` were not provided.  Did you mean to pass metrics to `weighted_metrics` in `compile()`?  If this is intentional you can pass `weighted_metrics=[]` to `compile()` in order to silence this warning.\n"
     ]
    },
    {
     "name": "stdout",
     "output_type": "stream",
     "text": [
      "\n",
      "Epoch 147: val_loss did not improve from 0.11993\n",
      "2/2 [==============================] - 20s 11s/step - loss: 0.4612 - accuracy: 0.8214 - val_loss: 0.2182 - val_accuracy: 0.9274\n",
      "Epoch 148/150\n",
      "2/2 [==============================] - ETA: 0s - loss: 0.4735 - accuracy: 0.8136 WARNING:tensorflow:`evaluate()` received a value for `sample_weight`, but `weighted_metrics` were not provided.  Did you mean to pass metrics to `weighted_metrics` in `compile()`?  If this is intentional you can pass `weighted_metrics=[]` to `compile()` in order to silence this warning.\n"
     ]
    },
    {
     "name": "stderr",
     "output_type": "stream",
     "text": [
      "WARNING:tensorflow:`evaluate()` received a value for `sample_weight`, but `weighted_metrics` were not provided.  Did you mean to pass metrics to `weighted_metrics` in `compile()`?  If this is intentional you can pass `weighted_metrics=[]` to `compile()` in order to silence this warning.\n"
     ]
    },
    {
     "name": "stdout",
     "output_type": "stream",
     "text": [
      "\n",
      "Epoch 148: val_loss did not improve from 0.11993\n",
      "2/2 [==============================] - 21s 10s/step - loss: 0.4738 - accuracy: 0.8141 - val_loss: 0.4557 - val_accuracy: 0.8856\n",
      "Epoch 149/150\n",
      "2/2 [==============================] - ETA: 0s - loss: 0.4684 - accuracy: 0.8185WARNING:tensorflow:`evaluate()` received a value for `sample_weight`, but `weighted_metrics` were not provided.  Did you mean to pass metrics to `weighted_metrics` in `compile()`?  If this is intentional you can pass `weighted_metrics=[]` to `compile()` in order to silence this warning.\n"
     ]
    },
    {
     "name": "stderr",
     "output_type": "stream",
     "text": [
      "WARNING:tensorflow:`evaluate()` received a value for `sample_weight`, but `weighted_metrics` were not provided.  Did you mean to pass metrics to `weighted_metrics` in `compile()`?  If this is intentional you can pass `weighted_metrics=[]` to `compile()` in order to silence this warning.\n"
     ]
    },
    {
     "name": "stdout",
     "output_type": "stream",
     "text": [
      "\n",
      "Epoch 149: val_loss did not improve from 0.11993\n",
      "2/2 [==============================] - 20s 10s/step - loss: 0.4760 - accuracy: 0.8193 - val_loss: 0.1721 - val_accuracy: 0.9262\n",
      "Epoch 150/150\n",
      "2/2 [==============================] - ETA: 0s - loss: 0.4563 - accuracy: 0.8179WARNING:tensorflow:`evaluate()` received a value for `sample_weight`, but `weighted_metrics` were not provided.  Did you mean to pass metrics to `weighted_metrics` in `compile()`?  If this is intentional you can pass `weighted_metrics=[]` to `compile()` in order to silence this warning.\n"
     ]
    },
    {
     "name": "stderr",
     "output_type": "stream",
     "text": [
      "WARNING:tensorflow:`evaluate()` received a value for `sample_weight`, but `weighted_metrics` were not provided.  Did you mean to pass metrics to `weighted_metrics` in `compile()`?  If this is intentional you can pass `weighted_metrics=[]` to `compile()` in order to silence this warning.\n"
     ]
    },
    {
     "name": "stdout",
     "output_type": "stream",
     "text": [
      "\n",
      "Epoch 150: val_loss did not improve from 0.11993\n",
      "2/2 [==============================] - 20s 10s/step - loss: 0.4470 - accuracy: 0.8214 - val_loss: 0.2956 - val_accuracy: 0.9173\n"
     ]
    }
   ],
   "source": [
    "'''history = model.fit(\n",
    "    train_data,  # this should be of the form ((encoder_inputs, decoder_inputs), y)\n",
    "    epochs=100,\n",
    "    validation_data=val_data,  # this should also be of the form ((encoder_inputs, decoder_inputs), y)\n",
    "    callbacks=[\n",
    "        tf.keras.callbacks.TensorBoard(log_dir='logs1'),\n",
    "        tf.keras.callbacks.ModelCheckpoint('ckpt1', verbose=1, save_best_only=True)\n",
    "    ]\n",
    ")'''\n",
    "# Assuming train_data and val_data are datasets or tuples where \n",
    "# each element is ((encoder_inputs, decoder_inputs), y)\n",
    "\n",
    "# Unpack the data for clarity\n",
    "history = model.fit(\n",
    "    train_data,  # Already in the form ((encoder_inputs, decoder_inputs), y)\n",
    "    epochs=150,\n",
    "    validation_data=val_data,  # Also in the form ((encoder_inputs, decoder_inputs), y)\n",
    "    callbacks=[\n",
    "        tf.keras.callbacks.TensorBoard(log_dir='logs1'),\n",
    "        tf.keras.callbacks.ModelCheckpoint('ckpt1', verbose=1, save_best_only=True)\n",
    "    ]\n",
    ")\n",
    "\n"
   ]
  },
  {
   "cell_type": "code",
   "execution_count": 47,
   "metadata": {},
   "outputs": [
    {
     "data": {
      "image/png": "[encoded data removed]",
      "text/plain": [
       "<Figure size 2000x500 with 2 Axes>"
      ]
     },
     "metadata": {},
     "output_type": "display_data"
    }
   ],
   "source": [
    "fig,ax=plt.subplots(nrows=1,ncols=2,figsize=(20,5))\n",
    "ax[0].plot(history.history['loss'],label='loss',c='red')\n",
    "ax[0].plot(history.history['val_loss'],label='val_loss',c = 'blue')\n",
    "ax[0].set_xlabel('Epochs')\n",
    "ax[1].set_xlabel('Epochs')\n",
    "ax[0].set_ylabel('Loss')\n",
    "ax[1].set_ylabel('Accuracy')\n",
    "ax[0].set_title('Loss Metrics')\n",
    "ax[1].set_title('Accuracy Metrics')\n",
    "ax[1].plot(history.history['accuracy'],label='accuracy')\n",
    "ax[1].plot(history.history['val_accuracy'],label='val_accuracy')\n",
    "ax[0].legend()\n",
    "ax[1].legend()\n",
    "plt.show()"
   ]
  },
  {
   "cell_type": "code",
   "execution_count": null,
   "metadata": {},
   "outputs": [],
   "source": [
    "#model.load_weights('ckpt1')\n",
    "#model.save('models',save_format='tf')"
   ]
  },
  {
   "cell_type": "code",
   "execution_count": 48,
   "metadata": {},
   "outputs": [],
   "source": [
    "model.save_weights('my_model_weights.h5')\n",
    "with open('my_model_config.json', 'w') as f:\n",
    "    f.write(model.to_json())\n",
    "\n"
   ]
  },
  {
   "cell_type": "code",
   "execution_count": 49,
   "metadata": {},
   "outputs": [
    {
     "name": "stdout",
     "output_type": "stream",
     "text": [
      "Encoder layers:\n",
      "<keras.layers.core.embedding.Embedding object at 0x000001BF9A60F310>\n",
      "<keras.layers.normalization.layer_normalization.LayerNormalization object at 0x000001BF9A60F6D0>\n",
      "<keras.layers.rnn.lstm.LSTM object at 0x000001BF9A60CD30>\n",
      "---------------------\n",
      "Decoder layers: \n",
      "<keras.layers.core.embedding.Embedding object at 0x000001BFD4F739A0>\n",
      "<keras.layers.normalization.layer_normalization.LayerNormalization object at 0x000001BFD4F71D80>\n",
      "<keras.layers.rnn.lstm.LSTM object at 0x000001BFD4F71690>\n",
      "<keras.layers.normalization.layer_normalization.LayerNormalization object at 0x000001BFD4F73BB0>\n",
      "<keras.layers.core.dense.Dense object at 0x000001BFD4F73070>\n",
      "---------------------\n"
     ]
    }
   ],
   "source": [
    "for idx,i in enumerate(model.layers):\n",
    "    print('Encoder layers:' if idx==0 else 'Decoder layers: ')\n",
    "    for j in i.layers:\n",
    "        print(j)\n",
    "    print('---------------------')"
   ]
  },
  {
   "cell_type": "code",
   "execution_count": 51,
   "metadata": {},
   "outputs": [
    {
     "name": "stdout",
     "output_type": "stream",
     "text": [
      "Model: \"chatbot_encoder\"\n",
      "_________________________________________________________________\n",
      " Layer (type)                Output Shape              Param #   \n",
      "=================================================================\n",
      " input_9 (InputLayer)        [(None, None)]            0         \n",
      "                                                                 \n",
      " encoder_embedding (Embeddin  (None, None, 256)        260096    \n",
      " g)                                                              \n",
      "                                                                 \n",
      " layer_normalization_3 (Laye  (None, None, 256)        512       \n",
      " rNormalization)                                                 \n",
      "                                                                 \n",
      " encoder_lstm (LSTM)         [(None, None, 256),       525312    \n",
      "                              (None, 256),                       \n",
      "                              (None, 256)]                       \n",
      "                                                                 \n",
      "=================================================================\n",
      "Total params: 785,920\n",
      "Trainable params: 785,920\n",
      "Non-trainable params: 0\n",
      "_________________________________________________________________\n",
      "Model: \"chatbot_decoder\"\n",
      "__________________________________________________________________________________________________\n",
      " Layer (type)                   Output Shape         Param #     Connected to                     \n",
      "==================================================================================================\n",
      " input_12 (InputLayer)          [(None, None)]       0           []                               \n",
      "                                                                                                  \n",
      " decoder_embedding (Embedding)  (None, None, 256)    260096      ['input_12[0][0]']               \n",
      "                                                                                                  \n",
      " layer_normalization_3 (LayerNo  (None, None, 256)   512         ['decoder_embedding[1][0]']      \n",
      " rmalization)                                                                                     \n",
      "                                                                                                  \n",
      " input_10 (InputLayer)          [(None, 256)]        0           []                               \n",
      "                                                                                                  \n",
      " input_11 (InputLayer)          [(None, 256)]        0           []                               \n",
      "                                                                                                  \n",
      " decoder_lstm (LSTM)            [(None, None, 256),  525312      ['layer_normalization_3[3][0]',  \n",
      "                                 (None, 256),                     'input_10[0][0]',               \n",
      "                                 (None, 256)]                     'input_11[0][0]']               \n",
      "                                                                                                  \n",
      " decoder_dense (Dense)          (None, None, 1016)   261112      ['decoder_lstm[1][0]']           \n",
      "                                                                                                  \n",
      "==================================================================================================\n",
      "Total params: 1,047,032\n",
      "Trainable params: 1,047,032\n",
      "Non-trainable params: 0\n",
      "__________________________________________________________________________________________________\n"
     ]
    }
   ],
   "source": [
    "class ChatBot(tf.keras.models.Model):\n",
    "    def __init__(self,base_encoder,base_decoder,*args,**kwargs):\n",
    "        super().__init__(*args,**kwargs)\n",
    "        self.encoder,self.decoder=self.build_inference_model(base_encoder,base_decoder)\n",
    "\n",
    "    def build_inference_model(self,base_encoder,base_decoder):\n",
    "        encoder_inputs=tf.keras.Input(shape=(None,))\n",
    "        x=base_encoder.layers[0](encoder_inputs)\n",
    "        x=base_encoder.layers[1](x)\n",
    "        x,encoder_state_h,encoder_state_c=base_encoder.layers[2](x)\n",
    "        encoder=tf.keras.models.Model(inputs=encoder_inputs,outputs=[encoder_state_h,encoder_state_c],name='chatbot_encoder')\n",
    "\n",
    "        decoder_input_state_h=tf.keras.Input(shape=(lstm_cells,))\n",
    "        decoder_input_state_c=tf.keras.Input(shape=(lstm_cells,))\n",
    "        decoder_inputs=tf.keras.Input(shape=(None,))\n",
    "        x=base_decoder.layers[0](decoder_inputs)\n",
    "        x=base_encoder.layers[1](x)\n",
    "        x,decoder_state_h,decoder_state_c=base_decoder.layers[2](x,initial_state=[decoder_input_state_h,decoder_input_state_c])\n",
    "        decoder_outputs=base_decoder.layers[-1](x)\n",
    "        decoder=tf.keras.models.Model(\n",
    "            inputs=[decoder_inputs,[decoder_input_state_h,decoder_input_state_c]],\n",
    "            outputs=[decoder_outputs,[decoder_state_h,decoder_state_c]],name='chatbot_decoder'\n",
    "        )\n",
    "        return encoder,decoder\n",
    "\n",
    "    def summary(self):\n",
    "        self.encoder.summary()\n",
    "        self.decoder.summary()\n",
    "\n",
    "    def softmax(self,z):\n",
    "        return np.exp(z)/sum(np.exp(z))\n",
    "\n",
    "    def sample(self,conditional_probability,temperature=0.5):\n",
    "        conditional_probability = np.asarray(conditional_probability).astype(\"float64\")\n",
    "        conditional_probability = np.log(conditional_probability) / temperature\n",
    "        reweighted_conditional_probability = self.softmax(conditional_probability)\n",
    "        probas = np.random.multinomial(1, reweighted_conditional_probability, 1)\n",
    "        return np.argmax(probas)\n",
    "\n",
    "    def preprocess(self,text):\n",
    "        text=clean_text(text)\n",
    "        seq=np.zeros((1,max_sequence_length),dtype=np.int32)\n",
    "        for i,word in enumerate(text.split()):\n",
    "            seq[:,i]=sequences2ids(word).numpy()[0]\n",
    "        return seq\n",
    "    \n",
    "    def postprocess(self,text):\n",
    "        text=re.sub(' - ','-',text.lower())\n",
    "        text=re.sub(' [.] ','. ',text)\n",
    "        text=re.sub(' [1] ','1',text)\n",
    "        text=re.sub(' [2] ','2',text)\n",
    "        text=re.sub(' [3] ','3',text)\n",
    "        text=re.sub(' [4] ','4',text)\n",
    "        text=re.sub(' [5] ','5',text)\n",
    "        text=re.sub(' [6] ','6',text)\n",
    "        text=re.sub(' [7] ','7',text)\n",
    "        text=re.sub(' [8] ','8',text)\n",
    "        text=re.sub(' [9] ','9',text)\n",
    "        text=re.sub(' [0] ','0',text)\n",
    "        text=re.sub(' [,] ',', ',text)\n",
    "        text=re.sub(' [?] ','? ',text)\n",
    "        text=re.sub(' [!] ','! ',text)\n",
    "        text=re.sub(' [$] ','$ ',text)\n",
    "        text=re.sub(' [&] ','& ',text)\n",
    "        text=re.sub(' [/] ','/ ',text)\n",
    "        text=re.sub(' [:] ',': ',text)\n",
    "        text=re.sub(' [;] ','; ',text)\n",
    "        text=re.sub(' [*] ','* ',text)\n",
    "        text=re.sub(' [\\'] ','\\'',text)\n",
    "        text=re.sub(' [\\\"] ','\\\"',text)\n",
    "        return text\n",
    "\n",
    "    def call(self,text,config=None):\n",
    "        input_seq=self.preprocess(text)\n",
    "        states=self.encoder(input_seq,training=False)\n",
    "        target_seq=np.zeros((1,1))\n",
    "        target_seq[:,:]=sequences2ids(['<start>']).numpy()[0][0]\n",
    "        stop_condition=False\n",
    "        decoded=[]\n",
    "        while not stop_condition:\n",
    "            decoder_outputs,new_states=self.decoder([target_seq,states],training=False)\n",
    "#             index=tf.argmax(decoder_outputs[:,-1,:],axis=-1).numpy().item()\n",
    "            index=self.sample(decoder_outputs[0,0,:]).item()\n",
    "            word=ids2sequences([index])\n",
    "            if word=='<end> ' or len(decoded)>=max_sequence_length:\n",
    "                stop_condition=True\n",
    "            else:\n",
    "                decoded.append(index)\n",
    "                target_seq=np.zeros((1,1))\n",
    "                target_seq[:,:]=index\n",
    "                states=new_states\n",
    "        return self.postprocess(ids2sequences(decoded))\n",
    "\n",
    "chatbot=ChatBot(model.encoder,model.decoder,name='chatbot')\n",
    "chatbot.summary()"
   ]
  },
  {
   "cell_type": "code",
   "execution_count": null,
   "metadata": {},
   "outputs": [
    {
     "name": "stdout",
     "output_type": "stream",
     "text": [
      "Requirement already satisfied: pydot in c:\\users\\nuwanga wijamuni\\appdata\\local\\programs\\python\\python310\\lib\\site-packages (1.4.2)\n",
      "Requirement already satisfied: pyparsing>=2.1.4 in c:\\users\\nuwanga wijamuni\\appdata\\local\\programs\\python\\python310\\lib\\site-packages (from pydot) (3.0.9)\n",
      "Note: you may need to restart the kernel to use updated packages.\n"
     ]
    },
    {
     "name": "stderr",
     "output_type": "stream",
     "text": [
      "WARNING: You are using pip version 22.0.4; however, version 23.2.1 is available.\n",
      "You should consider upgrading via the 'c:\\Users\\Nuwanga Wijamuni\\AppData\\Local\\Programs\\Python\\Python310\\python.exe -m pip install --upgrade pip' command.\n"
     ]
    }
   ],
   "source": [
    "pip install pydot"
   ]
  },
  {
   "cell_type": "code",
   "execution_count": null,
   "metadata": {},
   "outputs": [
    {
     "name": "stdout",
     "output_type": "stream",
     "text": [
      "You must install pydot (`pip install pydot`) and install graphviz (see instructions at https://graphviz.gitlab.io/download/) for plot_model to work.\n"
     ]
    }
   ],
   "source": [
    "tf.keras.utils.plot_model(chatbot.encoder,to_file='encoder.png',show_shapes=True,show_layer_activations=True)"
   ]
  },
  {
   "cell_type": "code",
   "execution_count": null,
   "metadata": {},
   "outputs": [
    {
     "name": "stdout",
     "output_type": "stream",
     "text": [
      "You must install pydot (`pip install pydot`) and install graphviz (see instructions at https://graphviz.gitlab.io/download/) for plot_model to work.\n"
     ]
    }
   ],
   "source": [
    "tf.keras.utils.plot_model(chatbot.decoder,to_file='decoder.png',show_shapes=True,show_layer_activations=True)"
   ]
  },
  {
   "cell_type": "code",
   "execution_count": 52,
   "metadata": {},
   "outputs": [],
   "source": [
    "def print_conversation(texts):\n",
    "    for text in texts:\n",
    "        print(f'Patient: {text}')\n",
    "        print(f'DocBot: {chatbot(text)}')\n",
    "        print('========================')"
   ]
  },
  {
   "cell_type": "code",
   "execution_count": 53,
   "metadata": {},
   "outputs": [
    {
     "name": "stdout",
     "output_type": "stream",
     "text": [
      "Patient: Hellow Doctor\n",
      "DocBot: hello, how can i assist you today? \n",
      "========================\n",
      "Patient: I haven't noticed any significant swelling\n",
      "DocBot: i understand your concern. it's possible that you're experiencing such a severe allergic reaction, such as anaphylaxis. i'll note that you had any previous reactions after consuming certain foods, including \n",
      "========================\n",
      "Patient:  I'm just a bit concerned about the severity of the reaction\n",
      "DocBot: i can see some redness and swelling on your neck, and your eyes do appear a bit puffy. i'll need to confirm the diagnosis, i'll need to conduct a physical examination, it \n",
      "========================\n"
     ]
    }
   ],
   "source": [
    "print_conversation([\n",
    "    'Hellow Doctor',\n",
    "    '''I haven't noticed any significant swelling''',\n",
    "    ''' I'm just a bit concerned about the severity of the reaction'''\n",
    "\n",
    "])"
   ]
  },
  {
   "cell_type": "code",
   "execution_count": null,
   "metadata": {},
   "outputs": [
    {
     "name": "stdout",
     "output_type": "stream",
     "text": [
      "Model: \"chatbot_encoder\"\n",
      "_________________________________________________________________\n",
      " Layer (type)                Output Shape              Param #   \n",
      "=================================================================\n",
      " input_5 (InputLayer)        [(None, None)]            0         \n",
      "                                                                 \n",
      " encoder_embedding (Embeddin  (None, None, 256)        260096    \n",
      " g)                                                              \n",
      "                                                                 \n",
      " layer_normalization (LayerN  (None, None, 256)        512       \n",
      " ormalization)                                                   \n",
      "                                                                 \n",
      " encoder_lstm (LSTM)         [(None, None, 256),       525312    \n",
      "                              (None, 256),                       \n",
      "                              (None, 256)]                       \n",
      "                                                                 \n",
      "=================================================================\n",
      "Total params: 785,920\n",
      "Trainable params: 785,920\n",
      "Non-trainable params: 0\n",
      "_________________________________________________________________\n",
      "Model: \"chatbot_decoder\"\n",
      "__________________________________________________________________________________________________\n",
      " Layer (type)                   Output Shape         Param #     Connected to                     \n",
      "==================================================================================================\n",
      " input_8 (InputLayer)           [(None, None)]       0           []                               \n",
      "                                                                                                  \n",
      " decoder_embedding (Embedding)  (None, None, 256)    260096      ['input_8[0][0]']                \n",
      "                                                                                                  \n",
      " layer_normalization (LayerNorm  (None, None, 256)   512         ['decoder_embedding[1][0]']      \n",
      " alization)                                                                                       \n",
      "                                                                                                  \n",
      " input_6 (InputLayer)           [(None, 256)]        0           []                               \n",
      "                                                                                                  \n",
      " input_7 (InputLayer)           [(None, 256)]        0           []                               \n",
      "                                                                                                  \n",
      " decoder_lstm (LSTM)            [(None, None, 256),  525312      ['layer_normalization[3][0]',    \n",
      "                                 (None, 256),                     'input_6[0][0]',                \n",
      "                                 (None, 256)]                     'input_7[0][0]']                \n",
      "                                                                                                  \n",
      " decoder_dense (Dense)          (None, None, 1016)   261112      ['decoder_lstm[1][0]']           \n",
      "                                                                                                  \n",
      "==================================================================================================\n",
      "Total params: 1,047,032\n",
      "Trainable params: 1,047,032\n",
      "Non-trainable params: 0\n",
      "__________________________________________________________________________________________________\n",
      "Bot: Hello! How can I assist you today?\n",
      "Bot: how can i assist you today? \n",
      "Bot: how can i assist you today? \n",
      "Bot: hello, how can i assist you today? \n",
      "Bot: the first step is to identify what caused your reaction. to do that with allergy testing. it involves exposing your skin to small amounts of potential allergens to see how your body reacts. in the meantime, \n",
      "Bot: Goodbye! Take care.\n"
     ]
    }
   ],
   "source": [
    "class RealTimeChatBot(tf.keras.models.Model):\n",
    "    def __init__(self,base_encoder,base_decoder,*args,**kwargs):\n",
    "        super().__init__(*args,**kwargs)\n",
    "        self.encoder,self.decoder=self.build_inference_model(base_encoder,base_decoder)\n",
    "\n",
    "    def build_inference_model(self,base_encoder,base_decoder):\n",
    "        encoder_inputs=tf.keras.Input(shape=(None,))\n",
    "        x=base_encoder.layers[0](encoder_inputs)\n",
    "        x=base_encoder.layers[1](x)\n",
    "        x,encoder_state_h,encoder_state_c=base_encoder.layers[2](x)\n",
    "        encoder=tf.keras.models.Model(inputs=encoder_inputs,outputs=[encoder_state_h,encoder_state_c],name='chatbot_encoder')\n",
    "\n",
    "        decoder_input_state_h=tf.keras.Input(shape=(lstm_cells,))\n",
    "        decoder_input_state_c=tf.keras.Input(shape=(lstm_cells,))\n",
    "        decoder_inputs=tf.keras.Input(shape=(None,))\n",
    "        x=base_decoder.layers[0](decoder_inputs)\n",
    "        x=base_encoder.layers[1](x)\n",
    "        x,decoder_state_h,decoder_state_c=base_decoder.layers[2](x,initial_state=[decoder_input_state_h,decoder_input_state_c])\n",
    "        decoder_outputs=base_decoder.layers[-1](x)\n",
    "        decoder=tf.keras.models.Model(\n",
    "            inputs=[decoder_inputs,[decoder_input_state_h,decoder_input_state_c]],\n",
    "            outputs=[decoder_outputs,[decoder_state_h,decoder_state_c]],name='chatbot_decoder'\n",
    "        )\n",
    "        return encoder,decoder\n",
    "\n",
    "    def summary(self):\n",
    "        self.encoder.summary()\n",
    "        self.decoder.summary()\n",
    "\n",
    "    def softmax(self,z):\n",
    "        return np.exp(z)/sum(np.exp(z))\n",
    "\n",
    "    def sample(self,conditional_probability,temperature=0.5):\n",
    "        conditional_probability = np.asarray(conditional_probability).astype(\"float64\")\n",
    "        conditional_probability = np.log(conditional_probability) / temperature\n",
    "        reweighted_conditional_probability = self.softmax(conditional_probability)\n",
    "        probas = np.random.multinomial(1, reweighted_conditional_probability, 1)\n",
    "        return np.argmax(probas)\n",
    "\n",
    "    def preprocess(self,text):\n",
    "        text=clean_text(text)\n",
    "        seq=np.zeros((1,max_sequence_length),dtype=np.int32)\n",
    "        for i,word in enumerate(text.split()):\n",
    "            seq[:,i]=sequences2ids(word).numpy()[0]\n",
    "        return seq\n",
    "    \n",
    "    def postprocess(self,text):\n",
    "        text=re.sub(' - ','-',text.lower())\n",
    "        text=re.sub(' [.] ','. ',text)\n",
    "        text=re.sub(' [1] ','1',text)\n",
    "        text=re.sub(' [2] ','2',text)\n",
    "        text=re.sub(' [3] ','3',text)\n",
    "        text=re.sub(' [4] ','4',text)\n",
    "        text=re.sub(' [5] ','5',text)\n",
    "        text=re.sub(' [6] ','6',text)\n",
    "        text=re.sub(' [7] ','7',text)\n",
    "        text=re.sub(' [8] ','8',text)\n",
    "        text=re.sub(' [9] ','9',text)\n",
    "        text=re.sub(' [0] ','0',text)\n",
    "        text=re.sub(' [,] ',', ',text)\n",
    "        text=re.sub(' [?] ','? ',text)\n",
    "        text=re.sub(' [!] ','! ',text)\n",
    "        text=re.sub(' [$] ','$ ',text)\n",
    "        text=re.sub(' [&] ','& ',text)\n",
    "        text=re.sub(' [/] ','/ ',text)\n",
    "        text=re.sub(' [:] ',': ',text)\n",
    "        text=re.sub(' [;] ','; ',text)\n",
    "        text=re.sub(' [*] ','* ',text)\n",
    "        text=re.sub(' [\\'] ','\\'',text)\n",
    "        text=re.sub(' [\\\"] ','\\\"',text)\n",
    "        return text\n",
    "\n",
    "    def call(self,text,config=None):\n",
    "        input_seq=self.preprocess(text)\n",
    "        states=self.encoder(input_seq,training=False)\n",
    "        target_seq=np.zeros((1,1))\n",
    "        target_seq[:,:]=sequences2ids(['<start>']).numpy()[0][0]\n",
    "        stop_condition=False\n",
    "        decoded=[]\n",
    "        while not stop_condition:\n",
    "            decoder_outputs,new_states=self.decoder([target_seq,states],training=False)\n",
    "#             index=tf.argmax(decoder_outputs[:,-1,:],axis=-1).numpy().item()\n",
    "            index=self.sample(decoder_outputs[0,0,:]).item()\n",
    "            word=ids2sequences([index])\n",
    "            if word=='<end> ' or len(decoded)>=max_sequence_length:\n",
    "                stop_condition=True\n",
    "            else:\n",
    "                decoded.append(index)\n",
    "                target_seq=np.zeros((1,1))\n",
    "                target_seq[:,:]=index\n",
    "                states=new_states\n",
    "        return self.postprocess(ids2sequences(decoded))\n",
    "\n",
    "    def chat(self):\n",
    "        print(\"Bot: Hello! How can I assist you today?\")\n",
    "        while True:\n",
    "            user_input = input('User: ')\n",
    "            if user_input.lower() in ['quit', 'exit', 'bye']:\n",
    "                print('Bot: Goodbye! Take care.')\n",
    "                break\n",
    "            response = self.call(user_input)\n",
    "            print(f'Bot: {response}')\n",
    "\n",
    "# Initialize and summarize chatbot\n",
    "chatbot=RealTimeChatBot(model.encoder,model.decoder,name='chatbot')\n",
    "chatbot.summary()\n",
    "\n",
    "# Start a real-time chat with the chatbot\n",
    "chatbot.chat()\n"
   ]
  },
  {
   "cell_type": "code",
   "execution_count": 33,
   "metadata": {},
   "outputs": [],
   "source": [
    "from flask import Flask, request, jsonify\n",
    "from flask_cors import CORS\n",
    "import tensorflow as tf\n",
    "import numpy as np\n",
    "import re"
   ]
  },
  {
   "cell_type": "code",
   "execution_count": 57,
   "metadata": {},
   "outputs": [],
   "source": [
    "from tensorflow.keras.models import load_model\n",
    "\n",
    "# Construct the model's architecture\n",
    "encoder = Encoder(lstm_cells, embedding_dim, vocab_size, name='encoder')\n",
    "decoder = Decoder(lstm_cells, embedding_dim, vocab_size, name='decoder')\n",
    "chatbot_trainer = ChatBotTrainer(encoder, decoder)\n",
    "\n",
    "# Create dummy data\n",
    "dummy_encoder_input = tf.random.uniform((1, 10), dtype=tf.int32, maxval=vocab_size)\n",
    "dummy_decoder_input = tf.random.uniform((1, 10), dtype=tf.int32, maxval=vocab_size)\n",
    "\n",
    "# Call the model on dummy data to initialize its variables\n",
    "chatbot_trainer([dummy_encoder_input, dummy_decoder_input])\n",
    "\n",
    "# Now load the weights into the model\n",
    "chatbot_trainer.load_weights('my_model_weights.h5')\n",
    "\n",
    "\n"
   ]
  },
  {
   "cell_type": "code",
   "execution_count": 59,
   "metadata": {},
   "outputs": [
    {
     "name": "stdout",
     "output_type": "stream",
     "text": [
      " * Serving Flask app '__main__'\n",
      " * Debug mode: on\n"
     ]
    },
    {
     "name": "stderr",
     "output_type": "stream",
     "text": [
      "INFO:werkzeug:\u001b[31m\u001b[1mWARNING: This is a development server. Do not use it in a production deployment. Use a production WSGI server instead.\u001b[0m\n",
      " * Running on http://127.0.0.1:5000\n",
      "INFO:werkzeug:\u001b[33mPress CTRL+C to quit\u001b[0m\n",
      "INFO:werkzeug:127.0.0.1 - - [02/Sep/2023 08:37:18] \"\u001b[33mGET / HTTP/1.1\u001b[0m\" 404 -\n",
      "INFO:werkzeug:127.0.0.1 - - [02/Sep/2023 08:37:24] \"\u001b[33mGET / HTTP/1.1\u001b[0m\" 404 -\n",
      "INFO:werkzeug:127.0.0.1 - - [02/Sep/2023 08:37:30] \"\u001b[33mGET /favicon.ico HTTP/1.1\u001b[0m\" 404 -\n",
      "INFO:werkzeug:127.0.0.1 - - [02/Sep/2023 08:38:34] \"\u001b[33mGET / HTTP/1.1\u001b[0m\" 404 -\n"
     ]
    }
   ],
   "source": [
    "app = Flask(__name__)\n",
    "\n",
    "# Load your model, tokenizer, and other related objects as needed\n",
    "# You can use the steps you previously did to load your model here\n",
    "\n",
    "@app.route('/predict', methods=['POST'])\n",
    "def predict():\n",
    "    data = request.json\n",
    "    encoder_input = data.get('encoder_input', [])\n",
    "    decoder_input = data.get('decoder_input', [])\n",
    "    \n",
    "    # Convert the input data into the appropriate format for the model\n",
    "    # Assuming they are in string format and need conversion\n",
    "    encoder_input = tf.convert_to_tensor(encoder_input, dtype=tf.int32)\n",
    "    decoder_input = tf.convert_to_tensor(decoder_input, dtype=tf.int32)\n",
    "    \n",
    "    # Get the prediction from the model\n",
    "    prediction = chatbot_trainer([encoder_input, decoder_input])\n",
    "    predicted_id = tf.argmax(prediction[0], axis=-1).numpy().tolist()\n",
    "    \n",
    "    # Convert the prediction to a format you need (e.g., string)\n",
    "    # and return the response\n",
    "    response = {\n",
    "        'prediction': predicted_id\n",
    "    }\n",
    "\n",
    "    return jsonify(response)\n",
    "\n",
    "if __name__ == '__main__':\n",
    "    app.run(debug=True, use_reloader=False)\n"
   ]
  },
  {
   "cell_type": "code",
   "execution_count": 37,
   "metadata": {},
   "outputs": [
    {
     "ename": "TypeError",
     "evalue": "Unable to revive model from config. When overriding the `get_config()`, make sure that the returned config contains all items used as arguments in the constructor to <class '__main__.Encoder'>, which is the default behavior. You can override this default behavior by defining a `from_config` method to specify how to create an instance of Encoder from the config. \n\nError encountered during deserialization:\nEncoder.__init__() missing 3 required positional arguments: 'units', 'embedding_dim', and 'vocab_size'",
     "output_type": "error",
     "traceback": [
      "\u001b[1;31m---------------------------------------------------------------------------\u001b[0m",
      "\u001b[1;31mTypeError\u001b[0m                                 Traceback (most recent call last)",
      "File \u001b[1;32mc:\\Users\\Nuwanga Wijamuni\\AppData\\Local\\Programs\\Python\\Python310\\lib\\site-packages\\keras\\engine\\training.py:3130\u001b[0m, in \u001b[0;36mModel.from_config\u001b[1;34m(cls, config, custom_objects)\u001b[0m\n\u001b[0;32m   3129\u001b[0m \u001b[39mtry\u001b[39;00m:\n\u001b[1;32m-> 3130\u001b[0m     model \u001b[39m=\u001b[39m \u001b[39mcls\u001b[39m(\u001b[39m*\u001b[39m\u001b[39m*\u001b[39mconfig)\n\u001b[0;32m   3131\u001b[0m \u001b[39mexcept\u001b[39;00m \u001b[39mTypeError\u001b[39;00m \u001b[39mas\u001b[39;00m e:\n",
      "\u001b[1;31mTypeError\u001b[0m: Encoder.__init__() missing 3 required positional arguments: 'units', 'embedding_dim', and 'vocab_size'",
      "\nDuring handling of the above exception, another exception occurred:\n",
      "\u001b[1;31mTypeError\u001b[0m                                 Traceback (most recent call last)",
      "\u001b[1;32md:\\3 rd Year\\Y4S1\\Reserch\\Chatbot\\AllergyBot copy 2.ipynb Cell 40\u001b[0m in \u001b[0;36m2\n\u001b[0;32m      <a href='vscode-notebook-cell:/d%3A/3%20rd%20Year/Y4S1/Reserch/Chatbot/AllergyBot%20copy%202.ipynb#X61sZmlsZQ%3D%3D?line=0'>1</a>\u001b[0m custom_objects \u001b[39m=\u001b[39m {\u001b[39m'\u001b[39m\u001b[39mEncoder\u001b[39m\u001b[39m'\u001b[39m: Encoder, \u001b[39m'\u001b[39m\u001b[39mDecoder\u001b[39m\u001b[39m'\u001b[39m: Decoder, \u001b[39m'\u001b[39m\u001b[39mChatBotTrainer\u001b[39m\u001b[39m'\u001b[39m: ChatBotTrainer}\n\u001b[1;32m----> <a href='vscode-notebook-cell:/d%3A/3%20rd%20Year/Y4S1/Reserch/Chatbot/AllergyBot%20copy%202.ipynb#X61sZmlsZQ%3D%3D?line=1'>2</a>\u001b[0m loaded_model \u001b[39m=\u001b[39m tf\u001b[39m.\u001b[39mkeras\u001b[39m.\u001b[39mmodels\u001b[39m.\u001b[39mmodel_from_json(loaded_model_json, custom_objects\u001b[39m=\u001b[39mcustom_objects)\n\u001b[0;32m      <a href='vscode-notebook-cell:/d%3A/3%20rd%20Year/Y4S1/Reserch/Chatbot/AllergyBot%20copy%202.ipynb#X61sZmlsZQ%3D%3D?line=2'>3</a>\u001b[0m loaded_model\u001b[39m.\u001b[39mload_weights(\u001b[39m'\u001b[39m\u001b[39mmy_model_weights.h5\u001b[39m\u001b[39m'\u001b[39m)\n\u001b[0;32m      <a href='vscode-notebook-cell:/d%3A/3%20rd%20Year/Y4S1/Reserch/Chatbot/AllergyBot%20copy%202.ipynb#X61sZmlsZQ%3D%3D?line=4'>5</a>\u001b[0m \u001b[39m# Assuming you have a class or method called RealTimeChatBot to generate responses\u001b[39;00m\n",
      "File \u001b[1;32mc:\\Users\\Nuwanga Wijamuni\\AppData\\Local\\Programs\\Python\\Python310\\lib\\site-packages\\keras\\saving\\legacy\\model_config.py:109\u001b[0m, in \u001b[0;36mmodel_from_json\u001b[1;34m(json_string, custom_objects)\u001b[0m\n\u001b[0;32m     86\u001b[0m \u001b[39m\"\"\"Parses a JSON model configuration string and returns a model instance.\u001b[39;00m\n\u001b[0;32m     87\u001b[0m \n\u001b[0;32m     88\u001b[0m \u001b[39mUsage:\u001b[39;00m\n\u001b[1;32m   (...)\u001b[0m\n\u001b[0;32m    103\u001b[0m \u001b[39m    A Keras model instance (uncompiled).\u001b[39;00m\n\u001b[0;32m    104\u001b[0m \u001b[39m\"\"\"\u001b[39;00m\n\u001b[0;32m    105\u001b[0m \u001b[39mfrom\u001b[39;00m \u001b[39mkeras\u001b[39;00m\u001b[39m.\u001b[39;00m\u001b[39mlayers\u001b[39;00m \u001b[39mimport\u001b[39;00m (\n\u001b[0;32m    106\u001b[0m     deserialize_from_json,\n\u001b[0;32m    107\u001b[0m )\n\u001b[1;32m--> 109\u001b[0m \u001b[39mreturn\u001b[39;00m deserialize_from_json(json_string, custom_objects\u001b[39m=\u001b[39;49mcustom_objects)\n",
      "File \u001b[1;32mc:\\Users\\Nuwanga Wijamuni\\AppData\\Local\\Programs\\Python\\Python310\\lib\\site-packages\\keras\\layers\\serialization.py:275\u001b[0m, in \u001b[0;36mdeserialize_from_json\u001b[1;34m(json_string, custom_objects)\u001b[0m\n\u001b[0;32m    269\u001b[0m populate_deserializable_objects()\n\u001b[0;32m    270\u001b[0m config \u001b[39m=\u001b[39m json_utils\u001b[39m.\u001b[39mdecode_and_deserialize(\n\u001b[0;32m    271\u001b[0m     json_string,\n\u001b[0;32m    272\u001b[0m     module_objects\u001b[39m=\u001b[39mLOCAL\u001b[39m.\u001b[39mALL_OBJECTS,\n\u001b[0;32m    273\u001b[0m     custom_objects\u001b[39m=\u001b[39mcustom_objects,\n\u001b[0;32m    274\u001b[0m )\n\u001b[1;32m--> 275\u001b[0m \u001b[39mreturn\u001b[39;00m deserialize(config, custom_objects)\n",
      "File \u001b[1;32mc:\\Users\\Nuwanga Wijamuni\\AppData\\Local\\Programs\\Python\\Python310\\lib\\site-packages\\keras\\layers\\serialization.py:252\u001b[0m, in \u001b[0;36mdeserialize\u001b[1;34m(config, custom_objects)\u001b[0m\n\u001b[0;32m    215\u001b[0m \u001b[39m\"\"\"Instantiates a layer from a config dictionary.\u001b[39;00m\n\u001b[0;32m    216\u001b[0m \n\u001b[0;32m    217\u001b[0m \u001b[39mArgs:\u001b[39;00m\n\u001b[1;32m   (...)\u001b[0m\n\u001b[0;32m    249\u001b[0m \u001b[39m```\u001b[39;00m\n\u001b[0;32m    250\u001b[0m \u001b[39m\"\"\"\u001b[39;00m\n\u001b[0;32m    251\u001b[0m populate_deserializable_objects()\n\u001b[1;32m--> 252\u001b[0m \u001b[39mreturn\u001b[39;00m serialization\u001b[39m.\u001b[39;49mdeserialize_keras_object(\n\u001b[0;32m    253\u001b[0m     config,\n\u001b[0;32m    254\u001b[0m     module_objects\u001b[39m=\u001b[39;49mLOCAL\u001b[39m.\u001b[39;49mALL_OBJECTS,\n\u001b[0;32m    255\u001b[0m     custom_objects\u001b[39m=\u001b[39;49mcustom_objects,\n\u001b[0;32m    256\u001b[0m     printable_module_name\u001b[39m=\u001b[39;49m\u001b[39m\"\u001b[39;49m\u001b[39mlayer\u001b[39;49m\u001b[39m\"\u001b[39;49m,\n\u001b[0;32m    257\u001b[0m )\n",
      "File \u001b[1;32mc:\\Users\\Nuwanga Wijamuni\\AppData\\Local\\Programs\\Python\\Python310\\lib\\site-packages\\keras\\saving\\legacy\\serialization.py:517\u001b[0m, in \u001b[0;36mdeserialize_keras_object\u001b[1;34m(identifier, module_objects, custom_objects, printable_module_name)\u001b[0m\n\u001b[0;32m    515\u001b[0m \u001b[39mif\u001b[39;00m \u001b[39m\"\u001b[39m\u001b[39mcustom_objects\u001b[39m\u001b[39m\"\u001b[39m \u001b[39min\u001b[39;00m arg_spec\u001b[39m.\u001b[39margs:\n\u001b[0;32m    516\u001b[0m     tlco \u001b[39m=\u001b[39m object_registration\u001b[39m.\u001b[39m_THREAD_LOCAL_CUSTOM_OBJECTS\u001b[39m.\u001b[39m\u001b[39m__dict__\u001b[39m\n\u001b[1;32m--> 517\u001b[0m     deserialized_obj \u001b[39m=\u001b[39m \u001b[39mcls\u001b[39;49m\u001b[39m.\u001b[39;49mfrom_config(\n\u001b[0;32m    518\u001b[0m         cls_config,\n\u001b[0;32m    519\u001b[0m         custom_objects\u001b[39m=\u001b[39;49m{\n\u001b[0;32m    520\u001b[0m             \u001b[39m*\u001b[39;49m\u001b[39m*\u001b[39;49mobject_registration\u001b[39m.\u001b[39;49m_GLOBAL_CUSTOM_OBJECTS,\n\u001b[0;32m    521\u001b[0m             \u001b[39m*\u001b[39;49m\u001b[39m*\u001b[39;49mtlco,\n\u001b[0;32m    522\u001b[0m             \u001b[39m*\u001b[39;49m\u001b[39m*\u001b[39;49mcustom_objects,\n\u001b[0;32m    523\u001b[0m         },\n\u001b[0;32m    524\u001b[0m     )\n\u001b[0;32m    525\u001b[0m \u001b[39melse\u001b[39;00m:\n\u001b[0;32m    526\u001b[0m     \u001b[39mwith\u001b[39;00m object_registration\u001b[39m.\u001b[39mCustomObjectScope(custom_objects):\n",
      "\u001b[1;32md:\\3 rd Year\\Y4S1\\Reserch\\Chatbot\\AllergyBot copy 2.ipynb Cell 40\u001b[0m in \u001b[0;36m7\n\u001b[0;32m     <a href='vscode-notebook-cell:/d%3A/3%20rd%20Year/Y4S1/Reserch/Chatbot/AllergyBot%20copy%202.ipynb#X61sZmlsZQ%3D%3D?line=71'>72</a>\u001b[0m \u001b[39m@classmethod\u001b[39m\n\u001b[0;32m     <a href='vscode-notebook-cell:/d%3A/3%20rd%20Year/Y4S1/Reserch/Chatbot/AllergyBot%20copy%202.ipynb#X61sZmlsZQ%3D%3D?line=72'>73</a>\u001b[0m \u001b[39mdef\u001b[39;00m \u001b[39mfrom_config\u001b[39m(\u001b[39mcls\u001b[39m, config, custom_objects\u001b[39m=\u001b[39m\u001b[39mNone\u001b[39;00m):\n\u001b[1;32m---> <a href='vscode-notebook-cell:/d%3A/3%20rd%20Year/Y4S1/Reserch/Chatbot/AllergyBot%20copy%202.ipynb#X61sZmlsZQ%3D%3D?line=73'>74</a>\u001b[0m     encoder \u001b[39m=\u001b[39m custom_objects[\u001b[39m'\u001b[39;49m\u001b[39mEncoder\u001b[39;49m\u001b[39m'\u001b[39;49m]\u001b[39m.\u001b[39;49mfrom_config(config[\u001b[39m\"\u001b[39;49m\u001b[39mencoder\u001b[39;49m\u001b[39m\"\u001b[39;49m])\n\u001b[0;32m     <a href='vscode-notebook-cell:/d%3A/3%20rd%20Year/Y4S1/Reserch/Chatbot/AllergyBot%20copy%202.ipynb#X61sZmlsZQ%3D%3D?line=74'>75</a>\u001b[0m     decoder \u001b[39m=\u001b[39m custom_objects[\u001b[39m'\u001b[39m\u001b[39mDecoder\u001b[39m\u001b[39m'\u001b[39m]\u001b[39m.\u001b[39mfrom_config(config[\u001b[39m\"\u001b[39m\u001b[39mdecoder\u001b[39m\u001b[39m\"\u001b[39m])\n\u001b[0;32m     <a href='vscode-notebook-cell:/d%3A/3%20rd%20Year/Y4S1/Reserch/Chatbot/AllergyBot%20copy%202.ipynb#X61sZmlsZQ%3D%3D?line=75'>76</a>\u001b[0m     \u001b[39mreturn\u001b[39;00m \u001b[39mcls\u001b[39m(encoder\u001b[39m=\u001b[39mencoder, decoder\u001b[39m=\u001b[39mdecoder)\n",
      "File \u001b[1;32mc:\\Users\\Nuwanga Wijamuni\\AppData\\Local\\Programs\\Python\\Python310\\lib\\site-packages\\keras\\engine\\training.py:3132\u001b[0m, in \u001b[0;36mModel.from_config\u001b[1;34m(cls, config, custom_objects)\u001b[0m\n\u001b[0;32m   3130\u001b[0m         model \u001b[39m=\u001b[39m \u001b[39mcls\u001b[39m(\u001b[39m*\u001b[39m\u001b[39m*\u001b[39mconfig)\n\u001b[0;32m   3131\u001b[0m     \u001b[39mexcept\u001b[39;00m \u001b[39mTypeError\u001b[39;00m \u001b[39mas\u001b[39;00m e:\n\u001b[1;32m-> 3132\u001b[0m         \u001b[39mraise\u001b[39;00m \u001b[39mTypeError\u001b[39;00m(\n\u001b[0;32m   3133\u001b[0m             \u001b[39m\"\u001b[39m\u001b[39mUnable to revive model from config. When overriding \u001b[39m\u001b[39m\"\u001b[39m\n\u001b[0;32m   3134\u001b[0m             \u001b[39m\"\u001b[39m\u001b[39mthe `get_config()`, make sure that the returned \u001b[39m\u001b[39m\"\u001b[39m\n\u001b[0;32m   3135\u001b[0m             \u001b[39m\"\u001b[39m\u001b[39mconfig contains all items used as arguments in the \u001b[39m\u001b[39m\"\u001b[39m\n\u001b[0;32m   3136\u001b[0m             \u001b[39mf\u001b[39m\u001b[39m\"\u001b[39m\u001b[39mconstructor to \u001b[39m\u001b[39m{\u001b[39;00m\u001b[39mcls\u001b[39m\u001b[39m}\u001b[39;00m\u001b[39m, which is the default behavior. \u001b[39m\u001b[39m\"\u001b[39m\n\u001b[0;32m   3137\u001b[0m             \u001b[39m\"\u001b[39m\u001b[39mYou can override this default behavior by defining a \u001b[39m\u001b[39m\"\u001b[39m\n\u001b[0;32m   3138\u001b[0m             \u001b[39m\"\u001b[39m\u001b[39m`from_config` method to specify how to create an \u001b[39m\u001b[39m\"\u001b[39m\n\u001b[0;32m   3139\u001b[0m             \u001b[39mf\u001b[39m\u001b[39m\"\u001b[39m\u001b[39minstance of \u001b[39m\u001b[39m{\u001b[39;00m\u001b[39mcls\u001b[39m\u001b[39m.\u001b[39m\u001b[39m__name__\u001b[39m\u001b[39m}\u001b[39;00m\u001b[39m from the config. \u001b[39m\u001b[39m\\n\u001b[39;00m\u001b[39m\\n\u001b[39;00m\u001b[39m\"\u001b[39m\n\u001b[0;32m   3140\u001b[0m             \u001b[39mf\u001b[39m\u001b[39m\"\u001b[39m\u001b[39mError encountered during deserialization:\u001b[39m\u001b[39m\\n\u001b[39;00m\u001b[39m{\u001b[39;00me\u001b[39m}\u001b[39;00m\u001b[39m\"\u001b[39m\n\u001b[0;32m   3141\u001b[0m         )\n\u001b[0;32m   3143\u001b[0m \u001b[39mif\u001b[39;00m \u001b[39mgetattr\u001b[39m(saving_lib\u001b[39m.\u001b[39m_SAVING_V3_ENABLED, \u001b[39m\"\u001b[39m\u001b[39mvalue\u001b[39m\u001b[39m\"\u001b[39m, \u001b[39mFalse\u001b[39;00m):\n\u001b[0;32m   3144\u001b[0m     \u001b[39mif\u001b[39;00m build_input_shape:\n",
      "\u001b[1;31mTypeError\u001b[0m: Unable to revive model from config. When overriding the `get_config()`, make sure that the returned config contains all items used as arguments in the constructor to <class '__main__.Encoder'>, which is the default behavior. You can override this default behavior by defining a `from_config` method to specify how to create an instance of Encoder from the config. \n\nError encountered during deserialization:\nEncoder.__init__() missing 3 required positional arguments: 'units', 'embedding_dim', and 'vocab_size'"
     ]
    }
   ],
   "source": [
    "custom_objects = {'Encoder': Encoder, 'Decoder': Decoder, 'ChatBotTrainer': ChatBotTrainer}\n",
    "loaded_model = tf.keras.models.model_from_json(loaded_model_json, custom_objects=custom_objects)\n",
    "loaded_model.load_weights('my_model_weights.h5')\n",
    "\n",
    "# Assuming you have a class or method called RealTimeChatBot to generate responses\n",
    "chatbot = RealTimeChatBot(loaded_model.encoder, loaded_model.decoder, name='chatbot')\n"
   ]
  }
 ],
 "metadata": {
  "kernelspec": {
   "display_name": "Python 3",
   "language": "python",
   "name": "python3"
  },
  "language_info": {
   "codemirror_mode": {
    "name": "ipython",
    "version": 3
   },
   "file_extension": ".py",
   "mimetype": "text/x-python",
   "name": "python",
   "nbconvert_exporter": "python",
   "pygments_lexer": "ipython3",
   "version": "3.10.5"
  },
  "orig_nbformat": 4
 },
 "nbformat": 4,
 "nbformat_minor": 2
}
